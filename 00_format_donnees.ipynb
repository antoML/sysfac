{
 "cells": [
  {
   "cell_type": "markdown",
   "metadata": {},
   "source": [
    "# À propos de ce livret\n",
    "\n",
    "\n",
    "### But du livret\n",
    "Préparer et sauvegarder les fichiers de données pour une analyse subséquente. Données à partir du dossier «data».\n",
    "\n",
    "### Différents scénarios\n",
    "- Différents formats de données\n",
    "    - Données qui ont très peu de lignes ou de colonnes\n",
    "    - Données avec manquants ou sans manquants au préalable\n",
    "- Différents patrons de manquants\n",
    "    - Manquants de manière aléatoire\n",
    "    - Manquants propres au domaine\n",
    "\n",
    "\n",
    "\n",
    "### Notes sur le livret\n",
    "\n",
    "\n"
   ]
  },
  {
   "cell_type": "markdown",
   "metadata": {},
   "source": [
    "## Préparation préalable"
   ]
  },
  {
   "cell_type": "code",
   "execution_count": 1,
   "metadata": {
    "ExecuteTime": {
     "end_time": "2020-06-29T00:39:15.700549Z",
     "start_time": "2020-06-29T00:39:15.322486Z"
    }
   },
   "outputs": [],
   "source": [
    "# Utilités\n",
    "import os\n",
    "import numpy as np\n",
    "import pandas as pd\n",
    "\n",
    "# Chargement des données\n",
    "import scipy.io\n",
    "\n",
    "# Barre de progression\n",
    "from tqdm.auto import trange\n",
    "from tqdm import tqdm_notebook, notebook"
   ]
  },
  {
   "cell_type": "markdown",
   "metadata": {},
   "source": [
    "# Traitement préalable\n",
    "\n",
    "Mettre sous le même format tous les jeux de données\n",
    "\n",
    "\n",
    "Pour l'instant, le format *.mat* "
   ]
  },
  {
   "cell_type": "code",
   "execution_count": 2,
   "metadata": {
    "ExecuteTime": {
     "end_time": "2020-06-29T00:39:15.952809Z",
     "start_time": "2020-06-29T00:39:15.700549Z"
    }
   },
   "outputs": [],
   "source": [
    "dossier_donnees = \"data\""
   ]
  },
  {
   "cell_type": "code",
   "execution_count": 3,
   "metadata": {
    "ExecuteTime": {
     "end_time": "2020-06-29T00:39:17.016603Z",
     "start_time": "2020-06-29T00:39:15.952809Z"
    }
   },
   "outputs": [],
   "source": [
    "dossier_pems = \"/transport_PeMS\"\n",
    "pems_entree = \"/pems.npy\"\n",
    "pems_sortie = \"/pems_raw.mat\"\n",
    "\n",
    "PeMS = np.load(dossier_donnees + dossier_pems + pems_entree)\n",
    "scipy.io.savemat(dossier_donnees + dossier_pems + pems_sortie, {\"mat\": PeMS}) # Données non modifiées, donc brutes"
   ]
  },
  {
   "cell_type": "code",
   "execution_count": 4,
   "metadata": {
    "ExecuteTime": {
     "end_time": "2020-06-29T00:39:18.028139Z",
     "start_time": "2020-06-29T00:39:17.016603Z"
    }
   },
   "outputs": [],
   "source": [
    "dossier_seattle = \"/transport_Seattle\"\n",
    "seattle_entree = \"/mat.csv\"\n",
    "seattle_sortie = \"/seattle_raw.mat\"\n",
    "\n",
    "\n",
    "seattle = pd.read_csv(dossier_donnees + dossier_seattle + seattle_entree, index_col=0)\n",
    "seattle = seattle.to_numpy()\n",
    "scipy.io.savemat(dossier_donnees + dossier_seattle + seattle_sortie, {\"mat\": seattle})"
   ]
  },
  {
   "cell_type": "code",
   "execution_count": 5,
   "metadata": {
    "ExecuteTime": {
     "end_time": "2020-06-29T00:39:18.043924Z",
     "start_time": "2020-06-29T00:39:18.028139Z"
    }
   },
   "outputs": [],
   "source": [
    "dossier_electricite = \"/electricite\"\n",
    "electricite_entree = \"/database_electricite_tronquee.csv\"\n",
    "electricite_sortie = \"electricite_raw.mat\"\n",
    "\n",
    "\n",
    "elec = pd.read_csv(dossier_donnees + dossier_electricite + electricite_entree, sep=\";\")\n",
    "elec = elec.to_numpy()\n",
    "scipy.io.savemat(dossier_donnees + dossier_electricite + electricite_sortie, {\"mat\": elec})"
   ]
  },
  {
   "cell_type": "markdown",
   "metadata": {},
   "source": [
    "## Formater les données"
   ]
  },
  {
   "cell_type": "code",
   "execution_count": 6,
   "metadata": {
    "ExecuteTime": {
     "end_time": "2020-06-29T00:39:18.528810Z",
     "start_time": "2020-06-29T00:39:18.043924Z"
    }
   },
   "outputs": [],
   "source": [
    "def format_donnees(dossier,\n",
    "                   fichier_entree,\n",
    "                   key_name,\n",
    "                   format_size,\n",
    "                  fichier_sortie,\n",
    "                   retourner=False):\n",
    "    \"\"\"\n",
    "    Mettre tous les fichiers sous forme de matrice et choisir les dimensions de la matrice\n",
    "    \n",
    "    \n",
    "    Paramètres en entrée\n",
    "    \n",
    "        dossier : Nom du dossier où se trouve le jeu de données\n",
    "        fichier : Nom du jeu de données\n",
    "        key_name : nom de la clé du dictionnaire (spécifique au format .mat)\n",
    "        format_size : format en  pourcentage du jeu de données (sous forme 1.0, 0.9, etc.)\n",
    "        nom_nouv_fichier : nom du nouveau fichier créé (sans l'extension)\n",
    "        retourner : choix de retourner ou non un objet à la fin de la fonction (à voir)\n",
    "        \n",
    "        \n",
    "        Note : Les noms de clés des nouveaux fichiers sont \"mat\" par souci d'uniformation\n",
    "\n",
    "    \"\"\"\n",
    "    # S'assurer des bons paramètres\n",
    "    format_size = np.round(format_size, decimals = 1)\n",
    "    \n",
    "    if format_size > 1.0:\n",
    "        format_size = 1.0\n",
    "        \n",
    "    \n",
    "    # Charger les données\n",
    "    donnees = scipy.io.loadmat(dossier + fichier)\n",
    "    donnees = donnees[key_name]\n",
    "\n",
    "    # Indépendemment du nombre de dimensions, mettre sous forme de matrice\n",
    "    dimensions = donnees.shape\n",
    "    dim1 = dimensions[0]\n",
    "    donnees = donnees.reshape(dim1, -1)\n",
    "\n",
    "    # Tronquer ou non les données (format_size)\n",
    "    dim1, dim2 = donnees.shape\n",
    "    dim1 = int(np.round(dim1 * format_size))\n",
    "    dim2 = int(np.round(dim2 * format_size))\n",
    "\n",
    "    donnees = donnees[:dim1, :dim2]\n",
    "\n",
    "    # Indiquer le format dans le nom (?) - voir si pertinent\n",
    "    nom_format = str(int(format_size * 100))\n",
    "\n",
    "    # Sauvegarder le fichier avec les nouvelles dimensions\n",
    "    nom_fichier = \"{:}{:}_{:}.mat\".format(dossier ,fichier_sortie, nom_format)\n",
    "    scipy.io.savemat(nom_fichier,\n",
    "                     {\"mat\": donnees})\n",
    "\n",
    "    return donnees if retourner == True else None  # Choix de retourner ou non un objet dans la session"
   ]
  },
  {
   "cell_type": "code",
   "execution_count": 7,
   "metadata": {
    "ExecuteTime": {
     "end_time": "2020-06-29T00:39:19.029089Z",
     "start_time": "2020-06-29T00:39:18.528810Z"
    }
   },
   "outputs": [],
   "source": [
    "dossier = \"data/transport_Seattle/\"\n",
    "fichier = \"seattle_raw.mat\"\n",
    "fichier_sortie = \"seattle\" # Nom du fichier en sortie (nom de la ville)\n",
    "key_name = \"mat\"\n",
    "format_size = 0.5 \n",
    "#nom_nouv_fichier = \"seattle_mat\" \n",
    "retourner = False ## À voir si pertinent\n",
    "\n",
    "format_donnees(dossier, fichier, key_name, format_size, fichier_sortie, retourner)"
   ]
  },
  {
   "cell_type": "markdown",
   "metadata": {},
   "source": [
    "## Création de la matrice binaire"
   ]
  },
  {
   "cell_type": "code",
   "execution_count": 8,
   "metadata": {
    "ExecuteTime": {
     "end_time": "2020-06-29T00:39:19.499125Z",
     "start_time": "2020-06-29T00:39:19.029089Z"
    }
   },
   "outputs": [],
   "source": [
    "def fichier_binaire(dossier,\n",
    "                    fichier,\n",
    "                    key_name,\n",
    "                    prop_manquants,\n",
    "                    seed=2020,\n",
    "                    retourner=False):\n",
    "    \"\"\"\n",
    "    Créer une matrice binaire à partir d'un fichier de données existant\n",
    "    \n",
    "    \n",
    "    Paramètres en entrée\n",
    "    \n",
    "        dossier : Nom du dossier où se trouve le jeu de données\n",
    "        fichier : Nom du jeu de données\n",
    "        key_name : nom de la clé du dictionnaire (spécifique au format .mat)\n",
    "        prop_manquants : format en  pourcentage du jeu de données (sous forme 1.0, 0.9, etc.)\n",
    "        seed : noyau pour la reproductibilité des analysis\n",
    "        retourner : choix de retourner ou non un objet à la fin de la fonction (à voir)\n",
    "        \n",
    "        \n",
    "        \n",
    "\n",
    "    \"\"\"\n",
    "\n",
    "    # S'assurer des bons paramètres\n",
    "    prop_manquants = np.round(prop_manquants, decimals=2)\n",
    "\n",
    "    if prop_manquants > 1.0:\n",
    "        prop_manquants = 1.0\n",
    "\n",
    "    # Charger les données (pour obtenir les dimensions de la matrice)\n",
    "    donnees = scipy.io.loadmat(dossier + fichier)\n",
    "    donnees = donnees[key_name]\n",
    "\n",
    "    # Scénario de manquants\n",
    "    p0 = prop_manquants  # taux de manquants\n",
    "    p1 = 1 - p0  # taux de présents\n",
    "\n",
    "    dimensions = donnees.shape\n",
    "\n",
    "    np.random.seed(seed)\n",
    "    binmat = np.random.choice([0, 1], size=dimensions, p=[p0, p1])\n",
    "    \n",
    "    \n",
    "    ## Enregistrer la nouvelle matrice\n",
    "    nom_nouv_fichier = \"_{:}\".format(str(int(p0 * 100)))\n",
    "    nom_nouv_fichier = dossier + fichier + nom_nouv_fichier + \".mat\"\n",
    "\n",
    "    # Note : Les proportions peuvent varier légèrement, donc montrer la proportion de manquants à l'utilisateur\n",
    "    dim1, dim2 = dimensions\n",
    "    prop_finale = len(np.where(binmat == 0)[0]) / (dim1 * dim2)\n",
    "    print((\"Fichier : {0:} \\nProportion de manquants : {1:.2%}\".format(nom_nouv_fichier, prop_finale)))\n",
    "\n",
    "    scipy.io.savemat(nom_nouv_fichier, {\"mat\": binmat})\n",
    "\n",
    "    return binmat if retourner == True else None  # Choix de retourner ou non un objet dans la session"
   ]
  },
  {
   "cell_type": "code",
   "execution_count": 9,
   "metadata": {
    "ExecuteTime": {
     "end_time": "2020-06-29T00:39:21.018048Z",
     "start_time": "2020-06-29T00:39:19.499125Z"
    }
   },
   "outputs": [
    {
     "name": "stdout",
     "output_type": "stream",
     "text": [
      "Fichier : data/transport_Seattle/seattle_50_0.mat \n",
      "Proportion de manquants : 0.00%\n",
      "Fichier : data/transport_Seattle/seattle_50_10.mat \n",
      "Proportion de manquants : 10.02%\n",
      "Fichier : data/transport_Seattle/seattle_50_20.mat \n",
      "Proportion de manquants : 20.05%\n",
      "Fichier : data/transport_Seattle/seattle_50_30.mat \n",
      "Proportion de manquants : 30.10%\n",
      "Fichier : data/transport_Seattle/seattle_50_40.mat \n",
      "Proportion de manquants : 40.07%\n",
      "Fichier : data/transport_Seattle/seattle_50_50.mat \n",
      "Proportion de manquants : 50.09%\n",
      "Fichier : data/transport_Seattle/seattle_50_60.mat \n",
      "Proportion de manquants : 60.10%\n",
      "Fichier : data/transport_Seattle/seattle_50_70.mat \n",
      "Proportion de manquants : 70.00%\n",
      "Fichier : data/transport_Seattle/seattle_50_80.mat \n",
      "Proportion de manquants : 80.10%\n",
      "Fichier : data/transport_Seattle/seattle_50_90.mat \n",
      "Proportion de manquants : 90.09%\n"
     ]
    }
   ],
   "source": [
    "# Sous forme d'itérations\n",
    "dossier = \"data/transport_Seattle\"\n",
    "fichier = \"/seattle_50\"\n",
    "key_name = \"mat\"\n",
    "retourner = False  ## À voir si pertinent\n",
    "seed = 2020\n",
    "\n",
    "prop_manquants = [0.0, 0.1, 0.2, 0.3, 0.4, 0.5, 0.6, 0.7, 0.8, 0.9]\n",
    "\n",
    "for p in prop_manquants:\n",
    "    fichier_binaire(dossier,\n",
    "                    fichier,\n",
    "                    key_name,\n",
    "                    p, # proportion de manquants\n",
    "                    seed=2020,\n",
    "                    retourner=False)"
   ]
  },
  {
   "cell_type": "code",
   "execution_count": null,
   "metadata": {},
   "outputs": [],
   "source": []
  }
 ],
 "metadata": {
  "kernelspec": {
   "display_name": "Python 3",
   "language": "python",
   "name": "python3"
  },
  "language_info": {
   "codemirror_mode": {
    "name": "ipython",
    "version": 3
   },
   "file_extension": ".py",
   "mimetype": "text/x-python",
   "name": "python",
   "nbconvert_exporter": "python",
   "pygments_lexer": "ipython3",
   "version": "3.7.7"
  },
  "toc": {
   "base_numbering": 1,
   "nav_menu": {},
   "number_sections": true,
   "sideBar": true,
   "skip_h1_title": false,
   "title_cell": "Table of Contents",
   "title_sidebar": "Contents",
   "toc_cell": false,
   "toc_position": {},
   "toc_section_display": true,
   "toc_window_display": false
  },
  "varInspector": {
   "cols": {
    "lenName": 16,
    "lenType": 16,
    "lenVar": 40
   },
   "kernels_config": {
    "python": {
     "delete_cmd_postfix": "",
     "delete_cmd_prefix": "del ",
     "library": "var_list.py",
     "varRefreshCmd": "print(var_dic_list())"
    },
    "r": {
     "delete_cmd_postfix": ") ",
     "delete_cmd_prefix": "rm(",
     "library": "var_list.r",
     "varRefreshCmd": "cat(var_dic_list()) "
    }
   },
   "types_to_exclude": [
    "module",
    "function",
    "builtin_function_or_method",
    "instance",
    "_Feature"
   ],
   "window_display": false
  }
 },
 "nbformat": 4,
 "nbformat_minor": 4
}
