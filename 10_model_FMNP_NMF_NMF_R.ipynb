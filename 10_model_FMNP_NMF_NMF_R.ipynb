{
 "cells": [
  {
   "cell_type": "markdown",
   "metadata": {},
   "source": [
    "# À propos de ce livret\n",
    "\n",
    "Ceci est la méthode XYZ : \n",
    "* Point 1\n",
    "* Point 2\n",
    "* Point 3\n",
    "Pour une compréhension en profondeur de la méthode, ainsi que les techniques de modélisation, voici un supplément d'information : \n",
    "\n",
    ">NOMS (ANNEE). **NOM DE LA RECHERCHE.**\n",
    "\n",
    "\n",
    "Liens pour davantage d'informations sur la méthode : \n",
    "\n",
    "[**Dépôt 1**](https://github.com/linxihui/NNLM) *Ceci est un paquet*  \n",
    "[**Exemples d'implantation des méthodes**](https://rdrr.io/cran/NNLM/f/inst/doc/Fast-And-Versatile-NMF.pdf)  \n",
    "[**Présentation sur le paquet**](https://www.ncbi.nlm.nih.gov/pmc/articles/PMC6945623/)\n",
    "\n",
    "\n",
    "\n",
    "\n",
    "## Prêt-à-l'utilisation\n",
    "\n",
    "Ce livret est disponible pour tout usage d'imputation."
   ]
  },
  {
   "cell_type": "code",
   "execution_count": 1,
   "metadata": {
    "ExecuteTime": {
     "end_time": "2020-06-09T14:19:44.747575Z",
     "start_time": "2020-06-09T14:19:29.819Z"
    }
   },
   "outputs": [],
   "source": [
    "install_NNLM = FALSE # Indiquer si je dois installer NNLM ou non\n",
    "\n",
    "pac = c(\"devtools\", \"R.matlab\")\n",
    "\n",
    "new_pac <- pac[!(pac %in% installed.packages()[,\"Package\"])]\n",
    "if(length(new_pac)) \n",
    "    install.packages(new_pac, dependencies = TRUE)\n",
    "\n",
    "if (install_NNLM == TRUE) {\n",
    "    library(devtools)\n",
    "    install_github('linxihui/NNLM')  \n",
    "}"
   ]
  },
  {
   "cell_type": "code",
   "execution_count": 2,
   "metadata": {
    "ExecuteTime": {
     "end_time": "2020-06-09T14:19:45.312807Z",
     "start_time": "2020-06-09T14:19:30.214Z"
    }
   },
   "outputs": [
    {
     "name": "stderr",
     "output_type": "stream",
     "text": [
      "R.matlab v3.6.2 (2018-09-26) successfully loaded. See ?R.matlab for help.\n",
      "\n",
      "\n",
      "Attaching package: 'R.matlab'\n",
      "\n",
      "\n",
      "The following objects are masked from 'package:base':\n",
      "\n",
      "    getOption, isOpen\n",
      "\n",
      "\n"
     ]
    }
   ],
   "source": [
    "library(R.matlab)\n",
    "library(NNLM)"
   ]
  },
  {
   "cell_type": "code",
   "execution_count": 3,
   "metadata": {
    "ExecuteTime": {
     "end_time": "2020-06-09T14:19:45.369652Z",
     "start_time": "2020-06-09T14:19:30.910Z"
    }
   },
   "outputs": [],
   "source": [
    "setwd(\"C:/Users/amass/OneDrive/02_Education/02_Maitrise/Cours/PROJET_MAITRISE/application\")"
   ]
  },
  {
   "cell_type": "markdown",
   "metadata": {},
   "source": [
    "# Partie 1 : Données"
   ]
  },
  {
   "cell_type": "markdown",
   "metadata": {},
   "source": [
    "## Chargement des données"
   ]
  },
  {
   "cell_type": "code",
   "execution_count": 4,
   "metadata": {
    "ExecuteTime": {
     "end_time": "2020-06-09T14:19:50.099637Z",
     "start_time": "2020-06-09T14:19:48.606Z"
    }
   },
   "outputs": [
    {
     "data": {
      "text/html": [
       "<style>\n",
       ".list-inline {list-style: none; margin:0; padding: 0}\n",
       ".list-inline>li {display: inline-block}\n",
       ".list-inline>li:not(:last-child)::after {content: \"\\00b7\"; padding: 0 .5ex}\n",
       "</style>\n",
       "<ol class=list-inline><li>214</li><li>61</li><li>144</li></ol>\n"
      ],
      "text/latex": [
       "\\begin{enumerate*}\n",
       "\\item 214\n",
       "\\item 61\n",
       "\\item 144\n",
       "\\end{enumerate*}\n"
      ],
      "text/markdown": [
       "1. 214\n",
       "2. 61\n",
       "3. 144\n",
       "\n",
       "\n"
      ],
      "text/plain": [
       "[1] 214  61 144"
      ]
     },
     "metadata": {},
     "output_type": "display_data"
    },
    {
     "data": {
      "text/html": [
       "<style>\n",
       ".list-inline {list-style: none; margin:0; padding: 0}\n",
       ".list-inline>li {display: inline-block}\n",
       ".list-inline>li:not(:last-child)::after {content: \"\\00b7\"; padding: 0 .5ex}\n",
       "</style>\n",
       "<ol class=list-inline><li>214</li><li>61</li></ol>\n"
      ],
      "text/latex": [
       "\\begin{enumerate*}\n",
       "\\item 214\n",
       "\\item 61\n",
       "\\end{enumerate*}\n"
      ],
      "text/markdown": [
       "1. 214\n",
       "2. 61\n",
       "\n",
       "\n"
      ],
      "text/plain": [
       "[1] 214  61"
      ]
     },
     "metadata": {},
     "output_type": "display_data"
    },
    {
     "data": {
      "text/html": [
       "<style>\n",
       ".list-inline {list-style: none; margin:0; padding: 0}\n",
       ".list-inline>li {display: inline-block}\n",
       ".list-inline>li:not(:last-child)::after {content: \"\\00b7\"; padding: 0 .5ex}\n",
       "</style>\n",
       "<ol class=list-inline><li>214</li><li>61</li><li>144</li></ol>\n"
      ],
      "text/latex": [
       "\\begin{enumerate*}\n",
       "\\item 214\n",
       "\\item 61\n",
       "\\item 144\n",
       "\\end{enumerate*}\n"
      ],
      "text/markdown": [
       "1. 214\n",
       "2. 61\n",
       "3. 144\n",
       "\n",
       "\n"
      ],
      "text/plain": [
       "[1] 214  61 144"
      ]
     },
     "metadata": {},
     "output_type": "display_data"
    }
   ],
   "source": [
    "# Tenseur de données\n",
    "tensor <- readMat(\"data/Guangzhou-data-set/tensor.mat\")\n",
    "tensor <- tensor$tensor # Prendre l'array \n",
    "dim(tensor)\n",
    "\n",
    "# Matrice de données aléatoires\n",
    "random_matrix <- readMat(\"data/Guangzhou-data-set/random_matrix.mat\")\n",
    "random_matrix <- random_matrix$random.matrix\n",
    "dim(random_matrix)\n",
    "\n",
    "# Tenseur de données aléatoires\n",
    "random_tensor <- readMat(\"data/Guangzhou-data-set/random_tensor.mat\")\n",
    "random_tensor <- random_tensor$random.tensor\n",
    "dim(random_tensor)"
   ]
  },
  {
   "cell_type": "markdown",
   "metadata": {},
   "source": [
    "## Format de données"
   ]
  },
  {
   "cell_type": "code",
   "execution_count": 5,
   "metadata": {
    "ExecuteTime": {
     "end_time": "2020-06-09T14:21:02.398056Z",
     "start_time": "2020-06-09T14:21:02.329Z"
    },
    "scrolled": true
   },
   "outputs": [
    {
     "data": {
      "text/html": [
       "<style>\n",
       ".list-inline {list-style: none; margin:0; padding: 0}\n",
       ".list-inline>li {display: inline-block}\n",
       ".list-inline>li:not(:last-child)::after {content: \"\\00b7\"; padding: 0 .5ex}\n",
       "</style>\n",
       "<ol class=list-inline><li>50</li><li>10</li><li>144</li></ol>\n"
      ],
      "text/latex": [
       "\\begin{enumerate*}\n",
       "\\item 50\n",
       "\\item 10\n",
       "\\item 144\n",
       "\\end{enumerate*}\n"
      ],
      "text/markdown": [
       "1. 50\n",
       "2. 10\n",
       "3. 144\n",
       "\n",
       "\n"
      ],
      "text/plain": [
       "[1]  50  10 144"
      ]
     },
     "metadata": {},
     "output_type": "display_data"
    },
    {
     "data": {
      "text/html": [
       "<style>\n",
       ".list-inline {list-style: none; margin:0; padding: 0}\n",
       ".list-inline>li {display: inline-block}\n",
       ".list-inline>li:not(:last-child)::after {content: \"\\00b7\"; padding: 0 .5ex}\n",
       "</style>\n",
       "<ol class=list-inline><li>50</li><li>1440</li></ol>\n"
      ],
      "text/latex": [
       "\\begin{enumerate*}\n",
       "\\item 50\n",
       "\\item 1440\n",
       "\\end{enumerate*}\n"
      ],
      "text/markdown": [
       "1. 50\n",
       "2. 1440\n",
       "\n",
       "\n"
      ],
      "text/plain": [
       "[1]   50 1440"
      ]
     },
     "metadata": {},
     "output_type": "display_data"
    }
   ],
   "source": [
    "# Indiquer si utiliser le jeu de données tronqué ou complet\n",
    "petit_donnees = TRUE\n",
    "# Indiquer si je veux travailler avec un tenseur ou une matrice\n",
    "matrice = TRUE\n",
    "\n",
    "capteurs = 50\n",
    "jours = 10\n",
    "sequences = dim(tensor)[3]   # (la séquence de temps du tenseur est pleine)\n",
    "\n",
    "# Choix de données tronquées ou complètes\n",
    "if (petit_donnees == TRUE){\n",
    "    # Si l'utilisateur choisi de travailler avec les données tronquées \n",
    "    tensor = tensor[1:capteurs, 1:jours, 1:sequences, drop = FALSE]\n",
    "    \n",
    "    random_tensor = random_tensor[1:capteurs, 1:jours, 1:sequences, drop = FALSE]\n",
    "    }\n",
    "\n",
    "# Choix de matrice ou de tenseur\n",
    "if(matrice == TRUE){\n",
    "    # Si l'utilisateur choisi de travailler avec une matrice\n",
    "    mat_dense <- array(tensor, c(dim(tensor[,,])[1], dim(tensor[,,])[2] * dim(tensor[,,])[3]))\n",
    "    }\n",
    "\n",
    "dim(tensor)\n",
    "dim(mat_dense)"
   ]
  },
  {
   "cell_type": "markdown",
   "metadata": {},
   "source": [
    "## Scénarios de manquants\n",
    "\n",
    "\n",
    "- Scénario de manquants aléatoires\n",
    "- Scénario de manquants non-aléatoires"
   ]
  },
  {
   "cell_type": "code",
   "execution_count": 6,
   "metadata": {
    "ExecuteTime": {
     "end_time": "2020-06-09T14:21:22.478902Z",
     "start_time": "2020-06-09T14:21:22.277Z"
    },
    "scrolled": true
   },
   "outputs": [
    {
     "name": "stdout",
     "output_type": "stream",
     "text": [
      "[1] \"Manquants aléatoires\"\n"
     ]
    },
    {
     "data": {
      "text/html": [
       "<table>\n",
       "<caption>A matrix: 6 × 1440 of type dbl</caption>\n",
       "<tbody>\n",
       "\t<tr><td>40.893</td><td>41.227</td><td>42.680</td><td> 0.000</td><td>42.804</td><td>40.020</td><td> 0.000</td><td>35.357</td><td>41.097</td><td>41.821</td><td>...</td><td> 0.000</td><td>40.870</td><td> 0.000</td><td>42.295</td><td>39.082</td><td> 0.000</td><td>39.008</td><td> 0.000</td><td>39.974</td><td> 0.000</td></tr>\n",
       "\t<tr><td>50.319</td><td> 0.000</td><td>47.984</td><td>50.660</td><td>51.622</td><td>50.770</td><td>50.542</td><td>50.463</td><td>52.192</td><td> 0.000</td><td>...</td><td>51.534</td><td> 0.000</td><td>51.192</td><td>50.546</td><td>50.227</td><td>50.693</td><td>51.067</td><td> 0.000</td><td>51.232</td><td> 0.000</td></tr>\n",
       "\t<tr><td> 0.000</td><td>57.001</td><td>49.905</td><td>52.292</td><td>55.792</td><td>52.594</td><td>50.130</td><td> 0.000</td><td> 0.000</td><td>55.341</td><td>...</td><td>53.983</td><td>50.571</td><td>52.489</td><td>55.382</td><td>54.422</td><td> 0.000</td><td>52.618</td><td> 0.000</td><td>53.334</td><td>52.322</td></tr>\n",
       "\t<tr><td>37.305</td><td> 0.000</td><td>37.195</td><td> 0.000</td><td> 0.000</td><td>33.248</td><td>31.593</td><td>38.236</td><td>34.700</td><td> 0.000</td><td>...</td><td>36.883</td><td> 0.000</td><td>37.362</td><td>34.821</td><td> 0.000</td><td>32.957</td><td> 0.000</td><td>34.647</td><td>34.758</td><td>37.017</td></tr>\n",
       "\t<tr><td>38.388</td><td>39.534</td><td>35.762</td><td>36.393</td><td>36.625</td><td>37.164</td><td>34.079</td><td> 0.000</td><td>37.764</td><td> 0.000</td><td>...</td><td>37.508</td><td>35.285</td><td>37.175</td><td>37.707</td><td>36.642</td><td>34.773</td><td>37.572</td><td>36.967</td><td>37.361</td><td>36.306</td></tr>\n",
       "\t<tr><td> 0.000</td><td>44.112</td><td>43.173</td><td> 0.000</td><td>48.262</td><td>47.250</td><td>46.281</td><td>48.180</td><td> 0.000</td><td>49.987</td><td>...</td><td>51.562</td><td>45.329</td><td>50.494</td><td>48.465</td><td>46.354</td><td>45.446</td><td>49.026</td><td>45.500</td><td>47.928</td><td>47.412</td></tr>\n",
       "</tbody>\n",
       "</table>\n"
      ],
      "text/latex": [
       "A matrix: 6 × 1440 of type dbl\n",
       "\\begin{tabular}{lllllllllllllllllllll}\n",
       "\t 40.893 & 41.227 & 42.680 &  0.000 & 42.804 & 40.020 &  0.000 & 35.357 & 41.097 & 41.821 & ... &  0.000 & 40.870 &  0.000 & 42.295 & 39.082 &  0.000 & 39.008 &  0.000 & 39.974 &  0.000\\\\\n",
       "\t 50.319 &  0.000 & 47.984 & 50.660 & 51.622 & 50.770 & 50.542 & 50.463 & 52.192 &  0.000 & ... & 51.534 &  0.000 & 51.192 & 50.546 & 50.227 & 50.693 & 51.067 &  0.000 & 51.232 &  0.000\\\\\n",
       "\t  0.000 & 57.001 & 49.905 & 52.292 & 55.792 & 52.594 & 50.130 &  0.000 &  0.000 & 55.341 & ... & 53.983 & 50.571 & 52.489 & 55.382 & 54.422 &  0.000 & 52.618 &  0.000 & 53.334 & 52.322\\\\\n",
       "\t 37.305 &  0.000 & 37.195 &  0.000 &  0.000 & 33.248 & 31.593 & 38.236 & 34.700 &  0.000 & ... & 36.883 &  0.000 & 37.362 & 34.821 &  0.000 & 32.957 &  0.000 & 34.647 & 34.758 & 37.017\\\\\n",
       "\t 38.388 & 39.534 & 35.762 & 36.393 & 36.625 & 37.164 & 34.079 &  0.000 & 37.764 &  0.000 & ... & 37.508 & 35.285 & 37.175 & 37.707 & 36.642 & 34.773 & 37.572 & 36.967 & 37.361 & 36.306\\\\\n",
       "\t  0.000 & 44.112 & 43.173 &  0.000 & 48.262 & 47.250 & 46.281 & 48.180 &  0.000 & 49.987 & ... & 51.562 & 45.329 & 50.494 & 48.465 & 46.354 & 45.446 & 49.026 & 45.500 & 47.928 & 47.412\\\\\n",
       "\\end{tabular}\n"
      ],
      "text/markdown": [
       "\n",
       "A matrix: 6 × 1440 of type dbl\n",
       "\n",
       "| 40.893 | 41.227 | 42.680 |  0.000 | 42.804 | 40.020 |  0.000 | 35.357 | 41.097 | 41.821 | ... |  0.000 | 40.870 |  0.000 | 42.295 | 39.082 |  0.000 | 39.008 |  0.000 | 39.974 |  0.000 |\n",
       "| 50.319 |  0.000 | 47.984 | 50.660 | 51.622 | 50.770 | 50.542 | 50.463 | 52.192 |  0.000 | ... | 51.534 |  0.000 | 51.192 | 50.546 | 50.227 | 50.693 | 51.067 |  0.000 | 51.232 |  0.000 |\n",
       "|  0.000 | 57.001 | 49.905 | 52.292 | 55.792 | 52.594 | 50.130 |  0.000 |  0.000 | 55.341 | ... | 53.983 | 50.571 | 52.489 | 55.382 | 54.422 |  0.000 | 52.618 |  0.000 | 53.334 | 52.322 |\n",
       "| 37.305 |  0.000 | 37.195 |  0.000 |  0.000 | 33.248 | 31.593 | 38.236 | 34.700 |  0.000 | ... | 36.883 |  0.000 | 37.362 | 34.821 |  0.000 | 32.957 |  0.000 | 34.647 | 34.758 | 37.017 |\n",
       "| 38.388 | 39.534 | 35.762 | 36.393 | 36.625 | 37.164 | 34.079 |  0.000 | 37.764 |  0.000 | ... | 37.508 | 35.285 | 37.175 | 37.707 | 36.642 | 34.773 | 37.572 | 36.967 | 37.361 | 36.306 |\n",
       "|  0.000 | 44.112 | 43.173 |  0.000 | 48.262 | 47.250 | 46.281 | 48.180 |  0.000 | 49.987 | ... | 51.562 | 45.329 | 50.494 | 48.465 | 46.354 | 45.446 | 49.026 | 45.500 | 47.928 | 47.412 |\n",
       "\n"
      ],
      "text/plain": [
       "     [,1]   [,2]   [,3]   [,4]   [,5]   [,6]   [,7]   [,8]   [,9]   [,10] \n",
       "[1,] 40.893 41.227 42.680  0.000 42.804 40.020  0.000 35.357 41.097 41.821\n",
       "[2,] 50.319  0.000 47.984 50.660 51.622 50.770 50.542 50.463 52.192  0.000\n",
       "[3,]  0.000 57.001 49.905 52.292 55.792 52.594 50.130  0.000  0.000 55.341\n",
       "[4,] 37.305  0.000 37.195  0.000  0.000 33.248 31.593 38.236 34.700  0.000\n",
       "[5,] 38.388 39.534 35.762 36.393 36.625 37.164 34.079  0.000 37.764  0.000\n",
       "[6,]  0.000 44.112 43.173  0.000 48.262 47.250 46.281 48.180  0.000 49.987\n",
       "     [,11] [,12]  [,13]  [,14]  [,15]  [,16]  [,17]  [,18]  [,19]  [,20] \n",
       "[1,] ...    0.000 40.870  0.000 42.295 39.082  0.000 39.008  0.000 39.974\n",
       "[2,] ...   51.534  0.000 51.192 50.546 50.227 50.693 51.067  0.000 51.232\n",
       "[3,] ...   53.983 50.571 52.489 55.382 54.422  0.000 52.618  0.000 53.334\n",
       "[4,] ...   36.883  0.000 37.362 34.821  0.000 32.957  0.000 34.647 34.758\n",
       "[5,] ...   37.508 35.285 37.175 37.707 36.642 34.773 37.572 36.967 37.361\n",
       "[6,] ...   51.562 45.329 50.494 48.465 46.354 45.446 49.026 45.500 47.928\n",
       "     [,21] \n",
       "[1,]  0.000\n",
       "[2,]  0.000\n",
       "[3,] 52.322\n",
       "[4,] 37.017\n",
       "[5,] 36.306\n",
       "[6,] 47.412"
      ]
     },
     "metadata": {},
     "output_type": "display_data"
    }
   ],
   "source": [
    "tx_manquant = 0.2\n",
    "manquants_aleatoires = TRUE\n",
    "\n",
    "# Manquants aléatoires\n",
    "if(manquants_aleatoires == TRUE){\n",
    "    print(\"Manquants aléatoires\")\n",
    "    mat_binaire <- round(random_tensor + 0.5 - tx_manquant)\n",
    "    mat_binaire <- array(mat_binaire, c(dim(random_tensor[,,])[1], dim(random_tensor[,,])[2] * dim(random_tensor[,,])[3])) \n",
    "    dim(mat_binaire)\n",
    "    \n",
    "        # Création de la matrice de données manquantes (element-wise)\n",
    "    mat_manq <- mat_dense * mat_binaire\n",
    "    head(mat_manq)\n",
    "}\n",
    "\n",
    "# Manquants non-aléatoires\n",
    "if(manquants_aleatoires == FALSE){\n",
    "    print(\"Manquants non-aléatoires\")\n",
    "    tens_binaire <- array(0, dim(tensor))\n",
    "    for (i1 in 1:dim(tensor)[1]){\n",
    "        for (i2 in 1:dim(tensor)[2]){\n",
    "            tens_binaire[i1, i2, ] <- round(random_matrix[i1, i2] + 0.5 - tx_manquant)\n",
    "            }\n",
    "        }\n",
    "    mat_binaire <- array(tens_binaire, c(dim(tens_binaire)[1], dim(tens_binaire)[2] * dim(tens_binaire)[3]))\n",
    "    dim(mat_binaire)\n",
    "    \n",
    "    # Création de la matrice de données manquants (element-wise)\n",
    "    mat_manq <- mat_dense * mat_binaire\n",
    "    head(mat_manq)\n",
    "    }"
   ]
  },
  {
   "cell_type": "code",
   "execution_count": null,
   "metadata": {},
   "outputs": [],
   "source": [
    "# Position des éléments à imputer\n",
    "index <- which(mat_binaire %in% c(0))"
   ]
  },
  {
   "cell_type": "raw",
   "metadata": {
    "ExecuteTime": {
     "end_time": "2020-06-04T03:51:10.929294Z",
     "start_time": "2020-06-04T03:51:05.216Z"
    },
    "scrolled": true
   },
   "source": [
    "set.seed(123);\n",
    "mat_dense2 <- mat_dense;\n",
    "index <- sample(length(mat_dense2), length(mat_dense2)*0.3);\n",
    "mat_dense2[index] <- NA;\n",
    "mat_dense2"
   ]
  },
  {
   "cell_type": "markdown",
   "metadata": {},
   "source": [
    "# Partie 2 : Modélisation"
   ]
  },
  {
   "cell_type": "markdown",
   "metadata": {},
   "source": [
    "## Partie 2.2 : Entrainement du modèle"
   ]
  },
  {
   "cell_type": "code",
   "execution_count": 20,
   "metadata": {
    "ExecuteTime": {
     "end_time": "2020-06-09T14:34:48.512698Z",
     "start_time": "2020-06-09T14:34:48.227Z"
    }
   },
   "outputs": [
    {
     "data": {
      "text/plain": [
       "Non-negative matrix factorization:\n",
       "   Algorithm: Sequential coordinate-wise descent\n",
       "        Loss: Mean squared error\n",
       "         MSE: 249.4755\n",
       "         MKL: 6.878112\n",
       "      Target: 124.7378\n",
       "   Rel. tol.: 7.97e-05\n",
       "Total epochs: 689\n",
       "# Interation: 15\n",
       "Running time:\n",
       "   user  system elapsed \n",
       "   0.09    0.03    0.12 "
      ]
     },
     "metadata": {},
     "output_type": "display_data"
    }
   ],
   "source": [
    "# Baseline NMF\n",
    "rang = 2\n",
    "\n",
    "mat_manq.nmf <- NNLM::nnmf(mat_manq, k = rang)\n",
    "mat_manq.nmf # Sommaire de la manipulation"
   ]
  },
  {
   "cell_type": "code",
   "execution_count": 21,
   "metadata": {
    "ExecuteTime": {
     "end_time": "2020-06-09T14:35:01.756263Z",
     "start_time": "2020-06-09T14:35:01.724Z"
    }
   },
   "outputs": [
    {
     "data": {
      "text/html": [
       "<table>\n",
       "<caption>A matrix: 6 × 1440 of type dbl</caption>\n",
       "<tbody>\n",
       "\t<tr><td>32.06273</td><td>35.36804</td><td>30.50520</td><td>26.54394</td><td>29.31689</td><td>36.28840</td><td>38.25219</td><td>30.40030</td><td>32.20623</td><td>36.55231</td><td>...</td><td>36.12182</td><td>27.62862</td><td>33.44012</td><td>37.53227</td><td>30.28440</td><td>32.78296</td><td>33.19557</td><td>28.37254</td><td>32.53523</td><td>32.19220</td></tr>\n",
       "\t<tr><td>36.42552</td><td>39.95137</td><td>34.73774</td><td>31.34985</td><td>35.77600</td><td>41.01665</td><td>43.13225</td><td>34.91924</td><td>36.27625</td><td>41.58650</td><td>...</td><td>41.58370</td><td>31.58121</td><td>41.09161</td><td>42.55805</td><td>35.11216</td><td>36.83356</td><td>36.66998</td><td>32.51869</td><td>36.84530</td><td>35.79094</td></tr>\n",
       "\t<tr><td>40.88790</td><td>45.62010</td><td>38.71737</td><td>31.15617</td><td>31.81388</td><td>46.74940</td><td>49.51407</td><td>37.90528</td><td>41.77547</td><td>46.47675</td><td>...</td><td>44.83071</td><td>34.79757</td><td>35.64773</td><td>48.04623</td><td>37.02516</td><td>42.73181</td><td>44.68456</td><td>35.53792</td><td>41.75447</td><td>42.81652</td></tr>\n",
       "\t<tr><td>26.58123</td><td>29.54146</td><td>25.21157</td><td>20.85983</td><td>21.93409</td><td>30.28559</td><td>32.02441</td><td>24.83602</td><td>26.99995</td><td>30.24520</td><td>...</td><td>29.42157</td><td>22.71980</td><td>24.74645</td><td>31.19367</td><td>24.42837</td><td>27.57205</td><td>28.52104</td><td>23.24790</td><td>27.08527</td><td>27.43884</td></tr>\n",
       "\t<tr><td>28.43941</td><td>31.33229</td><td>27.07175</td><td>23.74697</td><td>26.42312</td><td>32.15199</td><td>33.87426</td><td>27.02975</td><td>28.51369</td><td>32.43191</td><td>...</td><td>32.13261</td><td>24.53917</td><td>30.18757</td><td>33.27706</td><td>26.98204</td><td>29.00862</td><td>29.26727</td><td>25.21470</td><td>28.83866</td><td>28.42157</td></tr>\n",
       "\t<tr><td>35.46372</td><td>39.05631</td><td>33.76354</td><td>29.68941</td><td>33.10899</td><td>40.07973</td><td>42.21994</td><td>33.73059</td><td>35.53617</td><td>40.44624</td><td>...</td><td>40.10442</td><td>30.61263</td><td>37.84400</td><td>41.49098</td><td>33.69206</td><td>36.14702</td><td>36.42870</td><td>31.46097</td><td>35.95401</td><td>35.39097</td></tr>\n",
       "</tbody>\n",
       "</table>\n"
      ],
      "text/latex": [
       "A matrix: 6 × 1440 of type dbl\n",
       "\\begin{tabular}{lllllllllllllllllllll}\n",
       "\t 32.06273 & 35.36804 & 30.50520 & 26.54394 & 29.31689 & 36.28840 & 38.25219 & 30.40030 & 32.20623 & 36.55231 & ... & 36.12182 & 27.62862 & 33.44012 & 37.53227 & 30.28440 & 32.78296 & 33.19557 & 28.37254 & 32.53523 & 32.19220\\\\\n",
       "\t 36.42552 & 39.95137 & 34.73774 & 31.34985 & 35.77600 & 41.01665 & 43.13225 & 34.91924 & 36.27625 & 41.58650 & ... & 41.58370 & 31.58121 & 41.09161 & 42.55805 & 35.11216 & 36.83356 & 36.66998 & 32.51869 & 36.84530 & 35.79094\\\\\n",
       "\t 40.88790 & 45.62010 & 38.71737 & 31.15617 & 31.81388 & 46.74940 & 49.51407 & 37.90528 & 41.77547 & 46.47675 & ... & 44.83071 & 34.79757 & 35.64773 & 48.04623 & 37.02516 & 42.73181 & 44.68456 & 35.53792 & 41.75447 & 42.81652\\\\\n",
       "\t 26.58123 & 29.54146 & 25.21157 & 20.85983 & 21.93409 & 30.28559 & 32.02441 & 24.83602 & 26.99995 & 30.24520 & ... & 29.42157 & 22.71980 & 24.74645 & 31.19367 & 24.42837 & 27.57205 & 28.52104 & 23.24790 & 27.08527 & 27.43884\\\\\n",
       "\t 28.43941 & 31.33229 & 27.07175 & 23.74697 & 26.42312 & 32.15199 & 33.87426 & 27.02975 & 28.51369 & 32.43191 & ... & 32.13261 & 24.53917 & 30.18757 & 33.27706 & 26.98204 & 29.00862 & 29.26727 & 25.21470 & 28.83866 & 28.42157\\\\\n",
       "\t 35.46372 & 39.05631 & 33.76354 & 29.68941 & 33.10899 & 40.07973 & 42.21994 & 33.73059 & 35.53617 & 40.44624 & ... & 40.10442 & 30.61263 & 37.84400 & 41.49098 & 33.69206 & 36.14702 & 36.42870 & 31.46097 & 35.95401 & 35.39097\\\\\n",
       "\\end{tabular}\n"
      ],
      "text/markdown": [
       "\n",
       "A matrix: 6 × 1440 of type dbl\n",
       "\n",
       "| 32.06273 | 35.36804 | 30.50520 | 26.54394 | 29.31689 | 36.28840 | 38.25219 | 30.40030 | 32.20623 | 36.55231 | ... | 36.12182 | 27.62862 | 33.44012 | 37.53227 | 30.28440 | 32.78296 | 33.19557 | 28.37254 | 32.53523 | 32.19220 |\n",
       "| 36.42552 | 39.95137 | 34.73774 | 31.34985 | 35.77600 | 41.01665 | 43.13225 | 34.91924 | 36.27625 | 41.58650 | ... | 41.58370 | 31.58121 | 41.09161 | 42.55805 | 35.11216 | 36.83356 | 36.66998 | 32.51869 | 36.84530 | 35.79094 |\n",
       "| 40.88790 | 45.62010 | 38.71737 | 31.15617 | 31.81388 | 46.74940 | 49.51407 | 37.90528 | 41.77547 | 46.47675 | ... | 44.83071 | 34.79757 | 35.64773 | 48.04623 | 37.02516 | 42.73181 | 44.68456 | 35.53792 | 41.75447 | 42.81652 |\n",
       "| 26.58123 | 29.54146 | 25.21157 | 20.85983 | 21.93409 | 30.28559 | 32.02441 | 24.83602 | 26.99995 | 30.24520 | ... | 29.42157 | 22.71980 | 24.74645 | 31.19367 | 24.42837 | 27.57205 | 28.52104 | 23.24790 | 27.08527 | 27.43884 |\n",
       "| 28.43941 | 31.33229 | 27.07175 | 23.74697 | 26.42312 | 32.15199 | 33.87426 | 27.02975 | 28.51369 | 32.43191 | ... | 32.13261 | 24.53917 | 30.18757 | 33.27706 | 26.98204 | 29.00862 | 29.26727 | 25.21470 | 28.83866 | 28.42157 |\n",
       "| 35.46372 | 39.05631 | 33.76354 | 29.68941 | 33.10899 | 40.07973 | 42.21994 | 33.73059 | 35.53617 | 40.44624 | ... | 40.10442 | 30.61263 | 37.84400 | 41.49098 | 33.69206 | 36.14702 | 36.42870 | 31.46097 | 35.95401 | 35.39097 |\n",
       "\n"
      ],
      "text/plain": [
       "     [,1]     [,2]     [,3]     [,4]     [,5]     [,6]     [,7]     [,8]    \n",
       "[1,] 32.06273 35.36804 30.50520 26.54394 29.31689 36.28840 38.25219 30.40030\n",
       "[2,] 36.42552 39.95137 34.73774 31.34985 35.77600 41.01665 43.13225 34.91924\n",
       "[3,] 40.88790 45.62010 38.71737 31.15617 31.81388 46.74940 49.51407 37.90528\n",
       "[4,] 26.58123 29.54146 25.21157 20.85983 21.93409 30.28559 32.02441 24.83602\n",
       "[5,] 28.43941 31.33229 27.07175 23.74697 26.42312 32.15199 33.87426 27.02975\n",
       "[6,] 35.46372 39.05631 33.76354 29.68941 33.10899 40.07973 42.21994 33.73059\n",
       "     [,9]     [,10]    [,11] [,12]    [,13]    [,14]    [,15]    [,16]   \n",
       "[1,] 32.20623 36.55231 ...   36.12182 27.62862 33.44012 37.53227 30.28440\n",
       "[2,] 36.27625 41.58650 ...   41.58370 31.58121 41.09161 42.55805 35.11216\n",
       "[3,] 41.77547 46.47675 ...   44.83071 34.79757 35.64773 48.04623 37.02516\n",
       "[4,] 26.99995 30.24520 ...   29.42157 22.71980 24.74645 31.19367 24.42837\n",
       "[5,] 28.51369 32.43191 ...   32.13261 24.53917 30.18757 33.27706 26.98204\n",
       "[6,] 35.53617 40.44624 ...   40.10442 30.61263 37.84400 41.49098 33.69206\n",
       "     [,17]    [,18]    [,19]    [,20]    [,21]   \n",
       "[1,] 32.78296 33.19557 28.37254 32.53523 32.19220\n",
       "[2,] 36.83356 36.66998 32.51869 36.84530 35.79094\n",
       "[3,] 42.73181 44.68456 35.53792 41.75447 42.81652\n",
       "[4,] 27.57205 28.52104 23.24790 27.08527 27.43884\n",
       "[5,] 29.00862 29.26727 25.21470 28.83866 28.42157\n",
       "[6,] 36.14702 36.42870 31.46097 35.95401 35.39097"
      ]
     },
     "metadata": {},
     "output_type": "display_data"
    }
   ],
   "source": [
    "# Imputation de données\n",
    "mat_manq.hat.nmf <- with(mat_manq.nmf, W %*% H);\n",
    "head(mat_manq.hat.nmf)"
   ]
  },
  {
   "cell_type": "code",
   "execution_count": 35,
   "metadata": {
    "ExecuteTime": {
     "end_time": "2020-06-09T14:45:44.295798Z",
     "start_time": "2020-06-09T14:45:44.267Z"
    }
   },
   "outputs": [
    {
     "data": {
      "text/html": [
       "<table>\n",
       "<caption>A matrix: 2 × 1 of type dbl</caption>\n",
       "<thead>\n",
       "\t<tr><th></th><th scope=col>NMF</th></tr>\n",
       "</thead>\n",
       "<tbody>\n",
       "\t<tr><th scope=row>MSE</th><td>138.813354</td></tr>\n",
       "\t<tr><th scope=row>MKL</th><td>  2.285498</td></tr>\n",
       "</tbody>\n",
       "</table>\n"
      ],
      "text/latex": [
       "A matrix: 2 × 1 of type dbl\n",
       "\\begin{tabular}{r|l}\n",
       "  & NMF\\\\\n",
       "\\hline\n",
       "\tMSE & 138.813354\\\\\n",
       "\tMKL &   2.285498\\\\\n",
       "\\end{tabular}\n"
      ],
      "text/markdown": [
       "\n",
       "A matrix: 2 × 1 of type dbl\n",
       "\n",
       "| <!--/--> | NMF |\n",
       "|---|---|\n",
       "| MSE | 138.813354 |\n",
       "| MKL |   2.285498 |\n",
       "\n"
      ],
      "text/plain": [
       "    NMF       \n",
       "MSE 138.813354\n",
       "MKL   2.285498"
      ]
     },
     "metadata": {},
     "output_type": "display_data"
    }
   ],
   "source": [
    "# Présentation de l'erreur au carré et du KL-divergence\n",
    "sapply(\n",
    "    X = list(\n",
    "        NMF = mat_manq.hat.nmf[index]\n",
    "        ),\n",
    "    FUN = mse.mkl,\n",
    "    obs = mat_dense[index])"
   ]
  },
  {
   "cell_type": "markdown",
   "metadata": {},
   "source": [
    "## Déterminer le rang par imputation de valeurs manquantes\n",
    "\n",
    "\n",
    "\n",
    "(?)"
   ]
  },
  {
   "cell_type": "code",
   "execution_count": 57,
   "metadata": {
    "ExecuteTime": {
     "end_time": "2020-06-09T15:07:22.026725Z",
     "start_time": "2020-06-09T15:05:54.005Z"
    }
   },
   "outputs": [
    {
     "data": {
      "image/png": "[encoded data removed]",
      "text/plain": [
       "plot without title"
      ]
     },
     "metadata": {
      "image/png": {
       "height": 420,
       "width": 420
      },
      "text/plain": {
       "height": 420,
       "width": 420
      }
     },
     "output_type": "display_data"
    }
   ],
   "source": [
    "# Imputation avec les données manquantes\n",
    "rang_max = 10\n",
    "\n",
    "\n",
    "plot(0, xlim = c(1, rang_max), ylim = c(0, 500), xlab = \"Rank\", ylab = \"MSE\")\n",
    "cols <- c('deepskyblue', 'orange', 'firebrick1', 'chartreuse3');\n",
    "for (col in cols) {\n",
    "    index <- which(mat_binaire %in% c(0));\n",
    "    mat_manq <- mat_manq;\n",
    "    err <- sapply(X = 1:rang_max,\n",
    "                  FUN = function(k, A) {\n",
    "                      z <- nnmf(A, k, verbose = FALSE);\n",
    "                      \n",
    "                      mean((with(z, W%*%H)[index] - mat_dense[index])^2)\n",
    "                      },\n",
    "                  A = mat_manq);\n",
    "    invisible(lines(err, col = col, type='b', lwd = 2, cex = 1));\n",
    "    }"
   ]
  },
  {
   "cell_type": "markdown",
   "metadata": {
    "heading_collapsed": true
   },
   "source": [
    "## Partie 2.3 : Test du modèle"
   ]
  },
  {
   "cell_type": "code",
   "execution_count": null,
   "metadata": {
    "hidden": true
   },
   "outputs": [],
   "source": []
  },
  {
   "cell_type": "markdown",
   "metadata": {
    "heading_collapsed": true
   },
   "source": [
    "# Partie 3 : Sorties du modèle"
   ]
  },
  {
   "cell_type": "code",
   "execution_count": null,
   "metadata": {
    "hidden": true
   },
   "outputs": [],
   "source": []
  },
  {
   "cell_type": "markdown",
   "metadata": {
    "heading_collapsed": true
   },
   "source": [
    "# Partie 4 : Présentation des résultats"
   ]
  },
  {
   "cell_type": "code",
   "execution_count": null,
   "metadata": {
    "hidden": true
   },
   "outputs": [],
   "source": []
  }
 ],
 "metadata": {
  "kernelspec": {
   "display_name": "R",
   "language": "R",
   "name": "ir"
  },
  "language_info": {
   "codemirror_mode": "r",
   "file_extension": ".r",
   "mimetype": "text/x-r-source",
   "name": "R",
   "pygments_lexer": "r",
   "version": "3.6.3"
  },
  "toc": {
   "base_numbering": 1,
   "nav_menu": {},
   "number_sections": true,
   "sideBar": true,
   "skip_h1_title": false,
   "title_cell": "Table of Contents",
   "title_sidebar": "Contents",
   "toc_cell": false,
   "toc_position": {},
   "toc_section_display": true,
   "toc_window_display": false
  },
  "varInspector": {
   "cols": {
    "lenName": 16,
    "lenType": 16,
    "lenVar": 40
   },
   "kernels_config": {
    "python": {
     "delete_cmd_postfix": "",
     "delete_cmd_prefix": "del ",
     "library": "var_list.py",
     "varRefreshCmd": "print(var_dic_list())"
    },
    "r": {
     "delete_cmd_postfix": ") ",
     "delete_cmd_prefix": "rm(",
     "library": "var_list.r",
     "varRefreshCmd": "cat(var_dic_list()) "
    }
   },
   "oldHeight": 348.79999999999995,
   "position": {
    "height": "39.9937px",
    "left": "1814.99px",
    "right": "20px",
    "top": "201.994px",
    "width": "349.969px"
   },
   "types_to_exclude": [
    "module",
    "function",
    "builtin_function_or_method",
    "instance",
    "_Feature"
   ],
   "varInspector_section_display": "none",
   "window_display": true
  }
 },
 "nbformat": 4,
 "nbformat_minor": 4
}
