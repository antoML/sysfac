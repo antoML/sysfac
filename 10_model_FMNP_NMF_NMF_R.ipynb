{
 "cells": [
  {
   "cell_type": "markdown",
   "metadata": {},
   "source": [
    "# À propos de ce livret\n",
    "\n",
    "\n",
    "Recherches liées au développement de cette méthode : \n",
    ">Renaud Gaujoux, Cathal Seoighe (2010). **A flexible R package for nonnegative matrix factorization.**  \n",
    ">Xihui Lin, Paul C. Boutros (2020). [**Optimization and expansion of non-negative matrix factorization.**](https://www.ncbi.nlm.nih.gov/pmc/articles/PMC6945623/)\n",
    "\n",
    "La méthode implantés provient de ces sources : \n",
    ">[**Dépôt 1**](https://github.com/linxihui/NNLM) *Paquet en R*  \n",
    ">[**Exemples d'implémentation**](https://rdrr.io/cran/NNLM/f/inst/doc/Fast-And-Versatile-NMF.pdf)  *Document explicatif*\n",
    "\n",
    "\n",
    "\n",
    "**Note sur le cachier**\n",
    "- Ajouter la recherche du rang \n",
    "- Modulariser les éléments\n"
   ]
  },
  {
   "cell_type": "markdown",
   "metadata": {},
   "source": [
    "## Préparation pour l'utilisation"
   ]
  },
  {
   "cell_type": "raw",
   "metadata": {
    "ExecuteTime": {
     "end_time": "2020-06-09T14:19:44.747575Z",
     "start_time": "2020-06-09T14:19:29.819Z"
    }
   },
   "source": [
    "pac = c(\"devtools\", \"R.matlab\")\n",
    "\n",
    "new_pac <- pac[!(pac %in% installed.packages()[,\"Package\"])]\n",
    "if(length(new_pac)) \n",
    "    install.packages(new_pac, dependencies = TRUE)\n",
    "\n",
    "if (install_NNLM == TRUE) {\n",
    "    library(devtools)\n",
    "    install_github('linxihui/NNLM')  \n",
    "}"
   ]
  },
  {
   "cell_type": "code",
   "execution_count": 1,
   "metadata": {
    "ExecuteTime": {
     "end_time": "2020-06-12T00:03:17.860524Z",
     "start_time": "2020-06-12T00:03:12.164Z"
    }
   },
   "outputs": [
    {
     "name": "stderr",
     "output_type": "stream",
     "text": [
      "R.matlab v3.6.2 (2018-09-26) successfully loaded. See ?R.matlab for help.\n",
      "\n",
      "\n",
      "Attaching package: 'R.matlab'\n",
      "\n",
      "\n",
      "The following objects are masked from 'package:base':\n",
      "\n",
      "    getOption, isOpen\n",
      "\n",
      "\n"
     ]
    }
   ],
   "source": [
    "# Chargement des données\n",
    "library(R.matlab)\n",
    "\n",
    "# Algorithme NNLM\n",
    "library(NNLM)"
   ]
  },
  {
   "cell_type": "code",
   "execution_count": 2,
   "metadata": {
    "ExecuteTime": {
     "end_time": "2020-06-12T00:03:17.895436Z",
     "start_time": "2020-06-12T00:03:12.368Z"
    }
   },
   "outputs": [],
   "source": [
    "setwd(\"C:/Users/amass/OneDrive/02_Education/02_Maitrise/Cours/PROJET_MAITRISE/application\")"
   ]
  },
  {
   "cell_type": "markdown",
   "metadata": {},
   "source": [
    "# Données"
   ]
  },
  {
   "cell_type": "markdown",
   "metadata": {},
   "source": [
    "## Chargement des données"
   ]
  },
  {
   "cell_type": "code",
   "execution_count": 3,
   "metadata": {
    "ExecuteTime": {
     "end_time": "2020-06-12T00:03:24.095661Z",
     "start_time": "2020-06-12T00:03:22.835Z"
    }
   },
   "outputs": [
    {
     "data": {
      "text/html": [
       "<style>\n",
       ".list-inline {list-style: none; margin:0; padding: 0}\n",
       ".list-inline>li {display: inline-block}\n",
       ".list-inline>li:not(:last-child)::after {content: \"\\00b7\"; padding: 0 .5ex}\n",
       "</style>\n",
       "<ol class=list-inline><li>214</li><li>61</li><li>144</li></ol>\n"
      ],
      "text/latex": [
       "\\begin{enumerate*}\n",
       "\\item 214\n",
       "\\item 61\n",
       "\\item 144\n",
       "\\end{enumerate*}\n"
      ],
      "text/markdown": [
       "1. 214\n",
       "2. 61\n",
       "3. 144\n",
       "\n",
       "\n"
      ],
      "text/plain": [
       "[1] 214  61 144"
      ]
     },
     "metadata": {},
     "output_type": "display_data"
    },
    {
     "data": {
      "text/html": [
       "<style>\n",
       ".list-inline {list-style: none; margin:0; padding: 0}\n",
       ".list-inline>li {display: inline-block}\n",
       ".list-inline>li:not(:last-child)::after {content: \"\\00b7\"; padding: 0 .5ex}\n",
       "</style>\n",
       "<ol class=list-inline><li>214</li><li>61</li></ol>\n"
      ],
      "text/latex": [
       "\\begin{enumerate*}\n",
       "\\item 214\n",
       "\\item 61\n",
       "\\end{enumerate*}\n"
      ],
      "text/markdown": [
       "1. 214\n",
       "2. 61\n",
       "\n",
       "\n"
      ],
      "text/plain": [
       "[1] 214  61"
      ]
     },
     "metadata": {},
     "output_type": "display_data"
    },
    {
     "data": {
      "text/html": [
       "<style>\n",
       ".list-inline {list-style: none; margin:0; padding: 0}\n",
       ".list-inline>li {display: inline-block}\n",
       ".list-inline>li:not(:last-child)::after {content: \"\\00b7\"; padding: 0 .5ex}\n",
       "</style>\n",
       "<ol class=list-inline><li>214</li><li>61</li><li>144</li></ol>\n"
      ],
      "text/latex": [
       "\\begin{enumerate*}\n",
       "\\item 214\n",
       "\\item 61\n",
       "\\item 144\n",
       "\\end{enumerate*}\n"
      ],
      "text/markdown": [
       "1. 214\n",
       "2. 61\n",
       "3. 144\n",
       "\n",
       "\n"
      ],
      "text/plain": [
       "[1] 214  61 144"
      ]
     },
     "metadata": {},
     "output_type": "display_data"
    }
   ],
   "source": [
    "# Tenseur de données\n",
    "tensor <- readMat(\"data/Guangzhou-data-set/tensor.mat\")\n",
    "tensor <- tensor$tensor # Prendre l'array \n",
    "dim(tensor)\n",
    "\n",
    "# Matrice de données aléatoires\n",
    "random_matrix <- readMat(\"data/Guangzhou-data-set/random_matrix.mat\")\n",
    "random_matrix <- random_matrix$random.matrix\n",
    "dim(random_matrix)\n",
    "\n",
    "# Tenseur de données aléatoires\n",
    "random_tensor <- readMat(\"data/Guangzhou-data-set/random_tensor.mat\")\n",
    "random_tensor <- random_tensor$random.tensor\n",
    "dim(random_tensor)"
   ]
  },
  {
   "cell_type": "markdown",
   "metadata": {},
   "source": [
    "## Format de données"
   ]
  },
  {
   "cell_type": "code",
   "execution_count": 4,
   "metadata": {
    "ExecuteTime": {
     "end_time": "2020-06-12T00:03:49.294991Z",
     "start_time": "2020-06-12T00:03:23.328Z"
    },
    "scrolled": true
   },
   "outputs": [
    {
     "data": {
      "text/html": [
       "<style>\n",
       ".list-inline {list-style: none; margin:0; padding: 0}\n",
       ".list-inline>li {display: inline-block}\n",
       ".list-inline>li:not(:last-child)::after {content: \"\\00b7\"; padding: 0 .5ex}\n",
       "</style>\n",
       "<ol class=list-inline><li>50</li><li>10</li><li>144</li></ol>\n"
      ],
      "text/latex": [
       "\\begin{enumerate*}\n",
       "\\item 50\n",
       "\\item 10\n",
       "\\item 144\n",
       "\\end{enumerate*}\n"
      ],
      "text/markdown": [
       "1. 50\n",
       "2. 10\n",
       "3. 144\n",
       "\n",
       "\n"
      ],
      "text/plain": [
       "[1]  50  10 144"
      ]
     },
     "metadata": {},
     "output_type": "display_data"
    },
    {
     "data": {
      "text/html": [
       "<style>\n",
       ".list-inline {list-style: none; margin:0; padding: 0}\n",
       ".list-inline>li {display: inline-block}\n",
       ".list-inline>li:not(:last-child)::after {content: \"\\00b7\"; padding: 0 .5ex}\n",
       "</style>\n",
       "<ol class=list-inline><li>50</li><li>1440</li></ol>\n"
      ],
      "text/latex": [
       "\\begin{enumerate*}\n",
       "\\item 50\n",
       "\\item 1440\n",
       "\\end{enumerate*}\n"
      ],
      "text/markdown": [
       "1. 50\n",
       "2. 1440\n",
       "\n",
       "\n"
      ],
      "text/plain": [
       "[1]   50 1440"
      ]
     },
     "metadata": {},
     "output_type": "display_data"
    }
   ],
   "source": [
    "# Indiquer si utiliser le jeu de données tronqué ou complet\n",
    "petit_donnees = TRUE\n",
    "# Indiquer si je veux travailler avec un tenseur ou une matrice\n",
    "matrice = TRUE\n",
    "\n",
    "capteurs = 50\n",
    "jours = 10\n",
    "sequences = dim(tensor)[3]   # (la séquence de temps du tenseur est pleine)\n",
    "\n",
    "# Choix de données tronquées ou complètes\n",
    "if (petit_donnees == TRUE){\n",
    "    # Si l'utilisateur choisi de travailler avec les données tronquées \n",
    "    tensor = tensor[1:capteurs, 1:jours, 1:sequences, drop = FALSE]\n",
    "    \n",
    "    random_tensor = random_tensor[1:capteurs, 1:jours, 1:sequences, drop = FALSE]\n",
    "    }\n",
    "\n",
    "# Choix de matrice ou de tenseur\n",
    "if(matrice == TRUE){\n",
    "    # Si l'utilisateur choisi de travailler avec une matrice\n",
    "    mat_dense <- array(tensor, c(dim(tensor[,,])[1], dim(tensor[,,])[2] * dim(tensor[,,])[3]))\n",
    "    }\n",
    "\n",
    "dim(tensor)\n",
    "dim(mat_dense)"
   ]
  },
  {
   "cell_type": "markdown",
   "metadata": {},
   "source": [
    "## Scénarios de manquants\n",
    "\n",
    "\n",
    "- Scénario de manquants aléatoires\n",
    "- Scénario de manquants non-aléatoires"
   ]
  },
  {
   "cell_type": "code",
   "execution_count": 5,
   "metadata": {
    "ExecuteTime": {
     "end_time": "2020-06-12T00:03:49.294991Z",
     "start_time": "2020-06-12T00:03:23.663Z"
    },
    "scrolled": true
   },
   "outputs": [
    {
     "name": "stdout",
     "output_type": "stream",
     "text": [
      "[1] \"Manquants aléatoires\"\n"
     ]
    },
    {
     "data": {
      "text/html": [
       "<table>\n",
       "<caption>A matrix: 6 × 1440 of type dbl</caption>\n",
       "<tbody>\n",
       "\t<tr><td>40.893</td><td>41.227</td><td>42.680</td><td> 0.000</td><td>42.804</td><td>40.020</td><td> 0.000</td><td>35.357</td><td>41.097</td><td>41.821</td><td>...</td><td> 0.000</td><td>40.870</td><td> 0.000</td><td>42.295</td><td>39.082</td><td> 0.000</td><td>39.008</td><td> 0.000</td><td>39.974</td><td> 0.000</td></tr>\n",
       "\t<tr><td>50.319</td><td> 0.000</td><td>47.984</td><td>50.660</td><td>51.622</td><td>50.770</td><td>50.542</td><td>50.463</td><td>52.192</td><td> 0.000</td><td>...</td><td>51.534</td><td> 0.000</td><td>51.192</td><td>50.546</td><td>50.227</td><td>50.693</td><td>51.067</td><td> 0.000</td><td>51.232</td><td> 0.000</td></tr>\n",
       "\t<tr><td> 0.000</td><td>57.001</td><td>49.905</td><td>52.292</td><td>55.792</td><td>52.594</td><td>50.130</td><td> 0.000</td><td> 0.000</td><td>55.341</td><td>...</td><td>53.983</td><td>50.571</td><td>52.489</td><td>55.382</td><td>54.422</td><td> 0.000</td><td>52.618</td><td> 0.000</td><td>53.334</td><td>52.322</td></tr>\n",
       "\t<tr><td>37.305</td><td> 0.000</td><td>37.195</td><td> 0.000</td><td> 0.000</td><td>33.248</td><td>31.593</td><td>38.236</td><td>34.700</td><td> 0.000</td><td>...</td><td>36.883</td><td> 0.000</td><td>37.362</td><td>34.821</td><td> 0.000</td><td>32.957</td><td> 0.000</td><td>34.647</td><td>34.758</td><td>37.017</td></tr>\n",
       "\t<tr><td>38.388</td><td>39.534</td><td>35.762</td><td>36.393</td><td>36.625</td><td>37.164</td><td>34.079</td><td> 0.000</td><td>37.764</td><td> 0.000</td><td>...</td><td>37.508</td><td>35.285</td><td>37.175</td><td>37.707</td><td>36.642</td><td>34.773</td><td>37.572</td><td>36.967</td><td>37.361</td><td>36.306</td></tr>\n",
       "\t<tr><td> 0.000</td><td>44.112</td><td>43.173</td><td> 0.000</td><td>48.262</td><td>47.250</td><td>46.281</td><td>48.180</td><td> 0.000</td><td>49.987</td><td>...</td><td>51.562</td><td>45.329</td><td>50.494</td><td>48.465</td><td>46.354</td><td>45.446</td><td>49.026</td><td>45.500</td><td>47.928</td><td>47.412</td></tr>\n",
       "</tbody>\n",
       "</table>\n"
      ],
      "text/latex": [
       "A matrix: 6 × 1440 of type dbl\n",
       "\\begin{tabular}{lllllllllllllllllllll}\n",
       "\t 40.893 & 41.227 & 42.680 &  0.000 & 42.804 & 40.020 &  0.000 & 35.357 & 41.097 & 41.821 & ... &  0.000 & 40.870 &  0.000 & 42.295 & 39.082 &  0.000 & 39.008 &  0.000 & 39.974 &  0.000\\\\\n",
       "\t 50.319 &  0.000 & 47.984 & 50.660 & 51.622 & 50.770 & 50.542 & 50.463 & 52.192 &  0.000 & ... & 51.534 &  0.000 & 51.192 & 50.546 & 50.227 & 50.693 & 51.067 &  0.000 & 51.232 &  0.000\\\\\n",
       "\t  0.000 & 57.001 & 49.905 & 52.292 & 55.792 & 52.594 & 50.130 &  0.000 &  0.000 & 55.341 & ... & 53.983 & 50.571 & 52.489 & 55.382 & 54.422 &  0.000 & 52.618 &  0.000 & 53.334 & 52.322\\\\\n",
       "\t 37.305 &  0.000 & 37.195 &  0.000 &  0.000 & 33.248 & 31.593 & 38.236 & 34.700 &  0.000 & ... & 36.883 &  0.000 & 37.362 & 34.821 &  0.000 & 32.957 &  0.000 & 34.647 & 34.758 & 37.017\\\\\n",
       "\t 38.388 & 39.534 & 35.762 & 36.393 & 36.625 & 37.164 & 34.079 &  0.000 & 37.764 &  0.000 & ... & 37.508 & 35.285 & 37.175 & 37.707 & 36.642 & 34.773 & 37.572 & 36.967 & 37.361 & 36.306\\\\\n",
       "\t  0.000 & 44.112 & 43.173 &  0.000 & 48.262 & 47.250 & 46.281 & 48.180 &  0.000 & 49.987 & ... & 51.562 & 45.329 & 50.494 & 48.465 & 46.354 & 45.446 & 49.026 & 45.500 & 47.928 & 47.412\\\\\n",
       "\\end{tabular}\n"
      ],
      "text/markdown": [
       "\n",
       "A matrix: 6 × 1440 of type dbl\n",
       "\n",
       "| 40.893 | 41.227 | 42.680 |  0.000 | 42.804 | 40.020 |  0.000 | 35.357 | 41.097 | 41.821 | ... |  0.000 | 40.870 |  0.000 | 42.295 | 39.082 |  0.000 | 39.008 |  0.000 | 39.974 |  0.000 |\n",
       "| 50.319 |  0.000 | 47.984 | 50.660 | 51.622 | 50.770 | 50.542 | 50.463 | 52.192 |  0.000 | ... | 51.534 |  0.000 | 51.192 | 50.546 | 50.227 | 50.693 | 51.067 |  0.000 | 51.232 |  0.000 |\n",
       "|  0.000 | 57.001 | 49.905 | 52.292 | 55.792 | 52.594 | 50.130 |  0.000 |  0.000 | 55.341 | ... | 53.983 | 50.571 | 52.489 | 55.382 | 54.422 |  0.000 | 52.618 |  0.000 | 53.334 | 52.322 |\n",
       "| 37.305 |  0.000 | 37.195 |  0.000 |  0.000 | 33.248 | 31.593 | 38.236 | 34.700 |  0.000 | ... | 36.883 |  0.000 | 37.362 | 34.821 |  0.000 | 32.957 |  0.000 | 34.647 | 34.758 | 37.017 |\n",
       "| 38.388 | 39.534 | 35.762 | 36.393 | 36.625 | 37.164 | 34.079 |  0.000 | 37.764 |  0.000 | ... | 37.508 | 35.285 | 37.175 | 37.707 | 36.642 | 34.773 | 37.572 | 36.967 | 37.361 | 36.306 |\n",
       "|  0.000 | 44.112 | 43.173 |  0.000 | 48.262 | 47.250 | 46.281 | 48.180 |  0.000 | 49.987 | ... | 51.562 | 45.329 | 50.494 | 48.465 | 46.354 | 45.446 | 49.026 | 45.500 | 47.928 | 47.412 |\n",
       "\n"
      ],
      "text/plain": [
       "     [,1]   [,2]   [,3]   [,4]   [,5]   [,6]   [,7]   [,8]   [,9]   [,10] \n",
       "[1,] 40.893 41.227 42.680  0.000 42.804 40.020  0.000 35.357 41.097 41.821\n",
       "[2,] 50.319  0.000 47.984 50.660 51.622 50.770 50.542 50.463 52.192  0.000\n",
       "[3,]  0.000 57.001 49.905 52.292 55.792 52.594 50.130  0.000  0.000 55.341\n",
       "[4,] 37.305  0.000 37.195  0.000  0.000 33.248 31.593 38.236 34.700  0.000\n",
       "[5,] 38.388 39.534 35.762 36.393 36.625 37.164 34.079  0.000 37.764  0.000\n",
       "[6,]  0.000 44.112 43.173  0.000 48.262 47.250 46.281 48.180  0.000 49.987\n",
       "     [,11] [,12]  [,13]  [,14]  [,15]  [,16]  [,17]  [,18]  [,19]  [,20] \n",
       "[1,] ...    0.000 40.870  0.000 42.295 39.082  0.000 39.008  0.000 39.974\n",
       "[2,] ...   51.534  0.000 51.192 50.546 50.227 50.693 51.067  0.000 51.232\n",
       "[3,] ...   53.983 50.571 52.489 55.382 54.422  0.000 52.618  0.000 53.334\n",
       "[4,] ...   36.883  0.000 37.362 34.821  0.000 32.957  0.000 34.647 34.758\n",
       "[5,] ...   37.508 35.285 37.175 37.707 36.642 34.773 37.572 36.967 37.361\n",
       "[6,] ...   51.562 45.329 50.494 48.465 46.354 45.446 49.026 45.500 47.928\n",
       "     [,21] \n",
       "[1,]  0.000\n",
       "[2,]  0.000\n",
       "[3,] 52.322\n",
       "[4,] 37.017\n",
       "[5,] 36.306\n",
       "[6,] 47.412"
      ]
     },
     "metadata": {},
     "output_type": "display_data"
    }
   ],
   "source": [
    "tx_manquant = 0.2\n",
    "manquants_aleatoires = TRUE\n",
    "\n",
    "# Manquants aléatoires\n",
    "if(manquants_aleatoires == TRUE){\n",
    "    print(\"Manquants aléatoires\")\n",
    "    mat_binaire <- round(random_tensor + 0.5 - tx_manquant)\n",
    "    mat_binaire <- array(mat_binaire, c(dim(random_tensor[,,])[1], dim(random_tensor[,,])[2] * dim(random_tensor[,,])[3])) \n",
    "    dim(mat_binaire)\n",
    "    \n",
    "        # Création de la matrice de données manquantes (element-wise)\n",
    "    mat_manq <- mat_dense * mat_binaire\n",
    "    head(mat_manq)\n",
    "}\n",
    "\n",
    "# Manquants non-aléatoires\n",
    "if(manquants_aleatoires == FALSE){\n",
    "    print(\"Manquants non-aléatoires\")\n",
    "    tens_binaire <- array(0, dim(tensor))\n",
    "    for (i1 in 1:dim(tensor)[1]){\n",
    "        for (i2 in 1:dim(tensor)[2]){\n",
    "            tens_binaire[i1, i2, ] <- round(random_matrix[i1, i2] + 0.5 - tx_manquant)\n",
    "            }\n",
    "        }\n",
    "    mat_binaire <- array(tens_binaire, c(dim(tens_binaire)[1], dim(tens_binaire)[2] * dim(tens_binaire)[3]))\n",
    "    dim(mat_binaire)\n",
    "    \n",
    "    # Création de la matrice de données manquants (element-wise)\n",
    "    mat_manq <- mat_dense * mat_binaire\n",
    "    head(mat_manq)\n",
    "    }"
   ]
  },
  {
   "cell_type": "code",
   "execution_count": 6,
   "metadata": {
    "ExecuteTime": {
     "end_time": "2020-06-12T00:03:49.857352Z",
     "start_time": "2020-06-12T00:03:23.822Z"
    }
   },
   "outputs": [],
   "source": [
    "# Création d'un index des variables == 0\n",
    "index <- which(mat_binaire %in% c(0))"
   ]
  },
  {
   "cell_type": "markdown",
   "metadata": {},
   "source": [
    "# Modélisation"
   ]
  },
  {
   "cell_type": "markdown",
   "metadata": {},
   "source": [
    "## Spécification du modèle"
   ]
  },
  {
   "cell_type": "code",
   "execution_count": 7,
   "metadata": {
    "ExecuteTime": {
     "end_time": "2020-06-12T00:03:51.521936Z",
     "start_time": "2020-06-12T00:03:24.494Z"
    }
   },
   "outputs": [],
   "source": [
    "\n",
    "# Initialisation des paramètres\n",
    "rang = 2\n",
    "\n",
    "# Algorithme NMF\n",
    "mat_manq.nmf <- NNLM::nnmf(mat_manq, k = rang)\n",
    "\n",
    "# Matrice imputée\n",
    "mat_manq.hat.nmf <- with(mat_manq.nmf, W %*% H);"
   ]
  },
  {
   "cell_type": "markdown",
   "metadata": {},
   "source": [
    "# Présentation des résultats"
   ]
  },
  {
   "cell_type": "code",
   "execution_count": 8,
   "metadata": {
    "ExecuteTime": {
     "end_time": "2020-06-12T00:03:53.477105Z",
     "start_time": "2020-06-12T00:03:25.087Z"
    }
   },
   "outputs": [
    {
     "data": {
      "text/plain": [
       "Non-negative matrix factorization:\n",
       "   Algorithm: Sequential coordinate-wise descent\n",
       "        Loss: Mean squared error\n",
       "         MSE: 249.4869\n",
       "         MKL: 6.879058\n",
       "      Target: 124.7435\n",
       "   Rel. tol.: 6.9e-05\n",
       "Total epochs: 687\n",
       "# Interation: 15\n",
       "Running time:\n",
       "   user  system elapsed \n",
       "   0.08    0.02    0.28 "
      ]
     },
     "metadata": {},
     "output_type": "display_data"
    }
   ],
   "source": [
    "# Sommaire de la manipulation\n",
    "mat_manq.nmf "
   ]
  },
  {
   "cell_type": "code",
   "execution_count": 9,
   "metadata": {
    "ExecuteTime": {
     "end_time": "2020-06-12T00:03:55.190937Z",
     "start_time": "2020-06-12T00:03:25.526Z"
    }
   },
   "outputs": [
    {
     "data": {
      "text/html": [
       "<table>\n",
       "<caption>A matrix: 2 × 1 of type dbl</caption>\n",
       "<thead>\n",
       "\t<tr><th></th><th scope=col>NMF</th></tr>\n",
       "</thead>\n",
       "<tbody>\n",
       "\t<tr><th scope=row>MSE</th><td>138.385749</td></tr>\n",
       "\t<tr><th scope=row>MKL</th><td>  2.326434</td></tr>\n",
       "</tbody>\n",
       "</table>\n"
      ],
      "text/latex": [
       "A matrix: 2 × 1 of type dbl\n",
       "\\begin{tabular}{r|l}\n",
       "  & NMF\\\\\n",
       "\\hline\n",
       "\tMSE & 138.385749\\\\\n",
       "\tMKL &   2.326434\\\\\n",
       "\\end{tabular}\n"
      ],
      "text/markdown": [
       "\n",
       "A matrix: 2 × 1 of type dbl\n",
       "\n",
       "| <!--/--> | NMF |\n",
       "|---|---|\n",
       "| MSE | 138.385749 |\n",
       "| MKL |   2.326434 |\n",
       "\n"
      ],
      "text/plain": [
       "    NMF       \n",
       "MSE 138.385749\n",
       "MKL   2.326434"
      ]
     },
     "metadata": {},
     "output_type": "display_data"
    }
   ],
   "source": [
    "# MSE et KL-divergence\n",
    "sapply(\n",
    "    X = list(\n",
    "        NMF = mat_manq.hat.nmf[index]\n",
    "        ),\n",
    "    FUN = mse.mkl,\n",
    "    obs = mat_dense[index])"
   ]
  },
  {
   "cell_type": "code",
   "execution_count": 10,
   "metadata": {
    "ExecuteTime": {
     "end_time": "2020-06-12T00:03:57.016165Z",
     "start_time": "2020-06-12T00:03:25.862Z"
    }
   },
   "outputs": [
    {
     "data": {
      "text/html": [
       "<table>\n",
       "<caption>A matrix: 6 × 1440 of type dbl</caption>\n",
       "<tbody>\n",
       "\t<tr><td>32.04581</td><td>35.20214</td><td>30.45213</td><td>26.67824</td><td>29.54631</td><td>36.20275</td><td>38.22167</td><td>30.19457</td><td>32.07221</td><td>36.44698</td><td>...</td><td>36.16150</td><td>27.56195</td><td>33.74162</td><td>37.48141</td><td>30.33022</td><td>32.60940</td><td>33.01625</td><td>28.06604</td><td>32.42314</td><td>31.97510</td></tr>\n",
       "\t<tr><td>36.15038</td><td>38.82901</td><td>34.36282</td><td>32.58586</td><td>38.27178</td><td>40.26525</td><td>42.54177</td><td>34.05282</td><td>35.26277</td><td>40.92327</td><td>...</td><td>41.90246</td><td>31.23630</td><td>44.30701</td><td>42.04152</td><td>35.60114</td><td>35.57243</td><td>34.96103</td><td>31.14427</td><td>36.05864</td><td>34.09001</td></tr>\n",
       "\t<tr><td>40.57178</td><td>45.17130</td><td>38.54709</td><td>32.07215</td><td>34.02669</td><td>46.22779</td><td>48.78452</td><td>38.23432</td><td>41.23287</td><td>46.27528</td><td>...</td><td>45.02357</td><td>34.79638</td><td>38.44699</td><td>47.61823</td><td>37.45142</td><td>42.11573</td><td>43.36315</td><td>35.88663</td><td>41.40350</td><td>41.83737</td></tr>\n",
       "\t<tr><td>26.54313</td><td>29.57550</td><td>25.21825</td><td>20.91680</td><td>22.13094</td><td>30.25858</td><td>31.93129</td><td>25.01414</td><td>26.99981</td><td>30.27957</td><td>...</td><td>29.42638</td><td>22.76091</td><td>24.98848</td><td>31.15944</td><td>24.46517</td><td>27.58521</td><td>28.42951</td><td>23.49160</td><td>27.10090</td><td>27.42331</td></tr>\n",
       "\t<tr><td>28.45054</td><td>31.21383</td><td>27.03611</td><td>23.79508</td><td>26.44952</td><td>32.11576</td><td>33.90812</td><td>26.80659</td><td>28.43349</td><td>32.34947</td><td>...</td><td>32.15344</td><td>24.47609</td><td>30.23164</td><td>33.26569</td><td>26.98860</td><td>28.89733</td><td>29.21130</td><td>24.89447</td><td>28.76270</td><td>28.30036</td></tr>\n",
       "\t<tr><td>35.56736</td><td>39.13432</td><td>33.79781</td><td>29.42987</td><td>32.43593</td><td>40.22267</td><td>42.46352</td><td>33.51336</td><td>35.66300</td><td>40.46608</td><td>...</td><td>40.05514</td><td>30.58035</td><td>36.99808</td><td>41.61770</td><td>33.56303</td><td>36.28065</td><td>36.80960</td><td>31.18761</td><td>36.02357</td><td>35.63210</td></tr>\n",
       "</tbody>\n",
       "</table>\n"
      ],
      "text/latex": [
       "A matrix: 6 × 1440 of type dbl\n",
       "\\begin{tabular}{lllllllllllllllllllll}\n",
       "\t 32.04581 & 35.20214 & 30.45213 & 26.67824 & 29.54631 & 36.20275 & 38.22167 & 30.19457 & 32.07221 & 36.44698 & ... & 36.16150 & 27.56195 & 33.74162 & 37.48141 & 30.33022 & 32.60940 & 33.01625 & 28.06604 & 32.42314 & 31.97510\\\\\n",
       "\t 36.15038 & 38.82901 & 34.36282 & 32.58586 & 38.27178 & 40.26525 & 42.54177 & 34.05282 & 35.26277 & 40.92327 & ... & 41.90246 & 31.23630 & 44.30701 & 42.04152 & 35.60114 & 35.57243 & 34.96103 & 31.14427 & 36.05864 & 34.09001\\\\\n",
       "\t 40.57178 & 45.17130 & 38.54709 & 32.07215 & 34.02669 & 46.22779 & 48.78452 & 38.23432 & 41.23287 & 46.27528 & ... & 45.02357 & 34.79638 & 38.44699 & 47.61823 & 37.45142 & 42.11573 & 43.36315 & 35.88663 & 41.40350 & 41.83737\\\\\n",
       "\t 26.54313 & 29.57550 & 25.21825 & 20.91680 & 22.13094 & 30.25858 & 31.93129 & 25.01414 & 26.99981 & 30.27957 & ... & 29.42638 & 22.76091 & 24.98848 & 31.15944 & 24.46517 & 27.58521 & 28.42951 & 23.49160 & 27.10090 & 27.42331\\\\\n",
       "\t 28.45054 & 31.21383 & 27.03611 & 23.79508 & 26.44952 & 32.11576 & 33.90812 & 26.80659 & 28.43349 & 32.34947 & ... & 32.15344 & 24.47609 & 30.23164 & 33.26569 & 26.98860 & 28.89733 & 29.21130 & 24.89447 & 28.76270 & 28.30036\\\\\n",
       "\t 35.56736 & 39.13432 & 33.79781 & 29.42987 & 32.43593 & 40.22267 & 42.46352 & 33.51336 & 35.66300 & 40.46608 & ... & 40.05514 & 30.58035 & 36.99808 & 41.61770 & 33.56303 & 36.28065 & 36.80960 & 31.18761 & 36.02357 & 35.63210\\\\\n",
       "\\end{tabular}\n"
      ],
      "text/markdown": [
       "\n",
       "A matrix: 6 × 1440 of type dbl\n",
       "\n",
       "| 32.04581 | 35.20214 | 30.45213 | 26.67824 | 29.54631 | 36.20275 | 38.22167 | 30.19457 | 32.07221 | 36.44698 | ... | 36.16150 | 27.56195 | 33.74162 | 37.48141 | 30.33022 | 32.60940 | 33.01625 | 28.06604 | 32.42314 | 31.97510 |\n",
       "| 36.15038 | 38.82901 | 34.36282 | 32.58586 | 38.27178 | 40.26525 | 42.54177 | 34.05282 | 35.26277 | 40.92327 | ... | 41.90246 | 31.23630 | 44.30701 | 42.04152 | 35.60114 | 35.57243 | 34.96103 | 31.14427 | 36.05864 | 34.09001 |\n",
       "| 40.57178 | 45.17130 | 38.54709 | 32.07215 | 34.02669 | 46.22779 | 48.78452 | 38.23432 | 41.23287 | 46.27528 | ... | 45.02357 | 34.79638 | 38.44699 | 47.61823 | 37.45142 | 42.11573 | 43.36315 | 35.88663 | 41.40350 | 41.83737 |\n",
       "| 26.54313 | 29.57550 | 25.21825 | 20.91680 | 22.13094 | 30.25858 | 31.93129 | 25.01414 | 26.99981 | 30.27957 | ... | 29.42638 | 22.76091 | 24.98848 | 31.15944 | 24.46517 | 27.58521 | 28.42951 | 23.49160 | 27.10090 | 27.42331 |\n",
       "| 28.45054 | 31.21383 | 27.03611 | 23.79508 | 26.44952 | 32.11576 | 33.90812 | 26.80659 | 28.43349 | 32.34947 | ... | 32.15344 | 24.47609 | 30.23164 | 33.26569 | 26.98860 | 28.89733 | 29.21130 | 24.89447 | 28.76270 | 28.30036 |\n",
       "| 35.56736 | 39.13432 | 33.79781 | 29.42987 | 32.43593 | 40.22267 | 42.46352 | 33.51336 | 35.66300 | 40.46608 | ... | 40.05514 | 30.58035 | 36.99808 | 41.61770 | 33.56303 | 36.28065 | 36.80960 | 31.18761 | 36.02357 | 35.63210 |\n",
       "\n"
      ],
      "text/plain": [
       "     [,1]     [,2]     [,3]     [,4]     [,5]     [,6]     [,7]     [,8]    \n",
       "[1,] 32.04581 35.20214 30.45213 26.67824 29.54631 36.20275 38.22167 30.19457\n",
       "[2,] 36.15038 38.82901 34.36282 32.58586 38.27178 40.26525 42.54177 34.05282\n",
       "[3,] 40.57178 45.17130 38.54709 32.07215 34.02669 46.22779 48.78452 38.23432\n",
       "[4,] 26.54313 29.57550 25.21825 20.91680 22.13094 30.25858 31.93129 25.01414\n",
       "[5,] 28.45054 31.21383 27.03611 23.79508 26.44952 32.11576 33.90812 26.80659\n",
       "[6,] 35.56736 39.13432 33.79781 29.42987 32.43593 40.22267 42.46352 33.51336\n",
       "     [,9]     [,10]    [,11] [,12]    [,13]    [,14]    [,15]    [,16]   \n",
       "[1,] 32.07221 36.44698 ...   36.16150 27.56195 33.74162 37.48141 30.33022\n",
       "[2,] 35.26277 40.92327 ...   41.90246 31.23630 44.30701 42.04152 35.60114\n",
       "[3,] 41.23287 46.27528 ...   45.02357 34.79638 38.44699 47.61823 37.45142\n",
       "[4,] 26.99981 30.27957 ...   29.42638 22.76091 24.98848 31.15944 24.46517\n",
       "[5,] 28.43349 32.34947 ...   32.15344 24.47609 30.23164 33.26569 26.98860\n",
       "[6,] 35.66300 40.46608 ...   40.05514 30.58035 36.99808 41.61770 33.56303\n",
       "     [,17]    [,18]    [,19]    [,20]    [,21]   \n",
       "[1,] 32.60940 33.01625 28.06604 32.42314 31.97510\n",
       "[2,] 35.57243 34.96103 31.14427 36.05864 34.09001\n",
       "[3,] 42.11573 43.36315 35.88663 41.40350 41.83737\n",
       "[4,] 27.58521 28.42951 23.49160 27.10090 27.42331\n",
       "[5,] 28.89733 29.21130 24.89447 28.76270 28.30036\n",
       "[6,] 36.28065 36.80960 31.18761 36.02357 35.63210"
      ]
     },
     "metadata": {},
     "output_type": "display_data"
    }
   ],
   "source": [
    "head(mat_manq.hat.nmf)"
   ]
  },
  {
   "cell_type": "code",
   "execution_count": null,
   "metadata": {},
   "outputs": [],
   "source": []
  }
 ],
 "metadata": {
  "kernelspec": {
   "display_name": "R",
   "language": "R",
   "name": "ir"
  },
  "toc": {
   "base_numbering": 1,
   "nav_menu": {},
   "number_sections": true,
   "sideBar": true,
   "skip_h1_title": false,
   "title_cell": "Table of Contents",
   "title_sidebar": "Contents",
   "toc_cell": false,
   "toc_position": {},
   "toc_section_display": true,
   "toc_window_display": false
  },
  "varInspector": {
   "cols": {
    "lenName": 16,
    "lenType": 16,
    "lenVar": 40
   },
   "kernels_config": {
    "python": {
     "delete_cmd_postfix": "",
     "delete_cmd_prefix": "del ",
     "library": "var_list.py",
     "varRefreshCmd": "print(var_dic_list())"
    },
    "r": {
     "delete_cmd_postfix": ") ",
     "delete_cmd_prefix": "rm(",
     "library": "var_list.r",
     "varRefreshCmd": "cat(var_dic_list()) "
    }
   },
   "oldHeight": 348.79999999999995,
   "position": {
    "height": "39.9937px",
    "left": "1814.99px",
    "right": "20px",
    "top": "201.994px",
    "width": "349.969px"
   },
   "types_to_exclude": [
    "module",
    "function",
    "builtin_function_or_method",
    "instance",
    "_Feature"
   ],
   "varInspector_section_display": "none",
   "window_display": true
  }
 },
 "nbformat": 4,
 "nbformat_minor": 4
}
