{
 "cells": [
  {
   "cell_type": "markdown",
   "metadata": {},
   "source": [
    "# À propos de ce livret\n",
    "\n",
    "\n",
    "\n",
    "Recherches liées au développement de cette méthode : \n",
    ">Hsiang-Fu Yu, Nikhil Rao, Inderjit S. Dhillon, 2016. [**Temporal regularized matrix factorization for high-dimensional time series prediction**](http://www.cs.utexas.edu/~rofuyu/papers/tr-mf-nips.pdf). 30th Conference on Neural Information Processing Systems (*NIPS 2016*), Barcelona, Spain.\n",
    "\n",
    "\n",
    "La méthode implantés provient de ces sources : \n",
    ">[**Dépôt 1**](https://github.com/xinychen/transdim) | *Version en python*\n",
    "\n",
    "\n",
    "\n",
    "**Note sur le cachier**  \n",
    "- Terminer la présentation des résultats (RMSE, MAPE)\n",
    "- Définir les variables utilisées"
   ]
  },
  {
   "cell_type": "markdown",
   "metadata": {},
   "source": [
    "## Préparation préalable à l'utilisation"
   ]
  },
  {
   "cell_type": "code",
   "execution_count": 1,
   "metadata": {
    "ExecuteTime": {
     "end_time": "2020-06-09T20:24:35.133120Z",
     "start_time": "2020-06-09T20:24:34.831566Z"
    }
   },
   "outputs": [],
   "source": [
    "# Utilités\n",
    "import os\n",
    "import numpy as np\n",
    "from numpy.linalg import inv as inv\n",
    "import time\n",
    "\n",
    "# Chargement des données\n",
    "import scipy.io\n",
    "\n",
    "# Barre de progression\n",
    "from tqdm.auto import trange\n",
    "from tqdm import tqdm_notebook, notebook\n",
    "\n",
    "# Présentation des résultats\n",
    "import matplotlib.pyplot as plt"
   ]
  },
  {
   "cell_type": "code",
   "execution_count": 2,
   "metadata": {
    "ExecuteTime": {
     "end_time": "2020-06-09T20:24:35.532949Z",
     "start_time": "2020-06-09T20:24:35.529957Z"
    }
   },
   "outputs": [],
   "source": [
    "os.chdir(\"C:/Users/amass/OneDrive/02_Education/02_Maitrise/Cours/PROJET_MAITRISE/application\")"
   ]
  },
  {
   "cell_type": "markdown",
   "metadata": {},
   "source": [
    "# Données"
   ]
  },
  {
   "cell_type": "markdown",
   "metadata": {},
   "source": [
    "## Chargement des données"
   ]
  },
  {
   "cell_type": "code",
   "execution_count": 3,
   "metadata": {
    "ExecuteTime": {
     "end_time": "2020-06-09T20:24:36.838178Z",
     "start_time": "2020-06-09T20:24:36.674604Z"
    }
   },
   "outputs": [
    {
     "name": "stdout",
     "output_type": "stream",
     "text": [
      "Tensor shape : (214, 61, 144) | Random matrix shape : (214, 61) | Random tensor shape : (214, 61, 144)\n"
     ]
    }
   ],
   "source": [
    "# Chargement du tenseur de données\n",
    "tensor = scipy.io.loadmat('data/Guangzhou-data-set/tensor.mat')\n",
    "tensor = tensor['tensor']\n",
    "\n",
    "# Chargement de la matrice aléatoire de données\n",
    "random_matrix = scipy.io.loadmat('data/Guangzhou-data-set/random_matrix.mat')\n",
    "random_matrix = random_matrix['random_matrix']\n",
    "\n",
    "# Chargement du tenseur aléatoire de données\n",
    "random_tensor = scipy.io.loadmat('data/Guangzhou-data-set/random_tensor.mat')\n",
    "random_tensor = random_tensor['random_tensor']\n",
    "\n",
    "print(\"Tensor shape : {:} | Random matrix shape : {:} | Random tensor shape : {:}\".format(tensor.shape, \n",
    "                                                                                        random_matrix.shape,\n",
    "                                                                                        random_tensor.shape))"
   ]
  },
  {
   "cell_type": "markdown",
   "metadata": {},
   "source": [
    "## Format des données"
   ]
  },
  {
   "cell_type": "code",
   "execution_count": 4,
   "metadata": {
    "ExecuteTime": {
     "end_time": "2020-06-09T20:24:37.489757Z",
     "start_time": "2020-06-09T20:24:37.482778Z"
    }
   },
   "outputs": [
    {
     "name": "stdout",
     "output_type": "stream",
     "text": [
      "The tensors shapes are : (50, 10, 144) | (50, 10, 144)\n",
      "The matrix shape is : (50, 1440)\n"
     ]
    }
   ],
   "source": [
    "petit_donnees = True\n",
    "\n",
    "# Paramètres du jeu de données tronqué\n",
    "capteurs = 50\n",
    "jours = 10\n",
    "sequences = tensor.shape[2]\n",
    "\n",
    "matrice = True\n",
    "\n",
    "if petit_donnees == True:\n",
    "    tensor = tensor[0:capteurs, 0:jours, 0:sequences]\n",
    "    \n",
    "    random_tensor = random_tensor[0:capteurs, 0:jours, 0:sequences]\n",
    "    \n",
    "\n",
    "print(\"The tensors shapes are : {:} | {:}\".format(tensor.shape, random_tensor.shape))\n",
    "\n",
    "if matrice == True:\n",
    "    dense_mat = tensor.reshape([tensor.shape[0], tensor.shape[1] * tensor.shape[2]])\n",
    "    \n",
    "    print(\"The matrix shape is : {:}\".format(dense_mat.shape))"
   ]
  },
  {
   "cell_type": "markdown",
   "metadata": {},
   "source": [
    "## Scénario de manquants"
   ]
  },
  {
   "cell_type": "code",
   "execution_count": 5,
   "metadata": {
    "ExecuteTime": {
     "end_time": "2020-06-09T20:24:38.565664Z",
     "start_time": "2020-06-09T20:24:38.554661Z"
    }
   },
   "outputs": [
    {
     "name": "stdout",
     "output_type": "stream",
     "text": [
      "Random missing (RM) scenario\n",
      "\n",
      "Binary matrix shape : (50, 1440)\n"
     ]
    }
   ],
   "source": [
    "missing_rate = 0.4\n",
    "\n",
    "random_missing = True\n",
    "\n",
    "# Revoir le code pour que les deux choix puissent être respectés sur l'ensemble des matrices/ tenseurs\n",
    "if random_missing == True:\n",
    "    print(\"Random missing (RM) scenario\")\n",
    "    binary_mat = (np.round(random_tensor + 0.5 - missing_rate)\n",
    "                  .reshape([random_tensor.shape[0], random_tensor.shape[1] * random_tensor.shape[2]]))\n",
    "    print(\"\\nBinary matrix shape : {:}\".format(binary_mat.shape))\n",
    "else:\n",
    "    print(\"Non-random missing (NM) scenario\")\n",
    "    binary_tensor = np.zeros(tensor.shape)\n",
    "    for i1 in range(tensor.shape[0]):\n",
    "        for i2 in range(tensor.shape[1]):\n",
    "            binary_tensor[i1, i2, :] = np.round(random_matrix[i1, i2] + 0.5 - missing_rate)\n",
    "    binary_mat = binary_tensor.reshape([binary_tensor.shape[0], binary_tensor.shape[1] * binary_tensor.shape[2]])\n",
    "    print(\"\\nBinary matrix shape : {:}\".format(binary_mat.shape))\n",
    "\n",
    "sparse_mat = np.multiply(dense_mat, binary_mat)"
   ]
  },
  {
   "cell_type": "markdown",
   "metadata": {},
   "source": [
    "# Partie 2 : Modèle"
   ]
  },
  {
   "cell_type": "markdown",
   "metadata": {},
   "source": [
    "## Partie 2.1 : Spécification du modèle"
   ]
  },
  {
   "cell_type": "code",
   "execution_count": 9,
   "metadata": {
    "ExecuteTime": {
     "end_time": "2020-06-09T20:26:39.707512Z",
     "start_time": "2020-06-09T20:26:39.672574Z"
    }
   },
   "outputs": [],
   "source": [
    "def TRMF(dense_mat, sparse_mat, init_para, init_hyper, time_lags, maxiter):\n",
    "    \"\"\"\n",
    "    Temporal Regularized Matrix Factorization, TRMF.\n",
    "    \n",
    "    Paramètres en entrée :\n",
    "        dense_mat\n",
    "        sparse_mat\n",
    "        init_para\n",
    "        init_hyper\n",
    "        time_lags\n",
    "        maxiter\n",
    "    \n",
    "    \n",
    "    Paramètres en sortie : \n",
    "        mat_hat : Matrice imputée\n",
    "        mape : MAPe\n",
    "        rmse : Erreur au carré\n",
    "    \n",
    "    \n",
    "    \"\"\"\n",
    "    # Variables bidons pour la présentation des résultats\n",
    "    lrmse = []\n",
    "    lmape = []\n",
    "    \n",
    "    ## Initialize parameters\n",
    "    W = init_para[\"W\"]\n",
    "    X = init_para[\"X\"]\n",
    "    theta = init_para[\"theta\"]\n",
    "    \n",
    "    ## Set hyperparameters\n",
    "    lambda_w = init_hyper[\"lambda_w\"]\n",
    "    lambda_x = init_hyper[\"lambda_x\"]\n",
    "    lambda_theta = init_hyper[\"lambda_theta\"]\n",
    "    eta = init_hyper[\"eta\"]\n",
    "    \n",
    "    dim1, dim2 = sparse_mat.shape\n",
    "    pos_train = np.where(sparse_mat != 0)\n",
    "    pos_test = np.where((dense_mat != 0) & (sparse_mat == 0))\n",
    "    binary_mat = sparse_mat.copy()\n",
    "    binary_mat[pos_train] = 1\n",
    "    d, rank = theta.shape\n",
    "    \n",
    "    for it in notebook.tqdm(range(maxiter), desc = \"Itérations\"):\n",
    "        ## Update spatial matrix W\n",
    "        for i in notebook.tqdm(range(dim1), desc = \"Mise à jour W\"):\n",
    "            pos0 = np.where(sparse_mat[i, :] != 0)\n",
    "            Xt = X[pos0[0], :]\n",
    "            vec0 = np.matmul(Xt.T, sparse_mat[i, pos0[0]])\n",
    "            mat0 = inv(np.matmul(Xt.T, Xt) + lambda_w * np.eye(rank))\n",
    "            W[i, :] = np.matmul(mat0, vec0)\n",
    "        ## Update temporal matrix X\n",
    "        for t in notebook.tqdm(range(dim2), desc = \"Mise à jour X\"):\n",
    "            pos0 = np.where(sparse_mat[:, t] != 0)\n",
    "            Wt = W[pos0[0], :]\n",
    "            Mt = np.zeros((rank, rank))\n",
    "            Nt = np.zeros(rank)\n",
    "            if t < np.max(time_lags):\n",
    "                Pt = np.zeros((rank, rank))\n",
    "                Qt = np.zeros(rank)\n",
    "            else:\n",
    "                Pt = np.eye(rank)\n",
    "                Qt = np.einsum('ij, ij -> j', theta, X[t - time_lags, :])\n",
    "            if t < dim2 - np.min(time_lags):\n",
    "                if t >= np.max(time_lags) and t < dim2 - np.max(time_lags):\n",
    "                    index = list(range(0, d))\n",
    "                else:\n",
    "                    index = list(np.where((t + time_lags >= np.max(time_lags)) & (t + time_lags < dim2)))[0]\n",
    "                for k in index:\n",
    "                    Ak = theta[k, :]\n",
    "                    Mt += np.diag(Ak ** 2)\n",
    "                    theta0 = theta.copy()\n",
    "                    theta0[k, :] = 0\n",
    "                    Nt += np.multiply(Ak, X[t + time_lags[k], :]\n",
    "                                      - np.einsum('ij, ij -> j', theta0, X[t + time_lags[k] - time_lags, :]))\n",
    "            vec0 = np.matmul(Wt.T, sparse_mat[pos0[0], t]) + lambda_x * Nt + lambda_x * Qt\n",
    "            mat0 = inv(np.matmul(Wt.T, Wt) + lambda_x * Mt + lambda_x * Pt)\n",
    "            X[t, :] = np.matmul(mat0, vec0)\n",
    "        ## Update AR coefficients theta\n",
    "        for k in notebook.tqdm(range(d), desc = \"Mise à jour AR coefficients theta\"):\n",
    "            theta0 = theta.copy()\n",
    "            theta0[k, :] = 0\n",
    "            mat0 = np.zeros((dim2 - np.max(time_lags), rank))\n",
    "            for L in range(d):\n",
    "                mat0 += np.matmul(X[np.max(time_lags) - time_lags[L] : dim2 - time_lags[L] , :], \n",
    "                                  np.diag(theta0[L, :]))\n",
    "            VarPi = X[np.max(time_lags) : dim2, :] - mat0\n",
    "            var1 = np.zeros((rank, rank))\n",
    "            var2 = np.zeros(rank)\n",
    "            for t in range(np.max(time_lags), dim2):\n",
    "                B = X[t - time_lags[k], :]\n",
    "                var1 += np.diag(np.multiply(B, B))\n",
    "                var2 += np.matmul(np.diag(B), VarPi[t - np.max(time_lags), :])\n",
    "            theta[k, :] = np.matmul(inv(var1 + lambda_theta * np.eye(rank) / lambda_x), var2)\n",
    "        \n",
    "        # Matrice imputée\n",
    "        mat_hat = np.matmul(W, X.T)\n",
    "        \n",
    "        # Performance du modèle\n",
    "        mape = np.sum(np.abs(dense_mat[pos_test] - mat_hat[pos_test]) \n",
    "                      / dense_mat[pos_test]) / dense_mat[pos_test].shape[0]\n",
    "        rmse = np.sqrt(np.sum((dense_mat[pos_test] - mat_hat[pos_test]) ** 2)/dense_mat[pos_test].shape[0])\n",
    "        \n",
    "            # Mise en liste pour la visualisation\n",
    "        lmape.append(mape)\n",
    "        lrmse.append(rmse)\n",
    "        \n",
    "        \n",
    "        if (it + 1) % 50 == 0: #200 == 0:\n",
    "            print('Iter: {}'.format(it + 1))\n",
    "            print('Imputation MAPE: {:.6}'.format(mape))\n",
    "            print('Imputation RMSE: {:.6}'.format(rmse))\n",
    "            print()\n",
    "            \n",
    "    return mat_hat, mape, rmse, lmape, lrmse"
   ]
  },
  {
   "cell_type": "markdown",
   "metadata": {},
   "source": [
    "## Entrainement du modèle"
   ]
  },
  {
   "cell_type": "code",
   "execution_count": 11,
   "metadata": {
    "ExecuteTime": {
     "end_time": "2020-06-09T20:27:03.281994Z",
     "start_time": "2020-06-09T20:26:57.147213Z"
    }
   },
   "outputs": [
    {
     "data": {
      "application/vnd.jupyter.widget-view+json": {
       "model_id": "26cec531b6fb45a0b291834be7495f89",
       "version_major": 2,
       "version_minor": 0
      },
      "text/plain": [
       "HBox(children=(FloatProgress(value=0.0, description='Itérations', max=2.0, style=ProgressStyle(description_wid…"
      ]
     },
     "metadata": {},
     "output_type": "display_data"
    },
    {
     "data": {
      "application/vnd.jupyter.widget-view+json": {
       "model_id": "ed33827cd56f454e81db03d330b54616",
       "version_major": 2,
       "version_minor": 0
      },
      "text/plain": [
       "HBox(children=(FloatProgress(value=0.0, description='Mise à jour W', max=50.0, style=ProgressStyle(description…"
      ]
     },
     "metadata": {},
     "output_type": "display_data"
    },
    {
     "name": "stdout",
     "output_type": "stream",
     "text": [
      "\n"
     ]
    },
    {
     "data": {
      "application/vnd.jupyter.widget-view+json": {
       "model_id": "b74dc12c45574e58b2aced7c3aa36113",
       "version_major": 2,
       "version_minor": 0
      },
      "text/plain": [
       "HBox(children=(FloatProgress(value=0.0, description='Mise à jour X', max=1440.0, style=ProgressStyle(descripti…"
      ]
     },
     "metadata": {},
     "output_type": "display_data"
    },
    {
     "name": "stdout",
     "output_type": "stream",
     "text": [
      "\n"
     ]
    },
    {
     "data": {
      "application/vnd.jupyter.widget-view+json": {
       "model_id": "3b79424e900a424c85e09d62d521fd8b",
       "version_major": 2,
       "version_minor": 0
      },
      "text/plain": [
       "HBox(children=(FloatProgress(value=0.0, description='Mise à jour AR coefficients theta', max=3.0, style=Progre…"
      ]
     },
     "metadata": {},
     "output_type": "display_data"
    },
    {
     "name": "stdout",
     "output_type": "stream",
     "text": [
      "\n"
     ]
    },
    {
     "data": {
      "application/vnd.jupyter.widget-view+json": {
       "model_id": "3ea2279b6929466ab34fdfe49ae304c8",
       "version_major": 2,
       "version_minor": 0
      },
      "text/plain": [
       "HBox(children=(FloatProgress(value=0.0, description='Mise à jour W', max=50.0, style=ProgressStyle(description…"
      ]
     },
     "metadata": {},
     "output_type": "display_data"
    },
    {
     "name": "stdout",
     "output_type": "stream",
     "text": [
      "\n"
     ]
    },
    {
     "data": {
      "application/vnd.jupyter.widget-view+json": {
       "model_id": "aec69385470f4e02878a470a1820c879",
       "version_major": 2,
       "version_minor": 0
      },
      "text/plain": [
       "HBox(children=(FloatProgress(value=0.0, description='Mise à jour X', max=1440.0, style=ProgressStyle(descripti…"
      ]
     },
     "metadata": {},
     "output_type": "display_data"
    },
    {
     "name": "stdout",
     "output_type": "stream",
     "text": [
      "\n"
     ]
    },
    {
     "data": {
      "application/vnd.jupyter.widget-view+json": {
       "model_id": "6fb3012e97ac44b79bf3067a90b4dfbd",
       "version_major": 2,
       "version_minor": 0
      },
      "text/plain": [
       "HBox(children=(FloatProgress(value=0.0, description='Mise à jour AR coefficients theta', max=3.0, style=Progre…"
      ]
     },
     "metadata": {},
     "output_type": "display_data"
    },
    {
     "name": "stdout",
     "output_type": "stream",
     "text": [
      "\n",
      "\n"
     ]
    }
   ],
   "source": [
    "## Initialize parameters\n",
    "dim1, dim2 = sparse_mat.shape\n",
    "rank = 80\n",
    "time_lags = np.array([1, 2, 144])\n",
    "d = time_lags.shape[0]\n",
    "\n",
    "    ## Formation des données\n",
    "W = 0.1 * np.random.rand(dim1, rank)\n",
    "X = 0.1 * np.random.rand(dim2, rank)\n",
    "theta = 0.1 * np.random.rand(d, rank)\n",
    "init_para = {\"W\": W, \"X\": X, \"theta\": theta}\n",
    "\n",
    "## Set hyparameters\n",
    "lambda_w = 500\n",
    "lambda_x = 500\n",
    "lambda_theta = 500\n",
    "eta = 0.03\n",
    "init_hyper = {\"lambda_w\": lambda_w, \"lambda_x\": lambda_x, \"lambda_theta\": lambda_theta, \"eta\": eta}\n",
    "\n",
    "# Modèle\n",
    "maxiter = 2\n",
    "\n",
    "mat_hat, mape, rmse, lmape, lrmse = TRMF(dense_mat, sparse_mat, init_para, init_hyper, time_lags, maxiter)"
   ]
  },
  {
   "cell_type": "markdown",
   "metadata": {},
   "source": [
    "# Présentation des résultats"
   ]
  },
  {
   "cell_type": "code",
   "execution_count": 8,
   "metadata": {
    "ExecuteTime": {
     "end_time": "2020-06-09T20:24:45.807070Z",
     "start_time": "2020-06-09T20:24:45.803082Z"
    }
   },
   "outputs": [
    {
     "name": "stdout",
     "output_type": "stream",
     "text": [
      "Imputation MAPE: 0.142253\n",
      "Imputation RMSE: 5.61257\n"
     ]
    }
   ],
   "source": [
    "print('Imputation MAPE final: {:.6}'.format(mape))\n",
    "print('Imputation RMSE final: {:.6}'.format(rmse))"
   ]
  },
  {
   "cell_type": "code",
   "execution_count": 12,
   "metadata": {
    "ExecuteTime": {
     "end_time": "2020-06-09T20:27:08.755337Z",
     "start_time": "2020-06-09T20:27:08.750353Z"
    }
   },
   "outputs": [
    {
     "data": {
      "text/plain": [
       "[0.145912847737064, 0.14191055340811062]"
      ]
     },
     "execution_count": 12,
     "metadata": {},
     "output_type": "execute_result"
    }
   ],
   "source": [
    "lmape"
   ]
  },
  {
   "cell_type": "code",
   "execution_count": 13,
   "metadata": {
    "ExecuteTime": {
     "end_time": "2020-06-09T20:27:14.900740Z",
     "start_time": "2020-06-09T20:27:14.885115Z"
    }
   },
   "outputs": [
    {
     "data": {
      "text/plain": [
       "[5.6981162571977695, 5.567616476312645]"
      ]
     },
     "execution_count": 13,
     "metadata": {},
     "output_type": "execute_result"
    }
   ],
   "source": [
    "lrmse"
   ]
  }
 ],
 "metadata": {
  "kernelspec": {
   "display_name": "Python 3",
   "language": "python",
   "name": "python3"
  },
  "language_info": {
   "codemirror_mode": {
    "name": "ipython",
    "version": 3
   },
   "file_extension": ".py",
   "mimetype": "text/x-python",
   "name": "python",
   "nbconvert_exporter": "python",
   "pygments_lexer": "ipython3",
   "version": "3.7.7"
  },
  "toc": {
   "base_numbering": 1,
   "nav_menu": {},
   "number_sections": true,
   "sideBar": true,
   "skip_h1_title": false,
   "title_cell": "Table of Contents",
   "title_sidebar": "Contents",
   "toc_cell": false,
   "toc_position": {},
   "toc_section_display": true,
   "toc_window_display": false
  },
  "varInspector": {
   "cols": {
    "lenName": 16,
    "lenType": 16,
    "lenVar": 40
   },
   "kernels_config": {
    "python": {
     "delete_cmd_postfix": "",
     "delete_cmd_prefix": "del ",
     "library": "var_list.py",
     "varRefreshCmd": "print(var_dic_list())"
    },
    "r": {
     "delete_cmd_postfix": ") ",
     "delete_cmd_prefix": "rm(",
     "library": "var_list.r",
     "varRefreshCmd": "cat(var_dic_list()) "
    }
   },
   "types_to_exclude": [
    "module",
    "function",
    "builtin_function_or_method",
    "instance",
    "_Feature"
   ],
   "window_display": false
  }
 },
 "nbformat": 4,
 "nbformat_minor": 4
}
