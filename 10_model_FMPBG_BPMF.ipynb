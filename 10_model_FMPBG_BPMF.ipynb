{
 "cells": [
  {
   "cell_type": "markdown",
   "metadata": {},
   "source": [
    "# À propos de ce livret\n",
    "\n",
    "\n",
    "\n",
    "Recherches liées au développement de cette méthode : \n",
    "> Ruslan Salakhutdinov, Andriy Mnih, 2008. [**Bayesian probabilistic matrix factorization using Markov chain Monte Carlo**](https://www.cs.toronto.edu/~amnih/papers/bpmf.pdf). \n",
    ">Proceedings of the 25th International Conference on Machine Learning (*ICML 2008*), Helsinki, Finland. [[Matlab code (official)](https://www.cs.toronto.edu/~rsalakhu/BPMF.html)]\n",
    "\n",
    "\n",
    "La méthode implantés provient de ces sources : \n",
    ">[**Dépôt 1**](https://github.com/xinychen/transdim) *version python*  \n",
    "\n",
    "\n",
    "\n",
    "**Note sur le cachier**\n",
    "\n",
    "- Ajouter le diagnostique de la chaine de markov (voir tuto datacamp RJAGS)\n",
    "- Faire une liste des différents rangs pour évaluer si le modèle s'améliore (hyperparameters tuning)\n",
    "- Faire une liste de différents cas de manquants (0.2, 0.4, 0.5, etc.)\n",
    "- Trouver un moyen d'optimiser le code, d'améliorer le temps computationnel (200 itérations prennent plus de 20 minutes...)"
   ]
  },
  {
   "cell_type": "markdown",
   "metadata": {},
   "source": [
    "## Préparation préalable à l'utilisation"
   ]
  },
  {
   "cell_type": "code",
   "execution_count": 1,
   "metadata": {
    "ExecuteTime": {
     "end_time": "2020-06-09T20:51:14.466340Z",
     "start_time": "2020-06-09T20:51:03.795451Z"
    }
   },
   "outputs": [],
   "source": [
    "# Utilités\n",
    "import os\n",
    "import numpy as np\n",
    "from numpy.random import multivariate_normal as mvnrnd\n",
    "from scipy.stats import wishart\n",
    "from numpy.linalg import inv as inv\n",
    "import time\n",
    "\n",
    "# Chargement des données\n",
    "import scipy.io\n",
    "\n",
    "# Barre de progression\n",
    "from tqdm.auto import trange\n",
    "from tqdm import tqdm_notebook, notebook\n",
    "\n",
    "# Présentation des résultats\n",
    "import matplotlib.pyplot as plt"
   ]
  },
  {
   "cell_type": "code",
   "execution_count": 2,
   "metadata": {
    "ExecuteTime": {
     "end_time": "2020-06-09T20:51:17.065000Z",
     "start_time": "2020-06-09T20:51:17.061978Z"
    }
   },
   "outputs": [],
   "source": [
    "os.chdir(\"C:/Users/amass/OneDrive/02_Education/02_Maitrise/Cours/PROJET_MAITRISE/application\")"
   ]
  },
  {
   "cell_type": "markdown",
   "metadata": {},
   "source": [
    "# Données"
   ]
  },
  {
   "cell_type": "markdown",
   "metadata": {},
   "source": [
    "## Chargement des données"
   ]
  },
  {
   "cell_type": "code",
   "execution_count": 3,
   "metadata": {
    "ExecuteTime": {
     "end_time": "2020-06-09T20:51:18.801198Z",
     "start_time": "2020-06-09T20:51:18.635943Z"
    }
   },
   "outputs": [
    {
     "name": "stdout",
     "output_type": "stream",
     "text": [
      "Tensor shape : (214, 61, 144) | Random matrix shape : (214, 61) | Random tensor shape : (214, 61, 144)\n"
     ]
    }
   ],
   "source": [
    "# Chargement du tenseur de données\n",
    "tensor = scipy.io.loadmat('data/Guangzhou-data-set/tensor.mat')\n",
    "tensor = tensor['tensor']\n",
    "\n",
    "# Chargement de la matrice aléatoire de données\n",
    "random_matrix = scipy.io.loadmat('data/Guangzhou-data-set/random_matrix.mat')\n",
    "random_matrix = random_matrix['random_matrix']\n",
    "\n",
    "# Chargement du tenseur aléatoire de données\n",
    "random_tensor = scipy.io.loadmat('data/Guangzhou-data-set/random_tensor.mat')\n",
    "random_tensor = random_tensor['random_tensor']\n",
    "\n",
    "print(\"Tensor shape : {:} | Random matrix shape : {:} | Random tensor shape : {:}\".format(tensor.shape, \n",
    "                                                                                        random_matrix.shape,\n",
    "                                                                                        random_tensor.shape))"
   ]
  },
  {
   "cell_type": "markdown",
   "metadata": {},
   "source": [
    "## Format des données"
   ]
  },
  {
   "cell_type": "code",
   "execution_count": 4,
   "metadata": {
    "ExecuteTime": {
     "end_time": "2020-06-09T20:51:21.128472Z",
     "start_time": "2020-06-09T20:51:21.121461Z"
    }
   },
   "outputs": [
    {
     "name": "stdout",
     "output_type": "stream",
     "text": [
      "The tensors shapes are : (50, 10, 144) | (50, 10, 144)\n",
      "The matrix shape is : (50, 1440)\n"
     ]
    }
   ],
   "source": [
    "petit_donnees = True\n",
    "\n",
    "# Paramètres du jeu de données tronqué\n",
    "capteurs = 50\n",
    "jours = 10\n",
    "sequences = tensor.shape[2]\n",
    "\n",
    "matrice = True\n",
    "\n",
    "if petit_donnees == True:\n",
    "    tensor = tensor[0:capteurs, 0:jours, 0:sequences]\n",
    "    \n",
    "    random_tensor = random_tensor[0:capteurs, 0:jours, 0:sequences]\n",
    "    \n",
    "\n",
    "print(\"The tensors shapes are : {:} | {:}\".format(tensor.shape, random_tensor.shape))\n",
    "\n",
    "if matrice == True:\n",
    "    dense_mat = tensor.reshape([tensor.shape[0], tensor.shape[1] * tensor.shape[2]])\n",
    "    \n",
    "    print(\"The matrix shape is : {:}\".format(dense_mat.shape))"
   ]
  },
  {
   "cell_type": "markdown",
   "metadata": {},
   "source": [
    "## Scénario de manquants"
   ]
  },
  {
   "cell_type": "code",
   "execution_count": 5,
   "metadata": {
    "ExecuteTime": {
     "end_time": "2020-06-09T20:51:22.303297Z",
     "start_time": "2020-06-09T20:51:22.290333Z"
    }
   },
   "outputs": [
    {
     "name": "stdout",
     "output_type": "stream",
     "text": [
      "Random missing (RM) scenario\n",
      "\n",
      "Binary matrix shape : (50, 1440)\n"
     ]
    }
   ],
   "source": [
    "missing_rate = 0.4\n",
    "\n",
    "random_missing = True\n",
    "\n",
    "# Revoir le code pour que les deux choix puissent être respectés sur l'ensemble des matrices/ tenseurs\n",
    "if random_missing == True:\n",
    "    print(\"Random missing (RM) scenario\")\n",
    "    binary_mat = (np.round(random_tensor + 0.5 - missing_rate)\n",
    "                  .reshape([random_tensor.shape[0], random_tensor.shape[1] * random_tensor.shape[2]]))\n",
    "    print(\"\\nBinary matrix shape : {:}\".format(binary_mat.shape))\n",
    "else:\n",
    "    print(\"Non-random missing (NM) scenario\")\n",
    "    binary_tensor = np.zeros(tensor.shape)\n",
    "    for i1 in range(tensor.shape[0]):\n",
    "        for i2 in range(tensor.shape[1]):\n",
    "            binary_tensor[i1, i2, :] = np.round(random_matrix[i1, i2] + 0.5 - missing_rate)\n",
    "    binary_mat = binary_tensor.reshape([binary_tensor.shape[0], binary_tensor.shape[1] * binary_tensor.shape[2]])\n",
    "    print(\"\\nBinary matrix shape : {:}\".format(binary_mat.shape))\n",
    "\n",
    "sparse_mat = np.multiply(dense_mat, binary_mat)"
   ]
  },
  {
   "cell_type": "markdown",
   "metadata": {},
   "source": [
    "# Modélisation"
   ]
  },
  {
   "cell_type": "markdown",
   "metadata": {},
   "source": [
    "## Calcul sur les matrices"
   ]
  },
  {
   "cell_type": "code",
   "execution_count": 6,
   "metadata": {
    "ExecuteTime": {
     "end_time": "2020-06-09T20:51:26.237431Z",
     "start_time": "2020-06-09T20:51:26.232444Z"
    }
   },
   "outputs": [],
   "source": [
    "def kr_prod(a, b):\n",
    "    \"\"\"\n",
    "    Khatri-Rao product\n",
    "    \n",
    "    Paramètres en entré\n",
    "        a : Matrice A \n",
    "        b : Matrice B\n",
    "    \n",
    "    Paramètres en sortie\n",
    "        np.einsum('ir, jr -> ijr', a, b).reshape(a.shape[0] * b.shape[0], -1) [column-wise Kronecker product]\n",
    "    \n",
    "    \n",
    "    \"\"\"\n",
    "    return np.einsum('ir, jr -> ijr', a, b).reshape(a.shape[0] * b.shape[0], -1)"
   ]
  },
  {
   "cell_type": "markdown",
   "metadata": {},
   "source": [
    "## Computing Covariance Matrix (`cov_mat`)\n",
    "\n",
    "For any matrix $X\\in\\mathbb{R}^{m\\times n}$, `cov_mat` can return a $n\\times n$ covariance matrix for special use in the following."
   ]
  },
  {
   "cell_type": "code",
   "execution_count": 7,
   "metadata": {
    "ExecuteTime": {
     "end_time": "2020-06-09T20:51:27.277337Z",
     "start_time": "2020-06-09T20:51:27.273346Z"
    }
   },
   "outputs": [],
   "source": [
    "def cov_mat(mat):\n",
    "    \"\"\"\n",
    "    Matrice de covariance\n",
    "    \n",
    "    Paramètres en entrée\n",
    "        mat :\n",
    "        \n",
    "    Paramètres en sortie\n",
    "        new_mat : \n",
    "    \n",
    "    \"\"\"\n",
    "    dim1, dim2 = mat.shape\n",
    "    new_mat = np.zeros((dim2, dim2))\n",
    "    mat_bar = np.mean(mat, axis = 0)\n",
    "    for i in range(dim1):\n",
    "        new_mat += np.einsum('i, j -> ij', mat[i, :] - mat_bar, mat[i, :] - mat_bar)\n",
    "    return new_mat"
   ]
  },
  {
   "cell_type": "markdown",
   "metadata": {},
   "source": [
    "## Bayesian Probabilistic Matrix Factorization (BPMF)\n",
    "\n"
   ]
  },
  {
   "cell_type": "code",
   "execution_count": 12,
   "metadata": {
    "ExecuteTime": {
     "end_time": "2020-06-09T20:53:23.281490Z",
     "start_time": "2020-06-09T20:53:23.254541Z"
    }
   },
   "outputs": [],
   "source": [
    "def BPMF(dense_mat, sparse_mat, init, rank, maxiter1, maxiter2):\n",
    "    \"\"\"\n",
    "    Bayesian Probabilistic Matrix Factorization, BPMF.\n",
    "    \n",
    "    Paramètres en entré\n",
    "        dense_mat : Matrice sans valeurs manquantes\n",
    "        sparse_mat : Matrice avec des valeurs manquantes\n",
    "        init : Init ?\n",
    "        rank : Rang des matrices latentes\n",
    "        maxiter1 : Nombre d'itérations maximaux (pourquoi 1 ?)\n",
    "        maxiter2 : Nombre d'itération maximal (pourquoi 2 ?)\n",
    "    \n",
    "    Paramètres en sortie \n",
    "        mat_hat : Matrice imputée \n",
    "        W : Facteur latent W\n",
    "        X : Facteur latent X\n",
    "        lrmse : Liste des rmse\n",
    "        lmape : Liste des mape\n",
    "    \n",
    "    \n",
    "    \n",
    "    \"\"\"\n",
    "    # Variables bidons pour la présentation\n",
    "    lrmse = []\n",
    "    lmape = []\n",
    "    \n",
    "    \n",
    "    \n",
    "    # Initialisation des paramètres\n",
    "    W = init[\"W\"]\n",
    "    X = init[\"X\"]\n",
    "    \n",
    "    dim1, dim2 = sparse_mat.shape\n",
    "    dim = np.array([dim1, dim2])\n",
    "    pos = np.where((dense_mat != 0) & (sparse_mat == 0))\n",
    "    position = np.where(sparse_mat != 0)\n",
    "    binary_mat = np.zeros((dim1, dim2))\n",
    "    binary_mat[position] = 1\n",
    "    \n",
    "    beta0 = 1\n",
    "    nu0 = rank\n",
    "    mu0 = np.zeros((rank))\n",
    "    W0 = np.eye(rank)\n",
    "    tau = 1\n",
    "    alpha = 1e-6\n",
    "    beta = 1e-6\n",
    "    \n",
    "    W_plus = np.zeros((dim1, rank))\n",
    "    X_plus = np.zeros((dim2, rank))\n",
    "    mat_hat_plus = np.zeros((dim1, dim2))\n",
    "    \n",
    "    # Mise à jour des paramètres\n",
    "    for iters in notebook.tqdm(range(maxiter1), desc = \"Itérations\"):\n",
    "        # Cette partie est ? \n",
    "        for order in range(2):\n",
    "            # ?\n",
    "            if order == 0:\n",
    "                mat = W.copy()\n",
    "            elif order == 1:\n",
    "                mat = X.copy()\n",
    "            # ?\n",
    "            mat_bar = np.mean(mat, axis = 0)\n",
    "            var_mu_hyper = (dim[order] * mat_bar + beta0 * mu0)/(dim[order] + beta0)\n",
    "            var_W_hyper = inv(inv(W0) + cov_mat(mat) + dim[order] * beta0/(dim[order] + beta0)\n",
    "                             * np.outer(mat_bar - mu0, mat_bar - mu0))\n",
    "            var_Lambda_hyper = wishart(df = dim[order] + nu0, scale = var_W_hyper, seed = None).rvs()\n",
    "            var_mu_hyper = mvnrnd(var_mu_hyper, inv((dim[order] + beta0) * var_Lambda_hyper))\n",
    "            # ?\n",
    "            if order == 0:\n",
    "                var1 = X.T\n",
    "                mat0 = np.matmul(var1, sparse_mat.T)\n",
    "            elif order == 1:\n",
    "                var1 = W.T\n",
    "                mat0 = np.matmul(var1, sparse_mat)\n",
    "            var2 = kr_prod(var1, var1)\n",
    "            # ?\n",
    "            if order == 0:\n",
    "                mat1 = np.matmul(var2, binary_mat.T)\n",
    "            elif order == 1:\n",
    "                mat1 = np.matmul(var2, binary_mat)\n",
    "            # ?\n",
    "            var3 = tau * mat1.reshape(rank, rank, dim[order]) + np.dstack([var_Lambda_hyper] * dim[order])\n",
    "            var4 = tau * mat0 + np.dstack([np.matmul(var_Lambda_hyper, var_mu_hyper)] * dim[order])[0, :, :]\n",
    "            # ?\n",
    "            for i in range(dim[order]):\n",
    "                var_Lambda = var3[:, :, i]\n",
    "                inv_var_Lambda = inv((var_Lambda + var_Lambda.T)/2)\n",
    "                vec = mvnrnd(np.matmul(inv_var_Lambda, var4[:, i]), inv_var_Lambda)\n",
    "                if order == 0:\n",
    "                    W[i, :] = vec.copy()\n",
    "                elif order == 1:\n",
    "                    X[i, :] = vec.copy()\n",
    "        \n",
    "        # Mise à jour\n",
    "            # Facteurs latents (mise à jour)\n",
    "        if iters + 1 > maxiter1 - maxiter2:\n",
    "            W_plus += W\n",
    "            X_plus += X\n",
    "        \n",
    "            # Matrice pleine (mise à jour)\n",
    "        mat_hat = np.matmul(W, X.T)\n",
    "        \n",
    "            # Matrice avec les valeurs imputées (mise à jour)\n",
    "        if iters + 1 > maxiter1 - maxiter2:\n",
    "            mat_hat_plus += mat_hat\n",
    "        \n",
    "        # Calcul de l'erreur au carré (mise à jour)\n",
    "        rmse = np.sqrt(np.sum((dense_mat[pos] - mat_hat[pos]) ** 2)/dense_mat[pos].shape[0])\n",
    "        mape = np.sum(np.abs(dense_mat[pos] - mat_hat[pos])/dense_mat[pos])/dense_mat[pos].shape[0]\n",
    "        \n",
    "        lrmse.append(rmse)\n",
    "        lmape.append(mape)\n",
    "        \n",
    "        # ?\n",
    "        var_alpha = alpha + 0.5 * sparse_mat[position].shape[0]\n",
    "        error = sparse_mat - mat_hat\n",
    "        var_beta = beta + 0.5 * np.sum(error[position] ** 2)\n",
    "        tau = np.random.gamma(var_alpha, 1/var_beta)\n",
    "        \n",
    "        # Repérage\n",
    "        if (iters + 1) % 200 == 0 and iters < maxiter1 - maxiter2:\n",
    "            print('Iter: {}'.format(iters + 1))\n",
    "            print('RMSE: {:.6}'.format(rmse))\n",
    "            print()\n",
    "    \n",
    "    # ?\n",
    "    W = W_plus/maxiter2\n",
    "    X = X_plus/maxiter2\n",
    "    mat_hat = mat_hat_plus/maxiter2\n",
    "    \n",
    "    if maxiter1 >= 100:\n",
    "        final_mape = np.sum(np.abs(dense_mat[pos] - mat_hat[pos])/dense_mat[pos])/dense_mat[pos].shape[0]\n",
    "        final_rmse = np.sqrt(np.sum((dense_mat[pos] - mat_hat[pos]) ** 2)/dense_mat[pos].shape[0])\n",
    "        print('Imputation MAPE: {:.6}'.format(final_mape))\n",
    "        print('Imputation RMSE: {:.6}'.format(final_rmse))\n",
    "        print()\n",
    "    \n",
    "    return mat_hat, W, X, lrmse, lmape"
   ]
  },
  {
   "cell_type": "markdown",
   "metadata": {},
   "source": [
    "## Entrainement du modèle"
   ]
  },
  {
   "cell_type": "code",
   "execution_count": 14,
   "metadata": {
    "ExecuteTime": {
     "end_time": "2020-06-09T20:54:34.763385Z",
     "start_time": "2020-06-09T20:54:10.850667Z"
    }
   },
   "outputs": [
    {
     "data": {
      "application/vnd.jupyter.widget-view+json": {
       "model_id": "92d24035f7a6455991d8a4dc663d4707",
       "version_major": 2,
       "version_minor": 0
      },
      "text/plain": [
       "HBox(children=(FloatProgress(value=0.0, description='Itérations', max=200.0, style=ProgressStyle(description_w…"
      ]
     },
     "metadata": {},
     "output_type": "display_data"
    },
    {
     "name": "stdout",
     "output_type": "stream",
     "text": [
      "\n"
     ]
    },
    {
     "ename": "KeyboardInterrupt",
     "evalue": "",
     "output_type": "error",
     "traceback": [
      "\u001b[1;31m---------------------------------------------------------------------------\u001b[0m",
      "\u001b[1;31mKeyboardInterrupt\u001b[0m                         Traceback (most recent call last)",
      "\u001b[1;32m<ipython-input-14-501c0af58ed2>\u001b[0m in \u001b[0;36m<module>\u001b[1;34m\u001b[0m\n\u001b[0;32m      8\u001b[0m \u001b[0mmaxiter2\u001b[0m \u001b[1;33m=\u001b[0m \u001b[1;36m100\u001b[0m\u001b[1;33m\u001b[0m\u001b[1;33m\u001b[0m\u001b[0m\n\u001b[0;32m      9\u001b[0m \u001b[1;33m\u001b[0m\u001b[0m\n\u001b[1;32m---> 10\u001b[1;33m \u001b[0mmaten\u001b[0m\u001b[1;33m,\u001b[0m \u001b[0mWen\u001b[0m\u001b[1;33m,\u001b[0m \u001b[0mXen\u001b[0m\u001b[1;33m,\u001b[0m \u001b[0mlrmse\u001b[0m\u001b[1;33m,\u001b[0m \u001b[0mlmape\u001b[0m \u001b[1;33m=\u001b[0m \u001b[0mBPMF\u001b[0m\u001b[1;33m(\u001b[0m\u001b[0mdense_mat\u001b[0m\u001b[1;33m,\u001b[0m \u001b[0msparse_mat\u001b[0m\u001b[1;33m,\u001b[0m \u001b[0minit\u001b[0m\u001b[1;33m,\u001b[0m \u001b[0mrank\u001b[0m\u001b[1;33m,\u001b[0m \u001b[0mmaxiter1\u001b[0m\u001b[1;33m,\u001b[0m \u001b[0mmaxiter2\u001b[0m\u001b[1;33m)\u001b[0m\u001b[1;33m\u001b[0m\u001b[1;33m\u001b[0m\u001b[0m\n\u001b[0m",
      "\u001b[1;32m<ipython-input-12-5b107b09fb1a>\u001b[0m in \u001b[0;36mBPMF\u001b[1;34m(dense_mat, sparse_mat, init, rank, maxiter1, maxiter2)\u001b[0m\n\u001b[0;32m     86\u001b[0m                 \u001b[0mvar_Lambda\u001b[0m \u001b[1;33m=\u001b[0m \u001b[0mvar3\u001b[0m\u001b[1;33m[\u001b[0m\u001b[1;33m:\u001b[0m\u001b[1;33m,\u001b[0m \u001b[1;33m:\u001b[0m\u001b[1;33m,\u001b[0m \u001b[0mi\u001b[0m\u001b[1;33m]\u001b[0m\u001b[1;33m\u001b[0m\u001b[1;33m\u001b[0m\u001b[0m\n\u001b[0;32m     87\u001b[0m                 \u001b[0minv_var_Lambda\u001b[0m \u001b[1;33m=\u001b[0m \u001b[0minv\u001b[0m\u001b[1;33m(\u001b[0m\u001b[1;33m(\u001b[0m\u001b[0mvar_Lambda\u001b[0m \u001b[1;33m+\u001b[0m \u001b[0mvar_Lambda\u001b[0m\u001b[1;33m.\u001b[0m\u001b[0mT\u001b[0m\u001b[1;33m)\u001b[0m\u001b[1;33m/\u001b[0m\u001b[1;36m2\u001b[0m\u001b[1;33m)\u001b[0m\u001b[1;33m\u001b[0m\u001b[1;33m\u001b[0m\u001b[0m\n\u001b[1;32m---> 88\u001b[1;33m                 \u001b[0mvec\u001b[0m \u001b[1;33m=\u001b[0m \u001b[0mmvnrnd\u001b[0m\u001b[1;33m(\u001b[0m\u001b[0mnp\u001b[0m\u001b[1;33m.\u001b[0m\u001b[0mmatmul\u001b[0m\u001b[1;33m(\u001b[0m\u001b[0minv_var_Lambda\u001b[0m\u001b[1;33m,\u001b[0m \u001b[0mvar4\u001b[0m\u001b[1;33m[\u001b[0m\u001b[1;33m:\u001b[0m\u001b[1;33m,\u001b[0m \u001b[0mi\u001b[0m\u001b[1;33m]\u001b[0m\u001b[1;33m)\u001b[0m\u001b[1;33m,\u001b[0m \u001b[0minv_var_Lambda\u001b[0m\u001b[1;33m)\u001b[0m\u001b[1;33m\u001b[0m\u001b[1;33m\u001b[0m\u001b[0m\n\u001b[0m\u001b[0;32m     89\u001b[0m                 \u001b[1;32mif\u001b[0m \u001b[0morder\u001b[0m \u001b[1;33m==\u001b[0m \u001b[1;36m0\u001b[0m\u001b[1;33m:\u001b[0m\u001b[1;33m\u001b[0m\u001b[1;33m\u001b[0m\u001b[0m\n\u001b[0;32m     90\u001b[0m                     \u001b[0mW\u001b[0m\u001b[1;33m[\u001b[0m\u001b[0mi\u001b[0m\u001b[1;33m,\u001b[0m \u001b[1;33m:\u001b[0m\u001b[1;33m]\u001b[0m \u001b[1;33m=\u001b[0m \u001b[0mvec\u001b[0m\u001b[1;33m.\u001b[0m\u001b[0mcopy\u001b[0m\u001b[1;33m(\u001b[0m\u001b[1;33m)\u001b[0m\u001b[1;33m\u001b[0m\u001b[1;33m\u001b[0m\u001b[0m\n",
      "\u001b[1;32mmtrand.pyx\u001b[0m in \u001b[0;36mnumpy.random.mtrand.RandomState.multivariate_normal\u001b[1;34m()\u001b[0m\n",
      "\u001b[1;32m<__array_function__ internals>\u001b[0m in \u001b[0;36mdot\u001b[1;34m(*args, **kwargs)\u001b[0m\n",
      "\u001b[1;31mKeyboardInterrupt\u001b[0m: "
     ]
    }
   ],
   "source": [
    "# Initialisation des paramètres\n",
    "dim1, dim2 = sparse_mat.shape\n",
    "rank = 80\n",
    "np.random.seed(0)\n",
    "init = {\"W\": 0.1 * np.random.rand(dim1, rank), \n",
    "        \"X\": 0.1 * np.random.rand(dim2, rank)}\n",
    "maxiter1 = 200\n",
    "maxiter2 = 100\n",
    "\n",
    "maten, Wen, Xen, lrmse, lmape = BPMF(dense_mat, sparse_mat, init, rank, maxiter1, maxiter2)"
   ]
  },
  {
   "cell_type": "code",
   "execution_count": null,
   "metadata": {},
   "outputs": [],
   "source": []
  }
 ],
 "metadata": {
  "kernelspec": {
   "display_name": "Python 3",
   "language": "python",
   "name": "python3"
  },
  "language_info": {
   "codemirror_mode": {
    "name": "ipython",
    "version": 3
   },
   "file_extension": ".py",
   "mimetype": "text/x-python",
   "name": "python",
   "nbconvert_exporter": "python",
   "pygments_lexer": "ipython3",
   "version": "3.7.7"
  },
  "toc": {
   "base_numbering": 1,
   "nav_menu": {},
   "number_sections": true,
   "sideBar": true,
   "skip_h1_title": false,
   "title_cell": "Table of Contents",
   "title_sidebar": "Contents",
   "toc_cell": false,
   "toc_position": {},
   "toc_section_display": true,
   "toc_window_display": false
  },
  "varInspector": {
   "cols": {
    "lenName": 16,
    "lenType": 16,
    "lenVar": 40
   },
   "kernels_config": {
    "python": {
     "delete_cmd_postfix": "",
     "delete_cmd_prefix": "del ",
     "library": "var_list.py",
     "varRefreshCmd": "print(var_dic_list())"
    },
    "r": {
     "delete_cmd_postfix": ") ",
     "delete_cmd_prefix": "rm(",
     "library": "var_list.r",
     "varRefreshCmd": "cat(var_dic_list()) "
    }
   },
   "types_to_exclude": [
    "module",
    "function",
    "builtin_function_or_method",
    "instance",
    "_Feature"
   ],
   "window_display": false
  }
 },
 "nbformat": 4,
 "nbformat_minor": 4
}
