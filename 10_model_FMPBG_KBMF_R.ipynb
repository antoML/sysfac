{
 "cells": [
  {
   "cell_type": "markdown",
   "metadata": {},
   "source": [
    "# À propos de ce livret\n",
    "\n",
    "Recherches liées au développement de cette méthode : \n",
    ">Mehmet Gonen, Samuel Kaski (2014). **Kernelized Bayesian Matrix Factorization**.  \n",
    ">Mehmet Gonen, Suleiman A. Khan, Samuel Kaski (2013). **Kernelized Bayesian Matrix Factorization**.\n",
    "\n",
    "\n",
    "La méthode implantés provient de ces sources : \n",
    ">[**Dépôt 1**](https://github.com/mehmetgonen/kbmf) | *Version en R et MATLAB*\n",
    "\n",
    "\n",
    "\n",
    "**Note sur le cachier**\n",
    "- Revoir la décomposition (génération des facteurs latents pour la création des noyaux)\n",
    "- Améliorer la performance du code (Rcpp ?)"
   ]
  },
  {
   "cell_type": "markdown",
   "metadata": {},
   "source": [
    "## Préparation pour l'utilisation"
   ]
  },
  {
   "cell_type": "code",
   "execution_count": 1,
   "metadata": {
    "ExecuteTime": {
     "end_time": "2020-06-12T22:40:18.787252Z",
     "start_time": "2020-06-12T22:40:18.511Z"
    }
   },
   "outputs": [
    {
     "name": "stderr",
     "output_type": "stream",
     "text": [
      "R.matlab v3.6.2 (2018-09-26) successfully loaded. See ?R.matlab for help.\n",
      "\n",
      "\n",
      "Attaching package: 'R.matlab'\n",
      "\n",
      "\n",
      "The following objects are masked from 'package:base':\n",
      "\n",
      "    getOption, isOpen\n",
      "\n",
      "\n"
     ]
    }
   ],
   "source": [
    "# Chargement des données\n",
    "library(R.matlab)\n",
    "\n",
    "# Barre de progression\n",
    "library(progress)"
   ]
  },
  {
   "cell_type": "code",
   "execution_count": 2,
   "metadata": {
    "ExecuteTime": {
     "end_time": "2020-06-12T22:40:18.805254Z",
     "start_time": "2020-06-12T22:40:18.516Z"
    }
   },
   "outputs": [],
   "source": [
    "setwd(\"C:/Users/amass/OneDrive/02_Education/02_Maitrise/Cours/PROJET_MAITRISE/application\")"
   ]
  },
  {
   "cell_type": "markdown",
   "metadata": {},
   "source": [
    "# Données"
   ]
  },
  {
   "cell_type": "markdown",
   "metadata": {},
   "source": [
    "## Chargement des données"
   ]
  },
  {
   "cell_type": "code",
   "execution_count": 3,
   "metadata": {
    "ExecuteTime": {
     "end_time": "2020-06-12T22:40:20.041082Z",
     "start_time": "2020-06-12T22:40:18.520Z"
    }
   },
   "outputs": [
    {
     "data": {
      "text/html": [
       "<style>\n",
       ".list-inline {list-style: none; margin:0; padding: 0}\n",
       ".list-inline>li {display: inline-block}\n",
       ".list-inline>li:not(:last-child)::after {content: \"\\00b7\"; padding: 0 .5ex}\n",
       "</style>\n",
       "<ol class=list-inline><li>214</li><li>61</li><li>144</li></ol>\n"
      ],
      "text/latex": [
       "\\begin{enumerate*}\n",
       "\\item 214\n",
       "\\item 61\n",
       "\\item 144\n",
       "\\end{enumerate*}\n"
      ],
      "text/markdown": [
       "1. 214\n",
       "2. 61\n",
       "3. 144\n",
       "\n",
       "\n"
      ],
      "text/plain": [
       "[1] 214  61 144"
      ]
     },
     "metadata": {},
     "output_type": "display_data"
    },
    {
     "data": {
      "text/html": [
       "<style>\n",
       ".list-inline {list-style: none; margin:0; padding: 0}\n",
       ".list-inline>li {display: inline-block}\n",
       ".list-inline>li:not(:last-child)::after {content: \"\\00b7\"; padding: 0 .5ex}\n",
       "</style>\n",
       "<ol class=list-inline><li>214</li><li>61</li></ol>\n"
      ],
      "text/latex": [
       "\\begin{enumerate*}\n",
       "\\item 214\n",
       "\\item 61\n",
       "\\end{enumerate*}\n"
      ],
      "text/markdown": [
       "1. 214\n",
       "2. 61\n",
       "\n",
       "\n"
      ],
      "text/plain": [
       "[1] 214  61"
      ]
     },
     "metadata": {},
     "output_type": "display_data"
    },
    {
     "data": {
      "text/html": [
       "<style>\n",
       ".list-inline {list-style: none; margin:0; padding: 0}\n",
       ".list-inline>li {display: inline-block}\n",
       ".list-inline>li:not(:last-child)::after {content: \"\\00b7\"; padding: 0 .5ex}\n",
       "</style>\n",
       "<ol class=list-inline><li>214</li><li>61</li><li>144</li></ol>\n"
      ],
      "text/latex": [
       "\\begin{enumerate*}\n",
       "\\item 214\n",
       "\\item 61\n",
       "\\item 144\n",
       "\\end{enumerate*}\n"
      ],
      "text/markdown": [
       "1. 214\n",
       "2. 61\n",
       "3. 144\n",
       "\n",
       "\n"
      ],
      "text/plain": [
       "[1] 214  61 144"
      ]
     },
     "metadata": {},
     "output_type": "display_data"
    }
   ],
   "source": [
    "# Tenseur de données\n",
    "tensor <- readMat(\"data/Guangzhou-data-set/tensor.mat\")\n",
    "tensor <- tensor$tensor  # Prendre l'array \n",
    "dim(tensor)\n",
    "\n",
    "# Matrice de données aléatoires\n",
    "random_matrix <- readMat(\"data/Guangzhou-data-set/random_matrix.mat\")\n",
    "random_matrix <- random_matrix$random.matrix\n",
    "dim(random_matrix)\n",
    "\n",
    "# Tenseur de données aléatoires\n",
    "random_tensor <- readMat(\"data/Guangzhou-data-set/random_tensor.mat\")\n",
    "random_tensor <- random_tensor$random.tensor\n",
    "dim(random_tensor)"
   ]
  },
  {
   "cell_type": "markdown",
   "metadata": {},
   "source": [
    "## Format des données"
   ]
  },
  {
   "cell_type": "code",
   "execution_count": 4,
   "metadata": {
    "ExecuteTime": {
     "end_time": "2020-06-12T22:40:20.078929Z",
     "start_time": "2020-06-12T22:40:18.524Z"
    }
   },
   "outputs": [
    {
     "data": {
      "text/html": [
       "<style>\n",
       ".list-inline {list-style: none; margin:0; padding: 0}\n",
       ".list-inline>li {display: inline-block}\n",
       ".list-inline>li:not(:last-child)::after {content: \"\\00b7\"; padding: 0 .5ex}\n",
       "</style>\n",
       "<ol class=list-inline><li>50</li><li>10</li><li>144</li></ol>\n"
      ],
      "text/latex": [
       "\\begin{enumerate*}\n",
       "\\item 50\n",
       "\\item 10\n",
       "\\item 144\n",
       "\\end{enumerate*}\n"
      ],
      "text/markdown": [
       "1. 50\n",
       "2. 10\n",
       "3. 144\n",
       "\n",
       "\n"
      ],
      "text/plain": [
       "[1]  50  10 144"
      ]
     },
     "metadata": {},
     "output_type": "display_data"
    },
    {
     "data": {
      "text/html": [
       "<style>\n",
       ".list-inline {list-style: none; margin:0; padding: 0}\n",
       ".list-inline>li {display: inline-block}\n",
       ".list-inline>li:not(:last-child)::after {content: \"\\00b7\"; padding: 0 .5ex}\n",
       "</style>\n",
       "<ol class=list-inline><li>50</li><li>1440</li></ol>\n"
      ],
      "text/latex": [
       "\\begin{enumerate*}\n",
       "\\item 50\n",
       "\\item 1440\n",
       "\\end{enumerate*}\n"
      ],
      "text/markdown": [
       "1. 50\n",
       "2. 1440\n",
       "\n",
       "\n"
      ],
      "text/plain": [
       "[1]   50 1440"
      ]
     },
     "metadata": {},
     "output_type": "display_data"
    }
   ],
   "source": [
    "# Indiquer si utiliser le jeu de données tronqué ou complet\n",
    "petit_donnees = TRUE\n",
    "# Indiquer si je veux travailler avec un tenseur ou une matrice\n",
    "matrice = TRUE\n",
    "\n",
    "capteurs = 50\n",
    "jours = 10\n",
    "sequences = dim(tensor)[3]  # (la séquence de temps du tenseur est pleine)\n",
    "\n",
    "# Choix de données tronquées ou complètes\n",
    "if (petit_donnees == TRUE) {\n",
    "    # Si l'utilisateur choisi de travailler avec les données tronquées\n",
    "    tensor = tensor[1:capteurs, 1:jours, 1:sequences, drop = FALSE]\n",
    "    \n",
    "    random_tensor = random_tensor[1:capteurs, 1:jours, 1:sequences, drop = FALSE]\n",
    "}\n",
    "\n",
    "# Choix de matrice ou de tenseur\n",
    "if (matrice == TRUE) {\n",
    "    # Si l'utilisateur choisi de travailler avec une matrice\n",
    "    mat_dense <- array(tensor, c(dim(tensor[, , ])[1], dim(tensor[, , ])[2] * dim(tensor[, \n",
    "        , ])[3]))\n",
    "}\n",
    "\n",
    "dim(tensor)\n",
    "dim(mat_dense)"
   ]
  },
  {
   "cell_type": "markdown",
   "metadata": {},
   "source": [
    "## Scénarios de manquants"
   ]
  },
  {
   "cell_type": "code",
   "execution_count": 5,
   "metadata": {
    "ExecuteTime": {
     "end_time": "2020-06-12T22:40:20.124803Z",
     "start_time": "2020-06-12T22:40:18.530Z"
    }
   },
   "outputs": [
    {
     "name": "stdout",
     "output_type": "stream",
     "text": [
      "[1] \"Manquants aléatoires\"\n"
     ]
    },
    {
     "data": {
      "text/html": [
       "<table>\n",
       "<caption>A matrix: 6 × 1440 of type dbl</caption>\n",
       "<tbody>\n",
       "\t<tr><td>40.893</td><td>41.227</td><td>42.680</td><td> 0.000</td><td>42.804</td><td>40.020</td><td> 0.000</td><td>35.357</td><td>41.097</td><td>41.821</td><td>...</td><td> 0.000</td><td>40.870</td><td> 0.000</td><td>42.295</td><td>39.082</td><td> 0.000</td><td>39.008</td><td> 0.000</td><td>39.974</td><td> 0.000</td></tr>\n",
       "\t<tr><td>50.319</td><td> 0.000</td><td>47.984</td><td>50.660</td><td>51.622</td><td>50.770</td><td>50.542</td><td>50.463</td><td>52.192</td><td> 0.000</td><td>...</td><td>51.534</td><td> 0.000</td><td>51.192</td><td>50.546</td><td>50.227</td><td>50.693</td><td>51.067</td><td> 0.000</td><td>51.232</td><td> 0.000</td></tr>\n",
       "\t<tr><td> 0.000</td><td>57.001</td><td>49.905</td><td>52.292</td><td>55.792</td><td>52.594</td><td>50.130</td><td> 0.000</td><td> 0.000</td><td>55.341</td><td>...</td><td>53.983</td><td>50.571</td><td>52.489</td><td>55.382</td><td>54.422</td><td> 0.000</td><td>52.618</td><td> 0.000</td><td>53.334</td><td>52.322</td></tr>\n",
       "\t<tr><td>37.305</td><td> 0.000</td><td>37.195</td><td> 0.000</td><td> 0.000</td><td>33.248</td><td>31.593</td><td>38.236</td><td>34.700</td><td> 0.000</td><td>...</td><td>36.883</td><td> 0.000</td><td>37.362</td><td>34.821</td><td> 0.000</td><td>32.957</td><td> 0.000</td><td>34.647</td><td>34.758</td><td>37.017</td></tr>\n",
       "\t<tr><td>38.388</td><td>39.534</td><td>35.762</td><td>36.393</td><td>36.625</td><td>37.164</td><td>34.079</td><td> 0.000</td><td>37.764</td><td> 0.000</td><td>...</td><td>37.508</td><td>35.285</td><td>37.175</td><td>37.707</td><td>36.642</td><td>34.773</td><td>37.572</td><td>36.967</td><td>37.361</td><td>36.306</td></tr>\n",
       "\t<tr><td> 0.000</td><td>44.112</td><td>43.173</td><td> 0.000</td><td>48.262</td><td>47.250</td><td>46.281</td><td>48.180</td><td> 0.000</td><td>49.987</td><td>...</td><td>51.562</td><td>45.329</td><td>50.494</td><td>48.465</td><td>46.354</td><td>45.446</td><td>49.026</td><td>45.500</td><td>47.928</td><td>47.412</td></tr>\n",
       "</tbody>\n",
       "</table>\n"
      ],
      "text/latex": [
       "A matrix: 6 × 1440 of type dbl\n",
       "\\begin{tabular}{lllllllllllllllllllll}\n",
       "\t 40.893 & 41.227 & 42.680 &  0.000 & 42.804 & 40.020 &  0.000 & 35.357 & 41.097 & 41.821 & ... &  0.000 & 40.870 &  0.000 & 42.295 & 39.082 &  0.000 & 39.008 &  0.000 & 39.974 &  0.000\\\\\n",
       "\t 50.319 &  0.000 & 47.984 & 50.660 & 51.622 & 50.770 & 50.542 & 50.463 & 52.192 &  0.000 & ... & 51.534 &  0.000 & 51.192 & 50.546 & 50.227 & 50.693 & 51.067 &  0.000 & 51.232 &  0.000\\\\\n",
       "\t  0.000 & 57.001 & 49.905 & 52.292 & 55.792 & 52.594 & 50.130 &  0.000 &  0.000 & 55.341 & ... & 53.983 & 50.571 & 52.489 & 55.382 & 54.422 &  0.000 & 52.618 &  0.000 & 53.334 & 52.322\\\\\n",
       "\t 37.305 &  0.000 & 37.195 &  0.000 &  0.000 & 33.248 & 31.593 & 38.236 & 34.700 &  0.000 & ... & 36.883 &  0.000 & 37.362 & 34.821 &  0.000 & 32.957 &  0.000 & 34.647 & 34.758 & 37.017\\\\\n",
       "\t 38.388 & 39.534 & 35.762 & 36.393 & 36.625 & 37.164 & 34.079 &  0.000 & 37.764 &  0.000 & ... & 37.508 & 35.285 & 37.175 & 37.707 & 36.642 & 34.773 & 37.572 & 36.967 & 37.361 & 36.306\\\\\n",
       "\t  0.000 & 44.112 & 43.173 &  0.000 & 48.262 & 47.250 & 46.281 & 48.180 &  0.000 & 49.987 & ... & 51.562 & 45.329 & 50.494 & 48.465 & 46.354 & 45.446 & 49.026 & 45.500 & 47.928 & 47.412\\\\\n",
       "\\end{tabular}\n"
      ],
      "text/markdown": [
       "\n",
       "A matrix: 6 × 1440 of type dbl\n",
       "\n",
       "| 40.893 | 41.227 | 42.680 |  0.000 | 42.804 | 40.020 |  0.000 | 35.357 | 41.097 | 41.821 | ... |  0.000 | 40.870 |  0.000 | 42.295 | 39.082 |  0.000 | 39.008 |  0.000 | 39.974 |  0.000 |\n",
       "| 50.319 |  0.000 | 47.984 | 50.660 | 51.622 | 50.770 | 50.542 | 50.463 | 52.192 |  0.000 | ... | 51.534 |  0.000 | 51.192 | 50.546 | 50.227 | 50.693 | 51.067 |  0.000 | 51.232 |  0.000 |\n",
       "|  0.000 | 57.001 | 49.905 | 52.292 | 55.792 | 52.594 | 50.130 |  0.000 |  0.000 | 55.341 | ... | 53.983 | 50.571 | 52.489 | 55.382 | 54.422 |  0.000 | 52.618 |  0.000 | 53.334 | 52.322 |\n",
       "| 37.305 |  0.000 | 37.195 |  0.000 |  0.000 | 33.248 | 31.593 | 38.236 | 34.700 |  0.000 | ... | 36.883 |  0.000 | 37.362 | 34.821 |  0.000 | 32.957 |  0.000 | 34.647 | 34.758 | 37.017 |\n",
       "| 38.388 | 39.534 | 35.762 | 36.393 | 36.625 | 37.164 | 34.079 |  0.000 | 37.764 |  0.000 | ... | 37.508 | 35.285 | 37.175 | 37.707 | 36.642 | 34.773 | 37.572 | 36.967 | 37.361 | 36.306 |\n",
       "|  0.000 | 44.112 | 43.173 |  0.000 | 48.262 | 47.250 | 46.281 | 48.180 |  0.000 | 49.987 | ... | 51.562 | 45.329 | 50.494 | 48.465 | 46.354 | 45.446 | 49.026 | 45.500 | 47.928 | 47.412 |\n",
       "\n"
      ],
      "text/plain": [
       "     [,1]   [,2]   [,3]   [,4]   [,5]   [,6]   [,7]   [,8]   [,9]   [,10] \n",
       "[1,] 40.893 41.227 42.680  0.000 42.804 40.020  0.000 35.357 41.097 41.821\n",
       "[2,] 50.319  0.000 47.984 50.660 51.622 50.770 50.542 50.463 52.192  0.000\n",
       "[3,]  0.000 57.001 49.905 52.292 55.792 52.594 50.130  0.000  0.000 55.341\n",
       "[4,] 37.305  0.000 37.195  0.000  0.000 33.248 31.593 38.236 34.700  0.000\n",
       "[5,] 38.388 39.534 35.762 36.393 36.625 37.164 34.079  0.000 37.764  0.000\n",
       "[6,]  0.000 44.112 43.173  0.000 48.262 47.250 46.281 48.180  0.000 49.987\n",
       "     [,11] [,12]  [,13]  [,14]  [,15]  [,16]  [,17]  [,18]  [,19]  [,20] \n",
       "[1,] ...    0.000 40.870  0.000 42.295 39.082  0.000 39.008  0.000 39.974\n",
       "[2,] ...   51.534  0.000 51.192 50.546 50.227 50.693 51.067  0.000 51.232\n",
       "[3,] ...   53.983 50.571 52.489 55.382 54.422  0.000 52.618  0.000 53.334\n",
       "[4,] ...   36.883  0.000 37.362 34.821  0.000 32.957  0.000 34.647 34.758\n",
       "[5,] ...   37.508 35.285 37.175 37.707 36.642 34.773 37.572 36.967 37.361\n",
       "[6,] ...   51.562 45.329 50.494 48.465 46.354 45.446 49.026 45.500 47.928\n",
       "     [,21] \n",
       "[1,]  0.000\n",
       "[2,]  0.000\n",
       "[3,] 52.322\n",
       "[4,] 37.017\n",
       "[5,] 36.306\n",
       "[6,] 47.412"
      ]
     },
     "metadata": {},
     "output_type": "display_data"
    }
   ],
   "source": [
    "tx_manquant = 0.2\n",
    "manquants_aleatoires = TRUE\n",
    "\n",
    "# Manquants aléatoires\n",
    "if (manquants_aleatoires == TRUE) {\n",
    "    print(\"Manquants aléatoires\")\n",
    "    mat_binaire <- round(random_tensor + 0.5 - tx_manquant)\n",
    "    mat_binaire <- array(mat_binaire, c(dim(random_tensor[, , ])[1], dim(random_tensor[, \n",
    "        , ])[2] * dim(random_tensor[, , ])[3]))\n",
    "    dim(mat_binaire)\n",
    "    \n",
    "    # Création de la matrice de données manquantes (element-wise)\n",
    "    mat_manq <- mat_dense * mat_binaire\n",
    "    head(mat_manq)\n",
    "}\n",
    "\n",
    "# Manquants non-aléatoires\n",
    "if (manquants_aleatoires == FALSE) {\n",
    "    print(\"Manquants non-aléatoires\")\n",
    "    tens_binaire <- array(0, dim(tensor))\n",
    "    for (i1 in 1:dim(tensor)[1]) {\n",
    "        for (i2 in 1:dim(tensor)[2]) {\n",
    "            tens_binaire[i1, i2, ] <- round(random_matrix[i1, i2] + 0.5 - tx_manquant)\n",
    "        }\n",
    "    }\n",
    "    mat_binaire <- array(tens_binaire, c(dim(tens_binaire)[1], dim(tens_binaire)[2] * \n",
    "        dim(tens_binaire)[3]))\n",
    "    dim(mat_binaire)\n",
    "    \n",
    "    # Création de la matrice de données manquants (element-wise)\n",
    "    mat_manq <- mat_dense * mat_binaire\n",
    "    head(mat_manq)\n",
    "}"
   ]
  },
  {
   "cell_type": "markdown",
   "metadata": {},
   "source": [
    "## Création des noyaux\n",
    "\n",
    "\n",
    ">Kevin P. Murphy (2012), **Machine Learning : A Probabilistic Perspective.**"
   ]
  },
  {
   "cell_type": "code",
   "execution_count": 6,
   "metadata": {
    "ExecuteTime": {
     "end_time": "2020-06-12T22:40:20.159722Z",
     "start_time": "2020-06-12T22:40:18.534Z"
    }
   },
   "outputs": [],
   "source": [
    "set.seed(1606)\n",
    "\n",
    "Px <- 1 # isotropic dimensions\n",
    "Nx <- dim(mat_dense)[1] # X\n",
    "Pz <- 1 # isotropic dimensions\n",
    "Nz <- dim(mat_dense)[2] # Z\n",
    "\n",
    "X <- matrix(rnorm(Px * Nx), Px, Nx)\n",
    "Z <- matrix(rnorm(Pz * Nz), Pz, Nz)\n",
    "Y <- mat_manq"
   ]
  },
  {
   "cell_type": "code",
   "execution_count": 7,
   "metadata": {
    "ExecuteTime": {
     "end_time": "2020-06-12T22:40:20.182648Z",
     "start_time": "2020-06-12T22:40:18.539Z"
    }
   },
   "outputs": [
    {
     "data": {
      "text/html": [
       "<style>\n",
       ".list-inline {list-style: none; margin:0; padding: 0}\n",
       ".list-inline>li {display: inline-block}\n",
       ".list-inline>li:not(:last-child)::after {content: \"\\00b7\"; padding: 0 .5ex}\n",
       "</style>\n",
       "<ol class=list-inline><li>50</li><li>1440</li></ol>\n"
      ],
      "text/latex": [
       "\\begin{enumerate*}\n",
       "\\item 50\n",
       "\\item 1440\n",
       "\\end{enumerate*}\n"
      ],
      "text/markdown": [
       "1. 50\n",
       "2. 1440\n",
       "\n",
       "\n"
      ],
      "text/plain": [
       "[1]   50 1440"
      ]
     },
     "metadata": {},
     "output_type": "display_data"
    }
   ],
   "source": [
    "dim(Y)"
   ]
  },
  {
   "cell_type": "code",
   "execution_count": 8,
   "metadata": {
    "ExecuteTime": {
     "end_time": "2020-06-12T22:40:20.231517Z",
     "start_time": "2020-06-12T22:40:18.543Z"
    },
    "scrolled": false
   },
   "outputs": [],
   "source": [
    "# Création des noyaux\n",
    "\n",
    "## X\n",
    "Kx <- array(0, c(Nx, Nx, Px))\n",
    "for (m in 1:Px) {\n",
    "  Kx[, , m] <- crossprod(X[m, , drop = FALSE], X[m, , drop = FALSE])\n",
    "}\n",
    "\n",
    "## Z\n",
    "Kz <- array(0, c(Nz, Nz, Pz))\n",
    "for (n in 1:Pz) {\n",
    "  Kz[, , n] <- crossprod(Z[n, , drop = FALSE], Z[n, , drop = FALSE])\n",
    "}"
   ]
  },
  {
   "cell_type": "markdown",
   "metadata": {},
   "source": [
    "# Modélisation\n",
    "\n",
    "- Quatre scénarios peuvent se présenter puisque les fonctions noyaux multiples peuvent être placés soit sur U, soit sur V ou sur les deux en même temps. Des stratégies différentes s'appliquent selon les applications de noyaux.\n",
    "- À ces quatre scénarios s'ajoutent les stratégies pour les matrices complètes/ avec des valeurs manquantes.\n",
    "\n"
   ]
  },
  {
   "cell_type": "markdown",
   "metadata": {
    "heading_collapsed": true
   },
   "source": [
    "## Un noyau sur les deux facteurs latents U et V"
   ]
  },
  {
   "cell_type": "code",
   "execution_count": 9,
   "metadata": {
    "ExecuteTime": {
     "end_time": "2020-06-12T22:40:20.250514Z",
     "start_time": "2020-06-12T22:40:18.547Z"
    },
    "hidden": true
   },
   "outputs": [],
   "source": [
    "kbmf1k1k_supervised_regression_variational_train <- function(Kx, Kz, Y, parameters) {\n",
    "    set.seed(parameters$seed)\n",
    "    # initialisation des paramètres\n",
    "    Dx <- dim(Kx)[1]\n",
    "    Nx <- dim(Kx)[2]\n",
    "    \n",
    "    Dz <- dim(Kz)[1]\n",
    "    Nz <- dim(Kz)[2]\n",
    "    \n",
    "    R <- parameters$R\n",
    "    \n",
    "    sigma_g <- parameters$sigma_g\n",
    "    sigma_y <- parameters$sigma_y\n",
    "    \n",
    "    # Lambda_x (initialisation du Lambda)\n",
    "    Lambdax <- list(alpha = matrix(parameters$alpha_lambda + 0.5, Dx, R), beta = matrix(parameters$beta_lambda, \n",
    "        Dx, R))\n",
    "    # A_x|Lambda_x\n",
    "    Ax <- list(mu = matrix(rnorm(Dx * R), Dx, R), sigma = array(diag(1, Dx, Dx), \n",
    "        c(Dx, Dx, R)))\n",
    "    # G_x|Lambda_x\n",
    "    Gx <- list(mu = matrix(rnorm(R * Nx), R, Nx), sigma = diag(1, R, R))\n",
    "    \n",
    "    # Lambda_z (Initialisation du Lambda)\n",
    "    Lambdaz <- list(alpha = matrix(parameters$alpha_lambda + 0.5, Dz, R), beta = matrix(parameters$beta_lambda, \n",
    "        Dz, R))\n",
    "    # A_z|Lambda_z\n",
    "    Az <- list(mu = matrix(rnorm(Dz * R), Dz, R), sigma = array(diag(1, Dz, Dz), \n",
    "        c(Dz, Dz, R)))\n",
    "    # G_z|Lambda_z\n",
    "    Gz <- list(mu = matrix(rnorm(R * Nz), R, Nz), sigma = diag(1, R, R))\n",
    "    \n",
    "    # Outer product of kernels\n",
    "    KxKx <- tcrossprod(Kx, Kx)\n",
    "    KzKz <- tcrossprod(Kz, Kz)\n",
    "    \n",
    "    # Variational algorithm\n",
    "    for (iter in 1:parameters$iteration) {\n",
    "        # update Lambdax\n",
    "        for (s in 1:R) {\n",
    "            Lambdax$beta[, s] <- 1/(1/parameters$beta_lambda + 0.5 * (Ax$mu[, s]^2 + \n",
    "                diag(Ax$sigma[, , s])))\n",
    "        }\n",
    "        # update Ax\n",
    "        for (s in 1:R) {\n",
    "            Ax$sigma[, , s] <- chol2inv(chol(diag(as.vector(Lambdax$alpha[, s] * \n",
    "                Lambdax$beta[, s]), Dx, Dx) + KxKx/sigma_g^2))\n",
    "            Ax$mu[, s] <- Ax$sigma[, , s] %*% (tcrossprod(Kx, Gx$mu[s, , drop = FALSE])/sigma_g^2)\n",
    "        }\n",
    "        # update Gx\n",
    "        Gx$sigma <- chol2inv(chol(diag(1/sigma_g^2, R, R) + (tcrossprod(Gz$mu, Gz$mu) + \n",
    "            Nz * Gz$sigma)/sigma_y^2))\n",
    "        Gx$mu <- Gx$sigma %*% (crossprod(Ax$mu, Kx)/sigma_g^2 + tcrossprod(Gz$mu, \n",
    "            Y)/sigma_y^2)\n",
    "        \n",
    "        # update Lambdaz\n",
    "        for (s in 1:R) {\n",
    "            Lambdaz$beta[, s] <- 1/(1/parameters$beta_lambda + 0.5 * (Az$mu[, s]^2 + \n",
    "                diag(Az$sigma[, , s])))\n",
    "        }\n",
    "        # update Az\n",
    "        for (s in 1:R) {\n",
    "            Az$sigma[, , s] <- chol2inv(chol(diag(as.vector(Lambdaz$alpha[, s] * \n",
    "                Lambdaz$beta[, s]), Dz, Dz) + KzKz/sigma_g^2))\n",
    "            Az$mu[, s] <- Az$sigma[, , s] %*% (tcrossprod(Kz, Gz$mu[s, , drop = FALSE])/sigma_g^2)\n",
    "        }\n",
    "        # update Gz\n",
    "        Gz$sigma <- chol2inv(chol(diag(1/sigma_g^2, R, R) + (tcrossprod(Gx$mu, Gx$mu) + \n",
    "            Nx * Gx$sigma)/sigma_y^2))\n",
    "        Gz$mu <- Gz$sigma %*% (crossprod(Az$mu, Kz)/sigma_g^2 + Gx$mu %*% Y/sigma_y^2)\n",
    "    }\n",
    "    \n",
    "    state <- list(Lambdax = Lambdax, Ax = Ax, Lambdaz = Lambdaz, Az = Az, parameters = parameters)\n",
    "}"
   ]
  },
  {
   "cell_type": "code",
   "execution_count": 10,
   "metadata": {
    "ExecuteTime": {
     "end_time": "2020-06-12T22:40:20.277522Z",
     "start_time": "2020-06-12T22:40:18.551Z"
    },
    "hidden": true
   },
   "outputs": [],
   "source": [
    "# S'il manque des Y dans la matrice, le modèle est en mode « semisupervisé »\n",
    "kbmf1k1k_semisupervised_regression_variational_train <- function(Kx, Kz, Y, parameters) {\n",
    "    set.seed(parameters$seed)\n",
    "    \n",
    "    Dx <- dim(Kx)[1]\n",
    "    Nx <- dim(Kx)[2]\n",
    "    Dz <- dim(Kz)[1]\n",
    "    Nz <- dim(Kz)[2]\n",
    "    R <- parameters$R\n",
    "    sigma_g <- parameters$sigma_g\n",
    "    sigma_y <- parameters$sigma_y\n",
    "    \n",
    "    Lambdax <- list(alpha = matrix(parameters$alpha_lambda + 0.5, Dx, R), beta = matrix(parameters$beta_lambda, \n",
    "        Dx, R))\n",
    "    Ax <- list(mu = matrix(rnorm(Dx * R), Dx, R), sigma = array(diag(1, Dx, Dx), \n",
    "        c(Dx, Dx, R)))\n",
    "    Gx <- list(mu = matrix(rnorm(R * Nx), R, Nx), sigma = array(diag(1, R, R), c(R, \n",
    "        R, Nx)))\n",
    "    \n",
    "    Lambdaz <- list(alpha = matrix(parameters$alpha_lambda + 0.5, Dz, R), beta = matrix(parameters$beta_lambda, \n",
    "        Dz, R))\n",
    "    Az <- list(mu = matrix(rnorm(Dz * R), Dz, R), sigma = array(diag(1, Dz, Dz), \n",
    "        c(Dz, Dz, R)))\n",
    "    Gz <- list(mu = matrix(rnorm(R * Nz), R, Nz), sigma = array(diag(1, R, R), c(R, \n",
    "        R, Nz)))\n",
    "    \n",
    "    KxKx <- tcrossprod(Kx, Kx)\n",
    "    KzKz <- tcrossprod(Kz, Kz)\n",
    "    \n",
    "    for (iter in 1:parameters$iteration) {\n",
    "        \n",
    "        # update Lambdax\n",
    "        for (s in 1:R) {\n",
    "            Lambdax$beta[, s] <- 1/(1/parameters$beta_lambda + 0.5 * (Ax$mu[, s]^2 + \n",
    "                diag(Ax$sigma[, , s])))\n",
    "        }\n",
    "        # update Ax\n",
    "        for (s in 1:R) {\n",
    "            Ax$sigma[, , s] <- chol2inv(chol(diag(as.vector(Lambdax$alpha[, s] * \n",
    "                Lambdax$beta[, s]), Dx, Dx) + KxKx/sigma_g^2))\n",
    "            Ax$mu[, s] <- Ax$sigma[, , s] %*% (tcrossprod(Kx, Gx$mu[s, , drop = FALSE])/sigma_g^2)\n",
    "        }\n",
    "        # update Gx\n",
    "        for (i in 1:Nx) {\n",
    "            indices <- which(is.na(Y[i, ]) == FALSE)\n",
    "            Gx$sigma[, , i] <- chol2inv(chol(diag(1/sigma_g^2, R, R) + (tcrossprod(Gz$mu[, \n",
    "                indices, drop = FALSE], Gz$mu[, indices, drop = FALSE]) + apply(Gz$sigma[, \n",
    "                , indices, drop = FALSE], 1:2, sum))/sigma_y^2))\n",
    "            Gx$mu[, i] <- Gx$sigma[, , i] %*% (crossprod(Ax$mu, Kx[, i])/sigma_g^2 + \n",
    "                tcrossprod(Gz$mu[, indices, drop = FALSE], Y[i, indices, drop = FALSE])/sigma_y^2)\n",
    "        }\n",
    "        # update Lambdaz\n",
    "        for (s in 1:R) {\n",
    "            Lambdaz$beta[, s] <- 1/(1/parameters$beta_lambda + 0.5 * (Az$mu[, s]^2 + \n",
    "                diag(Az$sigma[, , s])))\n",
    "        }\n",
    "        # update Az\n",
    "        for (s in 1:R) {\n",
    "            Az$sigma[, , s] <- chol2inv(chol(diag(as.vector(Lambdaz$alpha[, s] * \n",
    "                Lambdaz$beta[, s]), Dz, Dz) + KzKz/sigma_g^2))\n",
    "            Az$mu[, s] <- Az$sigma[, , s] %*% (tcrossprod(Kz, Gz$mu[s, , drop = FALSE])/sigma_g^2)\n",
    "        }\n",
    "        # update Gz\n",
    "        for (j in 1:Nz) {\n",
    "            indices <- which(is.na(Y[, j]) == FALSE)\n",
    "            Gz$sigma[, , j] <- chol2inv(chol(diag(1/sigma_g^2, R, R) + (tcrossprod(Gx$mu[, \n",
    "                indices, drop = FALSE], Gx$mu[, indices, drop = FALSE]) + apply(Gx$sigma[, \n",
    "                , indices, drop = FALSE], 1:2, sum))/sigma_y^2))\n",
    "            Gz$mu[, j] <- Gz$sigma[, , j] %*% (crossprod(Az$mu, Kz[, j])/sigma_g^2 + \n",
    "                Gx$mu[, indices, drop = FALSE] %*% Y[indices, j, drop = FALSE]/sigma_y^2)\n",
    "        }\n",
    "    }\n",
    "    \n",
    "    state <- list(Lambdax = Lambdax, Ax = Ax, Lambdaz = Lambdaz, Az = Az, parameters = parameters)\n",
    "}"
   ]
  },
  {
   "cell_type": "markdown",
   "metadata": {
    "hidden": true
   },
   "source": [
    "### Fonctions de test du modèle"
   ]
  },
  {
   "cell_type": "code",
   "execution_count": 11,
   "metadata": {
    "ExecuteTime": {
     "end_time": "2020-06-12T22:40:20.306431Z",
     "start_time": "2020-06-12T22:40:18.556Z"
    },
    "hidden": true
   },
   "outputs": [],
   "source": [
    "# Mode supervisé\n",
    "kbmf1k1k_supervised_regression_variational_test <- function(Kx, Kz, state) {\n",
    "    Gx <- list(mu = crossprod(state$Ax$mu, Kx))\n",
    "    \n",
    "    Gz <- list(mu = crossprod(state$Az$mu, Kz))\n",
    "    \n",
    "    Y <- list(mu = crossprod(Gx$mu, Gz$mu))\n",
    "    \n",
    "    prediction <- list(Gx = Gx, Gz = Gz, Y = Y)\n",
    "}\n",
    "\n",
    "# Mode seimsupervisé\n",
    "kbmf1k1k_semisupervised_regression_variational_test <- function(Kx, Kz, state) {\n",
    "    Gx <- list(mu = crossprod(state$Ax$mu, Kx))\n",
    "    \n",
    "    Gz <- list(mu = crossprod(state$Az$mu, Kz))\n",
    "    \n",
    "    Y <- list(mu = crossprod(Gx$mu, Gz$mu))\n",
    "    \n",
    "    prediction <- list(Gx = Gx, Gz = Gz, Y = Y)\n",
    "}"
   ]
  },
  {
   "cell_type": "markdown",
   "metadata": {
    "heading_collapsed": true
   },
   "source": [
    "## Noyaux d'apprentissage multiple sur U et V"
   ]
  },
  {
   "cell_type": "code",
   "execution_count": 12,
   "metadata": {
    "ExecuteTime": {
     "end_time": "2020-06-12T22:40:20.333325Z",
     "start_time": "2020-06-12T22:40:18.560Z"
    },
    "hidden": true
   },
   "outputs": [],
   "source": [
    "# S'il ne manque pas de Y dans la matrice, le modèle est en mode « supervisé »\n",
    "kbmf1mkl1mkl_supervised_regression_variational_train <- function(Kx, Kz, Y, parameters) {\n",
    "    set.seed(parameters$seed)\n",
    "    \n",
    "    # initialisation des paramètres\n",
    "    Dx <- dim(Kx)[1]\n",
    "    Nx <- dim(Kx)[2]\n",
    "    Px <- dim(Kx)[3]\n",
    "    Dz <- dim(Kz)[1]\n",
    "    Nz <- dim(Kz)[2]\n",
    "    Pz <- dim(Kz)[3]\n",
    "    R <- parameters$R\n",
    "    sigma_g <- parameters$sigma_g\n",
    "    sigma_h <- parameters$sigma_h\n",
    "    sigma_y <- parameters$sigma_y\n",
    "    \n",
    "    # Lambda X\n",
    "    Lambdax <- list(alpha = matrix(parameters$alpha_lambda + 0.5, Dx, R), beta = matrix(parameters$beta_lambda, \n",
    "        Dx, R))\n",
    "    \n",
    "    Ax <- list(mu = matrix(rnorm(Dx * R), Dx, R), sigma = array(diag(1, Dx, Dx), \n",
    "        c(Dx, Dx, R)))\n",
    "    \n",
    "    Gx <- list(mu = array(rnorm(R * Nx * Px), c(R, Nx, Px)), sigma = array(diag(1, \n",
    "        R, R), c(R, R, Px)))\n",
    "    \n",
    "    ## Apprentissage par noyau multiple\n",
    "    etax <- list(alpha = matrix(parameters$alpha_eta + 0.5, Px, 1), beta = matrix(parameters$beta_eta, \n",
    "        Px, 1))\n",
    "    \n",
    "    ex <- list(mu = matrix(1, Px, 1), sigma = diag(1, Px, Px))\n",
    "    Hx <- list(mu = matrix(rnorm(R * Nx), R, Nx), sigma = diag(1, R, R))\n",
    "    \n",
    "    # Lambda Z\n",
    "    Lambdaz <- list(alpha = matrix(parameters$alpha_lambda + 0.5, Dz, R), beta = matrix(parameters$beta_lambda, \n",
    "        Dz, R))\n",
    "    Az <- list(mu = matrix(rnorm(Dz * R), Dz, R), sigma = array(diag(1, Dz, Dz), \n",
    "        c(Dz, Dz, R)))\n",
    "    Gz <- list(mu = array(rnorm(R * Nz * Pz), c(R, Nz, Pz)), sigma = array(diag(1, \n",
    "        R, R), c(R, R, Pz)))\n",
    "    \n",
    "    ## Apprentissage par noyau multiple\n",
    "    etaz <- list(alpha = matrix(parameters$alpha_eta + 0.5, Pz, 1), beta = matrix(parameters$beta_eta, \n",
    "        Pz, 1))\n",
    "    ez <- list(mu = matrix(1, Pz, 1), sigma = diag(1, Pz, Pz))\n",
    "    Hz <- list(mu = matrix(rnorm(R * Nz), R, Nz), sigma = diag(1, R, R))\n",
    "    \n",
    "    # Calcul sur les noyaux préentrainement\n",
    "    ## Pour réduire en complexité computationnel, les auteurs suggèrent de mettre en cache\n",
    "    ## les noyaux\n",
    "    # Cache sur Kx\n",
    "    KxKx <- matrix(0, Dx, Dx)\n",
    "    for (m in 1:Px) {\n",
    "        KxKx <- KxKx + tcrossprod(Kx[, , m], Kx[, , m])\n",
    "    }\n",
    "    Kx <- matrix(Kx, Dx, Nx * Px)\n",
    "    \n",
    "    # Cache sur Kz\n",
    "    KzKz <- matrix(0, Dz, Dz)\n",
    "    for (n in 1:Pz) {\n",
    "        KzKz <- KzKz + tcrossprod(Kz[, , n], Kz[, , n])\n",
    "    }\n",
    "    Kz <- matrix(Kz, Dz, Nz * Pz)\n",
    "    \n",
    "    \n",
    "    # Entrainement du modèle (variationel)\n",
    "    for (iter in 1:parameters$iteration) {\n",
    "        # update Lambdax\n",
    "        for (s in 1:R) {\n",
    "            Lambdax$beta[, s] <- 1/(1/parameters$beta_lambda + 0.5 * (Ax$mu[, s]^2 + \n",
    "                diag(Ax$sigma[, , s])))\n",
    "        }\n",
    "        # update Ax\n",
    "        for (s in 1:R) {\n",
    "            Ax$sigma[, , s] <- chol2inv(chol(diag(as.vector(Lambdax$alpha[, s] * \n",
    "                Lambdax$beta[, s]), Dx, Dx) + KxKx/sigma_g^2))\n",
    "            Ax$mu[, s] <- Ax$sigma[, , s] %*% (Kx %*% matrix(Gx$mu[s, , ], Nx * Px, \n",
    "                1)/sigma_g^2)\n",
    "        }\n",
    "        # update Gx\n",
    "        for (m in 1:Px) {\n",
    "            Gx$sigma[, , m] <- chol2inv(chol(diag(1/sigma_g^2, R, R) + diag((ex$mu[m] * \n",
    "                ex$mu[m] + ex$sigma[m, m])/sigma_h^2, R, R)))\n",
    "            Gx$mu[, , m] <- crossprod(Ax$mu, Kx[, ((m - 1) * Nx + 1):(m * Nx)])/sigma_g^2 + \n",
    "                ex$mu[m] * Hx$mu/sigma_h^2\n",
    "            for (o in setdiff(1:Px, m)) {\n",
    "                Gx$mu[, , m] <- Gx$mu[, , m] - (ex$mu[m] * ex$mu[o] + ex$sigma[m, \n",
    "                  o]) * Gx$mu[, , o]/sigma_h^2\n",
    "            }\n",
    "            Gx$mu[, , m] <- Gx$sigma[, , m] %*% Gx$mu[, , m]\n",
    "        }\n",
    "        # update etax\n",
    "        etax$beta <- 1/(1/parameters$beta_eta + 0.5 * (ex$mu^2 + diag(ex$sigma)))\n",
    "        \n",
    "        # update ex\n",
    "        ex$sigma <- diag(as.vector(etax$alpha * etax$beta))\n",
    "        for (m in 1:Px) {\n",
    "            for (o in 1:Px) {\n",
    "                ex$sigma[m, o] <- ex$sigma[m, o] + (sum(Gx$mu[, , m] * Gx$mu[, , \n",
    "                  o]) + (m == o) * Nx * sum(diag(Gx$sigma[, , m])))/sigma_h^2\n",
    "            }\n",
    "        }\n",
    "        \n",
    "        ex$sigma <- chol2inv(chol(ex$sigma))\n",
    "        for (m in 1:Px) {\n",
    "            ex$mu[m] <- sum(Gx$mu[, , m] * Hx$mu)/sigma_h^2\n",
    "        }\n",
    "        ex$mu <- ex$sigma %*% ex$mu\n",
    "        \n",
    "        # update Hx\n",
    "        Hx$sigma <- chol2inv(chol(diag(1/sigma_h^2, R, R) + (tcrossprod(Hz$mu, Hz$mu) + \n",
    "            Nz * Hz$sigma)/sigma_y^2))\n",
    "        \n",
    "        Hz$mu\n",
    "        Hx$mu <- tcrossprod(Hz$mu, Y)/sigma_y^2\n",
    "        for (m in 1:Px) {\n",
    "            Hx$mu <- Hx$mu + ex$mu[m] * Gx$mu[, , m]/sigma_h^2\n",
    "        }\n",
    "        \n",
    "        Hx$mu <- Hx$sigma %*% Hx$mu\n",
    "        \n",
    "        # update Lambdaz\n",
    "        for (s in 1:R) {\n",
    "            Lambdaz$beta[, s] <- 1/(1/parameters$beta_lambda + 0.5 * (Az$mu[, s]^2 + \n",
    "                diag(Az$sigma[, , s])))\n",
    "        }\n",
    "        # update Az\n",
    "        for (s in 1:R) {\n",
    "            Az$sigma[, , s] <- chol2inv(chol(diag(as.vector(Lambdaz$alpha[, s] * \n",
    "                Lambdaz$beta[, s]), Dz, Dz) + KzKz/sigma_g^2))\n",
    "            Az$mu[, s] <- Az$sigma[, , s] %*% (Kz %*% matrix(Gz$mu[s, , ], Nz * Pz, \n",
    "                1)/sigma_g^2)\n",
    "        }\n",
    "        # update Gz\n",
    "        for (n in 1:Pz) {\n",
    "            Gz$sigma[, , n] <- chol2inv(chol(diag(1/sigma_g^2, R, R) + diag((ez$mu[n] * \n",
    "                ez$mu[n] + ez$sigma[n, n])/sigma_h^2, R, R)))\n",
    "            Gz$mu[, , n] <- crossprod(Az$mu, Kz[, ((n - 1) * Nz + 1):(n * Nz)])/sigma_g^2 + \n",
    "                ez$mu[n] * Hz$mu/sigma_h^2\n",
    "            for (p in setdiff(1:Pz, n)) {\n",
    "                Gz$mu[, , n] <- Gz$mu[, , n] - (ez$mu[n] * ez$mu[p] + ez$sigma[n, \n",
    "                  p]) * Gz$mu[, , p]/sigma_h^2\n",
    "            }\n",
    "            Gz$mu[, , n] <- Gz$sigma[, , n] %*% Gz$mu[, , n]\n",
    "        }\n",
    "        # update etaz\n",
    "        etaz$beta <- 1/(1/parameters$beta_eta + 0.5 * (ez$mu^2 + diag(ez$sigma)))\n",
    "        # update ez\n",
    "        ez$sigma <- diag(as.vector(etaz$alpha * etaz$beta))\n",
    "        for (n in 1:Pz) {\n",
    "            for (p in 1:Pz) {\n",
    "                ez$sigma[n, p] <- ez$sigma[n, p] + (sum(Gz$mu[, , n] * Gz$mu[, , \n",
    "                  p]) + (n == p) * Nz * sum(diag(Gz$sigma[, , n])))/sigma_h^2\n",
    "            }\n",
    "        }\n",
    "        ez$sigma <- chol2inv(chol(ez$sigma))\n",
    "        for (n in 1:Pz) {\n",
    "            ez$mu[n] <- sum(Gz$mu[, , n] * Hz$mu)/sigma_h^2\n",
    "        }\n",
    "        ez$mu <- ez$sigma %*% ez$mu\n",
    "        # update Hz\n",
    "        Hz$sigma <- chol2inv(chol(diag(1/sigma_h^2, R, R) + (tcrossprod(Hx$mu, Hx$mu) + \n",
    "            Nx * Hx$sigma)/sigma_y^2))\n",
    "        Hz$mu <- Hx$mu %*% Y/sigma_y^2\n",
    "        for (n in 1:Pz) {\n",
    "            Hz$mu <- Hz$mu + ez$mu[n] * Gz$mu[, , n]/sigma_h^2\n",
    "        }\n",
    "        Hz$mu <- Hz$sigma %*% Hz$mu\n",
    "    }\n",
    "    \n",
    "    state <- list(Lambdax = Lambdax, Ax = Ax, etax = etax, ex = ex, Lambdaz = Lambdaz, \n",
    "        Az = Az, etaz = etaz, ez = ez, parameters = parameters)\n",
    "}\n",
    "\n",
    "\n",
    "# S'il manque des Y dans la matrice, le modèle est en mode « semisupervisé »\n",
    "kbmf1mkl1mkl_semisupervised_regression_variational_train <- function(Kx, Kz, Y, parameters) {\n",
    "    \n",
    "    set.seed(parameters$seed)\n",
    "    # Initialisation des paramètres\n",
    "    Dx <- dim(Kx)[1]\n",
    "    Nx <- dim(Kx)[2]\n",
    "    Px <- dim(Kx)[3]\n",
    "    Dz <- dim(Kz)[1]\n",
    "    Nz <- dim(Kz)[2]\n",
    "    Pz <- dim(Kz)[3]\n",
    "    R <- parameters$R\n",
    "    sigma_g <- parameters$sigma_g\n",
    "    sigma_h <- parameters$sigma_h\n",
    "    sigma_y <- parameters$sigma_y\n",
    "    \n",
    "    \n",
    "    # Lambda X\n",
    "    Lambdax <- list(alpha = matrix(parameters$alpha_lambda + 0.5, Dx, R), beta = matrix(parameters$beta_lambda, \n",
    "        Dx, R))\n",
    "    Ax <- list(mu = matrix(rnorm(Dx * R), Dx, R), sigma = array(diag(1, Dx, Dx), \n",
    "        c(Dx, Dx, R)))\n",
    "    Gx <- list(mu = array(rnorm(R * Nx * Px), c(R, Nx, Px)), sigma = array(diag(1, \n",
    "        R, R), c(R, R, Px)))\n",
    "    etax <- list(alpha = matrix(parameters$alpha_eta + 0.5, Px, 1), beta = matrix(parameters$beta_eta, \n",
    "        Px, 1))\n",
    "    ex <- list(mu = matrix(1, Px, 1), sigma = diag(1, Px, Px))\n",
    "    Hx <- list(mu = matrix(rnorm(R * Nx), R, Nx), sigma = array(diag(1, R, R), c(R, \n",
    "        R, Nx)))\n",
    "    \n",
    "    # Lambda Z\n",
    "    Lambdaz <- list(alpha = matrix(parameters$alpha_lambda + 0.5, Dz, R), beta = matrix(parameters$beta_lambda, \n",
    "        Dz, R))\n",
    "    Az <- list(mu = matrix(rnorm(Dz * R), Dz, R), sigma = array(diag(1, Dz, Dz), \n",
    "        c(Dz, Dz, R)))\n",
    "    Gz <- list(mu = array(rnorm(R * Nz * Pz), c(R, Nz, Pz)), sigma = array(diag(1, \n",
    "        R, R), c(R, R, Pz)))\n",
    "    etaz <- list(alpha = matrix(parameters$alpha_eta + 0.5, Pz, 1), beta = matrix(parameters$beta_eta, \n",
    "        Pz, 1))\n",
    "    ez <- list(mu = matrix(1, Pz, 1), sigma = diag(1, Pz, Pz))\n",
    "    Hz <- list(mu = matrix(rnorm(R * Nz), R, Nz), sigma = array(diag(1, R, R), c(R, \n",
    "        R, Nz)))\n",
    "    \n",
    "    # Kernel pour X\n",
    "    KxKx <- matrix(0, Dx, Dx)\n",
    "    for (m in 1:Px) {\n",
    "        KxKx <- KxKx + tcrossprod(Kx[, , m], Kx[, , m])\n",
    "    }\n",
    "    Kx <- matrix(Kx, Dx, Nx * Px)\n",
    "    \n",
    "    # Kernel pour Z\n",
    "    KzKz <- matrix(0, Dz, Dz)\n",
    "    for (n in 1:Pz) {\n",
    "        KzKz <- KzKz + tcrossprod(Kz[, , n], Kz[, , n])\n",
    "    }\n",
    "    Kz <- matrix(Kz, Dz, Nz * Pz)\n",
    "    \n",
    "    # Mise à jour des paramètres\n",
    "    for (iter in 1:parameters$iteration) {\n",
    "        # update Lambdax\n",
    "        for (s in 1:R) {\n",
    "            Lambdax$beta[, s] <- 1/(1/parameters$beta_lambda + 0.5 * (Ax$mu[, s]^2 + \n",
    "                diag(Ax$sigma[, , s])))\n",
    "        }\n",
    "        # update Ax\n",
    "        for (s in 1:R) {\n",
    "            Ax$sigma[, , s] <- chol2inv(chol(diag(as.vector(Lambdax$alpha[, s] * \n",
    "                Lambdax$beta[, s]), Dx, Dx) + KxKx/sigma_g^2))\n",
    "            Ax$mu[, s] <- Ax$sigma[, , s] %*% (Kx %*% matrix(Gx$mu[s, , ], Nx * Px, \n",
    "                1)/sigma_g^2)\n",
    "        }\n",
    "        # update Gx\n",
    "        for (m in 1:Px) {\n",
    "            Gx$sigma[, , m] <- chol2inv(chol(diag(1/sigma_g^2, R, R) + diag((ex$mu[m] * \n",
    "                ex$mu[m] + ex$sigma[m, m])/sigma_h^2, R, R)))\n",
    "            Gx$mu[, , m] <- crossprod(Ax$mu, Kx[, ((m - 1) * Nx + 1):(m * Nx)])/sigma_g^2 + \n",
    "                ex$mu[m] * Hx$mu/sigma_h^2\n",
    "            for (o in setdiff(1:Px, m)) {\n",
    "                Gx$mu[, , m] <- Gx$mu[, , m] - (ex$mu[m] * ex$mu[o] + ex$sigma[m, \n",
    "                  o]) * Gx$mu[, , o]/sigma_h^2\n",
    "            }\n",
    "            Gx$mu[, , m] <- Gx$sigma[, , m] %*% Gx$mu[, , m]\n",
    "        }\n",
    "        # update etax\n",
    "        etax$beta <- 1/(1/parameters$beta_eta + 0.5 * (ex$mu^2 + diag(ex$sigma)))\n",
    "        # update ex\n",
    "        ex$sigma <- diag(as.vector(etax$alpha * etax$beta))\n",
    "        for (m in 1:Px) {\n",
    "            for (o in 1:Px) {\n",
    "                ex$sigma[m, o] <- ex$sigma[m, o] + (sum(Gx$mu[, , m] * Gx$mu[, , \n",
    "                  o]) + (m == o) * Nx * sum(diag(Gx$sigma[, , m])))/sigma_h^2\n",
    "            }\n",
    "        }\n",
    "        ex$sigma <- chol2inv(chol(ex$sigma))\n",
    "        for (m in 1:Px) {\n",
    "            ex$mu[m] <- sum(Gx$mu[, , m] * Hx$mu)/sigma_h^2\n",
    "        }\n",
    "        ex$mu <- ex$sigma %*% ex$mu\n",
    "        # update Hx\n",
    "        for (i in 1:Nx) {\n",
    "            indices <- which(is.na(Y[i, ]) == FALSE)\n",
    "            Hx$sigma[, , i] <- chol2inv(chol(diag(1/sigma_h^2, R, R) + (tcrossprod(Hz$mu[, \n",
    "                indices, drop = FALSE], Hz$mu[, indices, drop = FALSE]) + apply(Hz$sigma[, \n",
    "                , indices, drop = FALSE], 1:2, sum))/sigma_y^2))\n",
    "            Hx$mu[, i] <- tcrossprod(Hz$mu[, indices, drop = FALSE], Y[i, indices, \n",
    "                drop = FALSE])/sigma_y^2\n",
    "            for (m in 1:Px) {\n",
    "                Hx$mu[, i] <- Hx$mu[, i] + ex$mu[m] * Gx$mu[, i, m]/sigma_h^2\n",
    "            }\n",
    "            Hx$mu[, i] <- Hx$sigma[, , i] %*% Hx$mu[, i]\n",
    "        }\n",
    "        \n",
    "        # update Lambdaz\n",
    "        for (s in 1:R) {\n",
    "            Lambdaz$beta[, s] <- 1/(1/parameters$beta_lambda + 0.5 * (Az$mu[, s]^2 + \n",
    "                diag(Az$sigma[, , s])))\n",
    "        }\n",
    "        # update Az\n",
    "        \n",
    "        for (s in 1:R) {\n",
    "            Az$sigma[, , s] <- chol2inv(chol(diag(as.vector(Lambdaz$alpha[, s] * \n",
    "                Lambdaz$beta[, s]), Dz, Dz) + KzKz/sigma_g^2))\n",
    "            Az$mu[, s] <- Az$sigma[, , s] %*% (Kz %*% matrix(Gz$mu[s, , ], Nz * Pz, \n",
    "                1)/sigma_g^2)\n",
    "        }\n",
    "        # update Gz\n",
    "        for (n in 1:Pz) {\n",
    "            Gz$sigma[, , n] <- chol2inv(chol(diag(1/sigma_g^2, R, R) + diag((ez$mu[n] * \n",
    "                ez$mu[n] + ez$sigma[n, n])/sigma_h^2, R, R)))\n",
    "            Gz$mu[, , n] <- crossprod(Az$mu, Kz[, ((n - 1) * Nz + 1):(n * Nz)])/sigma_g^2 + \n",
    "                ez$mu[n] * Hz$mu/sigma_h^2\n",
    "            for (p in setdiff(1:Pz, n)) {\n",
    "                Gz$mu[, , n] <- Gz$mu[, , n] - (ez$mu[n] * ez$mu[p] + ez$sigma[n, \n",
    "                  p]) * Gz$mu[, , p]/sigma_h^2\n",
    "            }\n",
    "            Gz$mu[, , n] <- Gz$sigma[, , n] %*% Gz$mu[, , n]\n",
    "        }\n",
    "        # update etaz\n",
    "        etaz$beta <- 1/(1/parameters$beta_eta + 0.5 * (ez$mu^2 + diag(ez$sigma)))\n",
    "        # update ez\n",
    "        ez$sigma <- diag(as.vector(etaz$alpha * etaz$beta))\n",
    "        for (n in 1:Pz) {\n",
    "            for (p in 1:Pz) {\n",
    "                ez$sigma[n, p] <- ez$sigma[n, p] + (sum(Gz$mu[, , n] * Gz$mu[, , \n",
    "                  p]) + (n == p) * Nz * sum(diag(Gz$sigma[, , n])))/sigma_h^2\n",
    "            }\n",
    "        }\n",
    "        ez$sigma <- chol2inv(chol(ez$sigma))\n",
    "        for (n in 1:Pz) {\n",
    "            ez$mu[n] <- sum(Gz$mu[, , n] * Hz$mu)/sigma_h^2\n",
    "        }\n",
    "        ez$mu <- ez$sigma %*% ez$mu\n",
    "        # update Hz\n",
    "        for (j in 1:Nz) {\n",
    "            indices <- which(is.na(Y[, j]) == FALSE)\n",
    "            Hz$sigma[, , j] <- chol2inv(chol(diag(1/sigma_h^2, R, R) + (tcrossprod(Hx$mu[, \n",
    "                indices, drop = FALSE], Hx$mu[, indices, drop = FALSE]) + apply(Hx$sigma[, \n",
    "                , indices, drop = FALSE], 1:2, sum))/sigma_y^2))\n",
    "            Hz$mu[, j] <- Hx$mu[, indices, drop = FALSE] %*% Y[indices, j, drop = FALSE]/sigma_y^2\n",
    "            for (n in 1:Pz) {\n",
    "                Hz$mu[, j] <- Hz$mu[, j] + ez$mu[n] * Gz$mu[, j, n]/sigma_h^2\n",
    "            }\n",
    "            Hz$mu[, j] <- Hz$sigma[, , j] %*% Hz$mu[, j]\n",
    "        }\n",
    "    }\n",
    "    # ?\n",
    "    state <- list(Lambdax = Lambdax, Ax = Ax, etax = etax, ex = ex, Lambdaz = Lambdaz, \n",
    "        Az = Az, etaz = etaz, ez = ez, parameters = parameters)\n",
    "}"
   ]
  },
  {
   "cell_type": "markdown",
   "metadata": {
    "hidden": true
   },
   "source": [
    "**Fonctions de test du modèle**"
   ]
  },
  {
   "cell_type": "code",
   "execution_count": 13,
   "metadata": {
    "ExecuteTime": {
     "end_time": "2020-06-12T22:40:20.355299Z",
     "start_time": "2020-06-12T22:40:18.565Z"
    },
    "hidden": true
   },
   "outputs": [],
   "source": [
    "# Mode supervisé\n",
    "kbmf1mkl1mkl_supervised_regression_variational_test <- function(Kx, Kz, state) {\n",
    "    \n",
    "    # initialisation des paramètres\n",
    "    Nx <- dim(Kx)[2]\n",
    "    Px <- dim(Kx)[3]\n",
    "    Nz <- dim(Kz)[2]\n",
    "    Pz <- dim(Kz)[3]\n",
    "    R <- dim(state$Ax$mu)[2]\n",
    "    \n",
    "    Gx <- list(mu = array(0, c(R, Nx, Px)))\n",
    "    for (m in 1:Px) {\n",
    "        Gx$mu[, , m] <- crossprod(state$Ax$mu, Kx[, , m])\n",
    "    }\n",
    "    \n",
    "    Hx <- list(mu = matrix(0, R, Nx))\n",
    "    for (m in 1:Px) {\n",
    "        Hx$mu <- Hx$mu + state$ex$mu[m] * Gx$mu[, , m]\n",
    "    }\n",
    "    \n",
    "    Gz <- list(mu = array(0, c(R, Nz, Pz)))\n",
    "    for (n in 1:Pz) {\n",
    "        Gz$mu[, , n] <- crossprod(state$Az$mu, Kz[, , n])\n",
    "    }\n",
    "    \n",
    "    Hz <- list(mu = matrix(0, R, Nz))\n",
    "    for (n in 1:Pz) {\n",
    "        Hz$mu <- Hz$mu + state$ez$mu[n] * Gz$mu[, , n]\n",
    "    }\n",
    "    \n",
    "    Y <- list(mu = crossprod(Hx$mu, Hz$mu))\n",
    "    \n",
    "    prediction <- list(Gx = Gx, Hx = Hx, Gz = Gz, Hz = Hz, Y = Y)\n",
    "}"
   ]
  },
  {
   "cell_type": "code",
   "execution_count": 14,
   "metadata": {
    "ExecuteTime": {
     "end_time": "2020-06-12T22:40:20.377239Z",
     "start_time": "2020-06-12T22:40:18.568Z"
    },
    "hidden": true
   },
   "outputs": [],
   "source": [
    "# Mode semisupervisé\n",
    "kbmf1mkl1mkl_semisupervised_regression_variational_test <- function(Kx, Kz, state) {\n",
    "    Nx <- dim(Kx)[2]\n",
    "    Px <- dim(Kx)[3]\n",
    "    Nz <- dim(Kz)[2]\n",
    "    Pz <- dim(Kz)[3]\n",
    "    R <- dim(state$Ax$mu)[2]\n",
    "    \n",
    "    Gx <- list(mu = array(0, c(R, Nx, Px)))\n",
    "    for (m in 1:Px) {\n",
    "        Gx$mu[, , m] <- crossprod(state$Ax$mu, Kx[, , m])\n",
    "    }\n",
    "    Hx <- list(mu = matrix(0, R, Nx))\n",
    "    for (m in 1:Px) {\n",
    "        Hx$mu <- Hx$mu + state$ex$mu[m] * Gx$mu[, , m]\n",
    "    }\n",
    "    \n",
    "    Gz <- list(mu = array(0, c(R, Nz, Pz)))\n",
    "    for (n in 1:Pz) {\n",
    "        Gz$mu[, , n] <- crossprod(state$Az$mu, Kz[, , n])\n",
    "    }\n",
    "    Hz <- list(mu = matrix(0, R, Nz))\n",
    "    for (n in 1:Pz) {\n",
    "        Hz$mu <- Hz$mu + state$ez$mu[n] * Gz$mu[, , n]\n",
    "    }\n",
    "    \n",
    "    Y <- list(mu = crossprod(Hx$mu, Hz$mu))\n",
    "    \n",
    "    prediction <- list(Gx = Gx, Hx = Hx, Gz = Gz, Hz = Hz, Y = Y)\n",
    "}"
   ]
  },
  {
   "cell_type": "markdown",
   "metadata": {
    "heading_collapsed": true
   },
   "source": [
    "## Multiples noyaux sur U, un noyau sur V"
   ]
  },
  {
   "cell_type": "code",
   "execution_count": 15,
   "metadata": {
    "ExecuteTime": {
     "end_time": "2020-06-12T22:40:20.399193Z",
     "start_time": "2020-06-12T22:40:18.572Z"
    },
    "hidden": true
   },
   "outputs": [],
   "source": [
    "# S'il manque des Y dans la matrice, le modèle est en mode « semisupervisé »\n",
    "kbmf1mkl1k_supervised_regression_variational_train <- function(Kx, Kz, Y, parameters) {\n",
    "    set.seed(parameters$seed)\n",
    "    # Initialisation des paramètres\n",
    "    Dx <- dim(Kx)[1]\n",
    "    Nx <- dim(Kx)[2]\n",
    "    Px <- dim(Kx)[3]\n",
    "    Dz <- dim(Kz)[1]\n",
    "    Nz <- dim(Kz)[2]\n",
    "    R <- parameters$R\n",
    "    sigma_g <- parameters$sigma_g\n",
    "    sigma_h <- parameters$sigma_h\n",
    "    sigma_y <- parameters$sigma_y\n",
    "    \n",
    "    # Lambda X\n",
    "    Lambdax <- list(alpha = matrix(parameters$alpha_lambda + 0.5, Dx, R), beta = matrix(parameters$beta_lambda, \n",
    "        Dx, R))\n",
    "    Ax <- list(mu = matrix(rnorm(Dx * R), Dx, R), sigma = array(diag(1, Dx, Dx), \n",
    "        c(Dx, Dx, R)))\n",
    "    Gx <- list(mu = array(rnorm(R * Nx * Px), c(R, Nx, Px)), sigma = array(diag(1, \n",
    "        R, R), c(R, R, Px)))\n",
    "    #######\n",
    "    etax <- list(alpha = matrix(parameters$alpha_eta + 0.5, Px, 1), beta = matrix(parameters$beta_eta, \n",
    "        Px, 1))\n",
    "    ex <- list(mu = matrix(1, Px, 1), sigma = diag(1, Px, Px))\n",
    "    Hx <- list(mu = matrix(rnorm(R * Nx), R, Nx), sigma = diag(1, R, R))\n",
    "    \n",
    "    # Lambda Z\n",
    "    Lambdaz <- list(alpha = matrix(parameters$alpha_lambda + 0.5, Dz, R), beta = matrix(parameters$beta_lambda, \n",
    "        Dz, R))\n",
    "    Az <- list(mu = matrix(rnorm(Dz * R), Dz, R), sigma = array(diag(1, Dz, Dz), \n",
    "        c(Dz, Dz, R)))\n",
    "    Gz <- list(mu = matrix(rnorm(R * Nz), R, Nz), sigma = diag(1, R, R))\n",
    "    \n",
    "    # Mise en cache des noyaux\n",
    "    KxKx <- matrix(0, Dx, Dx)\n",
    "    for (m in 1:Px) {\n",
    "        KxKx <- KxKx + tcrossprod(Kx[, , m], Kx[, , m])\n",
    "    }\n",
    "    Kx <- matrix(Kx, Dx, Nx * Px)\n",
    "    \n",
    "    KzKz <- tcrossprod(Kz, Kz)\n",
    "    \n",
    "    # Mise à jour des paramètres\n",
    "    for (iter in 1:parameters$iteration) {\n",
    "        # update Lambdax\n",
    "        for (s in 1:R) {\n",
    "            Lambdax$beta[, s] <- 1/(1/parameters$beta_lambda + 0.5 * (Ax$mu[, s]^2 + \n",
    "                diag(Ax$sigma[, , s])))\n",
    "        }\n",
    "        # update Ax\n",
    "        for (s in 1:R) {\n",
    "            Ax$sigma[, , s] <- chol2inv(chol(diag(as.vector(Lambdax$alpha[, s] * \n",
    "                Lambdax$beta[, s]), Dx, Dx) + KxKx/sigma_g^2))\n",
    "            Ax$mu[, s] <- Ax$sigma[, , s] %*% (Kx %*% matrix(Gx$mu[s, , ], Nx * Px, \n",
    "                1)/sigma_g^2)\n",
    "        }\n",
    "        # update Gx\n",
    "        for (m in 1:Px) {\n",
    "            Gx$sigma[, , m] <- chol2inv(chol(diag(1/sigma_g^2, R, R) + diag((ex$mu[m] * \n",
    "                ex$mu[m] + ex$sigma[m, m])/sigma_h^2, R, R)))\n",
    "            Gx$mu[, , m] <- crossprod(Ax$mu, Kx[, ((m - 1) * Nx + 1):(m * Nx)])/sigma_g^2 + \n",
    "                ex$mu[m] * Hx$mu/sigma_h^2\n",
    "            for (o in setdiff(1:Px, m)) {\n",
    "                Gx$mu[, , m] <- Gx$mu[, , m] - (ex$mu[m] * ex$mu[o] + ex$sigma[m, \n",
    "                  o]) * Gx$mu[, , o]/sigma_h^2\n",
    "            }\n",
    "            Gx$mu[, , m] <- Gx$sigma[, , m] %*% Gx$mu[, , m]\n",
    "        }\n",
    "        \n",
    "        # update etax\n",
    "        etax$beta <- 1/(1/parameters$beta_eta + 0.5 * (ex$mu^2 + diag(ex$sigma)))\n",
    "        \n",
    "        # update ex\n",
    "        ex$sigma <- diag(as.vector(etax$alpha * etax$beta))\n",
    "        for (m in 1:Px) {\n",
    "            for (o in 1:Px) {\n",
    "                ex$sigma[m, o] <- ex$sigma[m, o] + (sum(Gx$mu[, , m] * Gx$mu[, , \n",
    "                  o]) + (m == o) * Nx * sum(diag(Gx$sigma[, , m])))/sigma_h^2\n",
    "            }\n",
    "        }\n",
    "        ex$sigma <- chol2inv(chol(ex$sigma))\n",
    "        for (m in 1:Px) {\n",
    "            ex$mu[m] <- sum(Gx$mu[, , m] * Hx$mu)/sigma_h^2\n",
    "        }\n",
    "        ex$mu <- ex$sigma %*% ex$mu\n",
    "        \n",
    "        # update Hx\n",
    "        Hx$sigma <- chol2inv(chol(diag(1/sigma_h^2, R, R) + (tcrossprod(Gz$mu, Gz$mu) + \n",
    "            Nz * Gz$sigma)/sigma_y^2))\n",
    "        Hx$mu <- tcrossprod(Gz$mu, Y)/sigma_y^2\n",
    "        for (m in 1:Px) {\n",
    "            Hx$mu <- Hx$mu + ex$mu[m] * Gx$mu[, , m]/sigma_h^2\n",
    "        }\n",
    "        Hx$mu <- Hx$sigma %*% Hx$mu\n",
    "        \n",
    "        # update Lambdaz\n",
    "        for (s in 1:R) {\n",
    "            Lambdaz$beta[, s] <- 1/(1/parameters$beta_lambda + 0.5 * (Az$mu[, s]^2 + \n",
    "                diag(Az$sigma[, , s])))\n",
    "        }\n",
    "        \n",
    "        # update Az\n",
    "        for (s in 1:R) {\n",
    "            Az$sigma[, , s] <- chol2inv(chol(diag(as.vector(Lambdaz$alpha[, s] * \n",
    "                Lambdaz$beta[, s]), Dz, Dz) + KzKz/sigma_g^2))\n",
    "            Az$mu[, s] <- Az$sigma[, , s] %*% (tcrossprod(Kz, Gz$mu[s, , drop = FALSE])/sigma_g^2)\n",
    "        }\n",
    "        \n",
    "        # update Gz\n",
    "        Gz$sigma <- chol2inv(chol(diag(1/sigma_g^2, R, R) + (tcrossprod(Hx$mu, Hx$mu) + \n",
    "            Nx * Hx$sigma)/sigma_y^2))\n",
    "        Gz$mu <- Gz$sigma %*% (crossprod(Az$mu, Kz)/sigma_g^2 + Hx$mu %*% Y/sigma_y^2)\n",
    "    }\n",
    "    \n",
    "    state <- list(Lambdax = Lambdax, Ax = Ax, etax = etax, ex = ex, Lambdaz = Lambdaz, \n",
    "        Az = Az, parameters = parameters)\n",
    "}\n",
    "\n"
   ]
  },
  {
   "cell_type": "code",
   "execution_count": 16,
   "metadata": {
    "ExecuteTime": {
     "end_time": "2020-06-12T22:40:20.427074Z",
     "start_time": "2020-06-12T22:40:18.577Z"
    },
    "hidden": true
   },
   "outputs": [],
   "source": [
    "# S'il manque des Y dans la matrice, le modèle est en mode « semisupervisé »\n",
    "kbmf1mkl1k_semisupervised_regression_variational_train <- function(Kx, Kz, Y, parameters) {\n",
    "    set.seed(parameters$seed)\n",
    "    # Initialisation des paramètres\n",
    "    Dx <- dim(Kx)[1]\n",
    "    Nx <- dim(Kx)[2]\n",
    "    Px <- dim(Kx)[3]\n",
    "    Dz <- dim(Kz)[1]\n",
    "    Nz <- dim(Kz)[2]\n",
    "    R <- parameters$R\n",
    "    sigma_g <- parameters$sigma_g\n",
    "    sigma_h <- parameters$sigma_h\n",
    "    sigma_y <- parameters$sigma_y\n",
    "    \n",
    "    # Lambda X\n",
    "    Lambdax <- list(alpha = matrix(parameters$alpha_lambda + 0.5, Dx, R), beta = matrix(parameters$beta_lambda, \n",
    "        Dx, R))\n",
    "    Ax <- list(mu = matrix(rnorm(Dx * R), Dx, R), sigma = array(diag(1, Dx, Dx), \n",
    "        c(Dx, Dx, R)))\n",
    "    Gx <- list(mu = array(rnorm(R * Nx * Px), c(R, Nx, Px)), sigma = array(diag(1, \n",
    "        R, R), c(R, R, Px)))\n",
    "    etax <- list(alpha = matrix(parameters$alpha_eta + 0.5, Px, 1), beta = matrix(parameters$beta_eta, \n",
    "        Px, 1))\n",
    "    ex <- list(mu = matrix(1, Px, 1), sigma = diag(1, Px, Px))\n",
    "    Hx <- list(mu = matrix(rnorm(R * Nx), R, Nx), sigma = array(diag(1, R, R), c(R, \n",
    "        R, Nx)))\n",
    "    \n",
    "    # Lambda Z\n",
    "    Lambdaz <- list(alpha = matrix(parameters$alpha_lambda + 0.5, Dz, R), beta = matrix(parameters$beta_lambda, \n",
    "        Dz, R))\n",
    "    Az <- list(mu = matrix(rnorm(Dz * R), Dz, R), sigma = array(diag(1, Dz, Dz), \n",
    "        c(Dz, Dz, R)))\n",
    "    Gz <- list(mu = matrix(rnorm(R * Nz), R, Nz), sigma = array(diag(1, R, R), c(R, \n",
    "        R, Nz)))\n",
    "    \n",
    "    # Mise en cache des noyaux\n",
    "    KxKx <- matrix(0, Dx, Dx)\n",
    "    for (m in 1:Px) {\n",
    "        KxKx <- KxKx + tcrossprod(Kx[, , m], Kx[, , m])\n",
    "    }\n",
    "    Kx <- matrix(Kx, Dx, Nx * Px)\n",
    "    \n",
    "    KzKz <- tcrossprod(Kz, Kz)\n",
    "    \n",
    "    # Mise à jour des paramètres\n",
    "    for (iter in 1:parameters$iteration) {\n",
    "        # update Lambdax\n",
    "        for (s in 1:R) {\n",
    "            Lambdax$beta[, s] <- 1/(1/parameters$beta_lambda + 0.5 * (Ax$mu[, s]^2 + \n",
    "                diag(Ax$sigma[, , s])))\n",
    "        }\n",
    "        # update Ax\n",
    "        for (s in 1:R) {\n",
    "            Ax$sigma[, , s] <- chol2inv(chol(diag(as.vector(Lambdax$alpha[, s] * \n",
    "                Lambdax$beta[, s]), Dx, Dx) + KxKx/sigma_g^2))\n",
    "            Ax$mu[, s] <- Ax$sigma[, , s] %*% (Kx %*% matrix(Gx$mu[s, , ], Nx * Px, \n",
    "                1)/sigma_g^2)\n",
    "        }\n",
    "        # update Gx\n",
    "        for (m in 1:Px) {\n",
    "            Gx$sigma[, , m] <- chol2inv(chol(diag(1/sigma_g^2, R, R) + diag((ex$mu[m] * \n",
    "                ex$mu[m] + ex$sigma[m, m])/sigma_h^2, R, R)))\n",
    "            Gx$mu[, , m] <- crossprod(Ax$mu, Kx[, ((m - 1) * Nx + 1):(m * Nx)])/sigma_g^2 + \n",
    "                ex$mu[m] * Hx$mu/sigma_h^2\n",
    "            for (o in setdiff(1:Px, m)) {\n",
    "                Gx$mu[, , m] <- Gx$mu[, , m] - (ex$mu[m] * ex$mu[o] + ex$sigma[m, \n",
    "                  o]) * Gx$mu[, , o]/sigma_h^2\n",
    "            }\n",
    "            Gx$mu[, , m] <- Gx$sigma[, , m] %*% Gx$mu[, , m]\n",
    "        }\n",
    "        # update etax\n",
    "        etax$beta <- 1/(1/parameters$beta_eta + 0.5 * (ex$mu^2 + diag(ex$sigma)))\n",
    "        # update ex\n",
    "        ex$sigma <- diag(as.vector(etax$alpha * etax$beta))\n",
    "        for (m in 1:Px) {\n",
    "            for (o in 1:Px) {\n",
    "                ex$sigma[m, o] <- ex$sigma[m, o] + (sum(Gx$mu[, , m] * Gx$mu[, , \n",
    "                  o]) + (m == o) * Nx * sum(diag(Gx$sigma[, , m])))/sigma_h^2\n",
    "            }\n",
    "        }\n",
    "        ex$sigma <- chol2inv(chol(ex$sigma))\n",
    "        for (m in 1:Px) {\n",
    "            ex$mu[m] <- sum(Gx$mu[, , m] * Hx$mu)/sigma_h^2\n",
    "        }\n",
    "        ex$mu <- ex$sigma %*% ex$mu\n",
    "        # update Hx\n",
    "        for (i in 1:Nx) {\n",
    "            indices <- which(is.na(Y[i, ]) == FALSE)\n",
    "            Hx$sigma[, , i] <- chol2inv(chol(diag(1/sigma_h^2, R, R) + (tcrossprod(Gz$mu[, \n",
    "                indices, drop = FALSE], Gz$mu[, indices, drop = FALSE]) + apply(Gz$sigma[, \n",
    "                , indices, drop = FALSE], 1:2, sum))/sigma_y^2))\n",
    "            Hx$mu[, i] <- tcrossprod(Gz$mu[, indices, drop = FALSE], Y[i, indices, \n",
    "                drop = FALSE])/sigma_y^2\n",
    "            for (m in 1:Px) {\n",
    "                Hx$mu[, i] <- Hx$mu[, i] + ex$mu[m] * Gx$mu[, i, m]/sigma_h^2\n",
    "            }\n",
    "            Hx$mu[, i] <- Hx$sigma[, , i] %*% Hx$mu[, i]\n",
    "        }\n",
    "        \n",
    "        # update Lambdaz\n",
    "        for (s in 1:R) {\n",
    "            Lambdaz$beta[, s] <- 1/(1/parameters$beta_lambda + 0.5 * (Az$mu[, s]^2 + \n",
    "                diag(Az$sigma[, , s])))\n",
    "        }\n",
    "        # update Az\n",
    "        for (s in 1:R) {\n",
    "            Az$sigma[, , s] <- chol2inv(chol(diag(as.vector(Lambdaz$alpha[, s] * \n",
    "                Lambdaz$beta[, s]), Dz, Dz) + KzKz/sigma_g^2))\n",
    "            Az$mu[, s] <- Az$sigma[, , s] %*% (tcrossprod(Kz, Gz$mu[s, , drop = FALSE])/sigma_g^2)\n",
    "        }\n",
    "        # update Gz\n",
    "        for (j in 1:Nz) {\n",
    "            indices <- which(is.na(Y[, j]) == FALSE)\n",
    "            Gz$sigma[, , j] <- chol2inv(chol(diag(1/sigma_g^2, R, R) + (tcrossprod(Hx$mu[, \n",
    "                indices, drop = FALSE], Hx$mu[, indices, drop = FALSE]) + apply(Hx$sigma[, \n",
    "                , indices, drop = FALSE], 1:2, sum))/sigma_y^2))\n",
    "            Gz$mu[, j] <- Gz$sigma[, , j] %*% (crossprod(Az$mu, Kz[, j])/sigma_g^2 + \n",
    "                Hx$mu[, indices, drop = FALSE] %*% Y[indices, j, drop = FALSE]/sigma_y^2)\n",
    "        }\n",
    "    }\n",
    "    \n",
    "    state <- list(Lambdax = Lambdax, Ax = Ax, etax = etax, ex = ex, Lambdaz = Lambdaz, \n",
    "        Az = Az, parameters = parameters)\n",
    "}"
   ]
  },
  {
   "cell_type": "markdown",
   "metadata": {
    "hidden": true
   },
   "source": [
    "**Fonction de test**"
   ]
  },
  {
   "cell_type": "code",
   "execution_count": 17,
   "metadata": {
    "ExecuteTime": {
     "end_time": "2020-06-12T22:40:20.447021Z",
     "start_time": "2020-06-12T22:40:18.582Z"
    },
    "hidden": true
   },
   "outputs": [],
   "source": [
    "# Mode supervisé\n",
    "kbmf1mkl1k_supervised_regression_variational_test <- function(Kx, Kz, state) {\n",
    "    # Initialisation des paramètres\n",
    "    Nx <- dim(Kx)[2]\n",
    "    Px <- dim(Kx)[3]\n",
    "    Nz <- dim(Kz)[2]\n",
    "    R <- dim(state$Ax$mu)[2]\n",
    "    \n",
    "    Gx <- list(mu = array(0, c(R, Nx, Px)))\n",
    "    for (m in 1:Px) {\n",
    "        Gx$mu[, , m] <- crossprod(state$Ax$mu, Kx[, , m])\n",
    "    }\n",
    "    Hx <- list(mu = matrix(0, R, Nx))\n",
    "    for (m in 1:Px) {\n",
    "        Hx$mu <- Hx$mu + state$ex$mu[m] * Gx$mu[, , m]\n",
    "    }\n",
    "    \n",
    "    Gz <- list(mu = crossprod(state$Az$mu, Kz))\n",
    "    \n",
    "    Y <- list(mu = crossprod(Hx$mu, Gz$mu))\n",
    "    \n",
    "    prediction <- list(Gx = Gx, Hx = Hx, Gz = Gz, Y = Y)\n",
    "}\n",
    "\n"
   ]
  },
  {
   "cell_type": "code",
   "execution_count": 18,
   "metadata": {
    "ExecuteTime": {
     "end_time": "2020-06-12T22:40:20.545758Z",
     "start_time": "2020-06-12T22:40:18.585Z"
    },
    "hidden": true
   },
   "outputs": [],
   "source": [
    "# Mode semisupervisé\n",
    "kbmf1mkl1k_semisupervised_regression_variational_test <- function(Kx, Kz, state) {\n",
    "    # Initialisation des paramètres\n",
    "    Nx <- dim(Kx)[2]\n",
    "    Px <- dim(Kx)[3]\n",
    "    Nz <- dim(Kz)[2]\n",
    "    R <- dim(state$Ax$mu)[2]\n",
    "    \n",
    "    Gx <- list(mu = array(0, c(R, Nx, Px)))\n",
    "    for (m in 1:Px) {\n",
    "        Gx$mu[, , m] <- crossprod(state$Ax$mu, Kx[, , m])\n",
    "    }\n",
    "    Hx <- list(mu = matrix(0, R, Nx))\n",
    "    for (m in 1:Px) {\n",
    "        Hx$mu <- Hx$mu + state$ex$mu[m] * Gx$mu[, , m]\n",
    "    }\n",
    "    \n",
    "    Gz <- list(mu = crossprod(state$Az$mu, Kz))\n",
    "    \n",
    "    Y <- list(mu = crossprod(Hx$mu, Gz$mu))\n",
    "    \n",
    "    prediction <- list(Gx = Gx, Hx = Hx, Gz = Gz, Y = Y)\n",
    "}"
   ]
  },
  {
   "cell_type": "markdown",
   "metadata": {
    "heading_collapsed": true
   },
   "source": [
    "## Un noyau sur U, multiples noyaux sur V"
   ]
  },
  {
   "cell_type": "code",
   "execution_count": 19,
   "metadata": {
    "ExecuteTime": {
     "end_time": "2020-06-12T22:40:20.567698Z",
     "start_time": "2020-06-12T22:40:18.590Z"
    },
    "hidden": true
   },
   "outputs": [],
   "source": [
    "# Supervisé\n",
    "kbmf1k1mkl_supervised_regression_variational_train <- function(Kx, Kz, Y, parameters) {\n",
    "    set.seed(parameters$seed)\n",
    "    # Initialisation des paramètres\n",
    "    Dx <- dim(Kx)[1]\n",
    "    Nx <- dim(Kx)[2]\n",
    "    Dz <- dim(Kz)[1]\n",
    "    Nz <- dim(Kz)[2]\n",
    "    Pz <- dim(Kz)[3]\n",
    "    R <- parameters$R\n",
    "    sigma_g <- parameters$sigma_g\n",
    "    sigma_h <- parameters$sigma_h\n",
    "    sigma_y <- parameters$sigma_y\n",
    "    \n",
    "    # Lambda X\n",
    "    Lambdax <- list(alpha = matrix(parameters$alpha_lambda + 0.5, Dx, R), beta = matrix(parameters$beta_lambda, \n",
    "        Dx, R))\n",
    "    Ax <- list(mu = matrix(rnorm(Dx * R), Dx, R), sigma = array(diag(1, Dx, Dx), \n",
    "        c(Dx, Dx, R)))\n",
    "    Gx <- list(mu = matrix(rnorm(R * Nx), R, Nx), sigma = diag(1, R, R))\n",
    "    \n",
    "    # Lambda Z\n",
    "    Lambdaz <- list(alpha = matrix(parameters$alpha_lambda + 0.5, Dz, R), beta = matrix(parameters$beta_lambda, \n",
    "        Dz, R))\n",
    "    Az <- list(mu = matrix(rnorm(Dz * R), Dz, R), sigma = array(diag(1, Dz, Dz), \n",
    "        c(Dz, Dz, R)))\n",
    "    Gz <- list(mu = array(rnorm(R * Nz * Pz), c(R, Nz, Pz)), sigma = array(diag(1, \n",
    "        R, R), c(R, R, Pz)))\n",
    "    etaz <- list(alpha = matrix(parameters$alpha_eta + 0.5, Pz, 1), beta = matrix(parameters$beta_eta, \n",
    "        Pz, 1))\n",
    "    ez <- list(mu = matrix(1, Pz, 1), sigma = diag(1, Pz, Pz))\n",
    "    Hz <- list(mu = matrix(rnorm(R * Nz), R, Nz), sigma = diag(1, R, R))\n",
    "    \n",
    "    # Kernels\n",
    "        # Kernels X\n",
    "    KxKx <- tcrossprod(Kx, Kx)\n",
    "        # Kernels Z\n",
    "    KzKz <- matrix(0, Dz, Dz)\n",
    "    for (n in 1:Pz) {\n",
    "        KzKz <- KzKz + tcrossprod(Kz[, , n], Kz[, , n])\n",
    "    }\n",
    "    Kz <- matrix(Kz, Dz, Nz * Pz)\n",
    "    \n",
    "    # Mise à jour des paramètres\n",
    "    for (iter in 1:parameters$iteration) {\n",
    "        # update Lambdax\n",
    "        for (s in 1:R) {\n",
    "            Lambdax$beta[, s] <- 1/(1/parameters$beta_lambda + 0.5 * (Ax$mu[, s]^2 + \n",
    "                diag(Ax$sigma[, , s])))\n",
    "        }\n",
    "        # update Ax\n",
    "        for (s in 1:R) {\n",
    "            Ax$sigma[, , s] <- chol2inv(chol(diag(as.vector(Lambdax$alpha[, s] * \n",
    "                Lambdax$beta[, s]), Dx, Dx) + KxKx/sigma_g^2))\n",
    "            Ax$mu[, s] <- Ax$sigma[, , s] %*% (tcrossprod(Kx, Gx$mu[s, , drop = FALSE])/sigma_g^2)\n",
    "        }\n",
    "        # update Gx\n",
    "        Gx$sigma <- chol2inv(chol(diag(1/sigma_g^2, R, R) + (tcrossprod(Hz$mu, Hz$mu) + \n",
    "            Nz * Hz$sigma)/sigma_y^2))\n",
    "        Gx$mu <- Gx$sigma %*% (crossprod(Ax$mu, Kx)/sigma_g^2 + tcrossprod(Hz$mu, \n",
    "            Y)/sigma_y^2)\n",
    "        \n",
    "        # update Lambdaz\n",
    "        for (s in 1:R) {\n",
    "            Lambdaz$beta[, s] <- 1/(1/parameters$beta_lambda + 0.5 * (Az$mu[, s]^2 + \n",
    "                diag(Az$sigma[, , s])))\n",
    "        }\n",
    "        # update Az\n",
    "        for (s in 1:R) {\n",
    "            Az$sigma[, , s] <- chol2inv(chol(diag(as.vector(Lambdaz$alpha[, s] * \n",
    "                Lambdaz$beta[, s]), Dz, Dz) + KzKz/sigma_g^2))\n",
    "            Az$mu[, s] <- Az$sigma[, , s] %*% (Kz %*% matrix(Gz$mu[s, , ], Nz * Pz, \n",
    "                1)/sigma_g^2)\n",
    "        }\n",
    "        # update Gz\n",
    "        for (n in 1:Pz) {\n",
    "            Gz$sigma[, , n] <- chol2inv(chol(diag(1/sigma_g^2, R, R) + diag((ez$mu[n] * \n",
    "                ez$mu[n] + ez$sigma[n, n])/sigma_h^2, R, R)))\n",
    "            Gz$mu[, , n] <- crossprod(Az$mu, Kz[, ((n - 1) * Nz + 1):(n * Nz)])/sigma_g^2 + \n",
    "                ez$mu[n] * Hz$mu/sigma_h^2\n",
    "            for (p in setdiff(1:Pz, n)) {\n",
    "                Gz$mu[, , n] <- Gz$mu[, , n] - (ez$mu[n] * ez$mu[p] + ez$sigma[n, \n",
    "                  p]) * Gz$mu[, , p]/sigma_h^2\n",
    "            }\n",
    "            Gz$mu[, , n] <- Gz$sigma[, , n] %*% Gz$mu[, , n]\n",
    "        }\n",
    "        # update etaz\n",
    "        etaz$beta <- 1/(1/parameters$beta_eta + 0.5 * (ez$mu^2 + diag(ez$sigma)))\n",
    "        # update ez\n",
    "        ez$sigma <- diag(as.vector(etaz$alpha * etaz$beta))\n",
    "        for (n in 1:Pz) {\n",
    "            for (p in 1:Pz) {\n",
    "                ez$sigma[n, p] <- ez$sigma[n, p] + (sum(Gz$mu[, , n] * Gz$mu[, , \n",
    "                  p]) + (n == p) * Nz * sum(diag(Gz$sigma[, , n])))/sigma_h^2\n",
    "            }\n",
    "        }\n",
    "        ez$sigma <- chol2inv(chol(ez$sigma))\n",
    "        for (n in 1:Pz) {\n",
    "            ez$mu[n] <- sum(Gz$mu[, , n] * Hz$mu)/sigma_h^2\n",
    "        }\n",
    "        ez$mu <- ez$sigma %*% ez$mu\n",
    "        # update Hz\n",
    "        Hz$sigma <- chol2inv(chol(diag(1/sigma_h^2, R, R) + (tcrossprod(Gx$mu, Gx$mu) + \n",
    "            Nx * Gx$sigma)/sigma_y^2))\n",
    "        Hz$mu <- Gx$mu %*% Y/sigma_y^2\n",
    "        for (n in 1:Pz) {\n",
    "            Hz$mu <- Hz$mu + ez$mu[n] * Gz$mu[, , n]/sigma_h^2\n",
    "        }\n",
    "        Hz$mu <- Hz$sigma %*% Hz$mu\n",
    "    }\n",
    "    \n",
    "    state <- list(Lambdax = Lambdax, Ax = Ax, Lambdaz = Lambdaz, Az = Az, etaz = etaz, \n",
    "        ez = ez, parameters = parameters)\n",
    "}\n",
    "\n"
   ]
  },
  {
   "cell_type": "code",
   "execution_count": 20,
   "metadata": {
    "ExecuteTime": {
     "end_time": "2020-06-12T22:40:20.587644Z",
     "start_time": "2020-06-12T22:40:18.594Z"
    },
    "hidden": true
   },
   "outputs": [],
   "source": [
    "kbmf1k1mkl_semisupervised_regression_variational_train <- function(Kx, Kz, Y, parameters) {\n",
    "    set.seed(parameters$seed)\n",
    "    # Initialisation des paramètres\n",
    "    Dx <- dim(Kx)[1]\n",
    "    Nx <- dim(Kx)[2]\n",
    "    Dz <- dim(Kz)[1]\n",
    "    Nz <- dim(Kz)[2]\n",
    "    Pz <- dim(Kz)[3]\n",
    "    R <- parameters$R\n",
    "    sigma_g <- parameters$sigma_g\n",
    "    sigma_h <- parameters$sigma_h\n",
    "    sigma_y <- parameters$sigma_y\n",
    "    \n",
    "    # Lambda X\n",
    "    Lambdax <- list(alpha = matrix(parameters$alpha_lambda + 0.5, Dx, R), beta = matrix(parameters$beta_lambda, \n",
    "        Dx, R))\n",
    "    Ax <- list(mu = matrix(rnorm(Dx * R), Dx, R), sigma = array(diag(1, Dx, Dx), \n",
    "        c(Dx, Dx, R)))\n",
    "    Gx <- list(mu = matrix(rnorm(R * Nx), R, Nx), sigma = array(diag(1, R, R), c(R, \n",
    "        R, Nx)))\n",
    "    \n",
    "    # Lambda Z\n",
    "    Lambdaz <- list(alpha = matrix(parameters$alpha_lambda + 0.5, Dz, R), beta = matrix(parameters$beta_lambda, \n",
    "        Dz, R))\n",
    "    Az <- list(mu = matrix(rnorm(Dz * R), Dz, R), sigma = array(diag(1, Dz, Dz), \n",
    "        c(Dz, Dz, R)))\n",
    "    Gz <- list(mu = array(rnorm(R * Nz * Pz), c(R, Nz, Pz)), sigma = array(diag(1, \n",
    "        R, R), c(R, R, Pz)))\n",
    "    etaz <- list(alpha = matrix(parameters$alpha_eta + 0.5, Pz, 1), beta = matrix(parameters$beta_eta, \n",
    "        Pz, 1))\n",
    "    ez <- list(mu = matrix(1, Pz, 1), sigma = diag(1, Pz, Pz))\n",
    "    Hz <- list(mu = matrix(rnorm(R * Nz), R, Nz), sigma = array(diag(1, R, R), c(R, \n",
    "        R, Nz)))\n",
    "    \n",
    "    # Mise en cache des kernels\n",
    "    KxKx <- tcrossprod(Kx, Kx)\n",
    "    \n",
    "    KzKz <- matrix(0, Dz, Dz)\n",
    "    for (n in 1:Pz) {\n",
    "        KzKz <- KzKz + tcrossprod(Kz[, , n], Kz[, , n])\n",
    "    }\n",
    "    Kz <- matrix(Kz, Dz, Nz * Pz)\n",
    "    \n",
    "    # Mise à jour des paramètres\n",
    "    for (iter in 1:parameters$iteration) {\n",
    "        # update Lambdax\n",
    "        for (s in 1:R) {\n",
    "            Lambdax$beta[, s] <- 1/(1/parameters$beta_lambda + 0.5 * (Ax$mu[, s]^2 + \n",
    "                diag(Ax$sigma[, , s])))\n",
    "        }\n",
    "        # update Ax\n",
    "        for (s in 1:R) {\n",
    "            Ax$sigma[, , s] <- chol2inv(chol(diag(as.vector(Lambdax$alpha[, s] * \n",
    "                Lambdax$beta[, s]), Dx, Dx) + KxKx/sigma_g^2))\n",
    "            Ax$mu[, s] <- Ax$sigma[, , s] %*% (tcrossprod(Kx, Gx$mu[s, , drop = FALSE])/sigma_g^2)\n",
    "        }\n",
    "        # update Gx\n",
    "        for (i in 1:Nx) {\n",
    "            indices <- which(is.na(Y[i, ]) == FALSE)\n",
    "            Gx$sigma[, , i] <- chol2inv(chol(diag(1/sigma_g^2, R, R) + (tcrossprod(Hz$mu[, \n",
    "                indices, drop = FALSE], Hz$mu[, indices, drop = FALSE]) + apply(Hz$sigma[, \n",
    "                , indices, drop = FALSE], 1:2, sum))/sigma_y^2))\n",
    "            Gx$mu[, i] <- Gx$sigma[, , i] %*% (crossprod(Ax$mu, Kx[, i])/sigma_g^2 + \n",
    "                tcrossprod(Hz$mu[, indices, drop = FALSE], Y[i, indices, drop = FALSE])/sigma_y^2)\n",
    "        }\n",
    "        \n",
    "        # update Lambdaz\n",
    "        for (s in 1:R) {\n",
    "            Lambdaz$beta[, s] <- 1/(1/parameters$beta_lambda + 0.5 * (Az$mu[, s]^2 + \n",
    "                diag(Az$sigma[, , s])))\n",
    "        }\n",
    "        # update Az\n",
    "        for (s in 1:R) {\n",
    "            Az$sigma[, , s] <- chol2inv(chol(diag(as.vector(Lambdaz$alpha[, s] * \n",
    "                Lambdaz$beta[, s]), Dz, Dz) + KzKz/sigma_g^2))\n",
    "            Az$mu[, s] <- Az$sigma[, , s] %*% (Kz %*% matrix(Gz$mu[s, , ], Nz * Pz, \n",
    "                1)/sigma_g^2)\n",
    "        }\n",
    "        # update Gz\n",
    "        for (n in 1:Pz) {\n",
    "            Gz$sigma[, , n] <- chol2inv(chol(diag(1/sigma_g^2, R, R) + diag((ez$mu[n] * \n",
    "                ez$mu[n] + ez$sigma[n, n])/sigma_h^2, R, R)))\n",
    "            Gz$mu[, , n] <- crossprod(Az$mu, Kz[, ((n - 1) * Nz + 1):(n * Nz)])/sigma_g^2 + \n",
    "                ez$mu[n] * Hz$mu/sigma_h^2\n",
    "            for (p in setdiff(1:Pz, n)) {\n",
    "                Gz$mu[, , n] <- Gz$mu[, , n] - (ez$mu[n] * ez$mu[p] + ez$sigma[n, \n",
    "                  p]) * Gz$mu[, , p]/sigma_h^2\n",
    "            }\n",
    "            Gz$mu[, , n] <- Gz$sigma[, , n] %*% Gz$mu[, , n]\n",
    "        }\n",
    "        # update etaz\n",
    "        etaz$beta <- 1/(1/parameters$beta_eta + 0.5 * (ez$mu^2 + diag(ez$sigma)))\n",
    "        # update ez\n",
    "        ez$sigma <- diag(as.vector(etaz$alpha * etaz$beta))\n",
    "        for (n in 1:Pz) {\n",
    "            for (p in 1:Pz) {\n",
    "                ez$sigma[n, p] <- ez$sigma[n, p] + (sum(Gz$mu[, , n] * Gz$mu[, , \n",
    "                  p]) + (n == p) * Nz * sum(diag(Gz$sigma[, , n])))/sigma_h^2\n",
    "            }\n",
    "        }\n",
    "        ez$sigma <- chol2inv(chol(ez$sigma))\n",
    "        for (n in 1:Pz) {\n",
    "            ez$mu[n] <- sum(Gz$mu[, , n] * Hz$mu)/sigma_h^2\n",
    "        }\n",
    "        ez$mu <- ez$sigma %*% ez$mu\n",
    "        # update Hz\n",
    "        for (j in 1:Nz) {\n",
    "            indices <- which(is.na(Y[, j]) == FALSE)\n",
    "            Hz$sigma[, , j] <- chol2inv(chol(diag(1/sigma_h^2, R, R) + (tcrossprod(Gx$mu[, \n",
    "                indices, drop = FALSE], Gx$mu[, indices, drop = FALSE]) + apply(Gx$sigma[, \n",
    "                , indices, drop = FALSE], 1:2, sum))/sigma_y^2))\n",
    "            Hz$mu[, j] <- Gx$mu[, indices, drop = FALSE] %*% Y[indices, j, drop = FALSE]/sigma_y^2\n",
    "            for (n in 1:Pz) {\n",
    "                Hz$mu[, j] <- Hz$mu[, j] + ez$mu[n] * Gz$mu[, j, n]/sigma_h^2\n",
    "            }\n",
    "            Hz$mu[, j] <- Hz$sigma[, , j] %*% Hz$mu[, j]\n",
    "        }\n",
    "    }\n",
    "    \n",
    "    state <- list(Lambdax = Lambdax, Ax = Ax, Lambdaz = Lambdaz, Az = Az, etaz = etaz, \n",
    "        ez = ez, parameters = parameters)\n",
    "}"
   ]
  },
  {
   "cell_type": "code",
   "execution_count": 21,
   "metadata": {
    "ExecuteTime": {
     "end_time": "2020-06-12T22:40:20.606594Z",
     "start_time": "2020-06-12T22:40:18.598Z"
    },
    "hidden": true
   },
   "outputs": [],
   "source": [
    "# Mode supervisé\n",
    "kbmf1k1mkl_supervised_regression_variational_test <- function(Kx, Kz, state) {\n",
    "    # Initialisation des paramètres\n",
    "    Nz <- dim(Kz)[2]\n",
    "    Pz <- dim(Kz)[3]\n",
    "    R <- dim(state$Ax$mu)[2]\n",
    "    \n",
    "    Gx <- list(mu = crossprod(state$Ax$mu, Kx))\n",
    "    \n",
    "    Gz <- list(mu = array(0, c(R, Nz, Pz)))\n",
    "    for (n in 1:Pz) {\n",
    "      Gz$mu[, , n] <- crossprod(state$Az$mu, Kz[, , n])\n",
    "    }\n",
    "    Hz <- list(mu = matrix(0, R, Nz))\n",
    "    for (n in 1:Pz) {\n",
    "      Hz$mu <- Hz$mu + state$ez$mu[n] * Gz$mu[, , n]\n",
    "    }\n",
    "    \n",
    "    Y <- list(mu = crossprod(Gx$mu, Hz$mu))\n",
    "    \n",
    "    prediction <- list(Gx = Gx,\n",
    "                       Gz = Gz,\n",
    "                       Hz = Hz,\n",
    "                       Y = Y)\n",
    "  }\n",
    "\n"
   ]
  },
  {
   "cell_type": "code",
   "execution_count": 22,
   "metadata": {
    "ExecuteTime": {
     "end_time": "2020-06-12T22:40:20.624546Z",
     "start_time": "2020-06-12T22:40:18.602Z"
    },
    "hidden": true
   },
   "outputs": [],
   "source": [
    "# Mode semisupervisé\n",
    "kbmf1k1mkl_semisupervised_regression_variational_test <- function(Kx, Kz, state) {\n",
    "    # Initialisation des paramètres\n",
    "    Nz <- dim(Kz)[2]\n",
    "    Pz <- dim(Kz)[3]\n",
    "    R <- dim(state$Ax$mu)[2]\n",
    "    \n",
    "    Gx <- list(mu = crossprod(state$Ax$mu, Kx))\n",
    "    \n",
    "    Gz <- list(mu = array(0, c(R, Nz, Pz)))\n",
    "    for (n in 1:Pz) {\n",
    "      Gz$mu[, , n] <- crossprod(state$Az$mu, Kz[, , n])\n",
    "    }\n",
    "    Hz <- list(mu = matrix(0, R, Nz))\n",
    "    for (n in 1:Pz) {\n",
    "      Hz$mu <- Hz$mu + state$ez$mu[n] * Gz$mu[, , n]\n",
    "    }\n",
    "    \n",
    "    Y <- list(mu = crossprod(Gx$mu, Hz$mu))\n",
    "    \n",
    "    prediction <- list(Gx = Gx,\n",
    "                       Gz = Gz,\n",
    "                       Hz = Hz,\n",
    "                       Y = Y)\n",
    "  }"
   ]
  },
  {
   "cell_type": "markdown",
   "metadata": {},
   "source": [
    "## Entrainement du modèle\n",
    "\n",
    "*Le modèle de régression est ici utilisé*"
   ]
  },
  {
   "cell_type": "code",
   "execution_count": 23,
   "metadata": {
    "ExecuteTime": {
     "end_time": "2020-06-12T22:40:20.643495Z",
     "start_time": "2020-06-12T22:40:18.606Z"
    }
   },
   "outputs": [],
   "source": [
    "kbmf_regression_train <- function(Kx, Kz, Y, R, iter, varargin) {\n",
    "    \n",
    "    # ====================================================\n",
    "    # Fonction d'entrainement du modèle\n",
    "    # Paramètres en entrée  \n",
    "    # Kx\n",
    "    # Kz\n",
    "    # Y\n",
    "    # R\n",
    "    # iter\n",
    "    # varargin\n",
    "    # \n",
    "    # Paramètres en sortie\n",
    "    # \n",
    "    # \n",
    "    #\n",
    "    # ====================================================\n",
    "    \n",
    "    is_supervised <- all(Y > 0)\n",
    "    \n",
    "    # Initialisation des paramètres\n",
    "    Px <- dim(Kx)[3]\n",
    "    Pz <- dim(Kz)[3]\n",
    "    \n",
    "    parameters <- list()\n",
    "    \n",
    "    parameters$alpha_lambda <- 1\n",
    "    parameters$beta_lambda <- 1\n",
    "    \n",
    "    if (Px > 1 || Pz > 1) {\n",
    "        parameters$alpha_eta <- 1\n",
    "        parameters$beta_eta <- 1\n",
    "    }\n",
    "    parameters$iteration <- iter\n",
    "    parameters$progress <- 1  \n",
    "    parameters$R <- R \n",
    "    parameters$seed <- 1606\n",
    "    parameters$sigma_g <- 0.1 \n",
    "    \n",
    "    if (Px > 1 || Pz > 1) {\n",
    "        parameters$sigma_h <- 0.1\n",
    "    }\n",
    "    parameters$sigma_y <- 1\n",
    "    \n",
    "    # Choix du modèle (multi kernel learning pour X ou Z, kernel learning pour X ou Z)\n",
    "    if (is_supervised == 1) {\n",
    "        print(\"Supervisé\")\n",
    "        if (Px == 1 && Pz == 1) {\n",
    "            print(\"Noyaux == 1\")\n",
    "            train_function <- kbmf1k1k_supervised_regression_variational_train\n",
    "            test_function <- kbmf1k1k_supervised_regression_variational_test\n",
    "        }\n",
    "        if (Px > 1 && Pz == 1) {\n",
    "            print(\"Noyau X > 1, Noyau Z == 1\")\n",
    "            train_function <- kbmf1mkl1k_supervised_regression_variational_train\n",
    "            test_function <- kbmf1mkl1k_supervised_regression_variational_test\n",
    "        }\n",
    "        if (Px == 1 && Pz > 1) {\n",
    "            print(\"Noyau X == 1, Noyau Z > 1\")\n",
    "            train_function <- kbmf1k1mkl_supervised_regression_variational_train\n",
    "            test_function <- kbmf1k1mkl_supervised_regression_variational_test\n",
    "        }\n",
    "        if (Px > 1 && Pz > 1) {\n",
    "            print(\"Noyau X > 1, Noyau Z > 1\")\n",
    "            train_function <- kbmf1mkl1mkl_supervised_regression_variational_train\n",
    "            test_function <- kbmf1mkl1mkl_supervised_regression_variational_test\n",
    "        }\n",
    "    } else {\n",
    "        print(\"Semi-supervisé\")\n",
    "        if (Px == 1 && Pz == 1) {\n",
    "            print(\"Noyau X == 1, Noyau Z == 1\")\n",
    "            train_function <- kbmf1k1k_semisupervised_regression_variational_train\n",
    "            test_function <- kbmf1k1k_semisupervised_regression_variational_test\n",
    "        }\n",
    "        if (Px > 1 && Pz == 1) {\n",
    "            print(\"Noyau X > 1, Noyau Z == 1\")\n",
    "\n",
    "            train_function <- kbmf1mkl1k_semisupervised_regression_variational_train\n",
    "            test_function <- kbmf1mkl1k_semisupervised_regression_variational_test\n",
    "        }\n",
    "        if (Px == 1 && Pz > 1) {\n",
    "            print(\"Noyau X == 1, Noyau Z > 1\")\n",
    "\n",
    "            train_function <- kbmf1k1mkl_semisupervised_regression_variational_train\n",
    "            test_function <- kbmf1k1mkl_semisupervised_regression_variational_test\n",
    "        }\n",
    "        if (Px > 1 && Pz > 1) {\n",
    "            print(\"Noyau X > 1, Noyau Z > 1\")\n",
    "\n",
    "            train_function <- kbmf1mkl1mkl_semisupervised_regression_variational_train\n",
    "            test_function <- kbmf1mkl1mkl_semisupervised_regression_variational_test\n",
    "        }\n",
    "    }\n",
    "    if (missing(varargin) == FALSE) {\n",
    "        for (name in names(varargin)) {\n",
    "            parameters[[name]] <- varargin[[name]]\n",
    "        }\n",
    "    }\n",
    "    parameters$train_function <- train_function\n",
    "    parameters$test_function <- test_function\n",
    "    \n",
    "    state <- train_function(drop(Kx), drop(Kz), Y, parameters)\n",
    "}"
   ]
  },
  {
   "cell_type": "code",
   "execution_count": 24,
   "metadata": {
    "ExecuteTime": {
     "end_time": "2020-06-12T22:40:20.664439Z",
     "start_time": "2020-06-12T22:40:18.610Z"
    }
   },
   "outputs": [],
   "source": [
    "kbmf_regression_test <- function(Kx, Kz, state) {\n",
    "    # ====================================================\n",
    "    # Fonction de test du modèle\n",
    "    # Paramètres en entrée  \n",
    "    # Kx\n",
    "    # Kz\n",
    "    # state\n",
    "    # \n",
    "    # \n",
    "    # \n",
    "    # \n",
    "    # Paramètres en sortie\n",
    "    # \n",
    "    # \n",
    "    #\n",
    "    # ====================================================\n",
    "    prediction <- state$parameters$test_function(drop(Kx), drop(Kz), state)\n",
    "    }"
   ]
  },
  {
   "cell_type": "code",
   "execution_count": 25,
   "metadata": {
    "ExecuteTime": {
     "end_time": "2020-06-12T22:40:49.058919Z",
     "start_time": "2020-06-12T22:40:18.614Z"
    }
   },
   "outputs": [
    {
     "name": "stdout",
     "output_type": "stream",
     "text": [
      "[1] \"Semi-supervisé\"\n",
      "[1] \"Noyau X == 1, Noyau Z == 1\"\n"
     ]
    }
   ],
   "source": [
    "# Entrainement\n",
    "state <- kbmf_regression_train(Kx, Kz, Y, 5, iter = 5) # Le R est le rang??"
   ]
  },
  {
   "cell_type": "code",
   "execution_count": 26,
   "metadata": {
    "ExecuteTime": {
     "end_time": "2020-06-12T22:40:49.092783Z",
     "start_time": "2020-06-12T22:40:18.617Z"
    }
   },
   "outputs": [],
   "source": [
    "# Test du modèle\n",
    "prediction <- kbmf_regression_test(Kx, Kz, state)"
   ]
  },
  {
   "cell_type": "markdown",
   "metadata": {},
   "source": [
    "# Présentation des résultats"
   ]
  },
  {
   "cell_type": "code",
   "execution_count": 27,
   "metadata": {
    "ExecuteTime": {
     "end_time": "2020-06-12T22:40:49.111731Z",
     "start_time": "2020-06-12T22:40:18.621Z"
    }
   },
   "outputs": [
    {
     "name": "stdout",
     "output_type": "stream",
     "text": [
      "[1] \"RMSE = 35.2141\"\n"
     ]
    }
   ],
   "source": [
    "print(sprintf(\"RMSE = %.4f\", sqrt(mean((prediction$Y$mu - Y) ^ 2))))"
   ]
  },
  {
   "cell_type": "code",
   "execution_count": 28,
   "metadata": {
    "ExecuteTime": {
     "end_time": "2020-06-12T22:40:49.133613Z",
     "start_time": "2020-06-12T22:40:18.626Z"
    }
   },
   "outputs": [
    {
     "name": "stdout",
     "output_type": "stream",
     "text": [
      "[1] \"kernel weights on X\"\n",
      "NULL\n"
     ]
    }
   ],
   "source": [
    "print(\"kernel weights on X\")\n",
    "print(state$ex$mu)"
   ]
  },
  {
   "cell_type": "code",
   "execution_count": 29,
   "metadata": {
    "ExecuteTime": {
     "end_time": "2020-06-12T22:40:49.152672Z",
     "start_time": "2020-06-12T22:40:18.629Z"
    }
   },
   "outputs": [
    {
     "name": "stdout",
     "output_type": "stream",
     "text": [
      "[1] \"kernel weights on Z\"\n",
      "NULL\n"
     ]
    }
   ],
   "source": [
    "print(\"kernel weights on Z\")\n",
    "print(state$ez$mu)"
   ]
  }
 ],
 "metadata": {
  "kernelspec": {
   "display_name": "R",
   "language": "R",
   "name": "ir"
  },
  "language_info": {
   "codemirror_mode": "r",
   "file_extension": ".r",
   "mimetype": "text/x-r-source",
   "name": "R",
   "pygments_lexer": "r",
   "version": "3.6.3"
  },
  "toc": {
   "base_numbering": 1,
   "nav_menu": {},
   "number_sections": true,
   "sideBar": true,
   "skip_h1_title": false,
   "title_cell": "Table of Contents",
   "title_sidebar": "Contents",
   "toc_cell": false,
   "toc_position": {},
   "toc_section_display": true,
   "toc_window_display": false
  },
  "varInspector": {
   "cols": {
    "lenName": 16,
    "lenType": 16,
    "lenVar": 40
   },
   "kernels_config": {
    "python": {
     "delete_cmd_postfix": "",
     "delete_cmd_prefix": "del ",
     "library": "var_list.py",
     "varRefreshCmd": "print(var_dic_list())"
    },
    "r": {
     "delete_cmd_postfix": ") ",
     "delete_cmd_prefix": "rm(",
     "library": "var_list.r",
     "varRefreshCmd": "cat(var_dic_list()) "
    }
   },
   "types_to_exclude": [
    "module",
    "function",
    "builtin_function_or_method",
    "instance",
    "_Feature"
   ],
   "window_display": false
  }
 },
 "nbformat": 4,
 "nbformat_minor": 4
}
