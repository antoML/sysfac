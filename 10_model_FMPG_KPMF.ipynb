{
 "cells": [
  {
   "cell_type": "markdown",
   "metadata": {},
   "source": [
    "# À propos de ce livret\n",
    "\n",
    "Ceci est la méthode KPMF : \n",
    "* Ce qu'est KPMF;\n",
    "* Comment implémenter KBMF en utilisant R;\n",
    "* La manière de faire de l'imputation avec un jeu de données spatiotemporel.\n",
    "Pour une compréhension en profondeur de la méthode, ainsi que les techniques de modélisation, voici les recherches liés au développement de la méthode : \n",
    "\n",
    ">Tinghui Zhou, Hanhuai Shan, Arindam Banerjee, Guillermo Sapiro (2012). **Kernelized probabilistic matrix factorization: exploiting graphs and side information.**\n",
    "\n",
    "\n",
    "La méthode implantée provient des dépôts Github : \n",
    "\n",
    "[**Dépôt 1**](https://github.com/kastnerkyle/School/blob/master/atpr/matrix_factorization.py) *version python*\n",
    "[**Dépôt 2**](https://github.com/sg3510/al_proj) *version matlab*\n",
    "\n",
    "\n",
    "\n",
    "\n",
    "## Prêt-à-l'utilisation\n",
    "\n",
    "Ce livret est disponible pour tout usage d'imputation."
   ]
  },
  {
   "cell_type": "code",
   "execution_count": 1,
   "metadata": {
    "ExecuteTime": {
     "end_time": "2020-06-05T19:20:48.400176Z",
     "start_time": "2020-06-05T19:20:47.912258Z"
    }
   },
   "outputs": [],
   "source": [
    "import os\n",
    "import numpy as np\n",
    "import matplotlib.pyplot as plot\n",
    "import matplotlib.cm as cm\n",
    "# from scipy.misc import lena (non utilisé - À la base cet élément servait à générer des images)\n",
    "from scipy.misc import ascent # au lieu de lena\n",
    "import scipy.sparse as sp\n",
    "import scipy.linalg as sl\n",
    "#import numpy.linalg as sl"
   ]
  },
  {
   "cell_type": "code",
   "execution_count": 2,
   "metadata": {
    "ExecuteTime": {
     "end_time": "2020-06-05T19:20:51.816791Z",
     "start_time": "2020-06-05T19:20:51.808832Z"
    }
   },
   "outputs": [],
   "source": [
    "os.chdir(\"C:/Users/amass/OneDrive/02_Education/02_Maitrise/Cours/PROJET_MAITRISE/application\")"
   ]
  },
  {
   "cell_type": "markdown",
   "metadata": {
    "heading_collapsed": true
   },
   "source": [
    "## Model"
   ]
  },
  {
   "cell_type": "code",
   "execution_count": null,
   "metadata": {
    "hidden": true
   },
   "outputs": [],
   "source": [
    "#!/usr/bin/python\n",
    "import numpy as np\n",
    "import matplotlib.pyplot as plot\n",
    "import matplotlib.cm as cm\n",
    "from scipy.misc import lena\n",
    "#To get the latest scipy (for banded matrix generation\n",
    "#sudo apt-get install python python-dev gfortran libatlas-base-dev\n",
    "#sudo pip install scipy\n",
    "import scipy.sparse as sp\n",
    "import scipy.linalg as sl\n",
    "#Example from\n",
    "#Singular Value Decomposition Tutorial\n",
    "#Kirk Baker\n",
    "#pg 17\n",
    "\n",
    "#A = np.asarray([[3,1,1],[-1, 3, 1]])\n",
    "#U,S,VT = np.linalg.svd(A, full_matrices=False)\n",
    "#S = np.diag(S)\n",
    "#A_ = np.dot(U, np.dot(S, VT))\n",
    "#print np.allclose(A, A_)\n",
    "\n",
    "def lowrank_SVD(input_matrix, approx=50):\n",
    "    U,S,VT = np.linalg.svd(A, full_matrices=False)\n",
    "    A_ = np.zeros((len(U), len(VT)))\n",
    "    print \"Running low rank SVD with:\"\n",
    "    print \"approximation rank=\" + `K`\n",
    "    print \"\"\n",
    "    for i in xrange(K):\n",
    "        A_ += S[i]*np.outer(U.T[i],VT[i])\n",
    "    return A_\n",
    "\n",
    "def PMF(input_matrix, approx=50, iterations=30, learning_rate=.001, regularization_rate=.1):\n",
    "    A = input_matrix\n",
    "    Z = np.asarray(A > 0,dtype=np.int)\n",
    "    A1d = np.ravel(A)\n",
    "    mean = np.mean(A1d)\n",
    "    #Remove DC term (mean), advice from\n",
    "    #http://www.intelligentmining.com/2011/08/08/intro-to-matrix-factorization/\n",
    "    A = A-mean\n",
    "    K = approx\n",
    "    R = itr = iterations\n",
    "    l = learning_rate\n",
    "    b = regularization_rate\n",
    "    N = A.shape[0]\n",
    "    M = A.shape[1]\n",
    "    U = np.random.randn(N,K)\n",
    "    V = np.random.randn(K,M)\n",
    "    print \"Running PMF with:\"\n",
    "    print \"learning rate=\" + `l`\n",
    "    print \"regularization rate=\" + `b`\n",
    "    print \"approximation rank=\" + `K`\n",
    "    print \"iterations=\" + `R`\n",
    "    print \"\"\n",
    "    #PMF using gradient descent as per paper\n",
    "    #Probabilistic Matrix Factorization\n",
    "    #R. Salakhutdinov, A. Minh\n",
    "    for r in range(R):\n",
    "        for i in range(N):\n",
    "            for j in range(M):\n",
    "                if Z[i,j] > 0:\n",
    "                    e = A[i,j] - np.dot(U[i,:],V[:,j])\n",
    "                    U[i,:] = U[i,:] + l*(e*V[:,j] - b*U[i,:])\n",
    "                    V[:,j] = V[:,j] + l*(e*U[i,:] - b*V[:,j])\n",
    "    A_ = np.dot(U,V)\n",
    "    return A_\n",
    "\n",
    "def KPMF(input_matrix, approx=50, iterations=30, learning_rate=.001, adjacency_width=5, adjacency_strength=.5):\n",
    "    A = input_matrix\n",
    "    Z = np.asarray(A > 0,dtype=np.int)\n",
    "    A1d = np.ravel(A)\n",
    "    mean = np.mean(A1d)\n",
    "    A = A-mean\n",
    "    K = approx\n",
    "    R = itr = iterations\n",
    "    l = learning_rate\n",
    "    N = A.shape[0]\n",
    "    M = A.shape[1]\n",
    "    U = np.random.randn(N,K)\n",
    "    V = np.random.randn(K,M)\n",
    "    #KPMF using gradient descent as per paper\n",
    "    #Kernelized Probabilistic Matrix Factorization: Exploiting Graphs and Side Information\n",
    "    #T. Zhou, H. Shan, A. Banerjee, G. Sapiro\n",
    "    #Using diffusion kernel\n",
    "    #U are the rows, we use an adjacency matrix CU to reprent connectivity\n",
    "    #This matrix connects rows +-adjacency_width\n",
    "    #V are the columns, connected columns are CV\n",
    "    #Operate on graph laplacian L, which is the degree matrix D - C\n",
    "    #Applying the diffusion kernel to L, this forms a spatial smoothness graph\n",
    "    bw = adjacency_width\n",
    "    #Use scipy.sparse.diags to generate band matrix with bandwidth = 2*adjacency_width+1\n",
    "    #Example of adjacency_width = 1, N = 4\n",
    "    #[1 1 0 0]\n",
    "    #[1 1 1 0]\n",
    "    #[0 1 1 1]\n",
    "    #[0 0 1 1]\n",
    "    print \"Running KPMF with:\"\n",
    "    print \"learning rate=\" + `l`\n",
    "    print \"bandwidth=\" + `bw`\n",
    "    print \"beta=\" + `b`\n",
    "    print \"approximation rank=\" + `K`\n",
    "    print \"iterations=\" + `R`\n",
    "    print \"\"\n",
    "    CU = sp.diags([1]*(2*bw+1),range(-bw,bw+1),shape=(N,N)).todense()\n",
    "    DU = np.diagflat(np.sum(CU,1))\n",
    "    CV = sp.diags([1]*(2*bw+1),range(-bw,bw+1),shape=(M,M)).todense()\n",
    "    DV = np.diagflat(np.sum(CV,1))\n",
    "    LU = DU - CU\n",
    "    LV = DV - CV\n",
    "    beta = adjacency_strength\n",
    "    KU = sl.expm(beta*LU)\n",
    "    KV = sl.expm(beta*LV)\n",
    "    SU = np.linalg.pinv(KU)\n",
    "    SV = np.linalg.pinv(KV)\n",
    "    for r in range(R):\n",
    "        for i in range(N):\n",
    "            for j in range(M):\n",
    "                if Z[i,j] > 0:\n",
    "                    e = A[i,j] - np.dot(U[i,:],V[:,j])\n",
    "                    U[i,:] = U[i,:] + l*(e*V[:,j] - np.dot(SU[i,:],U))\n",
    "                    V[:,j] = V[:,j] + l*(e*U[i,:] - np.dot(V,SV[:,j]))\n",
    "    A_ = np.dot(U,V)\n",
    "    return A_+mean\n",
    "\n",
    "def get_RMSE(A,A_):\n",
    "    A1d = np.ravel(A)\n",
    "    A_1d = np.ravel(A_)\n",
    "    e = np.mean((A1d-A_1d)**2)\n",
    "    return np.sqrt(e)\n",
    "\n",
    "def combine(A,A_):\n",
    "    out = np.zeros(A.shape)\n",
    "    N = A.shape[0]\n",
    "    M = A.shape[1]\n",
    "    for i in xrange(N):\n",
    "        for j in xrange(M):\n",
    "            if A[i,j] == 0:\n",
    "                out[i,j] = A_[i,j]\n",
    "            else:\n",
    "                out[i,j] = A[i,j]\n",
    "    return out\n",
    "\n",
    "#Rework of lena example\n",
    "#from https://gist.github.com/thearn/5424219\n",
    "#Sparse lena\n",
    "A = np.asarray(lena(),dtype=np.double)\n",
    "plot.figure()\n",
    "plot.title(\"Original Lena\")\n",
    "plot.imshow(A, cmap=cm.gray)\n",
    "plot.savefig(\"pristine_lena.png\")\n",
    "\n",
    "#Full matrix SVD, low rank approximation\n",
    "approx = K = 10\n",
    "iterations = I = 7\n",
    "origA = lena()\n",
    "A_= lowrank_SVD(A,approx=K)\n",
    "plot.figure()\n",
    "RMSE = get_RMSE(origA,A_)\n",
    "plot.title(\"Low Rank SVD (full matrix)\\nRMSE=\" + `RMSE`)\n",
    "plot.imshow(A_, cmap=cm.gray)\n",
    "plot.savefig(\"SVD_full_approx_\"+`K`+\".png\")\n",
    "plot.figure()\n",
    "plot.title(\"Combined Low Rank SVD (full matrix)\\nRMSE=\" + `RMSE`)\n",
    "plot.imshow(combine(A,A_), cmap=cm.gray)\n",
    "plot.savefig(\"CombinedSVD_full_approx_\"+`K`+\".png\")\n",
    "\n",
    "#Make lena sparse matrix setup, sparseness is the percentage of deleted pixels\n",
    "sparseness = .75\n",
    "A = lena()\n",
    "for i in xrange(A.shape[0]):\n",
    "    for j in xrange(A.shape[1]):\n",
    "        if np.random.rand() < sparseness:\n",
    "            A[i,j] = 0.\n",
    "\n",
    "#Sparse lena\n",
    "plot.figure()\n",
    "plot.title(\"Sparse Lena\")\n",
    "plot.imshow(A, cmap=cm.gray)\n",
    "plot.savefig(\"sparse_lena_s_\"+`sparseness`+\".png\")\n",
    "\n",
    "#Sparse matrix, regular SVD example, low rank approximation\n",
    "A_=lowrank_SVD(A,approx=K)\n",
    "plot.figure()\n",
    "RMSE = get_RMSE(origA,A_)\n",
    "plot.title(\"Low Rank SVD\\nRMSE=\"+`RMSE`)\n",
    "plot.imshow(A_, cmap=cm.gray)\n",
    "plot.savefig(\"SVD_sparse_approx_\"+`K`+\".png\")\n",
    "plot.figure()\n",
    "plot.title(\"Combined Low Rank SVD\\nRMSE=\"+`RMSE`)\n",
    "plot.imshow(combine(A,A_), cmap=cm.gray)\n",
    "plot.savefig(\"CombinedSVD_sparse_approx_\"+`K`+\".png\")\n",
    "\n",
    "#Keeping learning rate constant for all PMF examples\n",
    "l = 0.001\n",
    "#Sparse matrix, gradient descent example\n",
    "#Save RMSE as tuple of two values, (b,RMSE)\n",
    "PMF_RMSE=[]\n",
    "for b in [0.,.25,.5,.75,1.]:\n",
    "    A_=PMF(A,approx=K,iterations=I,regularization_rate=b,learning_rate=l)\n",
    "    plot.figure()\n",
    "    RMSE = get_RMSE(origA,A_)\n",
    "    PMF_RMSE.append((b,RMSE))\n",
    "    #Lambda is the regularization rate (lambda_v = lambda_u from the paper\n",
    "    plot.title(\"PMF, $\\lambda$=\" + `b` + \"\\nRMSE=\" + `RMSE`)\n",
    "    plot.imshow(A_, cmap=cm.gray)\n",
    "    plot.savefig(\"PMF_b_\"+`int(10*b)`+\".png\")\n",
    "    plot.figure()\n",
    "    plot.title(\"Combined PMF, $\\lambda$=\" + `b` + \"\\nRMSE=\" + `RMSE`)\n",
    "    plot.imshow(combine(A,A_), cmap=cm.gray)\n",
    "    plot.savefig(\"CombinedPMF_b_\"+`int(10*b)`+\".png\")\n",
    "\n",
    "#Sparse matrix, kernelized probabilistic matrix\n",
    "#Save RMSE as tuple of 3 values (b,w,RMSE)\n",
    "KPMF_RMSE=[]\n",
    "for w in [0,4,10,20,40]:\n",
    "    blist = []\n",
    "    for b in [0.,.25,.5,.75,1.]:\n",
    "        A_=KPMF(A,approx=K,iterations=I,adjacency_width=w,adjacency_strength=b,learning_rate=l)\n",
    "        plot.figure()\n",
    "        RMSE = get_RMSE(origA,A_)\n",
    "        blist.append(RMSE)\n",
    "        plot.title(r\"Kernelized PMF, $\\beta$=\" + `b` + \", width=\" + `w`+ \"\\nRMSE=\" + `RMSE`)\n",
    "        plot.imshow(A_, cmap=cm.gray)\n",
    "        plot.savefig(\"KPMF_w\"+`w`+\"_b_\"+`int(10*b)`+\".png\")\n",
    "        plot.figure()\n",
    "        plot.title(r\"Combined KPMF, $\\beta$=\" + `b` + \", width=\" + `w`+ \"\\nRMSE=\" + `RMSE`)\n",
    "        plot.imshow(combine(A,A_), cmap=cm.gray)\n",
    "        plot.savefig(\"CombinedKPMF_w\"+`w`+\"_b_\"+`int(10*b)`+\".png\")\n",
    "    KPMF_RMSE.append((w,tuple(blist)))\n",
    "\n",
    "colors=['r','b','g','c','m','k']\n",
    "plot.figure()\n",
    "bs,RMSEs = zip(*PMF_RMSE)\n",
    "ws,bRMSEs = zip(*KPMF_RMSE)\n",
    "labels=[\"PMF\"]+[\"KPMF_\"+`w` for w in ws]\n",
    "plot.title(\"RMSE vs. regularization/diffusion rate\")\n",
    "for err,col,lbl in zip((RMSEs,)+bRMSEs,colors,labels):\n",
    "    plot.plot(bs, err, col, label=str(lbl))\n",
    "plot.xlabel('Regularization rate')\n",
    "plot.ylabel('RMSE')\n",
    "plot.legend()\n",
    "plot.savefig(\"reg_rate_and_diffusion_RMSE.png\")\n",
    "\n",
    "plot.figure()\n",
    "plot.title(\"Average RMSE vs. kernel bandwidth\")\n",
    "for err, col, lbl in zip(bRMSEs,\n",
    "                         colors,\n",
    "                         bs):\n",
    "    plot.plot(ws, err, col, label=str(lbl))\n",
    "plot.xlabel('Kernel bandwidth')\n",
    "plot.ylabel('Average RMSE over calculated rates')\n",
    "plot.legend()\n",
    "plot.savefig(\"kernel_width_mean_RMSE.png\")"
   ]
  },
  {
   "cell_type": "markdown",
   "metadata": {},
   "source": [
    "# Partie 1 : Données"
   ]
  },
  {
   "cell_type": "code",
   "execution_count": null,
   "metadata": {},
   "outputs": [],
   "source": []
  },
  {
   "cell_type": "markdown",
   "metadata": {
    "heading_collapsed": true
   },
   "source": [
    "## Partie 2.1 : Spécification du modèle"
   ]
  },
  {
   "cell_type": "code",
   "execution_count": null,
   "metadata": {
    "hidden": true
   },
   "outputs": [],
   "source": [
    "def KPMF(input_matrix, approx=50, iterations=30, learning_rate=.001, adjacency_width=5, adjacency_strength=.5):\n",
    "    A = input_matrix\n",
    "    Z = np.asarray(A > 0,dtype=np.int)\n",
    "    A1d = np.ravel(A)\n",
    "    mean = np.mean(A1d)\n",
    "    A = A-mean\n",
    "    K = approx\n",
    "    R = itr = iterations\n",
    "    l = learning_rate\n",
    "    N = A.shape[0]\n",
    "    M = A.shape[1]\n",
    "    U = np.random.randn(N,K)\n",
    "    V = np.random.randn(K,M)\n",
    "    #KPMF using gradient descent as per paper\n",
    "    #Kernelized Probabilistic Matrix Factorization: Exploiting Graphs and Side Information\n",
    "    #T. Zhou, H. Shan, A. Banerjee, G. Sapiro\n",
    "    #Using diffusion kernel\n",
    "    #U are the rows, we use an adjacency matrix CU to reprent connectivity\n",
    "    #This matrix connects rows +-adjacency_width\n",
    "    #V are the columns, connected columns are CV\n",
    "    #Operate on graph laplacian L, which is the degree matrix D - C\n",
    "    #Applying the diffusion kernel to L, this forms a spatial smoothness graph\n",
    "    bw = adjacency_width\n",
    "    #Use scipy.sparse.diags to generate band matrix with bandwidth = 2*adjacency_width+1\n",
    "    #Example of adjacency_width = 1, N = 4\n",
    "    #[1 1 0 0]\n",
    "    #[1 1 1 0]\n",
    "    #[0 1 1 1]\n",
    "    #[0 0 1 1]\n",
    "    print \"Running KPMF with:\"\n",
    "    print \"learning rate=\" + `l`\n",
    "    print \"bandwidth=\" + `bw`\n",
    "    print \"beta=\" + `b`\n",
    "    print \"approximation rank=\" + `K`\n",
    "    print \"iterations=\" + `R`\n",
    "    print \"\"\n",
    "    CU = sp.diags([1]*(2*bw+1),range(-bw,bw+1),shape=(N,N)).todense()\n",
    "    DU = np.diagflat(np.sum(CU,1))\n",
    "    CV = sp.diags([1]*(2*bw+1),range(-bw,bw+1),shape=(M,M)).todense()\n",
    "    DV = np.diagflat(np.sum(CV,1))\n",
    "    LU = DU - CU\n",
    "    LV = DV - CV\n",
    "    beta = adjacency_strength\n",
    "    KU = sl.expm(beta*LU)\n",
    "    KV = sl.expm(beta*LV)\n",
    "    SU = np.linalg.pinv(KU)\n",
    "    SV = np.linalg.pinv(KV)\n",
    "    for r in range(R):\n",
    "        for i in range(N):\n",
    "            for j in range(M):\n",
    "                if Z[i,j] > 0:\n",
    "                    e = A[i,j] - np.dot(U[i,:],V[:,j])\n",
    "                    U[i,:] = U[i,:] + l*(e*V[:,j] - np.dot(SU[i,:],U))\n",
    "                    V[:,j] = V[:,j] + l*(e*U[i,:] - np.dot(V,SV[:,j]))\n",
    "    A_ = np.dot(U,V)\n",
    "    return A_+mean"
   ]
  },
  {
   "cell_type": "code",
   "execution_count": null,
   "metadata": {
    "hidden": true
   },
   "outputs": [],
   "source": [
    "def KPMF(input_matrix, approx=50, iterations=30, learning_rate=.001, adjacency_width=5, adjacency_strength=.5):\n",
    "    \n",
    "    # Hyperparamètres\n",
    "    R = itr = iterations\n",
    "    l = learning_rate\n",
    "    K = approx # Rang !!! (changer les termes pour uniformité)\n",
    "    \n",
    "    # Initialisation des paramètres\n",
    "    A = input_matrix # Matrice de données\n",
    "    Z = np.asarray(A > 0) # Matrices des éléments absents\n",
    "    \n",
    "    # Enlever la moyenne ?? Pourquoi??\n",
    "    A1d = np.ravel(A)\n",
    "    mean = np.mean(A1d)\n",
    "    A = A - mean\n",
    "    \n",
    "    # Matrices latentes\n",
    "    N = A.shape[0] # Nombre de lignes dans A\n",
    "    M = A.shape[1] # Nombre de colones dans A\n",
    "    U = np.random.randn(N, K) # Initialisation de U\n",
    "    V = np.random.randn(K, M) # Initialisation de V\n",
    "    \n",
    "    \n",
    "    #KPMF using gradient descent as per paper\n",
    "        # Préparation de la descente du gradient\n",
    "    \n",
    "        #Using diffusion kernel\n",
    "            #U are the rows, we use an adjacency matrix CU to reprent connectivity\n",
    "            #This matrix connects rows +-adjacency_width\n",
    "            #V are the columns, connected columns are CV\n",
    "            #Operate on graph laplacian L, which is the degree matrix D - C\n",
    "            #Applying the diffusion kernel to L, this forms a spatial smoothness graph\n",
    "    bw = adjacency_width\n",
    "    print(\"BW\")\n",
    "            #Use scipy.sparse.diags to generate band matrix with bandwidth = 2*adjacency_width+1\n",
    "            #Example of adjacency_width = 1, N = 4\n",
    "            #[1 1 0 0]\n",
    "            #[1 1 1 0]\n",
    "            #[0 1 1 1]\n",
    "            #[0 0 1 1]\n",
    "\n",
    "    # Matrice adjacente pour U\n",
    "    CU = sp.diags([1] * (2 * bw + 1),\n",
    "                  range(-bw, bw + 1),\n",
    "                  shape=(N, N)).todense()\n",
    "    \n",
    "    DU = np.diagflat(np.sum(CU, 1))\n",
    "    \n",
    "    # Matrice adjacente pour V\n",
    "    CV = sp.diags([1] * (2 * bw + 1),\n",
    "                  range(-bw, bw + 1),\n",
    "                  shape=(M, M)).todense()\n",
    "    \n",
    "    DV = np.diagflat(np.sum(CV, 1)) ## Tout les 1 sur les lignes sont sommés sur la diago (?)\n",
    "    print(\"CU, CV\")\n",
    "    # Commprendre le calcul, pourquo ila différence??\n",
    "    LU = DU - CU \n",
    "    \n",
    "    LV = DV - CV\n",
    "    print(\"LU, LV\")\n",
    "    beta = adjacency_strength\n",
    "    \n",
    "    # Changement de sl.expm pour plus de vitesse\n",
    "    # https://github.com/simone-viozzi/matrix_exponentiation\n",
    "    # https://docs.scipy.org/doc/scipy/reference/generated/scipy.linalg.expm.html\n",
    "    #KU = sl.expm(beta * LU)\n",
    "    #print(KU)\n",
    "    b_KU = beta * LU\n",
    "    KU = np.cos(b_KU) + np.sin(b_KU)\n",
    "    #print(KU2)\n",
    "    #KU == KU2\n",
    "    \n",
    "    \n",
    "    print(\"KU\")\n",
    "    #KV = sl.expm(beta * LV)\n",
    "    b_LV = beta * LV\n",
    "    KV = np.cos(b_LV) + np.sin(b_LV)\n",
    "    print(\"KV\")\n",
    "    \n",
    "    # De manière codée à main\n",
    "    #KU = beta * LU\n",
    "    #eigvalue, eigvectors = np.linalg.eig(KU)\n",
    "    #e_Lambda = np.eye(np.size(KU, 0))*(np.exp(eigvalue))\n",
    "    #KU = eigvectors*e_Lambda*eigvectors.I\n",
    "    #print(KU.shape)\n",
    "    #print(KU)\n",
    "    #print(\"KU\")\n",
    "    #KV = beta * LV\n",
    "    #eigvalue, eigvectors = np.linalg.eig(KV)\n",
    "    #e_Lambda = np.eye(np.size(KV, 0))*(np.exp(eigvalue))\n",
    "    #KV = eigvectors*e_Lambda*eigvectors.I\n",
    "    #print(KV.shape)\n",
    "  #  print(KV)\n",
    " #   print(\"KV\")\n",
    "    \n",
    "    \n",
    "    \n",
    "    SU = np.linalg.pinv(KU)\n",
    "    print(\"SU\")\n",
    "    SV = np.linalg.pinv(KV)\n",
    "    print(SV)\n",
    "    print(\"SV\")\n",
    "    print(V)\n",
    "    \n",
    "    # Informations pour l'utilisateurs lors (grid search)\n",
    "    print(\"\")\n",
    "    print(\"Running KPMF with:\")\n",
    "    print(\"  LR = {}\".format(l))\n",
    "    print(\"  Bandwidth = {}\".format(bw))\n",
    "    print(\"  beta = {}\".format(b))\n",
    "    print(\"  Rank = {}\".format(K))\n",
    "    print(\"  Iterations maximum = {}\".format(R))\n",
    "    print(\"\")\n",
    "    \n",
    "    # Roulement de la descente du gradient\n",
    "    for r in range(R):\n",
    "        for i in range(N):\n",
    "            for j in range(M):\n",
    "                if Z[i, j] > 0:\n",
    "                    print(\"e\")\n",
    "                    e = A[i, j] - np.dot(U[i, :], V[:, j])\n",
    "                    print(\"U\")\n",
    "                    U[i, :] = U[i, :] + l * (e * V[:, j] - \n",
    "                                             np.dot(SU[i, :], U))\n",
    "                    print(\"V\")\n",
    "                    V[:, j] = V[:, j] + l * (e * U[i, :] - \n",
    "                                             np.dot(V, SV[:, j]))\n",
    "    A_ = np.dot(U, V)\n",
    "    return A_ + mean"
   ]
  },
  {
   "cell_type": "code",
   "execution_count": 21,
   "metadata": {
    "ExecuteTime": {
     "end_time": "2020-06-05T03:34:27.677285Z",
     "start_time": "2020-06-05T03:34:27.178252Z"
    },
    "hidden": true
   },
   "outputs": [],
   "source": [
    "def KPMF(input_matrix, approx=50, iterations=30, learning_rate=.001, adjacency_width=5, adjacency_strength=.5):\n",
    "    \n",
    "    # Hyperparamètres\n",
    "    R = itr = iterations\n",
    "    l = learning_rate\n",
    "    K = approx # Rang !!! (changer les termes pour uniformité)\n",
    "    \n",
    "    # Initialisation des paramètres\n",
    "    A = input_matrix # Matrice de données\n",
    "    Z = np.asarray(A > 0) # Matrices des éléments absents\n",
    "    \n",
    "    # Enlever la moyenne ?? Pourquoi??\n",
    "    A1d = np.ravel(A)\n",
    "    mean = np.mean(A1d)\n",
    "    A = A - mean\n",
    "    \n",
    "    # Matrices latentes\n",
    "    N = A.shape[0] # Nombre de lignes dans A\n",
    "    M = A.shape[1] # Nombre de colones dans A\n",
    "    U = np.random.randn(N, K) # Initialisation de U\n",
    "    V = np.random.randn(K, M) # Initialisation de V\n",
    "    \n",
    "    \n",
    "    #KPMF using gradient descent as per paper\n",
    "        # Préparation de la descente du gradient\n",
    "    \n",
    "        #Using diffusion kernel\n",
    "            #U are the rows, we use an adjacency matrix CU to reprent connectivity\n",
    "            #This matrix connects rows +-adjacency_width\n",
    "            #V are the columns, connected columns are CV\n",
    "            #Operate on graph laplacian L, which is the degree matrix D - C\n",
    "            #Applying the diffusion kernel to L, this forms a spatial smoothness graph\n",
    "    bw = adjacency_width\n",
    "    print(\"BW\")\n",
    "            #Use scipy.sparse.diags to generate band matrix with bandwidth = 2*adjacency_width+1\n",
    "            #Example of adjacency_width = 1, N = 4\n",
    "            #[1 1 0 0]\n",
    "            #[1 1 1 0]\n",
    "            #[0 1 1 1]\n",
    "            #[0 0 1 1]\n",
    "\n",
    "    # Matrice adjacente pour U\n",
    "    CU = sp.diags([1] * (2 * bw + 1),\n",
    "                  range(-bw, bw + 1),\n",
    "                  shape=(N, N)).todense()\n",
    "    \n",
    "    DU = np.diagflat(np.sum(CU, 1))\n",
    "    \n",
    "    # Matrice adjacente pour V\n",
    "    CV = sp.diags([1] * (2 * bw + 1),\n",
    "                  range(-bw, bw + 1),\n",
    "                  shape=(M, M)).todense()\n",
    "    \n",
    "    DV = np.diagflat(np.sum(CV, 1)) ## Tout les 1 sur les lignes sont sommés sur la diago (?)\n",
    "    print(\"CU, CV\")\n",
    "    # Commprendre le calcul, pourquo ila différence??\n",
    "    LU = DU - CU \n",
    "    \n",
    "    LV = DV - CV\n",
    "    print(\"LU, LV\")\n",
    "    beta = adjacency_strength\n",
    "    \n",
    "    # Changement de sl.expm pour plus de vitesse\n",
    "    # https://github.com/simone-viozzi/matrix_exponentiation\n",
    "    # https://docs.scipy.org/doc/scipy/reference/generated/scipy.linalg.expm.html\n",
    "    #KU = sl.expm(beta * LU)\n",
    "    #print(KU)\n",
    "    b_KU = beta * LU\n",
    "    KU = np.cos(b_KU) + np.sin(b_KU)\n",
    "    #print(KU2)\n",
    "    #KU == KU2\n",
    "    \n",
    "    \n",
    "    print(\"KU\")\n",
    "    #KV = sl.expm(beta * LV)\n",
    "    b_LV = beta * LV\n",
    "    KV = np.cos(b_LV) + np.sin(b_LV)\n",
    "    print(\"KV\")\n",
    "    \n",
    "    # De manière codée à main\n",
    "    #KU = beta * LU\n",
    "    #eigvalue, eigvectors = np.linalg.eig(KU)\n",
    "    #e_Lambda = np.eye(np.size(KU, 0))*(np.exp(eigvalue))\n",
    "    #KU = eigvectors*e_Lambda*eigvectors.I\n",
    "    #print(KU.shape)\n",
    "    #print(KU)\n",
    "    #print(\"KU\")\n",
    "    #KV = beta * LV\n",
    "    #eigvalue, eigvectors = np.linalg.eig(KV)\n",
    "    #e_Lambda = np.eye(np.size(KV, 0))*(np.exp(eigvalue))\n",
    "    #KV = eigvectors*e_Lambda*eigvectors.I\n",
    "    #print(KV.shape)\n",
    "  #  print(KV)\n",
    " #   print(\"KV\")\n",
    "    \n",
    "    \n",
    "    \n",
    "    SU = np.linalg.pinv(KU)\n",
    "    print(\"SU\")\n",
    "    SV = np.linalg.pinv(KV)\n",
    "    print(SV)\n",
    "    print(\"SV\")\n",
    "    print(V)\n",
    "    \n",
    "    # Informations pour l'utilisateurs lors (grid search)\n",
    "    print(\"\")\n",
    "    print(\"Running KPMF with:\")\n",
    "    print(\"  LR = {}\".format(l))\n",
    "    print(\"  Bandwidth = {}\".format(bw))\n",
    "    print(\"  beta = {}\".format(b))\n",
    "    print(\"  Rank = {}\".format(K))\n",
    "    print(\"  Iterations maximum = {}\".format(R))\n",
    "    print(\"\")\n",
    "    \n",
    "    # Roulement de la descente du gradient\n",
    "    for r in range(R):\n",
    "        for i in range(N):\n",
    "            for j in range(M):\n",
    "                if Z[i, j] > 0:\n",
    "                    print(\"e\")\n",
    "                    e = A[i, j] - np.dot(U[i, :], V[:, j])\n",
    "                    print(\"U\")\n",
    "                    U[i, :] = U[i, :] + l * (e * V[:, j] - \n",
    "                                             np.dot(SU[i, :], U))\n",
    "                    print(\"V\")\n",
    "                    V[:, j] = V[:, j] + l * (e * U[i, :] - \n",
    "                                             np.dot(V, SV[:, j]))\n",
    "    A_ = np.dot(U, V)\n",
    "    return A_ + mean"
   ]
  },
  {
   "cell_type": "code",
   "execution_count": null,
   "metadata": {
    "ExecuteTime": {
     "end_time": "2020-06-05T19:13:31.772750Z",
     "start_time": "2020-06-05T19:13:21.279Z"
    },
    "hidden": true
   },
   "outputs": [],
   "source": [
    "def get_RMSE(A, A_):\n",
    "    A1d = np.ravel(A)\n",
    "    A_1d = np.ravel(A_)\n",
    "    e = np.mean((A1d - A_1d) ** 2)\n",
    "    return np.sqrt(e)"
   ]
  },
  {
   "cell_type": "code",
   "execution_count": null,
   "metadata": {
    "ExecuteTime": {
     "end_time": "2020-06-05T19:13:31.772750Z",
     "start_time": "2020-06-05T19:13:21.754Z"
    },
    "hidden": true
   },
   "outputs": [],
   "source": [
    "def combine(A, A_):\n",
    "    out = np.zeros(A.shape)\n",
    "    N = A.shape[0]\n",
    "    M = A.shape[1]\n",
    "    for i in range(N):\n",
    "        for j in range(M):\n",
    "            if A[i, j] == 0:\n",
    "                out[i, j] = A_[i, j]\n",
    "            else:\n",
    "                out[i, j] = A[i, j]\n",
    "    return out"
   ]
  },
  {
   "cell_type": "markdown",
   "metadata": {
    "heading_collapsed": true,
    "hidden": true
   },
   "source": [
    "### Original"
   ]
  },
  {
   "cell_type": "code",
   "execution_count": null,
   "metadata": {
    "hidden": true
   },
   "outputs": [],
   "source": [
    "#Rework of lena example\n",
    "#from https://gist.github.com/thearn/5424219\n",
    "#Sparse lena\n",
    "\n",
    "\n",
    "#Sparse matrix, regular SVD example, low rank approximation\n",
    "A_=lowrank_SVD(A,approx=K)\n",
    "\n",
    "\n",
    "#Keeping learning rate constant for all PMF examples\n",
    "l = 0.001\n",
    "#Sparse matrix, gradient descent example\n",
    "#Save RMSE as tuple of two values, (b,RMSE)\n",
    "PMF_RMSE=[]\n",
    "b = 0. # [0.,.25,.5,.75,1.]\n",
    "A_=PMF(A,approx=K,iterations=I,regularization_rate=b,learning_rate=l)\n",
    "RMSE = get_RMSE(origA,A_)\n",
    "\n"
   ]
  },
  {
   "cell_type": "code",
   "execution_count": null,
   "metadata": {
    "hidden": true
   },
   "outputs": [],
   "source": [
    "#Sparse matrix, kernelized probabilistic matrix\n",
    "#Save RMSE as tuple of 3 values (b,w,RMSE)\n",
    "KPMF_RMSE=[]\n",
    "w = 0 # [0,4,10,20,40]\n",
    "b = 0.\n",
    "A_ = KPMF(A,approx=K,iterations=I,adjacency_width=w,adjacency_strength=b,learning_rate=l)\n",
    "RMSE = get_RMSE(origA, A_)"
   ]
  },
  {
   "cell_type": "code",
   "execution_count": null,
   "metadata": {
    "hidden": true
   },
   "outputs": [],
   "source": [
    "A = np.asarray(lena(),dtype=np.double)\n",
    "#Full matrix SVD, low rank approximation\n",
    "approx = K = 10\n",
    "iterations = I = 7\n",
    "origA = lena()\n",
    "A_ = lowrank_SVD(A,approx=K)\n",
    "RMSE = get_RMSE(origA,A_)\n",
    "\n",
    "#Make lena sparse matrix setup, sparseness is the percentage of deleted pixels\n",
    "sparseness = .75\n",
    "A = lena()\n",
    "for i in xrange(A.shape[0]):\n",
    "    for j in xrange(A.shape[1]):\n",
    "        if np.random.rand() < sparseness:\n",
    "            A[i,j] = 0."
   ]
  },
  {
   "cell_type": "code",
   "execution_count": null,
   "metadata": {
    "hidden": true
   },
   "outputs": [],
   "source": [
    "# Graph kernel\n",
    "\n",
    "\n",
    "#KPMF using gradient descent as per paper\n",
    "        # Préparation de la descente du gradient\n",
    "    \n",
    "        #Using diffusion kernel\n",
    "            #U are the rows, we use an adjacency matrix CU to reprent connectivity\n",
    "            #This matrix connects rows +-adjacency_width\n",
    "            #V are the columns, connected columns are CV\n",
    "            #Operate on graph laplacian L, which is the degree matrix D - C\n",
    "            #Applying the diffusion kernel to L, this forms a spatial smoothness graph\n",
    "bw = adjacency_width\n",
    "print(\"BW\")\n",
    "            #Use scipy.sparse.diags to generate band matrix with bandwidth = 2*adjacency_width+1\n",
    "            #Example of adjacency_width = 1, N = 4\n",
    "            #[1 1 0 0]\n",
    "            #[1 1 1 0]\n",
    "            #[0 1 1 1]\n",
    "            #[0 0 1 1]\n",
    "\n",
    "# Matrice adjacente pour U\n",
    "    CU = sp.diags([1] * (2 * bw + 1),\n",
    "                  range(-bw, bw + 1),\n",
    "                  shape=(N, N)).todense()\n",
    "    \n",
    "    DU = np.diagflat(np.sum(CU, 1))\n",
    "    \n",
    "    # Matrice adjacente pour V\n",
    "    CV = sp.diags([1] * (2 * bw + 1),\n",
    "                  range(-bw, bw + 1),\n",
    "                  shape=(M, M)).todense()\n",
    "    \n",
    "    DV = np.diagflat(np.sum(CV, 1)) ## Tout les 1 sur les lignes sont sommés sur la diago (?)\n",
    "    print(\"CU, CV\")\n",
    "    # Commprendre le calcul, pourquo ila différence??\n",
    "    LU = DU - CU \n",
    "    \n",
    "    LV = DV - CV\n",
    "    print(\"LU, LV\")\n",
    "    beta = adjacency_strength\n",
    "    \n",
    "    # Changement de sl.expm pour plus de vitesse\n",
    "    # https://github.com/simone-viozzi/matrix_exponentiation\n",
    "    # https://docs.scipy.org/doc/scipy/reference/generated/scipy.linalg.expm.html\n",
    "    #KU = sl.expm(beta * LU)\n",
    "    #print(KU)\n",
    "    b_KU = beta * LU\n",
    "    KU = np.cos(b_KU) + np.sin(b_KU)\n",
    "    #print(KU2)\n",
    "    #KU == KU2\n",
    "    \n",
    "    \n",
    "    print(\"KU\")\n",
    "    #KV = sl.expm(beta * LV)\n",
    "    b_LV = beta * LV\n",
    "    KV = np.cos(b_LV) + np.sin(b_LV)\n",
    "    print(\"KV\")\n",
    "    \n",
    "    # De manière codée à main\n",
    "    #KU = beta * LU\n",
    "    #eigvalue, eigvectors = np.linalg.eig(KU)\n",
    "    #e_Lambda = np.eye(np.size(KU, 0))*(np.exp(eigvalue))\n",
    "    #KU = eigvectors*e_Lambda*eigvectors.I\n",
    "    #print(KU.shape)\n",
    "    #print(KU)\n",
    "    #print(\"KU\")\n",
    "    #KV = beta * LV\n",
    "    #eigvalue, eigvectors = np.linalg.eig(KV)\n",
    "    #e_Lambda = np.eye(np.size(KV, 0))*(np.exp(eigvalue))\n",
    "    #KV = eigvectors*e_Lambda*eigvectors.I\n",
    "    #print(KV.shape)\n",
    "  #  print(KV)\n",
    " #   print(\"KV\")\n",
    "    \n",
    "    \n",
    "    \n",
    "    SU = np.linalg.pinv(KU)\n",
    "    print(\"SU\")\n",
    "    SV = np.linalg.pinv(KV)\n",
    "    print(SV)\n",
    "    print(\"SV\")\n",
    "    print(V)"
   ]
  },
  {
   "cell_type": "raw",
   "metadata": {
    "hidden": true
   },
   "source": [
    "bw = 5 # adjacency_width\n",
    "# band matrix with bandwidth = 2*adjacency_width+1\n",
    "CU = sp.diags([1] * (2 * bw + 1),\n",
    "              range(-bw, bw + 1),\n",
    "              shape=(N, N)).todense()\n",
    "#print(CU)\n",
    "\n",
    "# Matrice de degrés\n",
    "DU = np.diagflat(np.sum(CU, 1))\n",
    "#print(DU)\n",
    "\n",
    "LU = DU - CU # Graph laplacian\n",
    "#print(LU)\n",
    "\n",
    "beta = 0.1 # adjacency_strength\n",
    "KU = beta * LU\n",
    "#print(\"KU\")\n",
    "#print(KU)\n",
    "KU = np.cos(KU) + np.sin(KU) #(pourquoi le met-il en exponentiel?)\n",
    "#print(\"KU\")\n",
    "#print(KU)\n",
    "KU_inv = np.linalg.pinv(KU)\n",
    "#print(\"KU_INV\")\n",
    "#print(KU_inv)"
   ]
  },
  {
   "cell_type": "markdown",
   "metadata": {},
   "source": [
    "# Partie 2 : Modèle"
   ]
  },
  {
   "cell_type": "markdown",
   "metadata": {},
   "source": [
    "## Données"
   ]
  },
  {
   "cell_type": "code",
   "execution_count": 171,
   "metadata": {
    "ExecuteTime": {
     "end_time": "2020-06-05T21:52:48.868514Z",
     "start_time": "2020-06-05T21:52:48.697826Z"
    }
   },
   "outputs": [],
   "source": [
    "# Téléchargement des données\n",
    "import scipy.io\n",
    "from tensorly import unfold\n",
    "tensor = scipy.io.loadmat('data/Guangzhou-data-set/tensor.mat')\n",
    "tensor = tensor['tensor']\n",
    "random_matrix = scipy.io.loadmat('data/Guangzhou-data-set/random_matrix.mat')\n",
    "random_matrix = random_matrix['random_matrix']\n",
    "random_tensor = scipy.io.loadmat('data/Guangzhou-data-set/random_tensor.mat')\n",
    "random_tensor = random_tensor['random_tensor']"
   ]
  },
  {
   "cell_type": "code",
   "execution_count": 172,
   "metadata": {
    "ExecuteTime": {
     "end_time": "2020-06-05T21:52:49.078270Z",
     "start_time": "2020-06-05T21:52:49.074294Z"
    }
   },
   "outputs": [],
   "source": [
    "tensor = tensor[:50, :5, :] # diminuer la dimension du renseur pour avoir quelque chose de rapide\n",
    "\n",
    "# faire idem sur la matrice random\n",
    "random_matrix = random_matrix[:50, :5]"
   ]
  },
  {
   "cell_type": "code",
   "execution_count": 173,
   "metadata": {
    "ExecuteTime": {
     "end_time": "2020-06-05T21:52:49.420356Z",
     "start_time": "2020-06-05T21:52:49.416403Z"
    }
   },
   "outputs": [],
   "source": [
    "# Initialisation de la matrice pleine\n",
    "\n",
    "dense_mat = tensor.reshape([tensor.shape[0], tensor.shape[1] * tensor.shape[2]])"
   ]
  },
  {
   "cell_type": "code",
   "execution_count": 188,
   "metadata": {
    "ExecuteTime": {
     "end_time": "2020-06-05T21:58:34.795924Z",
     "start_time": "2020-06-05T21:58:34.791933Z"
    }
   },
   "outputs": [],
   "source": [
    "# Initialisation de la matrice avec valeurs manquantes\n",
    "missing_rate = 0.4\n",
    "\n",
    "# =============================================================================\n",
    "### Random missing (RM) scenario\n",
    "### Set the RM scenario by:\n",
    "# binary_mat = (np.round(random_tensor + 0.5 - missing_rate)\n",
    "#               .reshape([random_tensor.shape[0], random_tensor.shape[1] * random_tensor.shape[2]]))\n",
    "# =============================================================================\n",
    "\n",
    "# ============================================================================="
   ]
  },
  {
   "cell_type": "code",
   "execution_count": 189,
   "metadata": {
    "ExecuteTime": {
     "end_time": "2020-06-05T21:58:35.116068Z",
     "start_time": "2020-06-05T21:58:35.108089Z"
    }
   },
   "outputs": [],
   "source": [
    "### Non-random missing (NM) scenario\n",
    "### Set the NM scenario by:\n",
    "\n",
    "binary_tensor = np.zeros(tensor.shape)\n",
    "for i1 in range(tensor.shape[0]):\n",
    "    for i2 in range(tensor.shape[1]):\n",
    "        binary_tensor[i1, i2, :] = np.round(random_matrix[i1, i2] + 0.5 - missing_rate)\n",
    "binary_mat = binary_tensor.reshape([binary_tensor.shape[0], binary_tensor.shape[1] * binary_tensor.shape[2]])"
   ]
  },
  {
   "cell_type": "code",
   "execution_count": 190,
   "metadata": {
    "ExecuteTime": {
     "end_time": "2020-06-05T21:58:35.377369Z",
     "start_time": "2020-06-05T21:58:35.373379Z"
    }
   },
   "outputs": [],
   "source": [
    "sparse_mat = np.multiply(dense_mat, binary_mat)"
   ]
  },
  {
   "cell_type": "code",
   "execution_count": 193,
   "metadata": {
    "ExecuteTime": {
     "end_time": "2020-06-05T21:58:54.954177Z",
     "start_time": "2020-06-05T21:58:54.951188Z"
    }
   },
   "outputs": [],
   "source": [
    "A = np.asarray(sparse_mat, dtype = np.float64)\n",
    "origA = np.asarray(dense_mat, dtype = np.float64)"
   ]
  },
  {
   "cell_type": "code",
   "execution_count": 256,
   "metadata": {
    "ExecuteTime": {
     "end_time": "2020-06-05T23:03:07.053528Z",
     "start_time": "2020-06-05T23:03:07.044539Z"
    }
   },
   "outputs": [],
   "source": [
    "A = np.asarray([[0,2,1,2,4,3,2,0,9,8,7,6,5,4,0],[0,2,1,2,4,3,2,0,9,8,7,6,5,4,0],[0,2,1,2,4,3,2,0,9,8,7,6,5,4,0], [0,2,1,2,4,3,2,0,9,8,7,6,5,4,0], [0,2,1,2,4,3,2,0,9,8,7,6,5,4,0], [0,2,1,2,4,3,2,0,9,8,7,6,5,4,0], [0,2,1,2,4,3,2,0,9,8,7,6,5,4,0] ])\n",
    "origA = np.asarray([[1,2,1,2,4,3,2,1,9,8,7,6,5,4,1], [1,2,1,2,4,3,2,1,9,8,7,6,5,4,1], [1,2,1,2,4,3,2,1,9,8,7,6,5,4,1], [1,2,1,2,4,3,2,1,9,8,7,6,5,4,1], [1,2,1,2,4,3,2,1,9,8,7,6,5,4,1], [1,2,1,2,4,3,2,1,9,8,7,6,5,4,1], [1,2,1,2,4,3,2,1,9,8,7,6,5,4,1]])"
   ]
  },
  {
   "cell_type": "code",
   "execution_count": 257,
   "metadata": {
    "ExecuteTime": {
     "end_time": "2020-06-05T23:03:07.419177Z",
     "start_time": "2020-06-05T23:03:07.415188Z"
    }
   },
   "outputs": [
    {
     "name": "stdout",
     "output_type": "stream",
     "text": [
      "(7, 15) 7 15\n"
     ]
    }
   ],
   "source": [
    "# Paramètres\n",
    "N = A.shape[0] # Nombre de lignes dans A\n",
    "M = A.shape[1] # Nombre de colones dans A\n",
    "\n",
    "print(A.shape, N, M)\n"
   ]
  },
  {
   "cell_type": "markdown",
   "metadata": {},
   "source": [
    "## Création de la matrice de cov (kernel)"
   ]
  },
  {
   "cell_type": "code",
   "execution_count": 258,
   "metadata": {
    "ExecuteTime": {
     "end_time": "2020-06-05T23:03:44.774817Z",
     "start_time": "2020-06-05T23:03:44.771792Z"
    }
   },
   "outputs": [],
   "source": [
    "def K_inv(dim, poids):\n",
    "    \"\"\"\n",
    "    dim : Dimension M ou N selon la matrice U ou V à créer un kernel\n",
    "    poids : Poids des éléments sur la diagonal\n",
    "    \n",
    "    from numpy.linalg import inv\n",
    "    KV = 0.2 * np.eye(M, M)\n",
    "    KV_inv = np.linalg.pinv(KV)\n",
    "    KV_inv\n",
    "    \n",
    "    \"\"\"\n",
    "    K = poids * np.eye(dim, dim)\n",
    "    K_inv = np.linalg.pinv(K)\n",
    "    return K_inv\n"
   ]
  },
  {
   "cell_type": "code",
   "execution_count": 259,
   "metadata": {
    "ExecuteTime": {
     "end_time": "2020-06-05T23:03:45.275656Z",
     "start_time": "2020-06-05T23:03:45.269674Z"
    }
   },
   "outputs": [],
   "source": [
    "def graph_kernel(a_width, a_strength, dim):\n",
    "    \"\"\"\n",
    "    Fonction pour créer le kernel des matrices latentes\n",
    "    \n",
    "        - Objectif : Avoir la matrice de covariance pour les lignes et colonnes basée sur le kernel graph (en utilisant\n",
    "                     l'information externe)\n",
    "    \n",
    "    Paramètres en entré :     ** Peuvent être optimisés **\n",
    "        a_width : Adjacency width\n",
    "        a_strength : Adjacency strength\n",
    "        dim : Dimension de U ou V selon la matrice voulue\n",
    "        \n",
    "    Paramètres en sortie : \n",
    "        K_inv : Kernel inverse pour le facteur latent\n",
    "    \n",
    "    \"\"\"\n",
    "    #CU = sp.diags([1]*(2*bw+1),range(-bw,bw+1),shape=(N,N)).todense()\n",
    "    #DU = np.diagflat(np.sum(CU,1))\n",
    "    #CV = sp.diags([1]*(2*bw+1),range(-bw,bw+1),shape=(M,M)).todense()\n",
    "    #DV = np.diagflat(np.sum(CV,1))\n",
    "    #LU = DU - CU\n",
    "    #LV = DV - CV\n",
    "    #beta = adjacency_strength\n",
    "    #KU = sl.expm(beta*LU)\n",
    "    #KV = sl.expm(beta*LV)\n",
    "    #SU = np.linalg.pinv(KU)\n",
    "    #SV = np.linalg.pinv(KV)\n",
    "    # Band matrix with bandwidth = 2 * adjacency_width + 1\n",
    "    C = sp.diags([1] * (2 * a_width + 1),\n",
    "                  range(-a_width, a_width + 1),\n",
    "                  shape=(dim, dim)).todense()\n",
    "    \n",
    "    # Matrice de degrés\n",
    "    D = np.diagflat(np.sum(C, 1))\n",
    "    \n",
    "    # Graph laplacian\n",
    "    L = D - C\n",
    "    \n",
    "    # Importance des poids du graph laplacian\n",
    "    #K = a_strength * L\n",
    "    #K = np.cos(K) + np.sin(K) # expm (exposant !?)\n",
    "    K = sl.expm(a_strength * L)\n",
    "    \n",
    "    # Matrice inverse ou pseudoinverse (selon la possibilité de calcul)\n",
    "    K_inv = np.linalg.pinv(K)\n",
    "    \n",
    "    return K_inv   "
   ]
  },
  {
   "cell_type": "code",
   "execution_count": 260,
   "metadata": {
    "ExecuteTime": {
     "end_time": "2020-06-05T23:03:46.015596Z",
     "start_time": "2020-06-05T23:03:46.006588Z"
    }
   },
   "outputs": [
    {
     "data": {
      "text/plain": [
       "array([[6.22441269e-01, 7.08496923e-02, 6.81577073e-02, 6.55491911e-02,\n",
       "        6.30199915e-02, 6.05685813e-02, 1.45377987e-02, 1.17672329e-02,\n",
       "        9.06841787e-03, 6.44114990e-03, 3.98973973e-03, 1.46054004e-03,\n",
       "        1.04185746e-03, 6.92066105e-04, 4.14764771e-04],\n",
       "       [7.08496923e-02, 5.67006110e-01, 6.78163100e-02, 6.52914338e-02,\n",
       "        6.28421767e-02, 6.04688159e-02, 5.77837511e-02, 1.41041114e-02,\n",
       "        1.14211289e-02, 8.80604304e-03, 6.43268221e-03, 3.98342509e-03,\n",
       "        1.46032072e-03, 1.04193261e-03, 6.92066105e-04],\n",
       "       [6.81577073e-02, 6.78163100e-02, 5.16737103e-01, 6.49665571e-02,\n",
       "        6.25969741e-02, 6.03013984e-02, 5.77700417e-02, 5.51725193e-02,\n",
       "        1.36893355e-02, 1.10897716e-02, 8.79419594e-03, 6.42461293e-03,\n",
       "        3.98129523e-03, 1.46032072e-03, 1.04185746e-03],\n",
       "       [6.55491911e-02, 6.52914338e-02, 6.49665571e-02, 4.71147605e-01,\n",
       "        6.22877814e-02, 6.00697398e-02, 5.76883540e-02, 5.52407265e-02,\n",
       "        5.27266636e-02, 1.32965389e-02, 1.10784973e-02, 8.78833309e-03,\n",
       "        6.42461293e-03, 3.98342509e-03, 1.46054004e-03],\n",
       "       [6.30199915e-02, 6.28421767e-02, 6.25969741e-02, 6.22877814e-02,\n",
       "        4.29797165e-01, 5.97769775e-02, 5.75419770e-02, 5.52407265e-02,\n",
       "        5.28730406e-02, 5.04385892e-02, 1.32894854e-02, 1.10784973e-02,\n",
       "        8.79419594e-03, 6.43268221e-03, 3.98973973e-03],\n",
       "       [6.05685813e-02, 6.04688159e-02, 6.03013984e-02, 6.00697398e-02,\n",
       "        5.97769775e-02, 3.92362352e-01, 5.73991267e-02, 5.52407265e-02,\n",
       "        5.30158909e-02, 5.07242981e-02, 5.04385892e-02, 1.32965389e-02,\n",
       "        1.10897716e-02, 8.80604304e-03, 6.44114990e-03],\n",
       "       [1.45377987e-02, 5.77837511e-02, 5.77700417e-02, 5.76883540e-02,\n",
       "        5.75419770e-02, 5.73991267e-02, 3.92099935e-01, 5.72277102e-02,\n",
       "        5.51568286e-02, 5.30158909e-02, 5.28730406e-02, 5.27266636e-02,\n",
       "        1.36893355e-02, 1.14211289e-02, 9.06841787e-03],\n",
       "       [1.17672329e-02, 1.41041114e-02, 5.51725193e-02, 5.52407265e-02,\n",
       "        5.52407265e-02, 5.52407265e-02, 5.72277102e-02, 3.92012493e-01,\n",
       "        5.72277102e-02, 5.52407265e-02, 5.52407265e-02, 5.52407265e-02,\n",
       "        5.51725193e-02, 1.41041114e-02, 1.17672329e-02],\n",
       "       [9.06841787e-03, 1.14211289e-02, 1.36893355e-02, 5.27266636e-02,\n",
       "        5.28730406e-02, 5.30158909e-02, 5.51568286e-02, 5.72277102e-02,\n",
       "        3.92099935e-01, 5.73991267e-02, 5.75419770e-02, 5.76883540e-02,\n",
       "        5.77700417e-02, 5.77837511e-02, 1.45377987e-02],\n",
       "       [6.44114990e-03, 8.80604304e-03, 1.10897716e-02, 1.32965389e-02,\n",
       "        5.04385892e-02, 5.07242981e-02, 5.30158909e-02, 5.52407265e-02,\n",
       "        5.73991267e-02, 3.92362352e-01, 5.97769775e-02, 6.00697398e-02,\n",
       "        6.03013984e-02, 6.04688159e-02, 6.05685813e-02],\n",
       "       [3.98973973e-03, 6.43268221e-03, 8.79419594e-03, 1.10784973e-02,\n",
       "        1.32894854e-02, 5.04385892e-02, 5.28730406e-02, 5.52407265e-02,\n",
       "        5.75419770e-02, 5.97769775e-02, 4.29797165e-01, 6.22877814e-02,\n",
       "        6.25969741e-02, 6.28421767e-02, 6.30199915e-02],\n",
       "       [1.46054004e-03, 3.98342509e-03, 6.42461293e-03, 8.78833309e-03,\n",
       "        1.10784973e-02, 1.32965389e-02, 5.27266636e-02, 5.52407265e-02,\n",
       "        5.76883540e-02, 6.00697398e-02, 6.22877814e-02, 4.71147605e-01,\n",
       "        6.49665571e-02, 6.52914338e-02, 6.55491911e-02],\n",
       "       [1.04185746e-03, 1.46032072e-03, 3.98129523e-03, 6.42461293e-03,\n",
       "        8.79419594e-03, 1.10897716e-02, 1.36893355e-02, 5.51725193e-02,\n",
       "        5.77700417e-02, 6.03013984e-02, 6.25969741e-02, 6.49665571e-02,\n",
       "        5.16737103e-01, 6.78163100e-02, 6.81577073e-02],\n",
       "       [6.92066105e-04, 1.04193261e-03, 1.46032072e-03, 3.98342509e-03,\n",
       "        6.43268221e-03, 8.80604304e-03, 1.14211289e-02, 1.41041114e-02,\n",
       "        5.77837511e-02, 6.04688159e-02, 6.28421767e-02, 6.52914338e-02,\n",
       "        6.78163100e-02, 5.67006110e-01, 7.08496923e-02],\n",
       "       [4.14764771e-04, 6.92066105e-04, 1.04185746e-03, 1.46054004e-03,\n",
       "        3.98973973e-03, 6.44114990e-03, 9.06841787e-03, 1.17672329e-02,\n",
       "        1.45377987e-02, 6.05685813e-02, 6.30199915e-02, 6.55491911e-02,\n",
       "        6.81577073e-02, 7.08496923e-02, 6.22441269e-01]])"
      ]
     },
     "execution_count": 260,
     "metadata": {},
     "output_type": "execute_result"
    }
   ],
   "source": [
    "# Un avec une matrice de covariance ord\n",
    "# KV_inv = K_cov_matrix(M, 0.2)\n",
    "KV_inv = graph_kernel(a_width = 5, a_strength = 0.1, dim = M)\n",
    "KV_inv"
   ]
  },
  {
   "cell_type": "code",
   "execution_count": 261,
   "metadata": {
    "ExecuteTime": {
     "end_time": "2020-06-05T23:03:47.025143Z",
     "start_time": "2020-06-05T23:03:47.020159Z"
    },
    "scrolled": true
   },
   "outputs": [
    {
     "data": {
      "text/plain": [
       "array([[0.62347437, 0.07191639, 0.07191639, 0.07191639, 0.07191639,\n",
       "        0.07191639, 0.01694371],\n",
       "       [0.07191639, 0.56850169, 0.07191639, 0.07191639, 0.07191639,\n",
       "        0.07191639, 0.07191639],\n",
       "       [0.07191639, 0.07191639, 0.56850169, 0.07191639, 0.07191639,\n",
       "        0.07191639, 0.07191639],\n",
       "       [0.07191639, 0.07191639, 0.07191639, 0.56850169, 0.07191639,\n",
       "        0.07191639, 0.07191639],\n",
       "       [0.07191639, 0.07191639, 0.07191639, 0.07191639, 0.56850169,\n",
       "        0.07191639, 0.07191639],\n",
       "       [0.07191639, 0.07191639, 0.07191639, 0.07191639, 0.07191639,\n",
       "        0.56850169, 0.07191639],\n",
       "       [0.01694371, 0.07191639, 0.07191639, 0.07191639, 0.07191639,\n",
       "        0.07191639, 0.62347437]])"
      ]
     },
     "execution_count": 261,
     "metadata": {},
     "output_type": "execute_result"
    }
   ],
   "source": [
    "# Un avec un graph kernel\n",
    "KU_inv = graph_kernel(a_width = 5, a_strength = 0.1, dim = N)\n",
    "KU_inv"
   ]
  },
  {
   "cell_type": "markdown",
   "metadata": {},
   "source": [
    "## Modèle"
   ]
  },
  {
   "cell_type": "code",
   "execution_count": 310,
   "metadata": {
    "ExecuteTime": {
     "end_time": "2020-06-06T00:01:13.973082Z",
     "start_time": "2020-06-06T00:01:13.954905Z"
    }
   },
   "outputs": [],
   "source": [
    "# Entrainement\n",
    "import random\n",
    "from tqdm.auto import trange # Barre de progression pour les boules imbriquées\n",
    "\n",
    "# Hyperparamètres\n",
    "itr = 5    #    R = itr = iterations\n",
    "lr = 0.1    #    l = learning_rate\n",
    "R = 10 #    K = approx # Rang !!! (changer les termes pour uniformité)\n",
    "\n",
    "\n",
    "def KPMF(itr, lr, R, A, KU_inv, KV_inv):\n",
    "    \"\"\"\n",
    "    Algorithme :\n",
    "        KPMF avec descente du gradient\n",
    "    \n",
    "    Paramètres en entré : \n",
    "        A : Matrice pour l'entrainement (N * M)\n",
    "        \n",
    "        R : Rang souhaité pour les matrices\n",
    "        \n",
    "        KU_inv : Matrice de précision (N * N) sur les lignes de A\n",
    "        KV_inv : Matrice de précision (M * M) sur les colonnes de A\n",
    "        \n",
    "        itr : Nombre d'itérations\n",
    "        lr : Taux d'apprentissage\n",
    "    \n",
    "    \n",
    "    Paramètre en sortie :\n",
    "        imp_A : Matrice A avec les nouvelles données imputées\n",
    "    \n",
    "    \n",
    "    \"\"\"\n",
    "    A = np.interp(A, (A.min(), A.max()), (-1, +1))\n",
    "    # Identifier les éléments présents dans la matrice\n",
    "    Z = np.asarray(A > 0, dtype = np.float64)\n",
    "    \n",
    "    # Enlever la moyenne (?) - trouver pourquoi\n",
    "    #A1d = np.ravel(A)\n",
    "    #mean = np.mean(A1d)\n",
    "    #A = A - mean\n",
    "    print(A.shape)\n",
    "    # Initialiser U et V\n",
    "    N = A.shape[0] # Nombre de lignes dans A\n",
    "    print(N)\n",
    "    M = A.shape[1] # Nombre de colones dans A\n",
    "    print(M)\n",
    "    \n",
    "    random.seed(12345)\n",
    "    U = np.random.randn(N, R) # Initialisation de U\n",
    "    \n",
    "    random.seed(12345)\n",
    "    V = np.random.randn(R, M) # Initialisation de V\n",
    "    \n",
    "    \n",
    "    sigma2 = 0.4 ** 2\n",
    "    \n",
    "       \n",
    "    \n",
    "    # Algorithme de gradient pour trouver les facteurs latents\n",
    "    for r in trange(itr):\n",
    "        # Pour chaque ligne et pour chaque colonne, si l'élément dans la cellule est plus haute que 0\n",
    "        for i in trange(N):\n",
    "            for j in trange(M):\n",
    "                if Z[i, j] > 0:\n",
    "                    e = A[i,j] - np.dot(U[i,:], V[:,j])\n",
    "                    \n",
    "                    U[i,:] = U[i,:] + lr * (V[:,j] - e.T * np.dot(KU_inv[i,:], U))\n",
    "                    V[:,j] = V[:,j] + lr * (U[i,:] - e.T * np.dot(V, KV_inv[:,j]))\n",
    "                    \n",
    "                    #U[i,:] + lr * (e.T * np.dot(KU_inv[i,:], U))\n",
    "                    # V[:,j] = V[:,j] + lr * (e.T * np.dot(V, KV_inv[:,j]))\n",
    "                    \n",
    "                    # e(n) denotes an N-dimensional unit vector with the nth component being one and others being zero\n",
    "                    #e = A[i, j] - np.dot(U[i, :], V[:, j])\n",
    "                    \n",
    "                    # Gradient pour U\n",
    "                    #tu1 = e * V[:, j]\n",
    "                    #tu2 = np.dot(KU_inv[i, :], U)\n",
    "                    #tu3 = lr * (tu1 - tu2)\n",
    "                    #U[i, :] = U[i, :] + tu3\n",
    "                    \n",
    "                    # Gradient pour V               \n",
    "                    #tv1 = e * U[i, :]\n",
    "                    #tv2 = np.dot(V, KV_inv[:, j])\n",
    "                    ##tv3 = lr * (tv1 - tv2)\n",
    "                    #print(tv1.shape, tv2.shape, tv3.shape)\n",
    "                    #V[:, j] = V[:, j] + tv3\n",
    "    \n",
    "    # Reformation de la matrice A\n",
    "    print(U)\n",
    "    print(V)\n",
    "    imp_A = np.dot(U, V)\n",
    "    #imp_A = imp_A + mean  # Pourquoi ???\n",
    "    \n",
    "    return imp_A"
   ]
  },
  {
   "cell_type": "code",
   "execution_count": 311,
   "metadata": {
    "ExecuteTime": {
     "end_time": "2020-06-06T00:01:14.327393Z",
     "start_time": "2020-06-06T00:01:14.264528Z"
    }
   },
   "outputs": [
    {
     "name": "stdout",
     "output_type": "stream",
     "text": [
      "(7, 15)\n",
      "7\n",
      "15\n"
     ]
    },
    {
     "data": {
      "application/vnd.jupyter.widget-view+json": {
       "model_id": "00e20d1139254717bc71f125a2ed3e42",
       "version_major": 2,
       "version_minor": 0
      },
      "text/plain": [
       "HBox(children=(FloatProgress(value=0.0, max=5.0), HTML(value='')))"
      ]
     },
     "metadata": {},
     "output_type": "display_data"
    },
    {
     "data": {
      "application/vnd.jupyter.widget-view+json": {
       "model_id": "b5d92b1c1ce94de09f09dcd05fdb3383",
       "version_major": 2,
       "version_minor": 0
      },
      "text/plain": [
       "HBox(children=(FloatProgress(value=0.0, max=7.0), HTML(value='')))"
      ]
     },
     "metadata": {},
     "output_type": "display_data"
    },
    {
     "data": {
      "application/vnd.jupyter.widget-view+json": {
       "model_id": "cf376a12844542e19c914616e6527af0",
       "version_major": 2,
       "version_minor": 0
      },
      "text/plain": [
       "HBox(children=(FloatProgress(value=0.0, max=15.0), HTML(value='')))"
      ]
     },
     "metadata": {},
     "output_type": "display_data"
    },
    {
     "name": "stdout",
     "output_type": "stream",
     "text": [
      "\n",
      "\n",
      "\n"
     ]
    },
    {
     "ename": "ValueError",
     "evalue": "matmul: Input operand 1 has a mismatch in its core dimension 0, with gufunc signature (n?,k),(k,m?)->(n?,m?) (size 7 is different from 15)",
     "output_type": "error",
     "traceback": [
      "\u001b[1;31m---------------------------------------------------------------------------\u001b[0m",
      "\u001b[1;31mValueError\u001b[0m                                Traceback (most recent call last)",
      "\u001b[1;32m<ipython-input-311-e4c52c7ecac0>\u001b[0m in \u001b[0;36m<module>\u001b[1;34m\u001b[0m\n\u001b[1;32m----> 1\u001b[1;33m \u001b[0mimp_A\u001b[0m \u001b[1;33m=\u001b[0m \u001b[0mKPMF\u001b[0m\u001b[1;33m(\u001b[0m\u001b[0mitr\u001b[0m \u001b[1;33m=\u001b[0m \u001b[0mitr\u001b[0m\u001b[1;33m,\u001b[0m \u001b[0mlr\u001b[0m \u001b[1;33m=\u001b[0m \u001b[0mlr\u001b[0m\u001b[1;33m,\u001b[0m \u001b[0mR\u001b[0m \u001b[1;33m=\u001b[0m \u001b[0mR\u001b[0m\u001b[1;33m,\u001b[0m \u001b[0mA\u001b[0m \u001b[1;33m=\u001b[0m \u001b[0morigA\u001b[0m\u001b[1;33m,\u001b[0m \u001b[0mKU_inv\u001b[0m \u001b[1;33m=\u001b[0m \u001b[0mKU_inv\u001b[0m\u001b[1;33m,\u001b[0m \u001b[0mKV_inv\u001b[0m \u001b[1;33m=\u001b[0m \u001b[0mKV_inv\u001b[0m\u001b[1;33m)\u001b[0m\u001b[1;33m\u001b[0m\u001b[1;33m\u001b[0m\u001b[0m\n\u001b[0m",
      "\u001b[1;32m<ipython-input-310-98a810a9cb30>\u001b[0m in \u001b[0;36mKPMF\u001b[1;34m(itr, lr, R, A, KU_inv, KV_inv)\u001b[0m\n\u001b[0;32m     70\u001b[0m                     \u001b[1;31m#V[:,j] = V[:,j] + lr * (U[i,:] - e.T * np.dot(V, KV_inv[:,j]))\u001b[0m\u001b[1;33m\u001b[0m\u001b[1;33m\u001b[0m\u001b[1;33m\u001b[0m\u001b[0m\n\u001b[0;32m     71\u001b[0m                     U[i,:] = -(np.matmul(sum(A - UV),\n\u001b[1;32m---> 72\u001b[1;33m                                          np.ones(N) * U[i,j])/sigma2) + lr * (\n\u001b[0m\u001b[0;32m     73\u001b[0m                         e.T * np.matmul(V,\n\u001b[0;32m     74\u001b[0m                                         KV_inv[:,j]))\n",
      "\u001b[1;31mValueError\u001b[0m: matmul: Input operand 1 has a mismatch in its core dimension 0, with gufunc signature (n?,k),(k,m?)->(n?,m?) (size 7 is different from 15)"
     ]
    }
   ],
   "source": [
    "imp_A = KPMF(itr = itr, lr = lr, R = R, A = origA, KU_inv = KU_inv, KV_inv = KV_inv)"
   ]
  },
  {
   "cell_type": "code",
   "execution_count": 251,
   "metadata": {
    "ExecuteTime": {
     "end_time": "2020-06-05T23:00:43.214520Z",
     "start_time": "2020-06-05T23:00:43.209534Z"
    }
   },
   "outputs": [
    {
     "data": {
      "text/plain": [
       "(7, 15)"
      ]
     },
     "execution_count": 251,
     "metadata": {},
     "output_type": "execute_result"
    }
   ],
   "source": [
    "OrigA.shape"
   ]
  },
  {
   "cell_type": "markdown",
   "metadata": {},
   "source": [
    "## Résultats"
   ]
  },
  {
   "cell_type": "code",
   "execution_count": 201,
   "metadata": {
    "ExecuteTime": {
     "end_time": "2020-06-05T21:59:42.511615Z",
     "start_time": "2020-06-05T21:59:42.506630Z"
    }
   },
   "outputs": [],
   "source": [
    "# Calcul du RMSE\n",
    "def get_RMSE(A_dense, imp_A):\n",
    "    \"\"\"\n",
    "    Paramètres en entrée : \n",
    "        A_dense : Matrice A dense (avec tous les éléments)\n",
    "        imp_A : Matrice A avec les éléments imputés\n",
    "    Paramètres en sortie : \n",
    "        RMSE : Erreur au carré\n",
    "        \n",
    "    \"\"\"\n",
    "    \n",
    "    A1d = np.ravel(A_dense)\n",
    "    print(A1d)\n",
    "    A_1d = np.ravel(imp_A)\n",
    "    print(A_1d)\n",
    "    \n",
    "    # Calcul de l'erreur au carré\n",
    "    e = np.mean((A1d - A_1d) ** 2)\n",
    "    print(e)\n",
    "    \n",
    "    # Calcul du RMSE\n",
    "    RMSE = np.sqrt(e)\n",
    "    print(RMSE)\n",
    "    \n",
    "    return RMSE"
   ]
  },
  {
   "cell_type": "code",
   "execution_count": 202,
   "metadata": {
    "ExecuteTime": {
     "end_time": "2020-06-05T21:59:43.039252Z",
     "start_time": "2020-06-05T21:59:42.874644Z"
    }
   },
   "outputs": [
    {
     "data": {
      "text/plain": [
       "array([[nan, nan, nan, ..., nan, nan, nan],\n",
       "       [nan, nan, nan, ..., nan, nan, nan],\n",
       "       [nan, nan, nan, ..., nan, nan, nan],\n",
       "       ...,\n",
       "       [nan, nan, nan, ..., nan, nan, nan],\n",
       "       [nan, nan, nan, ..., nan, nan, nan],\n",
       "       [nan, nan, nan, ..., nan, nan, nan]])"
      ]
     },
     "execution_count": 202,
     "metadata": {},
     "output_type": "execute_result"
    }
   ],
   "source": [
    "mat_hat = imp_A\n",
    "mat_hat"
   ]
  },
  {
   "cell_type": "code",
   "execution_count": 165,
   "metadata": {
    "ExecuteTime": {
     "end_time": "2020-06-05T21:48:11.542531Z",
     "start_time": "2020-06-05T21:48:11.498649Z"
    }
   },
   "outputs": [
    {
     "data": {
      "text/plain": [
       "array([41.227, 45.891, 42.333, ..., 50.204, 51.683, 50.03 ])"
      ]
     },
     "execution_count": 165,
     "metadata": {},
     "output_type": "execute_result"
    }
   ],
   "source": [
    "pos = np.where((dense_mat != 0) & (sparse_mat == 0))\n",
    "dense_mat[pos]\n",
    "\n",
    "\n"
   ]
  },
  {
   "cell_type": "code",
   "execution_count": null,
   "metadata": {},
   "outputs": [],
   "source": [
    "mat_hat = np.matmul(W, X.T)\n",
    "\n",
    "\n",
    "np.sqrt(np.sum((dense_mat[pos] - mat_hat[pos]) ** 2)/dense_mat[pos].shape[0])"
   ]
  },
  {
   "cell_type": "code",
   "execution_count": 163,
   "metadata": {
    "ExecuteTime": {
     "end_time": "2020-06-05T21:47:19.397171Z",
     "start_time": "2020-06-05T21:47:19.393169Z"
    }
   },
   "outputs": [
    {
     "name": "stdout",
     "output_type": "stream",
     "text": [
      "[40.893 41.938 44.098 ... 50.204 51.683 50.03 ]\n",
      "[nan nan nan ... nan nan nan]\n",
      "nan\n",
      "nan\n"
     ]
    },
    {
     "data": {
      "text/plain": [
       "nan"
      ]
     },
     "execution_count": 163,
     "metadata": {},
     "output_type": "execute_result"
    }
   ],
   "source": [
    "get_RMSE(dense_mat, imp_A)"
   ]
  },
  {
   "cell_type": "raw",
   "metadata": {},
   "source": [
    "Mettre ça dans la fin du code (ceci provient de MATLAB)  \n",
    "  \n",
    "  % Calculate the objective function with current U and V\n",
    "    tmpMat = mask.*((R - U*V').^2);\n",
    "    err = 0.5 * sum(tmpMat(:)) / (sigma_r^2);\n",
    "    for d = 1 : D\n",
    "        err = err + 0.5 * ((U(:,d))'*K_u_inv*(U(:,d)) + (V(:,d))'*K_v_inv*(V(:,d)));%* sigma_r^2; % FIXME: sigma_r\n",
    "    end\n",
    "    E(numIters) = err;\n",
    "    \n",
    "    n = sum(mask2(:));\n",
    "    tmpMat = mask2.*((R2 - U*V').^2);\n",
    "    RMSE(numIters) = sqrt(sum(tmpMat(:))/n);\n",
    "    \n",
    "    disp(['iter' ,int2str(numIters),', err=',num2str(err), ', rmse=', num2str(RMSE(numIters))]);\n",
    "\n",
    "    if (numIters > minIters  && (RMSE(numIters-1) - RMSE(numIters))/RMSE(numIters-1)<epsilon )\n",
    "        break;\n",
    "    end"
   ]
  },
  {
   "cell_type": "markdown",
   "metadata": {
    "heading_collapsed": true
   },
   "source": [
    "## Partie 2.3 : Test du modèle"
   ]
  },
  {
   "cell_type": "code",
   "execution_count": 47,
   "metadata": {
    "hidden": true
   },
   "outputs": [
    {
     "data": {
      "image/png": "[encoded data removed]",
      "text/plain": [
       "<Figure size 432x288 with 1 Axes>"
      ]
     },
     "metadata": {
      "needs_background": "light"
     },
     "output_type": "display_data"
    }
   ],
   "source": [
    "colors=['r','b','g','c','m','k']\n",
    "plot.figure()\n",
    "#bs,RMSEs = zip(*PMF_RMSE)\n",
    "ws,bRMSEs = zip(*KPMF_RMSE)\n",
    "labels=[\"PMF\"]+[\"KPMF_\"+\"w\" for w in ws]\n",
    "plot.title(\"RMSE vs. regularization/diffusion rate\")\n",
    "for err,col,lbl in zip(bRMSEs,colors,labels): #((RMSEs,)+bRMSEs,colors,labels):\n",
    "    plot.plot(err, col, label=str(lbl))#(bs, err, col, label=str(lbl))\n",
    "plot.xlabel('Regularization rate')\n",
    "plot.ylabel('RMSE')\n",
    "plot.legend()\n",
    "plot.savefig(\"reg_rate_and_diffusion_RMSE.png\")"
   ]
  },
  {
   "cell_type": "markdown",
   "metadata": {
    "heading_collapsed": true
   },
   "source": [
    "# Partie 3 : Sorties du modèle"
   ]
  },
  {
   "cell_type": "code",
   "execution_count": null,
   "metadata": {
    "hidden": true
   },
   "outputs": [],
   "source": []
  },
  {
   "cell_type": "markdown",
   "metadata": {
    "heading_collapsed": true
   },
   "source": [
    "# Partie 4 : Présentation des résultats"
   ]
  },
  {
   "cell_type": "code",
   "execution_count": null,
   "metadata": {
    "hidden": true
   },
   "outputs": [],
   "source": []
  }
 ],
 "metadata": {
  "kernelspec": {
   "display_name": "Python 3",
   "language": "python",
   "name": "python3"
  },
  "language_info": {
   "codemirror_mode": {
    "name": "ipython",
    "version": 3
   },
   "file_extension": ".py",
   "mimetype": "text/x-python",
   "name": "python",
   "nbconvert_exporter": "python",
   "pygments_lexer": "ipython3",
   "version": "3.7.7"
  },
  "toc": {
   "base_numbering": 1,
   "nav_menu": {},
   "number_sections": true,
   "sideBar": true,
   "skip_h1_title": false,
   "title_cell": "Table of Contents",
   "title_sidebar": "Contents",
   "toc_cell": false,
   "toc_position": {},
   "toc_section_display": true,
   "toc_window_display": false
  },
  "varInspector": {
   "cols": {
    "lenName": 16,
    "lenType": 16,
    "lenVar": 40
   },
   "kernels_config": {
    "python": {
     "delete_cmd_postfix": "",
     "delete_cmd_prefix": "del ",
     "library": "var_list.py",
     "varRefreshCmd": "print(var_dic_list())"
    },
    "r": {
     "delete_cmd_postfix": ") ",
     "delete_cmd_prefix": "rm(",
     "library": "var_list.r",
     "varRefreshCmd": "cat(var_dic_list()) "
    }
   },
   "types_to_exclude": [
    "module",
    "function",
    "builtin_function_or_method",
    "instance",
    "_Feature"
   ],
   "window_display": false
  }
 },
 "nbformat": 4,
 "nbformat_minor": 4
}
