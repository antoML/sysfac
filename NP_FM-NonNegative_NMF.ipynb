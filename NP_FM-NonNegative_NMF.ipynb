{
 "cells": [
  {
   "cell_type": "markdown",
   "metadata": {},
   "source": [
    "# À propos de ce livret\n",
    "\n",
    "\n",
    "\n",
    "\n",
    "*Utilisation d'une méthode de base.*\n",
    "\n",
    "\n",
    "\n",
    "\n",
    "### Recherches\n",
    ">Renaud Gaujoux, Cathal Seoighe (2010). **A flexible R package for nonnegative matrix factorization.**  \n",
    ">Xihui Lin, Paul C. Boutros (2020). [**Optimization and expansion of non-negative matrix factorization.**](https://www.ncbi.nlm.nih.gov/pmc/articles/PMC6945623/)\n",
    "\n",
    "### Sources\n",
    ">[**Dépôt 1**](https://github.com/linxihui/NNLM) | *Version R*  \n",
    ">[**Dépôt 2**](https://github.com/timothyliu-datascience/Non-negative-Matrix-Factorization/blob/master/NMFN.R) | *Version R*  \n",
    "\n",
    "\n",
    "\n",
    "\n",
    "### Note sur le cachier\n",
    "- Ajouter la recherche du rang \n",
    "- Modulariser les éléments\n",
    "\n",
    ">[**Exemples d'implémentation**](https://rdrr.io/cran/NNLM/f/inst/doc/Fast-And-Versatile-NMF.pdf)  | *Document explicatif*\n",
    "\n",
    "\n",
    "\n",
    "- Voir le RMSE\n"
   ]
  },
  {
   "cell_type": "markdown",
   "metadata": {},
   "source": [
    "## Préparation pour l'utilisation"
   ]
  },
  {
   "cell_type": "code",
   "execution_count": 1,
   "metadata": {
    "ExecuteTime": {
     "end_time": "2020-06-27T20:31:12.399916Z",
     "start_time": "2020-06-27T20:30:09.280Z"
    }
   },
   "outputs": [
    {
     "name": "stderr",
     "output_type": "stream",
     "text": [
      "R.matlab v3.6.2 (2018-09-26) successfully loaded. See ?R.matlab for help.\n",
      "\n",
      "\n",
      "Attaching package: 'R.matlab'\n",
      "\n",
      "\n",
      "The following objects are masked from 'package:base':\n",
      "\n",
      "    getOption, isOpen\n",
      "\n",
      "\n"
     ]
    }
   ],
   "source": [
    "## load up the packages we will need:  (uncomment as required)\n",
    "\n",
    "library(R.matlab)\n",
    "pac = c(\"devtools\", \"R.matlab\", \"plyr\", \"ggplot2\")\n",
    "\n",
    "# Installer les paquets s'ils sont manquants\n",
    "new_pac <- pac[!(pac %in% installed.packages()[, \"Package\"])]\n",
    "if (length(new_pac))\n",
    "  install.packages(new_pac)\n",
    "\n",
    "library (plyr)\n",
    "\n",
    "library(ggplot2)"
   ]
  },
  {
   "cell_type": "markdown",
   "metadata": {},
   "source": [
    "# Données"
   ]
  },
  {
   "cell_type": "markdown",
   "metadata": {},
   "source": [
    "## Chargement des données"
   ]
  },
  {
   "cell_type": "code",
   "execution_count": 2,
   "metadata": {
    "ExecuteTime": {
     "end_time": "2020-06-27T20:31:12.451020Z",
     "start_time": "2020-06-27T20:30:09.284Z"
    }
   },
   "outputs": [],
   "source": [
    "# Test avec Seattle 50 % avec 50 % de manquants\n",
    "dossier <- \"transport_Seattle/\" # utilisé pour sauvegarder les données également\n",
    "dossier_donnees <- paste0(\"data/\", dossier)\n",
    "fichier.complet <- \"seattle_mat50\"\n",
    "fichier.binaire <- paste0(fichier.complet, \"bin50\")"
   ]
  },
  {
   "cell_type": "code",
   "execution_count": 3,
   "metadata": {
    "ExecuteTime": {
     "end_time": "2020-06-27T20:31:12.711715Z",
     "start_time": "2020-06-27T20:30:09.291Z"
    }
   },
   "outputs": [],
   "source": [
    "mat.complet <- readMat(paste0(dossier_donnees, fichier.complet, \".mat\"))\n",
    "mat.complet <- mat.complet$mat\n",
    "mat.binaire <- readMat(paste0(dossier_donnees, fichier.binaire, \".mat\"))\n",
    "mat.binaire <- mat.binaire$mat"
   ]
  },
  {
   "cell_type": "markdown",
   "metadata": {},
   "source": [
    "## Création de la matrice de manquants"
   ]
  },
  {
   "cell_type": "code",
   "execution_count": 4,
   "metadata": {
    "ExecuteTime": {
     "end_time": "2020-06-27T20:31:12.769713Z",
     "start_time": "2020-06-27T20:30:09.294Z"
    }
   },
   "outputs": [
    {
     "data": {
      "text/html": [
       "<table>\n",
       "<caption>A matrix: 6 × 4032 of type dbl</caption>\n",
       "<tbody>\n",
       "\t<tr><td>61.93914</td><td>59.23253</td><td>61.99180</td><td> 0.0000</td><td> 0.00000</td><td> 0.00000</td><td> 0.00000</td><td> 0.00000</td><td>62.73766</td><td> 0.00000</td><td>...</td><td> 0.00000</td><td> 0.00000</td><td> 0.00000</td><td>61.89478</td><td> 0.00000</td><td>64.51251</td><td>62.82222</td><td> 0.00000</td><td>62.52052</td><td> 0.00000</td></tr>\n",
       "\t<tr><td> 0.00000</td><td>65.08245</td><td>65.30912</td><td> 0.0000</td><td>65.28767</td><td>68.00123</td><td> 0.00000</td><td>66.76399</td><td> 0.00000</td><td> 0.00000</td><td>...</td><td> 0.00000</td><td>66.22647</td><td> 0.00000</td><td> 0.00000</td><td>68.16688</td><td> 0.00000</td><td> 0.00000</td><td>69.54091</td><td> 0.00000</td><td>63.69065</td></tr>\n",
       "\t<tr><td> 0.00000</td><td> 0.00000</td><td> 0.00000</td><td>67.2066</td><td> 0.00000</td><td>66.41280</td><td> 0.00000</td><td> 0.00000</td><td>66.56429</td><td>65.28691</td><td>...</td><td>66.48719</td><td>66.83091</td><td> 0.00000</td><td> 0.00000</td><td> 0.00000</td><td>66.12682</td><td> 0.00000</td><td> 0.00000</td><td>68.68083</td><td>63.33837</td></tr>\n",
       "\t<tr><td>60.78642</td><td> 0.00000</td><td> 0.00000</td><td> 0.0000</td><td>64.70741</td><td>62.72487</td><td>62.48182</td><td>63.42375</td><td> 0.00000</td><td>64.77862</td><td>...</td><td> 0.00000</td><td>64.94116</td><td>64.35695</td><td>63.84595</td><td> 0.00000</td><td> 0.00000</td><td> 0.00000</td><td> 0.00000</td><td> 0.00000</td><td> 0.00000</td></tr>\n",
       "\t<tr><td>63.12068</td><td> 0.00000</td><td> 0.00000</td><td> 0.0000</td><td>65.70866</td><td>63.67469</td><td> 0.00000</td><td> 0.00000</td><td>62.62986</td><td> 0.00000</td><td>...</td><td> 0.00000</td><td>66.43643</td><td>64.82368</td><td> 0.00000</td><td>63.04948</td><td>64.79836</td><td>66.15399</td><td> 0.00000</td><td>63.58042</td><td> 0.00000</td></tr>\n",
       "\t<tr><td> 0.00000</td><td>62.49672</td><td>63.81661</td><td> 0.0000</td><td> 0.00000</td><td>63.12397</td><td> 0.00000</td><td>65.14970</td><td> 0.00000</td><td>63.31650</td><td>...</td><td> 0.00000</td><td>63.38139</td><td>64.03708</td><td>63.67491</td><td> 0.00000</td><td>62.02703</td><td>64.62548</td><td> 0.00000</td><td>62.45866</td><td>61.03024</td></tr>\n",
       "</tbody>\n",
       "</table>\n"
      ],
      "text/latex": [
       "A matrix: 6 × 4032 of type dbl\n",
       "\\begin{tabular}{lllllllllllllllllllll}\n",
       "\t 61.93914 & 59.23253 & 61.99180 &  0.0000 &  0.00000 &  0.00000 &  0.00000 &  0.00000 & 62.73766 &  0.00000 & ... &  0.00000 &  0.00000 &  0.00000 & 61.89478 &  0.00000 & 64.51251 & 62.82222 &  0.00000 & 62.52052 &  0.00000\\\\\n",
       "\t  0.00000 & 65.08245 & 65.30912 &  0.0000 & 65.28767 & 68.00123 &  0.00000 & 66.76399 &  0.00000 &  0.00000 & ... &  0.00000 & 66.22647 &  0.00000 &  0.00000 & 68.16688 &  0.00000 &  0.00000 & 69.54091 &  0.00000 & 63.69065\\\\\n",
       "\t  0.00000 &  0.00000 &  0.00000 & 67.2066 &  0.00000 & 66.41280 &  0.00000 &  0.00000 & 66.56429 & 65.28691 & ... & 66.48719 & 66.83091 &  0.00000 &  0.00000 &  0.00000 & 66.12682 &  0.00000 &  0.00000 & 68.68083 & 63.33837\\\\\n",
       "\t 60.78642 &  0.00000 &  0.00000 &  0.0000 & 64.70741 & 62.72487 & 62.48182 & 63.42375 &  0.00000 & 64.77862 & ... &  0.00000 & 64.94116 & 64.35695 & 63.84595 &  0.00000 &  0.00000 &  0.00000 &  0.00000 &  0.00000 &  0.00000\\\\\n",
       "\t 63.12068 &  0.00000 &  0.00000 &  0.0000 & 65.70866 & 63.67469 &  0.00000 &  0.00000 & 62.62986 &  0.00000 & ... &  0.00000 & 66.43643 & 64.82368 &  0.00000 & 63.04948 & 64.79836 & 66.15399 &  0.00000 & 63.58042 &  0.00000\\\\\n",
       "\t  0.00000 & 62.49672 & 63.81661 &  0.0000 &  0.00000 & 63.12397 &  0.00000 & 65.14970 &  0.00000 & 63.31650 & ... &  0.00000 & 63.38139 & 64.03708 & 63.67491 &  0.00000 & 62.02703 & 64.62548 &  0.00000 & 62.45866 & 61.03024\\\\\n",
       "\\end{tabular}\n"
      ],
      "text/markdown": [
       "\n",
       "A matrix: 6 × 4032 of type dbl\n",
       "\n",
       "| 61.93914 | 59.23253 | 61.99180 |  0.0000 |  0.00000 |  0.00000 |  0.00000 |  0.00000 | 62.73766 |  0.00000 | ... |  0.00000 |  0.00000 |  0.00000 | 61.89478 |  0.00000 | 64.51251 | 62.82222 |  0.00000 | 62.52052 |  0.00000 |\n",
       "|  0.00000 | 65.08245 | 65.30912 |  0.0000 | 65.28767 | 68.00123 |  0.00000 | 66.76399 |  0.00000 |  0.00000 | ... |  0.00000 | 66.22647 |  0.00000 |  0.00000 | 68.16688 |  0.00000 |  0.00000 | 69.54091 |  0.00000 | 63.69065 |\n",
       "|  0.00000 |  0.00000 |  0.00000 | 67.2066 |  0.00000 | 66.41280 |  0.00000 |  0.00000 | 66.56429 | 65.28691 | ... | 66.48719 | 66.83091 |  0.00000 |  0.00000 |  0.00000 | 66.12682 |  0.00000 |  0.00000 | 68.68083 | 63.33837 |\n",
       "| 60.78642 |  0.00000 |  0.00000 |  0.0000 | 64.70741 | 62.72487 | 62.48182 | 63.42375 |  0.00000 | 64.77862 | ... |  0.00000 | 64.94116 | 64.35695 | 63.84595 |  0.00000 |  0.00000 |  0.00000 |  0.00000 |  0.00000 |  0.00000 |\n",
       "| 63.12068 |  0.00000 |  0.00000 |  0.0000 | 65.70866 | 63.67469 |  0.00000 |  0.00000 | 62.62986 |  0.00000 | ... |  0.00000 | 66.43643 | 64.82368 |  0.00000 | 63.04948 | 64.79836 | 66.15399 |  0.00000 | 63.58042 |  0.00000 |\n",
       "|  0.00000 | 62.49672 | 63.81661 |  0.0000 |  0.00000 | 63.12397 |  0.00000 | 65.14970 |  0.00000 | 63.31650 | ... |  0.00000 | 63.38139 | 64.03708 | 63.67491 |  0.00000 | 62.02703 | 64.62548 |  0.00000 | 62.45866 | 61.03024 |\n",
       "\n"
      ],
      "text/plain": [
       "     [,1]     [,2]     [,3]     [,4]    [,5]     [,6]     [,7]     [,8]    \n",
       "[1,] 61.93914 59.23253 61.99180  0.0000  0.00000  0.00000  0.00000  0.00000\n",
       "[2,]  0.00000 65.08245 65.30912  0.0000 65.28767 68.00123  0.00000 66.76399\n",
       "[3,]  0.00000  0.00000  0.00000 67.2066  0.00000 66.41280  0.00000  0.00000\n",
       "[4,] 60.78642  0.00000  0.00000  0.0000 64.70741 62.72487 62.48182 63.42375\n",
       "[5,] 63.12068  0.00000  0.00000  0.0000 65.70866 63.67469  0.00000  0.00000\n",
       "[6,]  0.00000 62.49672 63.81661  0.0000  0.00000 63.12397  0.00000 65.14970\n",
       "     [,9]     [,10]    [,11] [,12]    [,13]    [,14]    [,15]    [,16]   \n",
       "[1,] 62.73766  0.00000 ...    0.00000  0.00000  0.00000 61.89478  0.00000\n",
       "[2,]  0.00000  0.00000 ...    0.00000 66.22647  0.00000  0.00000 68.16688\n",
       "[3,] 66.56429 65.28691 ...   66.48719 66.83091  0.00000  0.00000  0.00000\n",
       "[4,]  0.00000 64.77862 ...    0.00000 64.94116 64.35695 63.84595  0.00000\n",
       "[5,] 62.62986  0.00000 ...    0.00000 66.43643 64.82368  0.00000 63.04948\n",
       "[6,]  0.00000 63.31650 ...    0.00000 63.38139 64.03708 63.67491  0.00000\n",
       "     [,17]    [,18]    [,19]    [,20]    [,21]   \n",
       "[1,] 64.51251 62.82222  0.00000 62.52052  0.00000\n",
       "[2,]  0.00000  0.00000 69.54091  0.00000 63.69065\n",
       "[3,] 66.12682  0.00000  0.00000 68.68083 63.33837\n",
       "[4,]  0.00000  0.00000  0.00000  0.00000  0.00000\n",
       "[5,] 64.79836 66.15399  0.00000 63.58042  0.00000\n",
       "[6,] 62.02703 64.62548  0.00000 62.45866 61.03024"
      ]
     },
     "metadata": {},
     "output_type": "display_data"
    },
    {
     "data": {
      "text/html": [
       "<style>\n",
       ".list-inline {list-style: none; margin:0; padding: 0}\n",
       ".list-inline>li {display: inline-block}\n",
       ".list-inline>li:not(:last-child)::after {content: \"\\00b7\"; padding: 0 .5ex}\n",
       "</style>\n",
       "<ol class=list-inline><li>162</li><li>4032</li></ol>\n"
      ],
      "text/latex": [
       "\\begin{enumerate*}\n",
       "\\item 162\n",
       "\\item 4032\n",
       "\\end{enumerate*}\n"
      ],
      "text/markdown": [
       "1. 162\n",
       "2. 4032\n",
       "\n",
       "\n"
      ],
      "text/plain": [
       "[1]  162 4032"
      ]
     },
     "metadata": {},
     "output_type": "display_data"
    }
   ],
   "source": [
    "# Création de la matrice de manquants\n",
    "manq.mat <- mat.complet * mat.binaire\n",
    "\n",
    "head(manq.mat)\n",
    "dim(manq.mat)"
   ]
  },
  {
   "cell_type": "code",
   "execution_count": 5,
   "metadata": {
    "ExecuteTime": {
     "end_time": "2020-06-27T20:31:12.808711Z",
     "start_time": "2020-06-27T20:30:09.297Z"
    }
   },
   "outputs": [],
   "source": [
    "# Créer un index pour la validation des paramètres imputés\n",
    "index <- which(mat.binaire %in% c(0))"
   ]
  },
  {
   "cell_type": "markdown",
   "metadata": {},
   "source": [
    "# Modélisation"
   ]
  },
  {
   "cell_type": "markdown",
   "metadata": {},
   "source": [
    "### Fonctions d'utilités"
   ]
  },
  {
   "cell_type": "code",
   "execution_count": 6,
   "metadata": {
    "ExecuteTime": {
     "end_time": "2020-06-27T20:31:12.826744Z",
     "start_time": "2020-06-27T20:30:09.300Z"
    }
   },
   "outputs": [],
   "source": [
    "# Moore-Penrose Inverse\n",
    "mpinv <- function(X) {\n",
    "    Eps <- 100 * .Machine$double.eps\n",
    "    \n",
    "    # singular value decomposition\n",
    "    s <- svd(X)\n",
    "    d <- s$d\n",
    "    m <- length(d)\n",
    "    \n",
    "    if (!(is.vector(d))) \n",
    "        return(t(s$v %*% (1/d) %*% t(s$u)))\n",
    "    \n",
    "    d <- d[d > Eps]\n",
    "    notnull <- length(d)\n",
    "    \n",
    "    if (notnull == 1) {\n",
    "        inv <- 1/d\n",
    "    } else {\n",
    "        inv <- solve(diag(d))\n",
    "    }\n",
    "    \n",
    "    if (notnull != m) {\n",
    "        inv <- cbind(inv, matrix(0, nrow = notnull, ncol = (m - notnull)))\n",
    "        inv <- rbind(inv, matrix(0, nrow = (m - notnull), ncol = m))\n",
    "    }\n",
    "    \n",
    "    mp <- s$v %*% inv %*% t(s$u)\n",
    "    \n",
    "    mp[abs(mp) < Eps] <- 0\n",
    "    return(mp)\n",
    "}"
   ]
  },
  {
   "cell_type": "code",
   "execution_count": 7,
   "metadata": {
    "ExecuteTime": {
     "end_time": "2020-06-27T20:31:12.844715Z",
     "start_time": "2020-06-27T20:30:09.303Z"
    }
   },
   "outputs": [],
   "source": [
    "# Euclidean Distance between two matrices\n",
    "distance2 <- function(x1, x2) {\n",
    "    temp <- x1 - x2\n",
    "    sum(temp * temp)\n",
    "}"
   ]
  },
  {
   "cell_type": "code",
   "execution_count": 8,
   "metadata": {
    "ExecuteTime": {
     "end_time": "2020-06-27T20:31:12.865716Z",
     "start_time": "2020-06-27T20:30:09.307Z"
    }
   },
   "outputs": [],
   "source": [
    "# RMSE sur les valeurs de la matrice binaire\n",
    "RMSE <- function(val_orig, val_pred, index) {\n",
    "    sqrt(mean((val_orig[index] - val_pred[index])^2))\n",
    "}"
   ]
  },
  {
   "cell_type": "markdown",
   "metadata": {},
   "source": [
    "## Modèles"
   ]
  },
  {
   "cell_type": "code",
   "execution_count": 9,
   "metadata": {
    "ExecuteTime": {
     "end_time": "2020-06-27T20:31:12.887715Z",
     "start_time": "2020-06-27T20:30:09.309Z"
    }
   },
   "outputs": [],
   "source": [
    "# Non-negative Matrix Factorization via alternating least squares\n",
    "nnmf_als <- function(x, k, maxiter, eps, index, x_complet) {\n",
    "    print_iter <- 50  # iterations between print\n",
    "    x <- as.matrix(x)\n",
    "    \n",
    "    if (any(!is.finite(x))) \n",
    "        stop(\"infinite or missing values in 'x'\")\n",
    "    \n",
    "    dx <- dim(x)\n",
    "    D <- dx[1L]\n",
    "    N <- dx[2L]\n",
    "    Xscale = sum(x)\n",
    "    \n",
    "    \n",
    "    if (!D || !N) \n",
    "        stop(\"0 extent dimensions\")\n",
    "    set.seed(2020)\n",
    "    W <- matrix(abs(rnorm(D * k)), D, k)\n",
    "    set.seed(2020)\n",
    "    H <- matrix(abs(rnorm(k * N)), k, N)\n",
    "    \n",
    "    Rscale <- sum(W %*% H)\n",
    "    sqrnorm <- sqrt(Rscale/Xscale)\n",
    "    \n",
    "    H <- H/sqrnorm\n",
    "    W <- W/sqrnorm\n",
    "    \n",
    "    Xr_old <- W %*% H\n",
    "    \n",
    "    for (iter in 1:maxiter) {\n",
    "        W <- x %*% t(mpinv(H %*% t(H)) %*% H)\n",
    "        W <- (W > 0) * W\n",
    "        W <- W/(t(matrix(rep(colSums(W), D), ncol(W), nrow(W))) + eps)\n",
    "        H <- t(W %*% mpinv(t(W) %*% W)) %*% x\n",
    "        H <- H * (H > 0)\n",
    "        \n",
    "        if (iter%%print_iter == 0) {\n",
    "            Xr <- W %*% H\n",
    "            diff <- sum(abs(Xr_old - Xr))\n",
    "            Xr_old <- Xr\n",
    "            \n",
    "            eucl_dist <- distance2(x, W %*% H)\n",
    "            errorx <- mean(abs(x - W %*% H))/mean(x)\n",
    "            x_pred = W %*% H\n",
    "            rmsex <- sqrt(mean((x_complet[index] - x_pred[index])^2))\n",
    "            \n",
    "            cat(\"Iter = \", iter, \"\\t\")\n",
    "            cat(\"relative error = \", errorx, \"\\t\")\n",
    "            cat(\"RMSE\", rmsex, \"\\t\")\n",
    "            cat(\"diff = \", diff, \"\\t\")\n",
    "            cat(\"eucl dist = \", eucl_dist, \"\\n\")\n",
    "            \n",
    "            if (errorx < 1e-05) {\n",
    "                cat(\"Execution finishes at iteration = \", iter, \"\\n\")\n",
    "                break\n",
    "            }\n",
    "        }\n",
    "    }\n",
    "    z <- c(list(W = W, H = H))\n",
    "    z\n",
    "}"
   ]
  },
  {
   "cell_type": "code",
   "execution_count": 10,
   "metadata": {
    "ExecuteTime": {
     "end_time": "2020-06-27T20:31:12.911714Z",
     "start_time": "2020-06-27T20:30:09.311Z"
    }
   },
   "outputs": [],
   "source": [
    "# Non-negative Matrix Factorization via multiplicative update\n",
    "nnmf_mm <- function(x, k, maxiter, eps, index, x_complet) {\n",
    "    print_iter <- 50  # iterations between print\n",
    "    x <- as.matrix(x)\n",
    "    \n",
    "    if (any(!is.finite(x))) \n",
    "        stop(\"infinite or missing values in 'x'\")\n",
    "    \n",
    "    dx <- dim(x)\n",
    "    n <- dx[1L]\n",
    "    m <- dx[2L]\n",
    "    \n",
    "    if (!n || !m) \n",
    "        stop(\"0 extent dimensions\")\n",
    "    \n",
    "    set.seed(2020) # Reproductibitlité\n",
    "    W <- matrix(abs(rnorm(n * k)), n, k)\n",
    "    set.seed(2020) # Reproductibitlité\n",
    "    H <- matrix(abs(rnorm(k * m)), k, m)\n",
    "    \n",
    "    Xr_old <- W %*% H\n",
    "    \n",
    "    for (iter in 1:maxiter) {\n",
    "        H <- H * (t(W) %*% x)/((t(W) %*% W) %*% H + eps)\n",
    "        W <- W * t(H %*% t(x))/(W %*% (H %*% t(H)) + eps)\n",
    "        \n",
    "        if (iter%%print_iter == 0) {\n",
    "            Xr <- W %*% H\n",
    "            diff <- sum(abs(Xr_old - Xr))\n",
    "            Xr_old <- Xr\n",
    "            \n",
    "            \n",
    "            eucl_dist <- distance2(x, W %*% H)\n",
    "            errorx <- mean(abs(x - W %*% H))/mean(x)\n",
    "            x_pred = W %*% H\n",
    "            rmsex <- sqrt(mean((x_complet[index] - x_pred[index])^2))\n",
    "            \n",
    "            cat(\"Iter = \", iter, \"\\t\")\n",
    "            cat(\"relative error = \", errorx, \"\\t\")\n",
    "            cat(\"RMSE\", rmsex, \"\\t\")\n",
    "            cat(\"diff = \", diff, \"\\t\")\n",
    "            cat(\"eucl dist = \", eucl_dist, \"\\n\")\n",
    "            \n",
    "            if (errorx < 1e-05) {\n",
    "                cat(\"Execution finishes at iteration = \", iter, \"\\n\")\n",
    "                break\n",
    "            }\n",
    "        }\n",
    "    }\n",
    "    \n",
    "    z <- c(list(W = W, H = H))\n",
    "    z\n",
    "}"
   ]
  },
  {
   "cell_type": "code",
   "execution_count": 11,
   "metadata": {
    "ExecuteTime": {
     "end_time": "2020-06-27T20:31:12.935746Z",
     "start_time": "2020-06-27T20:30:09.313Z"
    }
   },
   "outputs": [],
   "source": [
    "# Non-negative Matrix Factorization via multinomial\n",
    "nnmf_prob <- function(x, k, maxiter, eps = 100 * .Machine$double.eps, index, x_complet) {\n",
    "    print_iter <- 50\n",
    "    powers <- 1.5 + (2.5 - 1.5) * ((1:maxiter) - 1)/(maxiter - 1)\n",
    "    \n",
    "    D <- dim(x)[1L]\n",
    "    N <- dim(x)[2L]\n",
    "    \n",
    "    X_factor <- sum(x)\n",
    "    X_org <- x\n",
    "    x <- x/X_factor\n",
    "    \n",
    "    set.seed(2020) # Reproductibitlité\n",
    "    W <- matrix(abs(rnorm(D * k)), D, k)\n",
    "    W <- W/t(matrix(rep(colSums(W), D), ncol(W), nrow(W)))\n",
    "    set.seed(2020) # Reproductibitlité\n",
    "    H <- matrix(abs(rnorm(k * N)), k, N)\n",
    "    H <- H/(matrix(rep(rowSums(H), N), nrow(H), ncol(H)))\n",
    "    \n",
    "    P <- matrix(rep(1), k, 1)\n",
    "    P <- P/sum(P)\n",
    "    \n",
    "    W1 <- W\n",
    "    H1 <- H\n",
    "    \n",
    "    Xr_old <- W %*% H\n",
    "    \n",
    "    for (iter in 1:maxiter) {\n",
    "        Qnorm <- (W %*% diag(diag(P), k, k)) %*% H\n",
    "        \n",
    "        for (j in 1:k) {\n",
    "            Q <- (t(t(W[, j])) %*% H[j, ] * P[j])/(Qnorm + eps)\n",
    "            XQ <- x * Q\n",
    "            \n",
    "            dummy <- rowSums(XQ)\n",
    "            W1[, j] <- t(dummy/sum(dummy))\n",
    "            \n",
    "            dummy <- colSums(XQ)\n",
    "            H1[j, ] <- (dummy/sum(dummy))\n",
    "            \n",
    "        }\n",
    "        W <- W1\n",
    "        H <- H1\n",
    "        \n",
    "        if (iter%%print_iter == 0) {\n",
    "            Xr <- W %*% H\n",
    "            diff <- sum(abs(Xr_old - Xr))\n",
    "            Xr_old <- Xr\n",
    "            \n",
    "            eucl_dist <- distance2(x, W %*% H)\n",
    "            errorx <- mean(abs(x - W %*% H))/mean(x)\n",
    "            \n",
    "            x_pred = W %*% H\n",
    "            rmsex <- sqrt(mean((x_complet[index] - x_pred[index])^2))\n",
    "            \n",
    "            cat(\"Iter = \", iter, \"\\t\")\n",
    "            cat(\"relative error = \", errorx, \"\\t\")\n",
    "            cat(\"RMSE\", rmsex, \"\\t\")\n",
    "            cat(\"diff = \", diff, \"\\t\")\n",
    "            cat(\"eucl dist = \", eucl_dist, \"\\n\")\n",
    "            \n",
    "            if (errorx < 1e-05) {\n",
    "                cat(\"Execution finishes at iteration = \", iter, \"\\n\")\n",
    "                break\n",
    "            }\n",
    "        }\n",
    "    }\n",
    "    \n",
    "    W <- W %*% diag(diag(sqrt(P)), k, k) * X_factor\n",
    "    H <- diag(diag(sqrt(P)), k, k) %*% H\n",
    "    \n",
    "    z <- c(list(W = W, H = H))\n",
    "    z\n",
    "}"
   ]
  },
  {
   "cell_type": "code",
   "execution_count": 12,
   "metadata": {
    "ExecuteTime": {
     "end_time": "2020-06-27T20:31:12.952715Z",
     "start_time": "2020-06-27T20:30:09.315Z"
    }
   },
   "outputs": [],
   "source": [
    "## Fonction pour le choix d'entrainement main function of Non-negative Matrix\n",
    "## Factorization\n",
    "nnmf <- function(x, k, method = \"nnmf_mm\", maxiter = 1000, eps = 2.2204e-16, index, x_complet) {\n",
    "    if (method == \"nnmf_als\") {\n",
    "        cat(\"Alternating Least Squares Algorithm\", \"\\n\")\n",
    "        nnmf_als(x, k, maxiter, eps, index, x_complet)\n",
    "        \n",
    "    } else if (method == \"nnmf_prob\") {\n",
    "        cat(\"Multinomial Algorithm\", \"\\n\")\n",
    "        nnmf_prob(x, k, maxiter, eps, index, x_complet)\n",
    "        \n",
    "    } else {\n",
    "        cat(\"Multiplicative Update Algorithm\", \"\\n\")\n",
    "        nnmf_mm(x, k, maxiter, eps, index, x_complet)\n",
    "    }\n",
    "}"
   ]
  },
  {
   "cell_type": "markdown",
   "metadata": {},
   "source": [
    "# Entrainement"
   ]
  },
  {
   "cell_type": "markdown",
   "metadata": {},
   "source": [
    "## Entrainement simple"
   ]
  },
  {
   "cell_type": "code",
   "execution_count": 33,
   "metadata": {
    "ExecuteTime": {
     "end_time": "2020-06-27T21:01:47.836047Z",
     "start_time": "2020-06-27T21:01:34.164Z"
    }
   },
   "outputs": [
    {
     "name": "stdout",
     "output_type": "stream",
     "text": [
      "Multiplicative Update Algorithm \n",
      "Iter =  50 \trelative error =  0.9511352 \tRMSE 32.50949 \tdiff =  14765787 \teucl dist =  542481467 \n",
      "Iter =  100 \trelative error =  0.9429004 \tRMSE 32.71938 \tdiff =  1685077 \teucl dist =  537616354 \n",
      "Iter =  150 \trelative error =  0.9398576 \tRMSE 32.80101 \tdiff =  1094112 \teucl dist =  535646279 \n",
      "Iter =  200 \trelative error =  0.938135 \tRMSE 32.85228 \tdiff =  822560.2 \teucl dist =  534497591 \n",
      "Iter =  250 \trelative error =  0.9370202 \tRMSE 32.88894 \tdiff =  660991.1 \teucl dist =  533729430 \n",
      "Iter =  300 \trelative error =  0.9363044 \tRMSE 32.91509 \tdiff =  529230 \teucl dist =  533196442 \n",
      "Iter =  350 \trelative error =  0.9358283 \tRMSE 32.93364 \tdiff =  435210.2 \teucl dist =  532799354 \n",
      "Iter =  400 \trelative error =  0.9354896 \tRMSE 32.94888 \tdiff =  370891.5 \teucl dist =  532496087 \n",
      "Iter =  450 \trelative error =  0.9352521 \tRMSE 32.9614 \tdiff =  308197.4 \teucl dist =  532278369 \n",
      "Iter =  500 \trelative error =  0.9350941 \tRMSE 32.97 \tdiff =  266262.1 \teucl dist =  532098388 \n",
      "Iter =  550 \trelative error =  0.9349773 \tRMSE 32.97804 \tdiff =  232718.7 \teucl dist =  531959985 \n",
      "Iter =  600 \trelative error =  0.9348986 \tRMSE 32.98415 \tdiff =  207013.6 \teucl dist =  531842646 \n",
      "Iter =  650 \trelative error =  0.9348375 \tRMSE 32.98894 \tdiff =  186492.9 \teucl dist =  531742106 \n",
      "Iter =  700 \trelative error =  0.9347894 \tRMSE 32.9929 \tdiff =  168698.6 \teucl dist =  531659574 \n",
      "Iter =  750 \trelative error =  0.9347574 \tRMSE 32.99512 \tdiff =  154895.2 \teucl dist =  531586330 \n",
      "Iter =  800 \trelative error =  0.9347222 \tRMSE 32.99791 \tdiff =  138996.6 \teucl dist =  531528051 \n",
      "Iter =  850 \trelative error =  0.9346952 \tRMSE 32.99988 \tdiff =  125466.4 \teucl dist =  531477573 \n",
      "Iter =  900 \trelative error =  0.9346692 \tRMSE 33.00205 \tdiff =  113132.3 \teucl dist =  531435483 \n",
      "Iter =  950 \trelative error =  0.9346504 \tRMSE 33.00339 \tdiff =  107954.4 \teucl dist =  531395799 \n",
      "Iter =  1000 \trelative error =  0.9346253 \tRMSE 33.00525 \tdiff =  101952 \teucl dist =  531361270 \n"
     ]
    }
   ],
   "source": [
    "# Entrainement simple\n",
    "entrainement <- nnmf(x = manq.mat, k = 10, method = \"nnmf_mm\", maxiter = 1000, eps = 2.2204e-16, \n",
    "    index = index, x_complet = mat.complet)\n",
    "\n",
    "## Sortir les matrices et les facteurs latents\n",
    "U <- entrainement$W\n",
    "V <- entrainement$H\n",
    "mat_hat <- U %*% V\n",
    "\n",
    "# Test avec Seattle 50 % avec 50 % de manquants\n",
    "#dossier <- \"transport_Seattle/\" # utilisé pour sauvegarder les données également\n",
    "dossier_pred <- paste0(\"exp/\", dossier)\n",
    "#fichier.complet <- \"seattle_mat50\"\n",
    "fichier.entrainement.simple <- paste0(fichier.binaire, \"_simpleFMNN.mat\")\n",
    "\n",
    "## Sauvegarde du fichier\n",
    "writeMat(paste0(dossier_pred, fichier.entrainement.simple), mat = mat_hat)"
   ]
  },
  {
   "cell_type": "markdown",
   "metadata": {},
   "source": [
    "## Recherche d'hyperparamètres"
   ]
  },
  {
   "cell_type": "code",
   "execution_count": 29,
   "metadata": {
    "ExecuteTime": {
     "end_time": "2020-06-27T20:47:36.380180Z",
     "start_time": "2020-06-27T20:47:28.247Z"
    }
   },
   "outputs": [],
   "source": [
    "# Recherche d'hyperparamètres\n",
    "rech_hyper <- TRUE # Choisir si la recherche d'hyperparamètres doit être faite\n",
    "\n",
    "\n",
    "rmse.list <- list()\n",
    "method.list <- list()\n",
    "\n",
    "## Entrainement du modèle (recherche d'hyperparamètres) Algorithmes de descente (1\n",
    "## = ALS, 2 = PROB, 3 = MM)\n",
    "algo = seq(1, 3, by = 1)\n",
    "\n",
    "# Séquences de valeurs\n",
    "rang = seq(5, 30, by = 20)  # k\n",
    "epsilon = seq(0.1, 1, by = 0.5)  # eps (taux d'apprentissage)\n",
    "max_iter = 10  # Maximum d'itérations pour l'ensemble (petit nombre d'itérations pour le moment)"
   ]
  },
  {
   "cell_type": "code",
   "execution_count": 31,
   "metadata": {
    "ExecuteTime": {
     "end_time": "2020-06-27T20:50:17.971686Z",
     "start_time": "2020-06-27T20:50:09.660Z"
    },
    "scrolled": true
   },
   "outputs": [
    {
     "name": "stderr",
     "output_type": "stream",
     "text": [
      "1\n",
      "\n",
      "-----------------\n",
      "Entrainement avec : \n",
      "\tAlgorithme: Multiplicative\n",
      "\tRang: 5\n",
      "\tEpsilon: 0.1\n",
      "\n"
     ]
    },
    {
     "name": "stdout",
     "output_type": "stream",
     "text": [
      "Multiplicative Update Algorithm \n"
     ]
    },
    {
     "name": "stderr",
     "output_type": "stream",
     "text": [
      "\n",
      "RMSE: 31.3649285301448\n",
      "\n",
      "2\n",
      "\n",
      "-----------------\n",
      "Entrainement avec : \n",
      "\tAlgorithme: Multinomial\n",
      "\tRang: 5\n",
      "\tEpsilon: 0.1\n",
      "\n"
     ]
    },
    {
     "name": "stdout",
     "output_type": "stream",
     "text": [
      "Multinomial Algorithm \n"
     ]
    },
    {
     "name": "stderr",
     "output_type": "stream",
     "text": [
      " RMSE: 58.1365125037817\n",
      "\n",
      "3\n",
      "\n",
      "-----------------\n",
      "Entrainement avec : \n",
      "\tAlgorithme: ALS\n",
      "\tRang: 5\n",
      "\tEpsilon: 0.1\n",
      "\n"
     ]
    },
    {
     "name": "stdout",
     "output_type": "stream",
     "text": [
      "Alternating Least Squares Algorithm \n"
     ]
    },
    {
     "name": "stderr",
     "output_type": "stream",
     "text": [
      " RMSE: 31.2903660072718\n",
      "\n",
      "1\n",
      "\n",
      "-----------------\n",
      "Entrainement avec : \n",
      "\tAlgorithme: Multiplicative\n",
      "\tRang: 5\n",
      "\tEpsilon: 0.6\n",
      "\n"
     ]
    },
    {
     "name": "stdout",
     "output_type": "stream",
     "text": [
      "Multiplicative Update Algorithm \n"
     ]
    },
    {
     "name": "stderr",
     "output_type": "stream",
     "text": [
      "\n",
      "RMSE: 31.3650318960613\n",
      "\n",
      "2\n",
      "\n",
      "-----------------\n",
      "Entrainement avec : \n",
      "\tAlgorithme: Multinomial\n",
      "\tRang: 5\n",
      "\tEpsilon: 0.6\n",
      "\n"
     ]
    },
    {
     "name": "stdout",
     "output_type": "stream",
     "text": [
      "Multinomial Algorithm \n"
     ]
    },
    {
     "name": "stderr",
     "output_type": "stream",
     "text": [
      " RMSE: 58.1502908281278\n",
      "\n",
      "3\n",
      "\n",
      "-----------------\n",
      "Entrainement avec : \n",
      "\tAlgorithme: ALS\n",
      "\tRang: 5\n",
      "\tEpsilon: 0.6\n",
      "\n"
     ]
    },
    {
     "name": "stdout",
     "output_type": "stream",
     "text": [
      "Alternating Least Squares Algorithm \n"
     ]
    },
    {
     "name": "stderr",
     "output_type": "stream",
     "text": [
      " RMSE: 31.2903660072718\n",
      "\n",
      "1\n",
      "\n",
      "-----------------\n",
      "Entrainement avec : \n",
      "\tAlgorithme: Multiplicative\n",
      "\tRang: 25\n",
      "\tEpsilon: 0.1\n",
      "\n"
     ]
    },
    {
     "name": "stdout",
     "output_type": "stream",
     "text": [
      "Multiplicative Update Algorithm \n"
     ]
    },
    {
     "name": "stderr",
     "output_type": "stream",
     "text": [
      "\n",
      "RMSE: 31.4562630110173\n",
      "\n",
      "2\n",
      "\n",
      "-----------------\n",
      "Entrainement avec : \n",
      "\tAlgorithme: Multinomial\n",
      "\tRang: 25\n",
      "\tEpsilon: 0.1\n",
      "\n"
     ]
    },
    {
     "name": "stdout",
     "output_type": "stream",
     "text": [
      "Multinomial Algorithm \n"
     ]
    },
    {
     "name": "stderr",
     "output_type": "stream",
     "text": [
      " RMSE: 47.9508882071473\n",
      "\n",
      "3\n",
      "\n",
      "-----------------\n",
      "Entrainement avec : \n",
      "\tAlgorithme: ALS\n",
      "\tRang: 25\n",
      "\tEpsilon: 0.1\n",
      "\n"
     ]
    },
    {
     "name": "stdout",
     "output_type": "stream",
     "text": [
      "Alternating Least Squares Algorithm \n"
     ]
    },
    {
     "name": "stderr",
     "output_type": "stream",
     "text": [
      " RMSE: 30.7734704921325\n",
      "\n",
      "1\n",
      "\n",
      "-----------------\n",
      "Entrainement avec : \n",
      "\tAlgorithme: Multiplicative\n",
      "\tRang: 25\n",
      "\tEpsilon: 0.6\n",
      "\n"
     ]
    },
    {
     "name": "stdout",
     "output_type": "stream",
     "text": [
      "Multiplicative Update Algorithm \n"
     ]
    },
    {
     "name": "stderr",
     "output_type": "stream",
     "text": [
      "\n",
      "RMSE: 31.4564305675584\n",
      "\n",
      "2\n",
      "\n",
      "-----------------\n",
      "Entrainement avec : \n",
      "\tAlgorithme: Multinomial\n",
      "\tRang: 25\n",
      "\tEpsilon: 0.6\n",
      "\n"
     ]
    },
    {
     "name": "stdout",
     "output_type": "stream",
     "text": [
      "Multinomial Algorithm \n"
     ]
    },
    {
     "name": "stderr",
     "output_type": "stream",
     "text": [
      " RMSE: 47.9556386315116\n",
      "\n",
      "3\n",
      "\n",
      "-----------------\n",
      "Entrainement avec : \n",
      "\tAlgorithme: ALS\n",
      "\tRang: 25\n",
      "\tEpsilon: 0.6\n",
      "\n"
     ]
    },
    {
     "name": "stdout",
     "output_type": "stream",
     "text": [
      "Alternating Least Squares Algorithm \n"
     ]
    },
    {
     "name": "stderr",
     "output_type": "stream",
     "text": [
      " RMSE: 30.7734385232623\n",
      "\n"
     ]
    },
    {
     "name": "stdout",
     "output_type": "stream",
     "text": [
      "Alternating Least Squares Algorithm \n"
     ]
    },
    {
     "name": "stderr",
     "output_type": "stream",
     "text": [
      "\n",
      "RMSE: 30.7734385232623\n",
      "\n",
      "\n",
      "Sauvegarde de la matrice prédite\n",
      "\n"
     ]
    }
   ],
   "source": [
    "df_hyper = data.frame()  # Pour choisir les hyperparamètres optimaux\n",
    "\n",
    "if (rech_hyper == TRUE) {\n",
    "    for (r in rang) {\n",
    "        for (e in epsilon) {\n",
    "            for (a in algo) {\n",
    "                message(a)\n",
    "                if (a == 1) {\n",
    "                  algorithme = \"Multiplicative\"\n",
    "                  message(\"-----------------\", \"\\nEntrainement avec : \", \"\\n\\tAlgorithme: \", \n",
    "                    algorithme, \"\\n\\tRang: \", r, \"\\n\\tEpsilon: \", e)\n",
    "                  A = nnmf(x = manq.mat, k = r, method = \"nnmf_mm\", maxiter = max_iter, \n",
    "                    eps = e, index = index, x_complet = mat.complet)\n",
    "                  # Reformer la matrice de départ\n",
    "                  U = A$W\n",
    "                  V = A$H\n",
    "                  mat_hat <- U %*% V\n",
    "                  \n",
    "                  # Calculer le RMSE rmse = mean(abs(mat.complet[index] - mat_hat[index])) /\n",
    "                  # mean(mat.complet[index])\n",
    "                  rmse = RMSE(mat.complet, mat_hat, index)\n",
    "                  message(\"\\nRMSE: \", rmse)\n",
    "                  \n",
    "                  \n",
    "                } else if (a == 2) {\n",
    "                  algorithme = \"Multinomial\"\n",
    "                  message(\"-----------------\", \"\\nEntrainement avec : \", \"\\n\\tAlgorithme: \", \n",
    "                    algorithme, \"\\n\\tRang: \", r, \"\\n\\tEpsilon: \", e)\n",
    "                  A = nnmf(x = manq.mat, k = r, method = \"nnmf_prob\", maxiter = max_iter, \n",
    "                    eps = e, index = index, x_complet = mat.complet)\n",
    "                  # Reformer la matrice de départ\n",
    "                  U = A$W\n",
    "                  V = A$H\n",
    "                  mat_hat <- U %*% V\n",
    "                  \n",
    "                  # Calculer le RMSE rmse = mean(abs(mat.complet[index] - mat_hat[index])) /\n",
    "                  # mean(mat.complet[index])\n",
    "                  rmse = RMSE(mat.complet, mat_hat, index)\n",
    "                  message(\" RMSE: \", rmse)\n",
    "                  \n",
    "                  \n",
    "                } else {\n",
    "                  algorithme = \"ALS\"\n",
    "                  message(\"-----------------\", \"\\nEntrainement avec : \", \"\\n\\tAlgorithme: \", \n",
    "                    algorithme, \"\\n\\tRang: \", r, \"\\n\\tEpsilon: \", e)\n",
    "                  A = nnmf(x = manq.mat, k = r, method = \"nnmf_als\", maxiter = max_iter, \n",
    "                    eps = e, index = index, x_complet = mat.complet)\n",
    "                  # Reformer la matrice de départ\n",
    "                  U = A$W\n",
    "                  V = A$H\n",
    "                  mat_hat <- U %*% V\n",
    "                  \n",
    "                  # Calculer le RMSE rmse = mean(abs(mat.complet[index] - mat_hat[index])) /\n",
    "                  # mean(mat.complet[index])\n",
    "                  rmse = RMSE(mat.complet, mat_hat, index)\n",
    "                  message(\" RMSE: \", rmse)\n",
    "                  \n",
    "                }\n",
    "                liste_hyper <- c(Rang = r, Epsilon = e, Algorithme = a, RMSE = rmse)\n",
    "                liste_hyper <- t(as.data.frame(liste_hyper))\n",
    "                df_hyper <- rbind(df_hyper, liste_hyper, make.row.names = FALSE)\n",
    "                \n",
    "            }\n",
    "        }\n",
    "        \n",
    "        \n",
    "        \n",
    "        \n",
    "    }\n",
    "    # Réentrainer avec le modèle qui donne le plus petit RMSE\n",
    "    ## Trouver le modèle\n",
    "    hyper.min <- df_hyper[which.min(df_hyper$RMSE), ]\n",
    "    hyper.min.list <- c(hyper.min)\n",
    "    \n",
    "    ## Sortir les hyperparamètres\n",
    "    rang = hyper.min.list$Rang\n",
    "    epsilon = hyper.min.list$Epsilon\n",
    "    algorithme = hyper.min.list$Algorithme\n",
    "    if (algorithme == 1) {\n",
    "        algo = \"nnmf_mm\"\n",
    "    } else if (algorithme == 2) {\n",
    "        algo = \"nnmf_prob\"\n",
    "    } else {\n",
    "        algo = \"nnmf_als\"\n",
    "    }\n",
    "    \n",
    "    \n",
    "    ## Réentrainer avec les hyperparamètres\n",
    "    entrainement <- nnmf(x = manq.mat, k = rang, method = algo, maxiter = max_iter, \n",
    "        eps = epsilon, index = index, x_complet = mat.complet)\n",
    "    \n",
    "    ## Sortir les matrices et les facteurs latents\n",
    "    U <- entrainement$W\n",
    "    V <- entrainement$H\n",
    "    mat_hat <- U %*% V\n",
    "    \n",
    "    ## Montrer le RMSE\n",
    "    rmse = RMSE(mat.complet, mat_hat, index)\n",
    "    message(\"\\nRMSE: \", rmse)\n",
    "    \n",
    "    \n",
    "    ## Sauvegarder la matrice avec les éléments prédits\n",
    "    message(\"\\nSauvegarde de la matrice prédite\")\n",
    "    dossier_pred <- paste0(\"exp/\", dossier)\n",
    "    fichier.entrainement.simple <- paste0(fichier.binaire, \"_hyperFMNN.mat\")\n",
    "    ## Sauvegarde du fichier\n",
    "    writeMat(paste0(dossier_pred, fichier.entrainement.simple), mat = mat_hat)\n",
    "    \n",
    "    \n",
    "}"
   ]
  },
  {
   "cell_type": "markdown",
   "metadata": {},
   "source": [
    "# Sauvegarde de l'entrainement"
   ]
  },
  {
   "cell_type": "code",
   "execution_count": 10,
   "metadata": {
    "ExecuteTime": {
     "end_time": "2020-06-26T23:04:37.819086Z",
     "start_time": "2020-06-26T23:04:36.370Z"
    }
   },
   "outputs": [],
   "source": []
  }
 ],
 "metadata": {
  "kernelspec": {
   "display_name": "R",
   "language": "R",
   "name": "ir"
  },
  "language_info": {
   "codemirror_mode": "r",
   "file_extension": ".r",
   "mimetype": "text/x-r-source",
   "name": "R",
   "pygments_lexer": "r",
   "version": "3.6.3"
  },
  "toc": {
   "base_numbering": 1,
   "nav_menu": {},
   "number_sections": true,
   "sideBar": true,
   "skip_h1_title": false,
   "title_cell": "Table of Contents",
   "title_sidebar": "Contents",
   "toc_cell": false,
   "toc_position": {},
   "toc_section_display": true,
   "toc_window_display": false
  },
  "varInspector": {
   "cols": {
    "lenName": 16,
    "lenType": 16,
    "lenVar": 40
   },
   "kernels_config": {
    "python": {
     "delete_cmd_postfix": "",
     "delete_cmd_prefix": "del ",
     "library": "var_list.py",
     "varRefreshCmd": "print(var_dic_list())"
    },
    "r": {
     "delete_cmd_postfix": ") ",
     "delete_cmd_prefix": "rm(",
     "library": "var_list.r",
     "varRefreshCmd": "cat(var_dic_list()) "
    }
   },
   "oldHeight": 348.79999999999995,
   "position": {
    "height": "39.9937px",
    "left": "1814.99px",
    "right": "20px",
    "top": "201.994px",
    "width": "349.969px"
   },
   "types_to_exclude": [
    "module",
    "function",
    "builtin_function_or_method",
    "instance",
    "_Feature"
   ],
   "varInspector_section_display": "none",
   "window_display": true
  }
 },
 "nbformat": 4,
 "nbformat_minor": 4
}
