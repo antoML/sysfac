{
 "cells": [
  {
   "cell_type": "markdown",
   "metadata": {},
   "source": [
    "# À propos de ce livret\n",
    "\n",
    "\n",
    "\n",
    "\n",
    "*Utilisation d'une méthode de base.*\n",
    "\n",
    "\n",
    "\n",
    "\n",
    "### Recherches\n",
    ">Renaud Gaujoux, Cathal Seoighe (2010). **A flexible R package for nonnegative matrix factorization.**  \n",
    ">Xihui Lin, Paul C. Boutros (2020). [**Optimization and expansion of non-negative matrix factorization.**](https://www.ncbi.nlm.nih.gov/pmc/articles/PMC6945623/)\n",
    "\n",
    "### Sources\n",
    ">[**Dépôt 1**](https://github.com/linxihui/NNLM) | *Version R*  \n",
    ">[**Dépôt 2**](https://github.com/timothyliu-datascience/Non-negative-Matrix-Factorization/blob/master/NMFN.R) | *Version R*  \n",
    "\n",
    "\n",
    "\n",
    "\n",
    "### Note sur le cachier\n",
    "\n",
    ">[**Exemples d'implémentation**](https://rdrr.io/cran/NNLM/f/inst/doc/Fast-And-Versatile-NMF.pdf)  | *Document explicatif*\n",
    "\n"
   ]
  },
  {
   "cell_type": "markdown",
   "metadata": {},
   "source": [
    "## Préparation pour l'utilisation"
   ]
  },
  {
   "cell_type": "code",
   "execution_count": 22,
   "metadata": {
    "ExecuteTime": {
     "end_time": "2020-06-30T23:22:19.824858Z",
     "start_time": "2020-06-30T23:21:56.481Z"
    }
   },
   "outputs": [],
   "source": [
    "## load up the packages we will need:  (uncomment as required)\n",
    "\n",
    "# Installer les paquets s'ils sont manquants \n",
    "pac = c(\"devtools\", \"R.matlab\", \"plyr\", \"ggplot2\", \"dplyr\", \"jsonlite\")\n",
    "\n",
    "new_pac <- pac[!(pac %in% installed.packages()[, \"Package\"])]\n",
    "if (length(new_pac))\n",
    "  install.packages(new_pac)\n",
    "\n",
    "## Chargement des matrices \"matlab\"\n",
    "library(R.matlab)\n",
    "\n",
    "## Manipulation de données\n",
    "library(plyr)\n",
    "library(dplyr)\n",
    "\n",
    "## Transfert des listes vers Python\n",
    "library(jsonlite)\n",
    "\n",
    "## Visualisation (dans un autre livret)\n",
    "# library(ggplot2)"
   ]
  },
  {
   "cell_type": "markdown",
   "metadata": {},
   "source": [
    "# Données"
   ]
  },
  {
   "cell_type": "markdown",
   "metadata": {},
   "source": [
    "## Chargement des données"
   ]
  },
  {
   "cell_type": "code",
   "execution_count": 23,
   "metadata": {
    "ExecuteTime": {
     "end_time": "2020-06-30T23:22:19.848879Z",
     "start_time": "2020-06-30T23:21:56.487Z"
    }
   },
   "outputs": [],
   "source": [
    "parameters <- list()\n",
    "\n",
    "## Fichiers\n",
    "parameters$dossier = \"data/transport_Seattle\"\n",
    "parameters$fichier_complet = \"/seattle_50\"\n",
    "parameters$fichier_binaire = \"/seattle_50_50\"\n",
    "parameters$dossier_experience = \"exp/transport_Seattle\"\n",
    "parameters$fichier_experience = \"/seattle_50_50_FMNN\"\n",
    "\n",
    "\n",
    "## Entrainement (paramètres)\n",
    "parameters$rang = 10\n",
    "parameters$algorithme = \"nnmf_mm\"\n",
    "parameters$max_iter = 1000\n",
    "\n",
    "\n",
    "dossier = parameters$dossier\n",
    "fichier.complet = parameters$fichier_complet\n",
    "fichier.binaire = parameters$fichier_binaire"
   ]
  },
  {
   "cell_type": "code",
   "execution_count": 24,
   "metadata": {
    "ExecuteTime": {
     "end_time": "2020-06-30T23:22:20.040856Z",
     "start_time": "2020-06-30T23:21:56.492Z"
    }
   },
   "outputs": [],
   "source": [
    "mat.complet <- readMat(paste0(dossier, fichier.complet, \".mat\"))\n",
    "mat.complet <- mat.complet$mat\n",
    "mat.binaire <- readMat(paste0(dossier, fichier.binaire, \".mat\"))\n",
    "mat.binaire <- mat.binaire$mat"
   ]
  },
  {
   "cell_type": "markdown",
   "metadata": {},
   "source": [
    "## Création de la matrice de manquants"
   ]
  },
  {
   "cell_type": "code",
   "execution_count": 25,
   "metadata": {
    "ExecuteTime": {
     "end_time": "2020-06-30T23:22:20.080877Z",
     "start_time": "2020-06-30T23:21:56.496Z"
    }
   },
   "outputs": [],
   "source": [
    "# Création de la matrice de manquants\n",
    "manq.mat <- mat.complet * mat.binaire\n",
    "# Créer un index pour la validation des paramètres imputés\n",
    "index <- which(mat.binaire %in% c(0))"
   ]
  },
  {
   "cell_type": "markdown",
   "metadata": {},
   "source": [
    "# Modélisation"
   ]
  },
  {
   "cell_type": "markdown",
   "metadata": {},
   "source": [
    "### Fonctions d'utilités"
   ]
  },
  {
   "cell_type": "code",
   "execution_count": 26,
   "metadata": {
    "ExecuteTime": {
     "end_time": "2020-06-30T23:22:20.096859Z",
     "start_time": "2020-06-30T23:21:56.500Z"
    }
   },
   "outputs": [],
   "source": [
    "# Moore-Penrose Inverse\n",
    "mpinv <- function(X) {\n",
    "    Eps <- 100 * .Machine$double.eps\n",
    "    \n",
    "    # singular value decomposition\n",
    "    s <- svd(X)\n",
    "    d <- s$d\n",
    "    m <- length(d)\n",
    "    \n",
    "    if (!(is.vector(d))) \n",
    "        return(t(s$v %*% (1/d) %*% t(s$u)))\n",
    "    \n",
    "    d <- d[d > Eps]\n",
    "    notnull <- length(d)\n",
    "    \n",
    "    if (notnull == 1) {\n",
    "        inv <- 1/d\n",
    "    } else {\n",
    "        inv <- solve(diag(d))\n",
    "    }\n",
    "    \n",
    "    if (notnull != m) {\n",
    "        inv <- cbind(inv, matrix(0, nrow = notnull, ncol = (m - notnull)))\n",
    "        inv <- rbind(inv, matrix(0, nrow = (m - notnull), ncol = m))\n",
    "    }\n",
    "    \n",
    "    mp <- s$v %*% inv %*% t(s$u)\n",
    "    \n",
    "    mp[abs(mp) < Eps] <- 0\n",
    "    return(mp)\n",
    "}"
   ]
  },
  {
   "cell_type": "code",
   "execution_count": 27,
   "metadata": {
    "ExecuteTime": {
     "end_time": "2020-06-30T23:22:20.120879Z",
     "start_time": "2020-06-30T23:21:56.508Z"
    }
   },
   "outputs": [],
   "source": [
    "# Euclidean Distance between two matrices\n",
    "distance2 <- function(x1, x2) {\n",
    "    temp <- x1 - x2\n",
    "    sum(temp * temp)\n",
    "}"
   ]
  },
  {
   "cell_type": "code",
   "execution_count": 28,
   "metadata": {
    "ExecuteTime": {
     "end_time": "2020-06-30T23:22:20.144876Z",
     "start_time": "2020-06-30T23:21:56.511Z"
    }
   },
   "outputs": [],
   "source": [
    "# Root mean square error (RMSE)\n",
    "RMSE <- function(val_orig, val_pred, index) {\n",
    "    ## Comptabilisé sur les valeurs à imputer\n",
    "    rmse <- sqrt(mean((val_orig[index] - val_pred[index])^2))\n",
    "    rmse <- format(rmse, digits = 6)\n",
    "    rmse\n",
    "}"
   ]
  },
  {
   "cell_type": "code",
   "execution_count": 29,
   "metadata": {
    "ExecuteTime": {
     "end_time": "2020-06-30T23:22:20.160838Z",
     "start_time": "2020-06-30T23:21:56.514Z"
    }
   },
   "outputs": [],
   "source": [
    "## Mean absolute percentage error (MAPE)\n",
    "MAPE <- function(val_orig, val_pred, index) {\n",
    "    ## Comptabilisé sur les valeurs à imputer\n",
    "    mape <- sum(abs(val_orig[index] - val_pred[index])/val_orig[index])/length(val_orig[index])\n",
    "    mape <- format(mape, digits = 6)\n",
    "    mape\n",
    "}"
   ]
  },
  {
   "cell_type": "markdown",
   "metadata": {},
   "source": [
    "## Modèles"
   ]
  },
  {
   "cell_type": "code",
   "execution_count": 30,
   "metadata": {
    "ExecuteTime": {
     "end_time": "2020-06-30T23:22:20.176878Z",
     "start_time": "2020-06-30T23:21:56.518Z"
    }
   },
   "outputs": [],
   "source": [
    "# Non-negative Matrix Factorization via alternating least squares\n",
    "nnmf_als <- function(x, k, maxiter, eps, index, x_complet) {\n",
    "    print_iter <- 50  # iterations between print\n",
    "    x <- as.matrix(x)\n",
    "    \n",
    "    if (any(!is.finite(x))) \n",
    "        stop(\"infinite or missing values in 'x'\")\n",
    "    \n",
    "    dx <- dim(x)\n",
    "    D <- dx[1L]\n",
    "    N <- dx[2L]\n",
    "    Xscale = sum(x)\n",
    "    \n",
    "    \n",
    "    if (!D || !N) \n",
    "        stop(\"0 extent dimensions\")\n",
    "    set.seed(2020)\n",
    "    W <- matrix(abs(rnorm(D * k)), D, k)\n",
    "    set.seed(2020)\n",
    "    H <- matrix(abs(rnorm(k * N)), k, N)\n",
    "    \n",
    "    Rscale <- sum(W %*% H)\n",
    "    sqrnorm <- sqrt(Rscale/Xscale)\n",
    "    \n",
    "    H <- H/sqrnorm\n",
    "    W <- W/sqrnorm\n",
    "    \n",
    "    Xr_old <- W %*% H\n",
    "    \n",
    "    for (iter in 1:maxiter) {\n",
    "        W <- x %*% t(mpinv(H %*% t(H)) %*% H)\n",
    "        W <- (W > 0) * W\n",
    "        W <- W/(t(matrix(rep(colSums(W), D), ncol(W), nrow(W))) + eps)\n",
    "        H <- t(W %*% mpinv(t(W) %*% W)) %*% x\n",
    "        H <- H * (H > 0)\n",
    "        \n",
    "        if (iter%%print_iter == 0) {\n",
    "            Xr <- W %*% H\n",
    "            diff <- sum(abs(Xr_old - Xr))\n",
    "            Xr_old <- Xr\n",
    "            \n",
    "            eucl_dist <- distance2(x, W %*% H)\n",
    "            errorx <- mean(abs(x - W %*% H))/mean(x)\n",
    "            x_pred = W %*% H\n",
    "            rmsex <- sqrt(mean((x_complet[index] - x_pred[index])^2))\n",
    "            \n",
    "            cat(\"Iter = \", iter, \"\\t\")\n",
    "            cat(\"relative error = \", errorx, \"\\t\")\n",
    "            cat(\"RMSE\", rmsex, \"\\t\")\n",
    "            cat(\"diff = \", diff, \"\\t\")\n",
    "            cat(\"eucl dist = \", eucl_dist, \"\\n\")\n",
    "            \n",
    "            if (errorx < 1e-05) {\n",
    "                cat(\"Execution finishes at iteration = \", iter, \"\\n\")\n",
    "                break\n",
    "            }\n",
    "        }\n",
    "    }\n",
    "    z <- c(list(W = W, H = H))\n",
    "    z\n",
    "}"
   ]
  },
  {
   "cell_type": "code",
   "execution_count": 31,
   "metadata": {
    "ExecuteTime": {
     "end_time": "2020-06-30T23:22:20.200863Z",
     "start_time": "2020-06-30T23:21:56.525Z"
    }
   },
   "outputs": [],
   "source": [
    "# Non-negative Matrix Factorization via multiplicative update\n",
    "nnmf_mm <- function(x, k, maxiter, eps, index, x_complet) {\n",
    "    print_iter <- 50  # iterations between print\n",
    "    x <- as.matrix(x)\n",
    "    \n",
    "    if (any(!is.finite(x))) \n",
    "        stop(\"infinite or missing values in 'x'\")\n",
    "    \n",
    "    dx <- dim(x)\n",
    "    n <- dx[1L]\n",
    "    m <- dx[2L]\n",
    "    \n",
    "    if (!n || !m) \n",
    "        stop(\"0 extent dimensions\")\n",
    "    \n",
    "    set.seed(2020) # Reproductibitlité\n",
    "    W <- matrix(abs(rnorm(n * k)), n, k)\n",
    "    set.seed(2020) # Reproductibitlité\n",
    "    H <- matrix(abs(rnorm(k * m)), k, m)\n",
    "    \n",
    "    Xr_old <- W %*% H\n",
    "    \n",
    "    for (iter in 1:maxiter) {\n",
    "        H <- H * (t(W) %*% x)/((t(W) %*% W) %*% H + eps)\n",
    "        W <- W * t(H %*% t(x))/(W %*% (H %*% t(H)) + eps)\n",
    "        \n",
    "        if (iter%%print_iter == 0) {\n",
    "            Xr <- W %*% H\n",
    "            diff <- sum(abs(Xr_old - Xr))\n",
    "            Xr_old <- Xr\n",
    "            \n",
    "            \n",
    "            eucl_dist <- distance2(x, W %*% H)\n",
    "            errorx <- mean(abs(x - W %*% H))/mean(x)\n",
    "            x_pred = W %*% H\n",
    "            rmsex <- sqrt(mean((x_complet[index] - x_pred[index])^2))\n",
    "            \n",
    "            cat(\"Iter = \", iter, \"\\t\")\n",
    "            cat(\"relative error = \", errorx, \"\\t\")\n",
    "            cat(\"RMSE\", rmsex, \"\\t\")\n",
    "            cat(\"diff = \", diff, \"\\t\")\n",
    "            cat(\"eucl dist = \", eucl_dist, \"\\n\")\n",
    "            \n",
    "            if (errorx < 1e-05) {\n",
    "                cat(\"Execution finishes at iteration = \", iter, \"\\n\")\n",
    "                break\n",
    "            }\n",
    "        }\n",
    "    }\n",
    "    \n",
    "    z <- c(list(W = W, H = H))\n",
    "    z\n",
    "}"
   ]
  },
  {
   "cell_type": "code",
   "execution_count": 32,
   "metadata": {
    "ExecuteTime": {
     "end_time": "2020-06-30T23:22:20.224881Z",
     "start_time": "2020-06-30T23:21:56.529Z"
    }
   },
   "outputs": [],
   "source": [
    "# Non-negative Matrix Factorization via multinomial\n",
    "nnmf_prob <- function(x, k, maxiter, eps = 100 * .Machine$double.eps, index, x_complet) {\n",
    "    print_iter <- 50\n",
    "    powers <- 1.5 + (2.5 - 1.5) * ((1:maxiter) - 1)/(maxiter - 1)\n",
    "    \n",
    "    D <- dim(x)[1L]\n",
    "    N <- dim(x)[2L]\n",
    "    \n",
    "    X_factor <- sum(x)\n",
    "    X_org <- x\n",
    "    x <- x/X_factor\n",
    "    \n",
    "    set.seed(2020) # Reproductibitlité\n",
    "    W <- matrix(abs(rnorm(D * k)), D, k)\n",
    "    W <- W/t(matrix(rep(colSums(W), D), ncol(W), nrow(W)))\n",
    "    set.seed(2020) # Reproductibitlité\n",
    "    H <- matrix(abs(rnorm(k * N)), k, N)\n",
    "    H <- H/(matrix(rep(rowSums(H), N), nrow(H), ncol(H)))\n",
    "    \n",
    "    P <- matrix(rep(1), k, 1)\n",
    "    P <- P/sum(P)\n",
    "    \n",
    "    W1 <- W\n",
    "    H1 <- H\n",
    "    \n",
    "    Xr_old <- W %*% H\n",
    "    \n",
    "    for (iter in 1:maxiter) {\n",
    "        Qnorm <- (W %*% diag(diag(P), k, k)) %*% H\n",
    "        \n",
    "        for (j in 1:k) {\n",
    "            Q <- (t(t(W[, j])) %*% H[j, ] * P[j])/(Qnorm + eps)\n",
    "            XQ <- x * Q\n",
    "            \n",
    "            dummy <- rowSums(XQ)\n",
    "            W1[, j] <- t(dummy/sum(dummy))\n",
    "            \n",
    "            dummy <- colSums(XQ)\n",
    "            H1[j, ] <- (dummy/sum(dummy))\n",
    "            \n",
    "        }\n",
    "        W <- W1\n",
    "        H <- H1\n",
    "        \n",
    "        if (iter%%print_iter == 0) {\n",
    "            Xr <- W %*% H\n",
    "            diff <- sum(abs(Xr_old - Xr))\n",
    "            Xr_old <- Xr\n",
    "            \n",
    "            eucl_dist <- distance2(x, W %*% H)\n",
    "            errorx <- mean(abs(x - W %*% H))/mean(x)\n",
    "            \n",
    "            x_pred = W %*% H\n",
    "            rmsex <- sqrt(mean((x_complet[index] - x_pred[index])^2))\n",
    "            \n",
    "            cat(\"Iter = \", iter, \"\\t\")\n",
    "            cat(\"relative error = \", errorx, \"\\t\")\n",
    "            cat(\"RMSE\", rmsex, \"\\t\")\n",
    "            cat(\"diff = \", diff, \"\\t\")\n",
    "            cat(\"eucl dist = \", eucl_dist, \"\\n\")\n",
    "            \n",
    "            if (errorx < 1e-05) {\n",
    "                cat(\"Execution finishes at iteration = \", iter, \"\\n\")\n",
    "                break\n",
    "            }\n",
    "        }\n",
    "    }\n",
    "    \n",
    "    W <- W %*% diag(diag(sqrt(P)), k, k) * X_factor\n",
    "    H <- diag(diag(sqrt(P)), k, k) %*% H\n",
    "    \n",
    "    z <- c(list(W = W, H = H))\n",
    "    z\n",
    "}"
   ]
  },
  {
   "cell_type": "code",
   "execution_count": 33,
   "metadata": {
    "ExecuteTime": {
     "end_time": "2020-06-30T23:22:20.240880Z",
     "start_time": "2020-06-30T23:21:56.533Z"
    }
   },
   "outputs": [],
   "source": [
    "## Fonction pour le choix d'entrainement main function of Non-negative Matrix\n",
    "## Factorization\n",
    "nnmf <- function(x, k, method = \"nnmf_mm\", maxiter = 1000, eps = 2.2204e-16, index, x_complet) {\n",
    "    if (method == \"nnmf_als\") {\n",
    "        cat(\"Alternating Least Squares Algorithm\", \"\\n\")\n",
    "        nnmf_als(x, k, maxiter, eps, index, x_complet)\n",
    "        \n",
    "    } else if (method == \"nnmf_prob\") {\n",
    "        cat(\"Multinomial Algorithm\", \"\\n\")\n",
    "        nnmf_prob(x, k, maxiter, eps, index, x_complet)\n",
    "        \n",
    "    } else {\n",
    "        cat(\"Multiplicative Update Algorithm\", \"\\n\")\n",
    "        nnmf_mm(x, k, maxiter, eps, index, x_complet)\n",
    "    }\n",
    "}"
   ]
  },
  {
   "cell_type": "markdown",
   "metadata": {},
   "source": [
    "# Entrainement"
   ]
  },
  {
   "cell_type": "markdown",
   "metadata": {},
   "source": [
    "## Entrainement simple"
   ]
  },
  {
   "cell_type": "code",
   "execution_count": 34,
   "metadata": {
    "ExecuteTime": {
     "end_time": "2020-06-30T23:22:20.256880Z",
     "start_time": "2020-06-30T23:21:56.540Z"
    }
   },
   "outputs": [],
   "source": [
    "## Initialisation de la liste pour le tableau comparatif (voir plus bas)\n",
    "param.tableau <- list()"
   ]
  },
  {
   "cell_type": "code",
   "execution_count": 35,
   "metadata": {
    "ExecuteTime": {
     "end_time": "2020-06-30T23:22:20.280881Z",
     "start_time": "2020-06-30T23:21:56.544Z"
    }
   },
   "outputs": [],
   "source": [
    "# Entrainement simple\n",
    "rang = parameters$rang\n",
    "algorithme = parameters$algorithme\n",
    "max_iter = parameters$max_iter"
   ]
  },
  {
   "cell_type": "code",
   "execution_count": 36,
   "metadata": {
    "ExecuteTime": {
     "end_time": "2020-06-30T23:22:34.561076Z",
     "start_time": "2020-06-30T23:21:56.547Z"
    }
   },
   "outputs": [
    {
     "name": "stdout",
     "output_type": "stream",
     "text": [
      "Multiplicative Update Algorithm \n",
      "Iter =  50 \trelative error =  0.9511352 \tRMSE 32.50949 \tdiff =  14765787 \teucl dist =  542481467 \n",
      "Iter =  100 \trelative error =  0.9429004 \tRMSE 32.71938 \tdiff =  1685077 \teucl dist =  537616354 \n",
      "Iter =  150 \trelative error =  0.9398576 \tRMSE 32.80101 \tdiff =  1094112 \teucl dist =  535646279 \n",
      "Iter =  200 \trelative error =  0.938135 \tRMSE 32.85228 \tdiff =  822560.2 \teucl dist =  534497591 \n",
      "Iter =  250 \trelative error =  0.9370202 \tRMSE 32.88894 \tdiff =  660991.1 \teucl dist =  533729430 \n",
      "Iter =  300 \trelative error =  0.9363044 \tRMSE 32.91509 \tdiff =  529230 \teucl dist =  533196442 \n",
      "Iter =  350 \trelative error =  0.9358283 \tRMSE 32.93364 \tdiff =  435210.2 \teucl dist =  532799354 \n",
      "Iter =  400 \trelative error =  0.9354896 \tRMSE 32.94888 \tdiff =  370891.5 \teucl dist =  532496087 \n",
      "Iter =  450 \trelative error =  0.9352521 \tRMSE 32.9614 \tdiff =  308197.4 \teucl dist =  532278369 \n",
      "Iter =  500 \trelative error =  0.9350941 \tRMSE 32.97 \tdiff =  266262.1 \teucl dist =  532098388 \n",
      "Iter =  550 \trelative error =  0.9349773 \tRMSE 32.97804 \tdiff =  232718.7 \teucl dist =  531959985 \n",
      "Iter =  600 \trelative error =  0.9348986 \tRMSE 32.98415 \tdiff =  207013.6 \teucl dist =  531842646 \n",
      "Iter =  650 \trelative error =  0.9348375 \tRMSE 32.98894 \tdiff =  186492.9 \teucl dist =  531742106 \n",
      "Iter =  700 \trelative error =  0.9347894 \tRMSE 32.9929 \tdiff =  168698.6 \teucl dist =  531659574 \n",
      "Iter =  750 \trelative error =  0.9347574 \tRMSE 32.99512 \tdiff =  154895.2 \teucl dist =  531586330 \n",
      "Iter =  800 \trelative error =  0.9347222 \tRMSE 32.99791 \tdiff =  138996.6 \teucl dist =  531528051 \n",
      "Iter =  850 \trelative error =  0.9346952 \tRMSE 32.99988 \tdiff =  125466.4 \teucl dist =  531477573 \n",
      "Iter =  900 \trelative error =  0.9346692 \tRMSE 33.00205 \tdiff =  113132.3 \teucl dist =  531435483 \n",
      "Iter =  950 \trelative error =  0.9346504 \tRMSE 33.00339 \tdiff =  107954.4 \teucl dist =  531395799 \n",
      "Iter =  1000 \trelative error =  0.9346253 \tRMSE 33.00525 \tdiff =  101952 \teucl dist =  531361270 \n"
     ]
    }
   ],
   "source": [
    "start_time <- Sys.time()  # Temps d'entrainement\n",
    "entrainement <- nnmf(x = manq.mat, k = rang, method = algorithme, maxiter = max_iter, \n",
    "    index = index, x_complet = mat.complet)\n",
    "end_time <- Sys.time()\n",
    "temps.entrainement <- format(end_time - start_time, digits = 6)\n",
    "param.tableau$temps_entrainement <- temps.entrainement"
   ]
  },
  {
   "cell_type": "code",
   "execution_count": 37,
   "metadata": {
    "ExecuteTime": {
     "end_time": "2020-06-30T23:22:34.585106Z",
     "start_time": "2020-06-30T23:21:56.551Z"
    }
   },
   "outputs": [],
   "source": [
    "## Sortir les matrices et les facteurs latents\n",
    "U <- entrainement$W\n",
    "V <- entrainement$H\n",
    "mat_hat <- U %*% V"
   ]
  },
  {
   "cell_type": "code",
   "execution_count": 38,
   "metadata": {
    "ExecuteTime": {
     "end_time": "2020-06-30T23:22:35.553528Z",
     "start_time": "2020-06-30T23:21:56.557Z"
    }
   },
   "outputs": [],
   "source": [
    "dossier.experience <- parameters$dossier_experience\n",
    "fichier.experience <- parameters$fichier_experience\n",
    "## Ajouter les paramètres pour identifier le fichier\n",
    "nom.fichier <- paste0(dossier.experience, fichier.experience,\"_r\",rang, \"-\", algorithme, \".mat\")\n",
    "## Sauvegarde du fichier\n",
    "writeMat(nom.fichier, mat = mat_hat) ## Soit le mettre dans un dossier pour le modèle ou non (?)"
   ]
  },
  {
   "cell_type": "markdown",
   "metadata": {},
   "source": [
    "# Préparation pour le rapport\n",
    "\n",
    "## Tableau comparatif"
   ]
  },
  {
   "cell_type": "code",
   "execution_count": 39,
   "metadata": {
    "ExecuteTime": {
     "end_time": "2020-06-30T23:22:35.602330Z",
     "start_time": "2020-06-30T23:21:56.561Z"
    }
   },
   "outputs": [],
   "source": [
    "## Nom du modèle\n",
    "param.tableau$modele <- \"FMNN\"\n",
    "\n",
    "## Hyperparamètres utilisés\n",
    "param.tableau$hyperparametres <- paste(\"rang:\", rang, \"| algorithme:\", algorithme, sep = \" \")\n",
    "\n",
    "## Calcul du RMSE\n",
    "param.tableau$rmse <- RMSE(mat.complet, mat_hat, index)\n",
    "\n",
    "## Calcul du MAPE\n",
    "param.tableau$mape <- MAPE(mat.complet, mat_hat, index)\n",
    "\n",
    "## Mettre dans un tableau (ajouter le nom du fichier d'expérience)\n",
    "param.entrainement <- as.data.frame(list(modele = param.tableau$modele, \n",
    "                                         hyperparametres = param.tableau$hyperparametres, \n",
    "                                         fichier = fichier.experience, ## Seul paramètre hors liste\n",
    "                                         rmse = param.tableau$rmse,\n",
    "                                         mape = param.tableau$mape,\n",
    "                                         temps = param.tableau$temps_entrainement))\n",
    "\n",
    "## Mise dans le fichier de l'ensemble des modèles\n",
    "param.tableau$fichier.comparatif <- \"exp/fichier_comparatif.csv\"\n",
    "\n",
    "\n",
    "## Intégrer les données dans le fichier CSV\n",
    "write.table(param.entrainement, \n",
    "            file = param.tableau$fichier.comparatif,\n",
    "            sep = \",\",\n",
    "            col.names = FALSE, \n",
    "            append = TRUE)"
   ]
  },
  {
   "cell_type": "markdown",
   "metadata": {},
   "source": [
    "## Graphiques : Série temporelle"
   ]
  },
  {
   "cell_type": "code",
   "execution_count": 40,
   "metadata": {
    "ExecuteTime": {
     "end_time": "2020-06-30T23:22:35.746328Z",
     "start_time": "2020-06-30T23:21:56.565Z"
    }
   },
   "outputs": [],
   "source": [
    "## Série 1\n",
    "y1_pred <- mat_hat[1, ]\n",
    "y1_orig <- mat.complet[1, ]\n",
    "liste1 <- list(y1_pred, y1_orig)\n",
    "nom.fichier <- paste0(dossier.experience, fichier.experience,\"_r\",rang, \"-\", algorithme, \"_L1.json\")\n",
    "write_json(liste1, nom.fichier)\n",
    "\n",
    "## Série 2\n",
    "y2_pred <- mat_hat[2, ]\n",
    "y2_orig <- mat.complet[2, ]\n",
    "liste2 <- list(y2_pred, y2_orig)\n",
    "nom.fichier <- paste0(dossier.experience, fichier.experience,\"_r\",rang, \"-\", algorithme, \"_L2.json\")\n",
    "write_json(liste2, nom.fichier)\n",
    "\n",
    "## Série 3\n",
    "y3_pred <- mat_hat[3, ]\n",
    "y3_orig <- mat.complet[3, ]\n",
    "liste3 <- list(y3_pred, y3_orig)\n",
    "nom.fichier <- paste0(dossier.experience, fichier.experience,\"_r\",rang, \"-\", algorithme, \"_L3.json\")\n",
    "write_json(liste3, nom.fichier)\n",
    "\n",
    "## Série 4\n",
    "y4_pred <- mat_hat[4, ]\n",
    "y4_orig <- mat.complet[4, ]\n",
    "liste4 <- list(y4_pred, y4_orig)\n",
    "nom.fichier <- paste0(dossier.experience, fichier.experience,\"_r\",rang, \"-\", algorithme, \"_L4.json\")\n",
    "write_json(liste4, nom.fichier)"
   ]
  },
  {
   "cell_type": "markdown",
   "metadata": {},
   "source": [
    "## Graphiques : Comparatif prédits c. originaux"
   ]
  },
  {
   "cell_type": "code",
   "execution_count": 41,
   "metadata": {
    "ExecuteTime": {
     "end_time": "2020-06-30T23:22:36.975419Z",
     "start_time": "2020-06-30T23:21:56.568Z"
    }
   },
   "outputs": [],
   "source": [
    "# Matrices pour le rapport (graphique) Graph de comparaison\n",
    "index_orig <- mat.complet[index]\n",
    "index_pred <- mat_hat[index]\n",
    "index_diff <- abs(index_orig - index_pred)\n",
    "\n",
    "## Mettre sous forme de dataframe\n",
    "index_df <- as.data.frame(cbind(index_orig, index_pred, index_diff))\n",
    "\n",
    "## Trouver les quantiles (0 à 1)\n",
    "q_index <- index_df[, 3]\n",
    "quantiles_index <- quantile(q_index)\n",
    "q0 <- quantiles_index[1]\n",
    "q1 <- quantiles_index[2]\n",
    "q2 <- quantiles_index[3]\n",
    "q3 <- quantiles_index[4]\n",
    "q4 <- quantiles_index[5]\n",
    "\n",
    "## Donner des catégories (forces grâce aux quantiles)\n",
    "index_df$dist_axe <- ifelse(index_diff > q0 & index_diff < q1, 1, ifelse(index_diff > \n",
    "    q1 & index_diff < q2, 2, ifelse(index_diff > q2 & index_diff < q3, 3, ifelse(index_diff > \n",
    "    q3 & index_diff < q4, 4, 5))))\n",
    "\n",
    "## Sauvegarder le dataframe\n",
    "index_df <- as.matrix(index_df)\n",
    "\n",
    "nom.fichier <- paste0(dossier.experience, fichier.experience,\"_r\",rang, \"-\", algorithme, \"_comparaison.mat\")\n",
    "writeMat(nom.fichier, index_comparaison = index_df)"
   ]
  },
  {
   "cell_type": "markdown",
   "metadata": {},
   "source": [
    "## Recherche d'hyperparamètres"
   ]
  },
  {
   "cell_type": "code",
   "execution_count": 42,
   "metadata": {
    "ExecuteTime": {
     "end_time": "2020-06-30T23:22:37.019038Z",
     "start_time": "2020-06-30T23:21:56.574Z"
    },
    "scrolled": true
   },
   "outputs": [],
   "source": [
    "# Recherche d'hyperparamètres\n",
    "rech_hyper <- FALSE  # Choisir si la recherche d'hyperparamètres doit être faite\n",
    "\n",
    "\n",
    "rmse.list <- list()\n",
    "method.list <- list()\n",
    "\n",
    "## Entrainement du modèle (recherche d'hyperparamètres) Algorithmes de descente (1\n",
    "## = ALS, 2 = PROB, 3 = MM)\n",
    "algo = seq(1, 3, by = 1)\n",
    "\n",
    "# Séquences de valeurs\n",
    "rang = seq(5, 30, by = 20)  # k\n",
    "epsilon = seq(0.1, 1, by = 0.5)  # eps\n",
    "max_iter = 10  # Maximum d'itérations pour l'ensemble (petit nombre d'itérations pour le moment)\n",
    "\n",
    "\n",
    "df_hyper = data.frame()  # Pour choisir les hyperparamètres optimaux\n",
    "\n",
    "if (rech_hyper == TRUE) {\n",
    "    for (r in rang) {\n",
    "        for (e in epsilon) {\n",
    "            for (a in algo) {\n",
    "                message(a)\n",
    "                if (a == 1) {\n",
    "                  algorithme = \"Multiplicative\"\n",
    "                  message(\"-----------------\", \"\\nEntrainement avec : \", \"\\n\\tAlgorithme: \", \n",
    "                    algorithme, \"\\n\\tRang: \", r, \"\\n\\tEpsilon: \", e)\n",
    "                  A = nnmf(x = manq.mat, k = r, method = \"nnmf_mm\", maxiter = max_iter, \n",
    "                    eps = e, index = index, x_complet = mat.complet)\n",
    "                  # Reformer la matrice de départ\n",
    "                  U = A$W\n",
    "                  V = A$H\n",
    "                  mat_hat <- U %*% V\n",
    "                  \n",
    "                  # Calculer le RMSE\n",
    "                  rmse = RMSE(mat.complet, mat_hat, index)\n",
    "                  message(\"\\nRMSE: \", rmse)\n",
    "                  \n",
    "                  \n",
    "                } else if (a == 2) {\n",
    "                  algorithme = \"Multinomial\"\n",
    "                  message(\"-----------------\", \"\\nEntrainement avec : \", \"\\n\\tAlgorithme: \", \n",
    "                    algorithme, \"\\n\\tRang: \", r, \"\\n\\tEpsilon: \", e)\n",
    "                  A = nnmf(x = manq.mat, k = r, method = \"nnmf_prob\", maxiter = max_iter, \n",
    "                    eps = e, index = index, x_complet = mat.complet)\n",
    "                  # Reformer la matrice de départ\n",
    "                  U = A$W\n",
    "                  V = A$H\n",
    "                  mat_hat <- U %*% V\n",
    "                  \n",
    "                  # Calculer le RMSE\n",
    "                  rmse = RMSE(mat.complet, mat_hat, index)\n",
    "                  message(\" RMSE: \", rmse)\n",
    "                  \n",
    "                  \n",
    "                } else {\n",
    "                  algorithme = \"ALS\"\n",
    "                  message(\"-----------------\", \"\\nEntrainement avec : \", \"\\n\\tAlgorithme: \", \n",
    "                    algorithme, \"\\n\\tRang: \", r, \"\\n\\tEpsilon: \", e)\n",
    "                  A = nnmf(x = manq.mat, k = r, method = \"nnmf_als\", maxiter = max_iter, \n",
    "                    eps = e, index = index, x_complet = mat.complet)\n",
    "                  # Reformer la matrice de départ\n",
    "                  U = A$W\n",
    "                  V = A$H\n",
    "                  mat_hat <- U %*% V\n",
    "                  \n",
    "                  # Calculer le RMSE\n",
    "                  rmse = RMSE(mat.complet, mat_hat, index)\n",
    "                  message(\" RMSE: \", rmse)\n",
    "                  \n",
    "                }\n",
    "                liste_hyper <- c(Rang = r, Epsilon = e, Algorithme = a, RMSE = rmse)\n",
    "                liste_hyper <- t(as.data.frame(liste_hyper))\n",
    "                df_hyper <- rbind(df_hyper, liste_hyper, make.row.names = FALSE)\n",
    "                \n",
    "            }\n",
    "        }\n",
    "        \n",
    "        \n",
    "        \n",
    "        \n",
    "    }\n",
    "    ################## Réentrainement du meilleur modèle\n",
    "    \n",
    "    \n",
    "    \n",
    "    \n",
    "    ## Trouver le modèle avec le plus petit RMSE\n",
    "    hyper.min <- df_hyper[which.min(df_hyper$RMSE), ]\n",
    "    hyper.min.list <- c(hyper.min)\n",
    "    \n",
    "    ## Sortir les hyperparamètres\n",
    "    rang = as.integer(as.character(hyper.min.list$Rang))\n",
    "    epsilon = as.integer(as.character(hyper.min.list$Epsilon))\n",
    "    algorithme = hyper.min.list$Algorithme\n",
    "    if (algorithme == 1) {\n",
    "        algo = \"nnmf_mm\"\n",
    "    } else if (algorithme == 2) {\n",
    "        algo = \"nnmf_prob\"\n",
    "    } else {\n",
    "        algo = \"nnmf_als\"\n",
    "    }\n",
    "    \n",
    "    \n",
    "    ## Entrainement du modèle\n",
    "    start_time <- Sys.time()  # Temps d'entrainement\n",
    "    entrainement <- nnmf(x = manq.mat, k = rang, method = algo, maxiter = max_iter, \n",
    "        eps = epsilon, index = index, x_complet = mat.complet)\n",
    "    end_time <- Sys.time()\n",
    "    temps.entrainement <- format(end_time - start_time, digits = 6)\n",
    "    \n",
    "    ## Créer la matrice de valeurs prédites\n",
    "    U <- entrainement$W\n",
    "    V <- entrainement$H\n",
    "    mat_hat <- U %*% V\n",
    "    \n",
    "    ## Sauvegarder la matrice avec les éléments prédits\n",
    "    message(\"\\nSauvegarde de la matrice prédite\")\n",
    "    dossier_pred <- paste0(\"exp/\", dossier)\n",
    "    fichier.entrainement <- paste0(fichier.binaire, \"_FMNN-hyper\")\n",
    "    writeMat(paste0(dossier_pred, fichier.entrainement, \".mat\"), mat = mat_hat)\n",
    "    \n",
    "    \n",
    "    ############################### PRÉPARATION POUR LE RAPPORT\n",
    "    \n",
    "    \n",
    "    ## Préparation pour le tableau comparatif\n",
    "    modele <- \"FMNN\"\n",
    "    hyperparametres <- paste(\"rang:\", rang, \"| epsilon:\", epsilon, \"| algorithme:\", \n",
    "        algorithme, sep = \" \")\n",
    "    fichier.util <- fichier.binaire\n",
    "    rmse = RMSE(mat.complet, mat_hat, index)\n",
    "    mape = MAPE(mat.complet, mat_hat, index)\n",
    "    \n",
    "    ## Mettre les informations d'entrainement dans un fichier CSV\n",
    "    param.entrainement <- as.data.frame(list(modele = modele, hyperparametres = hyperparametres, \n",
    "        fichier = fichier.util, rmse = rmse, mape = mape, temps = temps.entrainement))\n",
    "    fichier.comparatif <- paste0(\"exp/\", \"fichier_comparatif.csv\")\n",
    "    write.table(param.entrainement, file = fichier.comparatif, sep = \",\", col.names = FALSE, \n",
    "        append = TRUE)\n",
    "    \n",
    "    \n",
    "    \n",
    "    ## Préparation pour les graphiques\n",
    "    \n",
    "    ## Graph série temporelle\n",
    "    y1_pred <- mat_hat[1, ]\n",
    "    y1_orig <- mat.complet[1, ]\n",
    "    liste1 <- list(y1_pred, y1_orig)\n",
    "    ## Enregistrer la liste\n",
    "    nom.fichier <- paste0(\"exp/\", dossier, \"ligne1_\", fichier.entrainement, \".json\")\n",
    "    write_json(liste1, nom.fichier)\n",
    "    \n",
    "    y2_pred <- mat_hat[2, ]\n",
    "    y2_orig <- mat.complet[2, ]\n",
    "    liste2 <- list(y2_pred, y2_orig)\n",
    "    ## Enregistrer la liste\n",
    "    nom.fichier <- paste0(\"exp/\", dossier, \"ligne2_\", fichier.entrainement, \".json\")\n",
    "    write_json(liste2, nom.fichier)\n",
    "    \n",
    "    \n",
    "    y3_pred <- mat_hat[3, ]\n",
    "    y3_orig <- mat.complet[3, ]\n",
    "    liste3 <- list(y3_pred, y3_orig)\n",
    "    ## Enregistrer la liste\n",
    "    nom.fichier <- paste0(\"exp/\", dossier, \"ligne3_\", fichier.entrainement, \".json\")\n",
    "    write_json(liste3, nom.fichier)\n",
    "    \n",
    "    y4_pred <- mat_hat[4, ]\n",
    "    y4_orig <- mat.complet[4, ]\n",
    "    liste4 <- list(y4_pred, y4_orig)\n",
    "    ## Enregistrer la liste\n",
    "    nom.fichier <- paste0(\"exp/\", dossier, \"ligne4_\", fichier.entrainement, \".json\")\n",
    "    write_json(liste4, nom.fichier)\n",
    "    \n",
    "    # Matrices pour le rapport (graphique) Graph de comparaison\n",
    "    index_orig <- mat.complet[index]\n",
    "    index_pred <- mat_hat[index]\n",
    "    index_diff <- abs(index_orig - index_pred)\n",
    "    \n",
    "    ## Mettre sous forme de dataframe\n",
    "    index_df <- as.data.frame(cbind(index_orig, index_pred, index_diff))\n",
    "    \n",
    "    ## Trouver les quantiles (0 à 1)\n",
    "    q_index <- index_df[, 3]\n",
    "    quantiles_index <- quantile(q_index)\n",
    "    q0 <- quantiles_index[1]\n",
    "    q1 <- quantiles_index[2]\n",
    "    q2 <- quantiles_index[3]\n",
    "    q3 <- quantiles_index[4]\n",
    "    q4 <- quantiles_index[5]\n",
    "    \n",
    "    ## Donner des catégories (forces grâce aux quantiles)\n",
    "    index_df$dist_axe <- ifelse(index_diff > q0 & index_diff < q1, 1, ifelse(index_diff > \n",
    "        q1 & index_diff < q2, 2, ifelse(index_diff > q2 & index_diff < q3, 3, ifelse(index_diff > \n",
    "        q3 & index_diff < q4, 4, 5))))\n",
    "    \n",
    "    ## Sauvegarder le dataframe\n",
    "    index_df <- as.matrix(index_df)\n",
    "    \n",
    "    nom.fichier <- paste0(\"exp/\", dossier, \"compar_\", fichier.entrainement, \"_index-comparaison.mat\")\n",
    "    writeMat(nom.fichier, index_comparaison = index_df)\n",
    "    \n",
    "    \n",
    "    \n",
    "    \n",
    "}"
   ]
  },
  {
   "cell_type": "code",
   "execution_count": null,
   "metadata": {
    "ExecuteTime": {
     "end_time": "2020-06-28T21:14:51.992802Z",
     "start_time": "2020-06-28T21:10:00.902Z"
    }
   },
   "outputs": [],
   "source": []
  }
 ],
 "metadata": {
  "kernelspec": {
   "display_name": "R",
   "language": "R",
   "name": "ir"
  },
  "language_info": {
   "codemirror_mode": "r",
   "file_extension": ".r",
   "mimetype": "text/x-r-source",
   "name": "R",
   "pygments_lexer": "r",
   "version": "3.6.3"
  },
  "toc": {
   "base_numbering": 1,
   "nav_menu": {},
   "number_sections": true,
   "sideBar": true,
   "skip_h1_title": false,
   "title_cell": "Table of Contents",
   "title_sidebar": "Contents",
   "toc_cell": false,
   "toc_position": {},
   "toc_section_display": true,
   "toc_window_display": false
  },
  "varInspector": {
   "cols": {
    "lenName": 16,
    "lenType": 16,
    "lenVar": 40
   },
   "kernels_config": {
    "python": {
     "delete_cmd_postfix": "",
     "delete_cmd_prefix": "del ",
     "library": "var_list.py",
     "varRefreshCmd": "print(var_dic_list())"
    },
    "r": {
     "delete_cmd_postfix": ") ",
     "delete_cmd_prefix": "rm(",
     "library": "var_list.r",
     "varRefreshCmd": "cat(var_dic_list()) "
    }
   },
   "oldHeight": 348.797,
   "position": {
    "height": "354.797px",
    "left": "-32.0313px",
    "right": "20px",
    "top": "186.969px",
    "width": "397.969px"
   },
   "types_to_exclude": [
    "module",
    "function",
    "builtin_function_or_method",
    "instance",
    "_Feature"
   ],
   "varInspector_section_display": "block",
   "window_display": false
  }
 },
 "nbformat": 4,
 "nbformat_minor": 4
}
