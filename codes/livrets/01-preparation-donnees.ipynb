{
 "cells": [
  {
   "cell_type": "markdown",
   "metadata": {},
   "source": [
    "# Préparation des données\n",
    "\n",
    ">Ce livret prépare les matrices de données (données d'entrainement et données de test).\n",
    "\n",
    "## But\n",
    "* Uniformiser les fichiers de données\n",
    "* Générer les fichiers binaires pour les données"
   ]
  },
  {
   "cell_type": "markdown",
   "metadata": {
    "toc": true
   },
   "source": [
    "<h1>Table des matières<span class=\"tocSkip\"></span></h1>\n",
    "<div class=\"toc\"><ul class=\"toc-item\"><li><span><a href=\"#Préparation-des-données\" data-toc-modified-id=\"Préparation-des-données-1\"><span class=\"toc-item-num\">1&nbsp;&nbsp;</span>Préparation des données</a></span><ul class=\"toc-item\"><li><span><a href=\"#But\" data-toc-modified-id=\"But-1.1\"><span class=\"toc-item-num\">1.1&nbsp;&nbsp;</span>But</a></span></li></ul></li><li><span><a href=\"#Mettre-en-place-l'environnement\" data-toc-modified-id=\"Mettre-en-place-l'environnement-2\"><span class=\"toc-item-num\">2&nbsp;&nbsp;</span>Mettre en place l'environnement</a></span></li><li><span><a href=\"#Uniformiser-les-données\" data-toc-modified-id=\"Uniformiser-les-données-3\"><span class=\"toc-item-num\">3&nbsp;&nbsp;</span>Uniformiser les données</a></span></li><li><span><a href=\"#Générer-la-matrice-binaire\" data-toc-modified-id=\"Générer-la-matrice-binaire-4\"><span class=\"toc-item-num\">4&nbsp;&nbsp;</span>Générer la matrice binaire</a></span><ul class=\"toc-item\"><li><span><a href=\"#Générer-plusieurs-fichiers-binaires\" data-toc-modified-id=\"Générer-plusieurs-fichiers-binaires-4.1\"><span class=\"toc-item-num\">4.1&nbsp;&nbsp;</span>Générer plusieurs fichiers binaires</a></span></li></ul></li></ul></div>"
   ]
  },
  {
   "cell_type": "markdown",
   "metadata": {},
   "source": [
    "# Mettre en place l'environnement"
   ]
  },
  {
   "cell_type": "code",
   "execution_count": 1,
   "metadata": {
    "ExecuteTime": {
     "end_time": "2020-10-20T14:35:04.612283Z",
     "start_time": "2020-10-20T14:35:03.988695Z"
    }
   },
   "outputs": [],
   "source": [
    "# Utilités\n",
    "import os\n",
    "\n",
    "import numpy as np\n",
    "import pandas as pd\n",
    "import scipy.io"
   ]
  },
  {
   "cell_type": "code",
   "execution_count": 2,
   "metadata": {
    "ExecuteTime": {
     "end_time": "2020-10-20T14:35:04.628057Z",
     "start_time": "2020-10-20T14:35:04.612283Z"
    }
   },
   "outputs": [
    {
     "data": {
      "text/plain": [
       "'C:\\\\Users\\\\amass\\\\OneDrive\\\\02_Education\\\\02_Maitrise\\\\Cours\\\\PROJET_MAITRISE\\\\application'"
      ]
     },
     "execution_count": 2,
     "metadata": {},
     "output_type": "execute_result"
    }
   ],
   "source": [
    "# os.chdir(\"../\") # Dossier précédent\n",
    "os.chdir(\"./\")\n",
    "os.getcwd()     # Vérifier le présent dossier"
   ]
  },
  {
   "cell_type": "code",
   "execution_count": 3,
   "metadata": {
    "ExecuteTime": {
     "end_time": "2020-10-20T14:35:04.639055Z",
     "start_time": "2020-10-20T14:35:04.632058Z"
    }
   },
   "outputs": [],
   "source": [
    "param_livret = {\n",
    "    # Spécifique aux données\n",
    "    \"dossier\": \"data\",\n",
    "    \"sousdossier\": \"simulation_simple\",\n",
    "    \"fichier\": \"SimSimple\",\n",
    "    \"fichier_sortie\": \"SimSimple\",\n",
    "    \"format_size\": 1.0,\n",
    "    \"retourner\": True\n",
    "}"
   ]
  },
  {
   "cell_type": "code",
   "execution_count": 4,
   "metadata": {
    "ExecuteTime": {
     "end_time": "2020-10-20T14:35:04.655054Z",
     "start_time": "2020-10-20T14:35:04.644070Z"
    }
   },
   "outputs": [],
   "source": [
    "param_binaire = {\n",
    "    # Spécifique aux données\n",
    "    \"dossier\": \"data\",\n",
    "    \"sousdossier\": \"simulation_simple\",\n",
    "    \"fichier\": \"SimSimple_100\",\n",
    "    \"format_size\": 1.0,\n",
    "    \"retourner\": True,\n",
    "    # Spécifique pour la matrice binaire\n",
    "    \"p_manquants\": 0.1, \n",
    "    \"multiple\": True\n",
    "}"
   ]
  },
  {
   "cell_type": "markdown",
   "metadata": {},
   "source": [
    "# Uniformiser les données"
   ]
  },
  {
   "cell_type": "code",
   "execution_count": 5,
   "metadata": {
    "ExecuteTime": {
     "end_time": "2020-10-20T14:35:04.671093Z",
     "start_time": "2020-10-20T14:35:04.657054Z"
    }
   },
   "outputs": [],
   "source": [
    "def formatage_donnees(param_livret):\n",
    "    # Initialisation des variables\n",
    "    dossier = param_livret[\"dossier\"]\n",
    "    sousdossier = param_livret[\"sousdossier\"]\n",
    "    nom_fichier_donnees = param_livret[\"fichier\"]\n",
    "    nom_fichier_sortie = param_livret[\"fichier_sortie\"]\n",
    "    format_size = param_livret[\"format_size\"]\n",
    "    retourner = param_livret[\"retourner\"]\n",
    "    path = os.getcwd()\n",
    "    \n",
    "    # Chargement de la matrice\n",
    "    ch_fichier_donnees = os.path.join(path, dossier, sousdossier, nom_fichier_donnees)\n",
    "    donnees = scipy.io.loadmat(ch_fichier_donnees)\n",
    "    donnees = donnees[list(donnees)[3]]\n",
    "    \n",
    "    # Si c'est un tenseur, le transformer en matrice\n",
    "    dimensions = donnees.shape\n",
    "    \n",
    "    if len(dimensions) > 2:\n",
    "        dim1 = dimensions[0]\n",
    "        donnees = donnees.reshape(dim1, -1)\n",
    "    \n",
    "    # Si l'utilisateur spécifie un % de données à utiliser, l'appliquer.\n",
    "    dim1, dim2 = donnees.shape\n",
    "    format_size = np.round(format_size, decimals=2)\n",
    "    \n",
    "    if format_size > 1.0:\n",
    "        format_size = 1.0\n",
    "    \n",
    "    dim1 = int(np.round(dim1 * format_size))\n",
    "    dim2 = int(np.round(dim2 * format_size))\n",
    "    donnees = donnees[:dim1, :dim2]\n",
    "    \n",
    "    # Sauvegarder le fichier\n",
    "    nom_format = str(int(format_size * 100))\n",
    "    nom_fichier = \"{:}_{:}.mat\".format(os.path.join(dossier, sousdossier, nom_fichier_sortie), nom_format)\n",
    "    \n",
    "    scipy.io.savemat(nom_fichier, {\"mat\": donnees})\n",
    "    return donnees if retourner == True else None"
   ]
  },
  {
   "cell_type": "code",
   "execution_count": 6,
   "metadata": {
    "ExecuteTime": {
     "end_time": "2020-10-20T14:35:04.687054Z",
     "start_time": "2020-10-20T14:35:04.675055Z"
    }
   },
   "outputs": [],
   "source": [
    "# Appel de la fonction   \n",
    "matrice = formatage_donnees(param_livret)"
   ]
  },
  {
   "cell_type": "markdown",
   "metadata": {},
   "source": [
    "# Générer la matrice binaire"
   ]
  },
  {
   "cell_type": "code",
   "execution_count": 7,
   "metadata": {
    "ExecuteTime": {
     "end_time": "2020-10-20T14:35:04.703054Z",
     "start_time": "2020-10-20T14:35:04.689055Z"
    }
   },
   "outputs": [],
   "source": [
    "def generer_matrice_binaire(param_binaire):\n",
    "    dossier = param_binaire[\"dossier\"]\n",
    "    sousdossier = param_binaire[\"sousdossier\"]\n",
    "    nom_fichier = param_binaire[\"fichier\"]\n",
    "    p_manquants = param_binaire[\"p_manquants\"]\n",
    "    retourner = param_binaire[\"retourner\"]\n",
    "    \n",
    "    path = os.getcwd()\n",
    "    \n",
    "    ch_fichier_donnees = os.path.join(path, dossier, sousdossier, nom_fichier)\n",
    "    \n",
    "    donnees = scipy.io.loadmat(ch_fichier_donnees)\n",
    "    donnees = donnees[\"mat\"]\n",
    "    # Générer la matrice binaire\n",
    "    p_manquants = np.round(p_manquants, decimals=2)\n",
    "    \n",
    "    if p_manquants > 1.0:\n",
    "        p_manquants = 1.0\n",
    "    \n",
    "    p0 = p_manquants\n",
    "    p1 = 1 - p0\n",
    "    \n",
    "    dim1, dim2 = donnees.shape\n",
    "    \n",
    "    np.random.seed(2020)\n",
    "    matrice_binaire = np.random.choice([0, 1], size=(dim1, dim2), p=[p0, p1])\n",
    "    \n",
    "    # Sauvegarder la matrice binaire\n",
    "    nom_proportion = str(int(p0 * 100))\n",
    "    \n",
    "    \n",
    "    ch_matrice_binaire = os.path.join(dossier, sousdossier, nom_fichier)\n",
    "    nom_fichier = \"{:}_{:}.mat\".format(ch_matrice_binaire, nom_proportion)\n",
    "    scipy.io.savemat(nom_fichier, {\"mat\": matrice_binaire})\n",
    "    \n",
    "    \n",
    "    # Message pour l'utilisateur\n",
    "    prop_finale = len(np.where(matrice_binaire == 0)[0]) / (dim1 * dim2)\n",
    "    prop_finale = prop_finale * 100\n",
    "    \n",
    "    print(\"La proportion de zéro dans la matrice binaire est de {:2.2f} %\".format(prop_finale))\n",
    "    \n",
    "    return matrice_binaire if retourner == True else None"
   ]
  },
  {
   "cell_type": "code",
   "execution_count": 8,
   "metadata": {
    "ExecuteTime": {
     "end_time": "2020-10-20T14:35:04.733305Z",
     "start_time": "2020-10-20T14:35:04.706056Z"
    }
   },
   "outputs": [
    {
     "name": "stdout",
     "output_type": "stream",
     "text": [
      "La proportion de zéro dans la matrice binaire est de 10.28 %\n"
     ]
    }
   ],
   "source": [
    "matrice_binaire = generer_matrice_binaire(param_binaire = param_binaire)"
   ]
  },
  {
   "cell_type": "markdown",
   "metadata": {},
   "source": [
    "## Générer plusieurs fichiers binaires"
   ]
  },
  {
   "cell_type": "code",
   "execution_count": 9,
   "metadata": {
    "ExecuteTime": {
     "end_time": "2020-10-20T14:35:04.811268Z",
     "start_time": "2020-10-20T14:35:04.736267Z"
    }
   },
   "outputs": [
    {
     "name": "stdout",
     "output_type": "stream",
     "text": [
      "Création de multiples fichiers binaires\n",
      "Proportion a générer: 10 %\n",
      "La proportion de zéro dans la matrice binaire est de 10.28 %\n",
      "Proportion a générer: 20 %\n",
      "La proportion de zéro dans la matrice binaire est de 20.27 %\n",
      "Proportion a générer: 30 %\n",
      "La proportion de zéro dans la matrice binaire est de 30.45 %\n",
      "Proportion a générer: 40 %\n",
      "La proportion de zéro dans la matrice binaire est de 40.20 %\n",
      "Proportion a générer: 50 %\n",
      "La proportion de zéro dans la matrice binaire est de 49.89 %\n",
      "Proportion a générer: 60 %\n",
      "La proportion de zéro dans la matrice binaire est de 60.05 %\n",
      "Proportion a générer: 70 %\n",
      "La proportion de zéro dans la matrice binaire est de 70.23 %\n",
      "Proportion a générer: 80 %\n",
      "La proportion de zéro dans la matrice binaire est de 80.19 %\n",
      "Proportion a générer: 90 %\n",
      "La proportion de zéro dans la matrice binaire est de 90.10 %\n"
     ]
    }
   ],
   "source": [
    "multiple = param_binaire[\"multiple\"]\n",
    "\n",
    "\n",
    "if multiple == True:\n",
    "    print(\"Création de multiples fichiers binaires\")\n",
    "    prop_manquants = [0.1, 0.2, 0.3, 0.4, 0.5, 0.6, 0.7, 0.8, 0.9]\n",
    "\n",
    "    for p in prop_manquants:\n",
    "        print(\"Proportion a générer: {:2.0f} %\".format(p * 100))\n",
    "        param_binaire_multiple = param_binaire.copy()\n",
    "        param_binaire_multiple[\"p_manquants\"] = p\n",
    "        matrice_binaire = generer_matrice_binaire(param_binaire_multiple)\n",
    "else:\n",
    "    print(\"Création d'un seul fichier binaire\")\n",
    "    matrice_binaire = generer_matrice_binaire(param_binaire)"
   ]
  }
 ],
 "metadata": {
  "hide_input": false,
  "kernelspec": {
   "display_name": "Python 3",
   "language": "python",
   "name": "python3"
  },
  "language_info": {
   "codemirror_mode": {
    "name": "ipython",
    "version": 3
   },
   "file_extension": ".py",
   "mimetype": "text/x-python",
   "name": "python",
   "nbconvert_exporter": "python",
   "pygments_lexer": "ipython3",
   "version": "3.7.7"
  },
  "nbTranslate": {
   "displayLangs": [
    "*"
   ],
   "hotkey": "alt-t",
   "langInMainMenu": true,
   "sourceLang": "en",
   "targetLang": "fr",
   "useGoogleTranslate": true
  },
  "toc": {
   "base_numbering": 1,
   "nav_menu": {},
   "number_sections": true,
   "sideBar": true,
   "skip_h1_title": false,
   "title_cell": "Table des matières",
   "title_sidebar": "Contents",
   "toc_cell": true,
   "toc_position": {
    "height": "calc(100% - 180px)",
    "left": "10px",
    "top": "150px",
    "width": "426.667px"
   },
   "toc_section_display": true,
   "toc_window_display": true
  },
  "varInspector": {
   "cols": {
    "lenName": 16,
    "lenType": 16,
    "lenVar": 40
   },
   "kernels_config": {
    "python": {
     "delete_cmd_postfix": "",
     "delete_cmd_prefix": "del ",
     "library": "var_list.py",
     "varRefreshCmd": "print(var_dic_list())"
    },
    "r": {
     "delete_cmd_postfix": ") ",
     "delete_cmd_prefix": "rm(",
     "library": "var_list.r",
     "varRefreshCmd": "cat(var_dic_list()) "
    }
   },
   "types_to_exclude": [
    "module",
    "function",
    "builtin_function_or_method",
    "instance",
    "_Feature"
   ],
   "window_display": false
  }
 },
 "nbformat": 4,
 "nbformat_minor": 4
}
