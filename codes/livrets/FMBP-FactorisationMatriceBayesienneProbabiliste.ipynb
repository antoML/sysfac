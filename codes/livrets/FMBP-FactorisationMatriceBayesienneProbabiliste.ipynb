{
 "cells": [
  {
   "cell_type": "markdown",
   "metadata": {},
   "source": [
    "# Factorisation de matrice bayésienne probabiliste\n",
    "\n",
    ">Présentation de la factorisation de matrice bayésienne probabiliste (FMBP).\n",
    "\n",
    "\n",
    "## Recherches associées \n",
    "> Ruslan Salakhutdinov, Andriy Mnih, 2008. [**Bayesian probabilistic matrix factorization using Markov chain Monte Carlo**](https://www.cs.toronto.edu/~amnih/papers/bpmf.pdf). \n",
    ">Proceedings of the 25th International Conference on Machine Learning (*ICML 2008*), Helsinki, Finland. [[Matlab code (official)](https://www.cs.toronto.edu/~rsalakhu/BPMF.html)]\n",
    "\n",
    "\n",
    "## Sources\n",
    ">[**Dépôt 1**](https://github.com/xinychen/transdim) *version python*  "
   ]
  },
  {
   "cell_type": "markdown",
   "metadata": {
    "toc": true
   },
   "source": [
    "<h1>Table des matières<span class=\"tocSkip\"></span></h1>\n",
    "<div class=\"toc\"><ul class=\"toc-item\"><li><span><a href=\"#Factorisation-de-matrice-bayésienne-probabiliste\" data-toc-modified-id=\"Factorisation-de-matrice-bayésienne-probabiliste-1\"><span class=\"toc-item-num\">1&nbsp;&nbsp;</span>Factorisation de matrice bayésienne probabiliste</a></span><ul class=\"toc-item\"><li><span><a href=\"#Recherches-associées\" data-toc-modified-id=\"Recherches-associées-1.1\"><span class=\"toc-item-num\">1.1&nbsp;&nbsp;</span>Recherches associées</a></span></li><li><span><a href=\"#Sources\" data-toc-modified-id=\"Sources-1.2\"><span class=\"toc-item-num\">1.2&nbsp;&nbsp;</span>Sources</a></span></li></ul></li><li><span><a href=\"#Mettre-l'environnement-en-place\" data-toc-modified-id=\"Mettre-l'environnement-en-place-2\"><span class=\"toc-item-num\">2&nbsp;&nbsp;</span>Mettre l'environnement en place</a></span></li><li><span><a href=\"#Charger-les-données-dans-l'environnement\" data-toc-modified-id=\"Charger-les-données-dans-l'environnement-3\"><span class=\"toc-item-num\">3&nbsp;&nbsp;</span>Charger les données dans l'environnement</a></span></li><li><span><a href=\"#Définir-les-fonctions-pour-le-modèle\" data-toc-modified-id=\"Définir-les-fonctions-pour-le-modèle-4\"><span class=\"toc-item-num\">4&nbsp;&nbsp;</span>Définir les fonctions pour le modèle</a></span><ul class=\"toc-item\"><li><span><a href=\"#Fonctions-pour-le-calcul-de-l'erreur-du-modèle\" data-toc-modified-id=\"Fonctions-pour-le-calcul-de-l'erreur-du-modèle-4.1\"><span class=\"toc-item-num\">4.1&nbsp;&nbsp;</span>Fonctions pour le calcul de l'erreur du modèle</a></span></li><li><span><a href=\"#Calcul-sur-les-matrices\" data-toc-modified-id=\"Calcul-sur-les-matrices-4.2\"><span class=\"toc-item-num\">4.2&nbsp;&nbsp;</span>Calcul sur les matrices</a></span></li><li><span><a href=\"#Calculer-la-matrice-de-covariance-(cov_mat)\" data-toc-modified-id=\"Calculer-la-matrice-de-covariance-(cov_mat)-4.3\"><span class=\"toc-item-num\">4.3&nbsp;&nbsp;</span>Calculer la matrice de covariance (<code>cov_mat</code>)</a></span></li><li><span><a href=\"#Définir-le-modèle\" data-toc-modified-id=\"Définir-le-modèle-4.4\"><span class=\"toc-item-num\">4.4&nbsp;&nbsp;</span>Définir le modèle</a></span></li></ul></li><li><span><a href=\"#Entrainer-le-modèle\" data-toc-modified-id=\"Entrainer-le-modèle-5\"><span class=\"toc-item-num\">5&nbsp;&nbsp;</span>Entrainer le modèle</a></span><ul class=\"toc-item\"><li><span><a href=\"#Générer-les-combinaisons-d'hyperparamètres\" data-toc-modified-id=\"Générer-les-combinaisons-d'hyperparamètres-5.1\"><span class=\"toc-item-num\">5.1&nbsp;&nbsp;</span>Générer les combinaisons d'hyperparamètres</a></span></li><li><span><a href=\"#Spécifier-les-paramètres-de-l'entrainement\" data-toc-modified-id=\"Spécifier-les-paramètres-de-l'entrainement-5.2\"><span class=\"toc-item-num\">5.2&nbsp;&nbsp;</span>Spécifier les paramètres de l'entrainement</a></span></li><li><span><a href=\"#Sélectionner-les-hyparamètres-du-modèle\" data-toc-modified-id=\"Sélectionner-les-hyparamètres-du-modèle-5.3\"><span class=\"toc-item-num\">5.3&nbsp;&nbsp;</span>Sélectionner les hyparamètres du modèle</a></span><ul class=\"toc-item\"><li><span><a href=\"#Sauvegarder-les-informations-sur-la-sélection-des-hyperparamètres\" data-toc-modified-id=\"Sauvegarder-les-informations-sur-la-sélection-des-hyperparamètres-5.3.1\"><span class=\"toc-item-num\">5.3.1&nbsp;&nbsp;</span>Sauvegarder les informations sur la sélection des hyperparamètres</a></span><ul class=\"toc-item\"><li><span><a href=\"#Sauvegarder-les-informations-sur-la-distribution-des-paramètres\" data-toc-modified-id=\"Sauvegarder-les-informations-sur-la-distribution-des-paramètres-5.3.1.1\"><span class=\"toc-item-num\">5.3.1.1&nbsp;&nbsp;</span>Sauvegarder les informations sur la distribution des paramètres</a></span></li><li><span><a href=\"#Sauvegarder-les-informations-DURANT-l'entrainement\" data-toc-modified-id=\"Sauvegarder-les-informations-DURANT-l'entrainement-5.3.1.2\"><span class=\"toc-item-num\">5.3.1.2&nbsp;&nbsp;</span>Sauvegarder les informations DURANT l'entrainement</a></span></li><li><span><a href=\"#Sauvegarder-les-informations-FINALES\" data-toc-modified-id=\"Sauvegarder-les-informations-FINALES-5.3.1.3\"><span class=\"toc-item-num\">5.3.1.3&nbsp;&nbsp;</span>Sauvegarder les informations FINALES</a></span></li></ul></li></ul></li><li><span><a href=\"#Entrainer-le-meilleur-modèle\" data-toc-modified-id=\"Entrainer-le-meilleur-modèle-5.4\"><span class=\"toc-item-num\">5.4&nbsp;&nbsp;</span>Entrainer le meilleur modèle</a></span><ul class=\"toc-item\"><li><span><a href=\"#Sauvegarder-les-informations-sur-l'entrainement-du-meilleur-modèle\" data-toc-modified-id=\"Sauvegarder-les-informations-sur-l'entrainement-du-meilleur-modèle-5.4.1\"><span class=\"toc-item-num\">5.4.1&nbsp;&nbsp;</span>Sauvegarder les informations sur l'entrainement du meilleur modèle</a></span><ul class=\"toc-item\"><li><span><a href=\"#Sauvegarder-la-matrice-prédite\" data-toc-modified-id=\"Sauvegarder-la-matrice-prédite-5.4.1.1\"><span class=\"toc-item-num\">5.4.1.1&nbsp;&nbsp;</span>Sauvegarder la matrice prédite</a></span></li><li><span><a href=\"#Sauvegarder-avec-les-nouvelles-valeurs-imputées\" data-toc-modified-id=\"Sauvegarder-avec-les-nouvelles-valeurs-imputées-5.4.1.2\"><span class=\"toc-item-num\">5.4.1.2&nbsp;&nbsp;</span>Sauvegarder avec les nouvelles valeurs imputées</a></span></li></ul></li></ul></li></ul></li><li><span><a href=\"#Sauvegarder-les-information-pour-la-présentation-des-résultats\" data-toc-modified-id=\"Sauvegarder-les-information-pour-la-présentation-des-résultats-6\"><span class=\"toc-item-num\">6&nbsp;&nbsp;</span>Sauvegarder les information pour la présentation des résultats</a></span><ul class=\"toc-item\"><li><span><a href=\"#Sauvegarder-le-tableau-pour-la-comparaison-intermodèles\" data-toc-modified-id=\"Sauvegarder-le-tableau-pour-la-comparaison-intermodèles-6.1\"><span class=\"toc-item-num\">6.1&nbsp;&nbsp;</span>Sauvegarder le tableau pour la comparaison intermodèles</a></span></li><li><span><a href=\"#Sauvegarder-les-données-pour-la-présentation-graphique\" data-toc-modified-id=\"Sauvegarder-les-données-pour-la-présentation-graphique-6.2\"><span class=\"toc-item-num\">6.2&nbsp;&nbsp;</span>Sauvegarder les données pour la présentation graphique</a></span></li></ul></li></ul></div>"
   ]
  },
  {
   "cell_type": "markdown",
   "metadata": {},
   "source": [
    "# Mettre l'environnement en place"
   ]
  },
  {
   "cell_type": "code",
   "execution_count": 1,
   "metadata": {
    "ExecuteTime": {
     "end_time": "2020-10-20T21:38:34.401556Z",
     "start_time": "2020-10-20T21:38:33.673934Z"
    }
   },
   "outputs": [],
   "source": [
    "import os\n",
    "import time\n",
    "\n",
    "import feather\n",
    "import numpy as np\n",
    "import pandas as pd\n",
    "import scipy.io as sio\n",
    "from numpy.linalg import inv as inv\n",
    "from numpy.random import multivariate_normal as mvnrnd\n",
    "from scipy.stats import wishart\n",
    "from tqdm import tqdm, trange\n",
    "from tqdm.contrib import tenumerate"
   ]
  },
  {
   "cell_type": "code",
   "execution_count": 2,
   "metadata": {
    "ExecuteTime": {
     "end_time": "2020-10-20T21:38:34.417556Z",
     "start_time": "2020-10-20T21:38:34.403555Z"
    }
   },
   "outputs": [],
   "source": [
    "os.chdir(\"./\")"
   ]
  },
  {
   "cell_type": "markdown",
   "metadata": {},
   "source": [
    "# Charger les données dans l'environnement"
   ]
  },
  {
   "cell_type": "code",
   "execution_count": 3,
   "metadata": {
    "ExecuteTime": {
     "end_time": "2020-10-20T21:38:34.433554Z",
     "start_time": "2020-10-20T21:38:34.419560Z"
    }
   },
   "outputs": [],
   "source": [
    "parametres = {\n",
    "    \"dossier_donnees\": \"data\",\n",
    "    \"dossier_experience\": \"exp\",\n",
    "    \"sousdossier\": \"simulation_simple\",\n",
    "    \"fichier_donnees\": \"SimSimple_100\",\n",
    "    \"fichier_binaire\": \"SimSimple_100_10\",\n",
    "    \"manquants\": \"10\",\n",
    "    \"modele\": \"FMBP\",\n",
    "    \"version\": \"v001\"\n",
    "}"
   ]
  },
  {
   "cell_type": "code",
   "execution_count": 4,
   "metadata": {
    "ExecuteTime": {
     "end_time": "2020-10-20T21:38:34.449554Z",
     "start_time": "2020-10-20T21:38:34.434553Z"
    }
   },
   "outputs": [
    {
     "name": "stdout",
     "output_type": "stream",
     "text": [
      "Le dossier pour l'expérience existe déjà\n"
     ]
    }
   ],
   "source": [
    "# Créer le dossier s'il n'existe pas\n",
    "if not os.path.exists(os.path.join(parametres[\"dossier_experience\"], \n",
    "                                   parametres[\"sousdossier\"])):\n",
    "    print(\"Le dossier pour l'expérience vient d'être créé\")\n",
    "    os.makedirs(os.path.join(parametres[\"dossier_experience\"], \n",
    "                             parametres[\"sousdossier\"]))\n",
    "print(\"Le dossier pour l'expérience existe déjà\")"
   ]
  },
  {
   "cell_type": "code",
   "execution_count": 5,
   "metadata": {
    "ExecuteTime": {
     "end_time": "2020-10-20T21:38:34.464557Z",
     "start_time": "2020-10-20T21:38:34.452555Z"
    }
   },
   "outputs": [
    {
     "name": "stdout",
     "output_type": "stream",
     "text": [
      "data\\simulation_simple\\SimSimple_100.mat\n"
     ]
    }
   ],
   "source": [
    "ch_fichier_donnees = \"{:}.mat\".format(os.path.join(parametres[\"dossier_donnees\"], \n",
    "                                                   parametres[\"sousdossier\"], \n",
    "                                                   parametres[\"fichier_donnees\"]))\n",
    "mat_complet = sio.loadmat(ch_fichier_donnees)[\"mat\"]\n",
    "tqdm.write(ch_fichier_donnees)"
   ]
  },
  {
   "cell_type": "code",
   "execution_count": 6,
   "metadata": {
    "ExecuteTime": {
     "end_time": "2020-10-20T21:38:34.479557Z",
     "start_time": "2020-10-20T21:38:34.466555Z"
    }
   },
   "outputs": [
    {
     "name": "stdout",
     "output_type": "stream",
     "text": [
      "data\\simulation_simple\\SimSimple_100_10.mat\n"
     ]
    }
   ],
   "source": [
    "ch_fichier_binaire = \"{:}.mat\".format(os.path.join(parametres[\"dossier_donnees\"], \n",
    "                                                   parametres[\"sousdossier\"], \n",
    "                                                   parametres[\"fichier_binaire\"]))\n",
    "mat_binaire = sio.loadmat(ch_fichier_binaire)[\"mat\"]\n",
    "tqdm.write(ch_fichier_binaire)"
   ]
  },
  {
   "cell_type": "code",
   "execution_count": 7,
   "metadata": {
    "ExecuteTime": {
     "end_time": "2020-10-20T21:38:34.495556Z",
     "start_time": "2020-10-20T21:38:34.480557Z"
    }
   },
   "outputs": [],
   "source": [
    "mat_manquants = mat_complet * mat_binaire"
   ]
  },
  {
   "cell_type": "markdown",
   "metadata": {},
   "source": [
    "# Définir les fonctions pour le modèle"
   ]
  },
  {
   "cell_type": "markdown",
   "metadata": {},
   "source": [
    "## Fonctions pour le calcul de l'erreur du modèle"
   ]
  },
  {
   "cell_type": "code",
   "execution_count": 8,
   "metadata": {
    "ExecuteTime": {
     "end_time": "2020-10-20T21:38:34.511558Z",
     "start_time": "2020-10-20T21:38:34.496556Z"
    }
   },
   "outputs": [],
   "source": [
    "def RMSE(mat_complet, mat_hat, index):\n",
    "    rmse = np.sqrt(\n",
    "        np.sum((mat_complet[index] - mat_hat[index])**2) /\n",
    "        mat_complet[index].shape[0])\n",
    "    return rmse"
   ]
  },
  {
   "cell_type": "code",
   "execution_count": 9,
   "metadata": {
    "ExecuteTime": {
     "end_time": "2020-10-20T21:38:34.527553Z",
     "start_time": "2020-10-20T21:38:34.512554Z"
    }
   },
   "outputs": [],
   "source": [
    "def MAPE(mat_complet, mat_hat, index):\n",
    "    mape = np.sum(\n",
    "        np.abs(mat_complet[index] - mat_hat[index]) /\n",
    "        mat_complet[index]) / mat_complet[index].shape[0]\n",
    "    return mape"
   ]
  },
  {
   "cell_type": "markdown",
   "metadata": {},
   "source": [
    "## Calcul sur les matrices"
   ]
  },
  {
   "cell_type": "code",
   "execution_count": 10,
   "metadata": {
    "ExecuteTime": {
     "end_time": "2020-10-20T21:38:34.543590Z",
     "start_time": "2020-10-20T21:38:34.528553Z"
    }
   },
   "outputs": [],
   "source": [
    "def kr_prod(a, b):\n",
    "    \"\"\"\n",
    "    Khatri-Rao product\n",
    "    \n",
    "    Paramètres en entré\n",
    "        a : Matrice A \n",
    "        b : Matrice B\n",
    "    \n",
    "    Paramètres en sortie\n",
    "        np.einsum('ir, jr -> ijr', a, b).reshape(a.shape[0] * b.shape[0], -1) [column-wise Kronecker product]\n",
    "    \n",
    "    \n",
    "    \"\"\"\n",
    "    return np.einsum('ir, jr -> ijr', a, b).reshape(a.shape[0] * b.shape[0], -1)"
   ]
  },
  {
   "cell_type": "markdown",
   "metadata": {},
   "source": [
    "## Calculer la matrice de covariance (`cov_mat`)\n",
    "\n",
    "For any matrix $X\\in\\mathbb{R}^{m\\times n}$, `cov_mat` can return a $n\\times n$ covariance matrix for special use in the following."
   ]
  },
  {
   "cell_type": "code",
   "execution_count": 11,
   "metadata": {
    "ExecuteTime": {
     "end_time": "2020-10-20T21:38:34.559553Z",
     "start_time": "2020-10-20T21:38:34.544554Z"
    }
   },
   "outputs": [],
   "source": [
    "def cov_mat(mat):\n",
    "    \"\"\"\n",
    "    Matrice de covariance\n",
    "    \n",
    "    Paramètres en entrée\n",
    "        mat :\n",
    "        \n",
    "    Paramètres en sortie\n",
    "        new_mat : \n",
    "    \n",
    "    \"\"\"\n",
    "    dim1, dim2 = mat.shape\n",
    "    new_mat = np.zeros((dim2, dim2))\n",
    "    mat_bar = np.mean(mat, axis=0)\n",
    "    for i in range(dim1):\n",
    "        new_mat += np.einsum('i, j -> ij', mat[i, :] - mat_bar,\n",
    "                             mat[i, :] - mat_bar)\n",
    "    return new_mat"
   ]
  },
  {
   "cell_type": "markdown",
   "metadata": {},
   "source": [
    "## Définir le modèle\n",
    "\n"
   ]
  },
  {
   "cell_type": "code",
   "execution_count": 12,
   "metadata": {
    "ExecuteTime": {
     "end_time": "2020-10-20T21:38:34.591557Z",
     "start_time": "2020-10-20T21:38:34.560557Z"
    }
   },
   "outputs": [],
   "source": [
    "def BPMF(dense_mat, sparse_mat, init, rank, maxiter1, maxiter2):\n",
    "    \"\"\"\n",
    "    Bayesian Probabilistic Matrix Factorization, BPMF.\n",
    "    \n",
    "    ParamÃ¨tres en entrÃ©\n",
    "        dense_mat : Matrice sans valeurs manquantes\n",
    "        sparse_mat : Matrice avec des valeurs manquantes\n",
    "        init : Init ?\n",
    "        rank : Rang des matrices latentes\n",
    "        maxiter1 : Nombre d'itÃ©rations maximaux (pourquoi 1 ?)\n",
    "        maxiter2 : Nombre d'itÃ©ration maximal (pourquoi 2 ?)\n",
    "    \n",
    "    ParamÃ¨tres en sortie \n",
    "        mat_hat : Matrice imputÃ©e \n",
    "        W : Facteur latent W\n",
    "        X : Facteur latent X\n",
    "        lrmse : Liste des rmse\n",
    "        lmape : Liste des mape\n",
    "    \n",
    "    \n",
    "    \n",
    "    \"\"\"\n",
    "    # Initialisation des listes\n",
    "    test_rmse_list = []\n",
    "    train_rmse_list = []\n",
    "    gen_rmse_list = []\n",
    "    test_mape_list = []\n",
    "\n",
    "    # Initialisation des paramÃ¨tres\n",
    "    W = init[\"W\"]\n",
    "    X = init[\"X\"]\n",
    "\n",
    "    dim1, dim2 = sparse_mat.shape\n",
    "    dim = np.array([dim1, dim2])\n",
    "    pos = np.where((dense_mat != 0) & (sparse_mat == 0))  # pos_test\n",
    "    position = np.where(sparse_mat != 0)  # pos_train\n",
    "    binary_mat = np.zeros((dim1, dim2))\n",
    "    binary_mat[position] = 1\n",
    "\n",
    "    beta0 = 1\n",
    "    nu0 = rank\n",
    "    mu0 = np.zeros((rank))\n",
    "    W0 = np.eye(rank)\n",
    "    tau = 1\n",
    "    alpha = 1e-6\n",
    "    beta = 1e-6\n",
    "\n",
    "    W_plus = np.zeros((dim1, rank))\n",
    "    X_plus = np.zeros((dim2, rank))\n",
    "    mat_hat_plus = np.zeros((dim1, dim2))\n",
    "\n",
    "    # Listes pour l'Ã©tude des hyperparamÃ¨tres et des matrices latentes\n",
    "    liste_lambda = list()\n",
    "    liste_mu = list()\n",
    "    liste_W_hyper = list()\n",
    "    liste_tau = list()\n",
    "    liste_W = list()\n",
    "    liste_X = list()\n",
    "\n",
    "    # Mise Ã  jour des paramÃ¨tres\n",
    "    for iters in trange(maxiter1, desc=\"ItÃ©rations\", leave=False, position=1):\n",
    "        # Cette partie est ?\n",
    "        for order in range(2):\n",
    "            # ?\n",
    "            if order == 0:\n",
    "                mat = W.copy()\n",
    "            elif order == 1:\n",
    "                mat = X.copy()\n",
    "            # ?\n",
    "            mat_bar = np.mean(mat, axis=0)\n",
    "            var_mu_hyper = (dim[order] * mat_bar + beta0 * mu0) / (dim[order] +\n",
    "                                                                   beta0)\n",
    "            var_W_hyper = inv(\n",
    "                inv(W0) + cov_mat(mat) + dim[order] * beta0 /\n",
    "                (dim[order] + beta0) * np.outer(mat_bar - mu0, mat_bar - mu0))\n",
    "            var_Lambda_hyper = wishart(df=dim[order] + nu0,\n",
    "                                       scale=var_W_hyper,\n",
    "                                       seed=None).rvs()\n",
    "            #np.random.seed(2020)\n",
    "            var_mu_hyper = mvnrnd(var_mu_hyper,\n",
    "                                  inv((dim[order] + beta0) * var_Lambda_hyper))\n",
    "            # ?\n",
    "            if order == 0:\n",
    "                var1 = X.T\n",
    "                mat0 = np.matmul(var1, sparse_mat.T)\n",
    "            elif order == 1:\n",
    "                var1 = W.T\n",
    "                mat0 = np.matmul(var1, sparse_mat)\n",
    "            var2 = kr_prod(var1, var1)\n",
    "            # ?\n",
    "            if order == 0:\n",
    "                mat1 = np.matmul(var2, binary_mat.T)\n",
    "            elif order == 1:\n",
    "                mat1 = np.matmul(var2, binary_mat)\n",
    "            # ?\n",
    "            var3 = tau * mat1.reshape(rank, rank, dim[order]) + np.dstack(\n",
    "                [var_Lambda_hyper] * dim[order])\n",
    "            var4 = tau * mat0 + np.dstack(\n",
    "                [np.matmul(var_Lambda_hyper, var_mu_hyper)] *\n",
    "                dim[order])[0, :, :]\n",
    "            # ?\n",
    "            for i in range(dim[order]):\n",
    "                var_Lambda = var3[:, :, i]\n",
    "                inv_var_Lambda = inv((var_Lambda + var_Lambda.T) / 2)\n",
    "                #np.random.seed(2020)\n",
    "                vec = mvnrnd(np.matmul(inv_var_Lambda, var4[:, i]),\n",
    "                             inv_var_Lambda)\n",
    "                if order == 0:\n",
    "                    W[i, :] = vec.copy()\n",
    "                elif order == 1:\n",
    "                    X[i, :] = vec.copy()\n",
    "\n",
    "        # Mise Ã  jour\n",
    "        # Facteurs latents (mise Ã  jour)\n",
    "        if iters + 1 > maxiter1 - maxiter2:\n",
    "            W_plus += W\n",
    "            X_plus += X\n",
    "\n",
    "            # Matrice pleine (mise Ã  jour)\n",
    "        mat_hat = np.matmul(W, X.T)\n",
    "\n",
    "        # Matrice avec les valeurs imputÃ©es (mise Ã  jour)\n",
    "        if iters + 1 > maxiter1 - maxiter2:\n",
    "            mat_hat_plus += mat_hat\n",
    "\n",
    "        # Calcul de l'erreur au carrÃ© (mise Ã  jour)\n",
    "        # Pour l'Ã©chantillon test\n",
    "        rmse = np.sqrt(\n",
    "            np.sum(\n",
    "                (dense_mat[pos] - mat_hat[pos])**2) / dense_mat[pos].shape[0])\n",
    "        mape = np.sum(np.abs(dense_mat[pos] - mat_hat[pos]) /\n",
    "                      dense_mat[pos]) / dense_mat[pos].shape[0]\n",
    "\n",
    "        test_rmse_list.append(rmse)\n",
    "        test_mape_list.append(mape)\n",
    "\n",
    "        # Pour l'Ã©chantillon d'entrainement\n",
    "        train_rmse = np.sqrt(\n",
    "            np.sum((dense_mat[position] - mat_hat[position])**2) /\n",
    "            dense_mat[position].shape[0])\n",
    "        train_rmse_list.append(train_rmse)\n",
    "        # Pour l'ensemble\n",
    "        gen_rmse = np.sqrt(\n",
    "            np.sum((dense_mat - mat_hat)**2) / dense_mat.shape[0])\n",
    "        gen_rmse_list.append(gen_rmse)\n",
    "\n",
    "        # HyperparamÃ¨tres\n",
    "        var_alpha = alpha + 0.5 * sparse_mat[position].shape[0]\n",
    "        error = sparse_mat - mat_hat  # CET ÃLÃMENT POURRAIT ÃTRE AILLEURS (?)\n",
    "        var_beta = beta + 0.5 * np.sum(error[position]**2)\n",
    "\n",
    "        #np.random.seed(2020)\n",
    "        tau = np.random.gamma(var_alpha, 1 / var_beta)\n",
    "\n",
    "        # Listes pour l'Ã©tude des hyper\n",
    "        liste_lambda.append(np.linalg.norm(var_Lambda_hyper))\n",
    "        liste_mu.append(np.linalg.norm(var_mu_hyper))\n",
    "        liste_W_hyper.append(np.linalg.norm(var_W_hyper))\n",
    "\n",
    "        liste_tau.append(tau)\n",
    "\n",
    "        # Calcul des normes\n",
    "        norm_W = np.linalg.norm(W, ord=\"fro\")\n",
    "        norm_X = np.linalg.norm(X, ord=\"fro\")\n",
    "        liste_W.append(norm_W)\n",
    "        liste_X.append(norm_X)\n",
    "\n",
    "        # RepÃ©rage\n",
    "        if (iters + 1) % 200 == 0 and iters < maxiter1 - maxiter2:\n",
    "            tqdm.write('Iter: {}\\nRMSE: {:.6}'.format(iters + 1, rmse))\n",
    "\n",
    "    # ?\n",
    "    W = W_plus / maxiter2\n",
    "    X = X_plus / maxiter2\n",
    "    mat_hat = mat_hat_plus / maxiter2\n",
    "\n",
    "    if maxiter1 >= 100:\n",
    "        ## De test\n",
    "        final_mape = np.sum(\n",
    "            np.abs(dense_mat[pos] - mat_hat[pos]) /\n",
    "            dense_mat[pos]) / dense_mat[pos].shape[0]\n",
    "        final_rmse = np.sqrt(\n",
    "            np.sum(\n",
    "                (dense_mat[pos] - mat_hat[pos])**2) / dense_mat[pos].shape[0])\n",
    "        final_train_mape = np.sum(\n",
    "            np.abs(dense_mat[position] - mat_hat[position]) /\n",
    "            dense_mat[position]) / dense_mat[position].shape[0]\n",
    "        final_train_rmse = np.sqrt(\n",
    "            np.sum((dense_mat[position] - mat_hat[position])**2) /\n",
    "            dense_mat[position].shape[0])\n",
    "        final_gen_mape = np.sum(\n",
    "            np.abs(dense_mat - mat_hat) / dense_mat) / dense_mat.shape[0]\n",
    "        final_gen_rmse = np.sqrt(\n",
    "            np.sum((dense_mat - mat_hat)**2) / dense_mat.shape[0])\n",
    "        tqdm.write('Imputation MAPE: {:.6}\\nImputation RMSE: {:.6}'.format(\n",
    "            final_mape, final_rmse))\n",
    "\n",
    "        perfo_fin = dict(test_rmse=final_rmse,\n",
    "                         gen_rmse=final_gen_rmse,\n",
    "                         train_rmse=final_train_rmse)\n",
    "        # Ãtude des hyperparamÃ¨tres\n",
    "        etude_hyper = dict(_lambda=liste_lambda,\n",
    "                           w_hyper=liste_W_hyper,\n",
    "                           mu=liste_mu,\n",
    "                           tau=liste_tau,\n",
    "                           W=liste_W,\n",
    "                           X=liste_X)\n",
    "\n",
    "    return mat_hat, W, X, test_rmse_list, train_rmse_list, gen_rmse_list, test_mape_list, perfo_fin, etude_hyper"
   ]
  },
  {
   "cell_type": "markdown",
   "metadata": {},
   "source": [
    "# Entrainer le modèle"
   ]
  },
  {
   "cell_type": "code",
   "execution_count": 13,
   "metadata": {
    "ExecuteTime": {
     "end_time": "2020-10-20T21:38:34.607553Z",
     "start_time": "2020-10-20T21:38:34.592559Z"
    }
   },
   "outputs": [],
   "source": [
    "fichier_experience = \"{a[fichier_binaire]}_{a[modele]}_{a[version]}\".format(a = parametres)\n",
    "ch_fichier_experience = os.path.join(parametres[\"dossier_experience\"], parametres[\"sousdossier\"], fichier_experience)"
   ]
  },
  {
   "cell_type": "markdown",
   "metadata": {},
   "source": [
    "## Générer les combinaisons d'hyperparamètres\n",
    "* Pour ce modèle, seul le rang est choisi manuellement."
   ]
  },
  {
   "cell_type": "code",
   "execution_count": 14,
   "metadata": {
    "ExecuteTime": {
     "end_time": "2020-10-20T21:38:34.623591Z",
     "start_time": "2020-10-20T21:38:34.609556Z"
    }
   },
   "outputs": [
    {
     "data": {
      "text/plain": [
       "[10, 15]"
      ]
     },
     "execution_count": 14,
     "metadata": {},
     "output_type": "execute_result"
    }
   ],
   "source": [
    "rang_list = [10, 15] #, 20, 25, 30, 35, 40, 45, 50]\n",
    "rang_list"
   ]
  },
  {
   "cell_type": "markdown",
   "metadata": {},
   "source": [
    "## Spécifier les paramètres de l'entrainement"
   ]
  },
  {
   "cell_type": "code",
   "execution_count": 15,
   "metadata": {
    "ExecuteTime": {
     "end_time": "2020-10-20T21:38:34.639553Z",
     "start_time": "2020-10-20T21:38:34.625555Z"
    }
   },
   "outputs": [],
   "source": [
    "dim1, dim2 = mat_complet.shape\n",
    "maxiter1, maxiter2 = 100, 100 #1100, 100 # burn in, gibbs"
   ]
  },
  {
   "cell_type": "markdown",
   "metadata": {},
   "source": [
    "## Sélectionner les hyparamètres du modèle"
   ]
  },
  {
   "cell_type": "code",
   "execution_count": 16,
   "metadata": {
    "ExecuteTime": {
     "end_time": "2020-10-20T21:38:50.270769Z",
     "start_time": "2020-10-20T21:38:34.640556Z"
    },
    "scrolled": true
   },
   "outputs": [
    {
     "data": {
      "application/vnd.jupyter.widget-view+json": {
       "model_id": "e713fbd9beca4a458992cfd0dda6077d",
       "version_major": 2,
       "version_minor": 0
      },
      "text/plain": [
       "HBox(children=(FloatProgress(value=0.0, description='Recherche hyperparametres', max=2.0, style=ProgressStyle(…"
      ]
     },
     "metadata": {},
     "output_type": "display_data"
    },
    {
     "name": "stderr",
     "output_type": "stream",
     "text": [
      "\n",
      "ItÃ©rations:   0%|                                                                             | 0/100 [00:00<?, ?it/s]\u001b[A\n",
      "ItÃ©rations:   2%|█▍                                                                   | 2/100 [00:00<00:07, 13.50it/s]\u001b[A"
     ]
    },
    {
     "name": "stdout",
     "output_type": "stream",
     "text": [
      "Entrainement avec :\n",
      "{'rang': 10}\n"
     ]
    },
    {
     "name": "stderr",
     "output_type": "stream",
     "text": [
      "\n",
      "ItÃ©rations:   4%|██▊                                                                  | 4/100 [00:00<00:07, 13.26it/s]\u001b[A\n",
      "ItÃ©rations:   6%|████▏                                                                | 6/100 [00:00<00:07, 13.09it/s]\u001b[A\n",
      "ItÃ©rations:   8%|█████▌                                                               | 8/100 [00:00<00:06, 13.65it/s]\u001b[A\n",
      "ItÃ©rations:  10%|██████▊                                                             | 10/100 [00:00<00:06, 13.25it/s]\u001b[A\n",
      "ItÃ©rations:  12%|████████▏                                                           | 12/100 [00:00<00:06, 13.27it/s]\u001b[A\n",
      "ItÃ©rations:  14%|█████████▌                                                          | 14/100 [00:01<00:06, 12.56it/s]\u001b[A\n",
      "ItÃ©rations:  16%|██████████▉                                                         | 16/100 [00:01<00:06, 12.66it/s]\u001b[A\n",
      "ItÃ©rations:  18%|████████████▏                                                       | 18/100 [00:01<00:06, 12.92it/s]\u001b[A\n",
      "ItÃ©rations:  20%|█████████████▌                                                      | 20/100 [00:01<00:06, 13.06it/s]\u001b[A\n",
      "ItÃ©rations:  22%|██████████████▉                                                     | 22/100 [00:01<00:05, 13.38it/s]\u001b[A\n",
      "ItÃ©rations:  24%|████████████████▎                                                   | 24/100 [00:01<00:05, 13.92it/s]\u001b[A\n",
      "ItÃ©rations:  26%|█████████████████▋                                                  | 26/100 [00:01<00:05, 13.40it/s]\u001b[A\n",
      "ItÃ©rations:  28%|███████████████████                                                 | 28/100 [00:02<00:05, 13.48it/s]\u001b[A\n",
      "ItÃ©rations:  30%|████████████████████▍                                               | 30/100 [00:02<00:05, 13.62it/s]\u001b[A\n",
      "ItÃ©rations:  32%|█████████████████████▊                                              | 32/100 [00:02<00:04, 14.01it/s]\u001b[A\n",
      "ItÃ©rations:  34%|███████████████████████                                             | 34/100 [00:02<00:04, 13.90it/s]\u001b[A\n",
      "ItÃ©rations:  36%|████████████████████████▍                                           | 36/100 [00:02<00:04, 14.24it/s]\u001b[A\n",
      "ItÃ©rations:  38%|█████████████████████████▊                                          | 38/100 [00:02<00:04, 14.39it/s]\u001b[A\n",
      "ItÃ©rations:  40%|███████████████████████████▏                                        | 40/100 [00:02<00:04, 14.61it/s]\u001b[A\n",
      "ItÃ©rations:  42%|████████████████████████████▌                                       | 42/100 [00:03<00:04, 14.16it/s]\u001b[A\n",
      "ItÃ©rations:  44%|█████████████████████████████▉                                      | 44/100 [00:03<00:04, 13.82it/s]\u001b[A\n",
      "ItÃ©rations:  46%|███████████████████████████████▎                                    | 46/100 [00:03<00:03, 14.13it/s]\u001b[A\n",
      "ItÃ©rations:  48%|████████████████████████████████▋                                   | 48/100 [00:03<00:03, 14.29it/s]\u001b[A\n",
      "ItÃ©rations:  50%|██████████████████████████████████                                  | 50/100 [00:03<00:03, 14.32it/s]\u001b[A\n",
      "ItÃ©rations:  52%|███████████████████████████████████▎                                | 52/100 [00:03<00:03, 14.90it/s]\u001b[A\n",
      "ItÃ©rations:  54%|████████████████████████████████████▋                               | 54/100 [00:03<00:03, 14.46it/s]\u001b[A\n",
      "ItÃ©rations:  56%|██████████████████████████████████████                              | 56/100 [00:04<00:02, 15.01it/s]\u001b[A\n",
      "ItÃ©rations:  58%|███████████████████████████████████████▍                            | 58/100 [00:04<00:02, 14.66it/s]\u001b[A\n",
      "ItÃ©rations:  60%|████████████████████████████████████████▊                           | 60/100 [00:04<00:02, 14.76it/s]\u001b[A\n",
      "ItÃ©rations:  62%|██████████████████████████████████████████▏                         | 62/100 [00:04<00:02, 14.71it/s]\u001b[A\n",
      "ItÃ©rations:  64%|███████████████████████████████████████████▌                        | 64/100 [00:04<00:02, 14.38it/s]\u001b[A\n",
      "ItÃ©rations:  66%|████████████████████████████████████████████▉                       | 66/100 [00:04<00:02, 14.89it/s]\u001b[A\n",
      "ItÃ©rations:  68%|██████████████████████████████████████████████▏                     | 68/100 [00:04<00:02, 14.55it/s]\u001b[A\n",
      "ItÃ©rations:  70%|███████████████████████████████████████████████▌                    | 70/100 [00:05<00:02, 14.87it/s]\u001b[A\n",
      "ItÃ©rations:  72%|████████████████████████████████████████████████▉                   | 72/100 [00:05<00:01, 14.54it/s]\u001b[A\n",
      "ItÃ©rations:  74%|██████████████████████████████████████████████████▎                 | 74/100 [00:05<00:01, 14.78it/s]\u001b[A\n",
      "ItÃ©rations:  76%|███████████████████████████████████████████████████▋                | 76/100 [00:05<00:01, 14.40it/s]\u001b[A\n",
      "ItÃ©rations:  78%|█████████████████████████████████████████████████████               | 78/100 [00:05<00:01, 15.00it/s]\u001b[A\n",
      "ItÃ©rations:  80%|██████████████████████████████████████████████████████▍             | 80/100 [00:05<00:01, 14.62it/s]\u001b[A\n",
      "ItÃ©rations:  82%|███████████████████████████████████████████████████████▊            | 82/100 [00:05<00:01, 14.69it/s]\u001b[A\n",
      "ItÃ©rations:  84%|█████████████████████████████████████████████████████████           | 84/100 [00:05<00:01, 14.76it/s]\u001b[A\n",
      "ItÃ©rations:  86%|██████████████████████████████████████████████████████████▍         | 86/100 [00:06<00:00, 14.79it/s]\u001b[A\n",
      "ItÃ©rations:  88%|███████████████████████████████████████████████████████████▊        | 88/100 [00:06<00:00, 14.85it/s]\u001b[A\n",
      "ItÃ©rations:  90%|█████████████████████████████████████████████████████████████▏      | 90/100 [00:06<00:00, 14.98it/s]\u001b[A\n",
      "ItÃ©rations:  92%|██████████████████████████████████████████████████████████████▌     | 92/100 [00:06<00:00, 14.64it/s]\u001b[A\n",
      "ItÃ©rations:  94%|███████████████████████████████████████████████████████████████▉    | 94/100 [00:06<00:00, 14.29it/s]\u001b[A\n",
      "ItÃ©rations:  96%|█████████████████████████████████████████████████████████████████▎  | 96/100 [00:06<00:00, 14.66it/s]\u001b[A\n",
      "ItÃ©rations:  98%|██████████████████████████████████████████████████████████████████▋ | 98/100 [00:06<00:00, 14.81it/s]\u001b[A\n",
      "ItÃ©rations: 100%|███████████████████████████████████████████████████████████████████| 100/100 [00:07<00:00, 14.69it/s]\u001b[A\n",
      "                                                                                                                       \u001b[A\n",
      "ItÃ©rations:   0%|                                                                             | 0/100 [00:00<?, ?it/s]\u001b[A\n"
     ]
    },
    {
     "name": "stdout",
     "output_type": "stream",
     "text": [
      "Imputation MAPE: 0.00758875\n",
      "Imputation RMSE: 3.04416\n",
      "Performance du modele :{'test_rmse': 3.0441579084845283, 'gen_rmse': 29.088275324132717, 'train_rmse': 2.5700895518053875}\n",
      "Entrainement avec :\n",
      "{'rang': 15}\n"
     ]
    },
    {
     "name": "stderr",
     "output_type": "stream",
     "text": [
      "ItÃ©rations:   2%|█▍                                                                   | 2/100 [00:00<00:08, 11.75it/s]\u001b[A\n",
      "ItÃ©rations:   4%|██▊                                                                  | 4/100 [00:00<00:08, 11.95it/s]\u001b[A\n",
      "ItÃ©rations:   6%|████▏                                                                | 6/100 [00:00<00:07, 11.86it/s]\u001b[A\n",
      "ItÃ©rations:   8%|█████▌                                                               | 8/100 [00:00<00:07, 11.90it/s]\u001b[A\n",
      "ItÃ©rations:  10%|██████▊                                                             | 10/100 [00:00<00:07, 12.06it/s]\u001b[A\n",
      "ItÃ©rations:  12%|████████▏                                                           | 12/100 [00:01<00:07, 11.84it/s]\u001b[A\n",
      "ItÃ©rations:  14%|█████████▌                                                          | 14/100 [00:01<00:07, 11.90it/s]\u001b[A\n",
      "ItÃ©rations:  16%|██████████▉                                                         | 16/100 [00:01<00:07, 11.77it/s]\u001b[A\n",
      "ItÃ©rations:  18%|████████████▏                                                       | 18/100 [00:01<00:06, 11.74it/s]\u001b[A\n",
      "ItÃ©rations:  20%|█████████████▌                                                      | 20/100 [00:01<00:06, 11.44it/s]\u001b[A\n",
      "ItÃ©rations:  22%|██████████████▉                                                     | 22/100 [00:01<00:06, 11.71it/s]\u001b[A\n",
      "ItÃ©rations:  24%|████████████████▎                                                   | 24/100 [00:02<00:06, 11.40it/s]\u001b[A\n",
      "ItÃ©rations:  26%|█████████████████▋                                                  | 26/100 [00:02<00:06, 11.54it/s]\u001b[A\n",
      "ItÃ©rations:  28%|███████████████████                                                 | 28/100 [00:02<00:06, 11.48it/s]\u001b[A\n",
      "ItÃ©rations:  30%|████████████████████▍                                               | 30/100 [00:02<00:05, 11.77it/s]\u001b[A\n",
      "ItÃ©rations:  32%|█████████████████████▊                                              | 32/100 [00:02<00:05, 12.26it/s]\u001b[A\n",
      "ItÃ©rations:  34%|███████████████████████                                             | 34/100 [00:02<00:05, 11.63it/s]\u001b[A\n",
      "ItÃ©rations:  36%|████████████████████████▍                                           | 36/100 [00:03<00:05, 11.46it/s]\u001b[A\n",
      "ItÃ©rations:  38%|█████████████████████████▊                                          | 38/100 [00:03<00:05, 11.76it/s]\u001b[A\n",
      "ItÃ©rations:  40%|███████████████████████████▏                                        | 40/100 [00:03<00:05, 11.51it/s]\u001b[A\n",
      "ItÃ©rations:  42%|████████████████████████████▌                                       | 42/100 [00:03<00:05, 11.42it/s]\u001b[A\n",
      "ItÃ©rations:  44%|█████████████████████████████▉                                      | 44/100 [00:03<00:04, 11.51it/s]\u001b[A\n",
      "ItÃ©rations:  46%|███████████████████████████████▎                                    | 46/100 [00:03<00:04, 11.31it/s]\u001b[A\n",
      "ItÃ©rations:  48%|████████████████████████████████▋                                   | 48/100 [00:04<00:04, 11.23it/s]\u001b[A\n",
      "ItÃ©rations:  50%|██████████████████████████████████                                  | 50/100 [00:04<00:04, 11.29it/s]\u001b[A\n",
      "ItÃ©rations:  52%|███████████████████████████████████▎                                | 52/100 [00:04<00:04, 11.45it/s]\u001b[A\n",
      "ItÃ©rations:  54%|████████████████████████████████████▋                               | 54/100 [00:04<00:03, 11.79it/s]\u001b[A\n",
      "ItÃ©rations:  56%|██████████████████████████████████████                              | 56/100 [00:04<00:03, 11.39it/s]\u001b[A\n",
      "ItÃ©rations:  58%|███████████████████████████████████████▍                            | 58/100 [00:05<00:03, 11.62it/s]\u001b[A\n",
      "ItÃ©rations:  60%|████████████████████████████████████████▊                           | 60/100 [00:05<00:03, 11.35it/s]\u001b[A\n",
      "ItÃ©rations:  62%|██████████████████████████████████████████▏                         | 62/100 [00:05<00:03, 11.38it/s]\u001b[A\n",
      "ItÃ©rations:  64%|███████████████████████████████████████████▌                        | 64/100 [00:05<00:03, 11.85it/s]\u001b[A\n",
      "ItÃ©rations:  66%|████████████████████████████████████████████▉                       | 66/100 [00:05<00:02, 11.78it/s]\u001b[A\n",
      "ItÃ©rations:  68%|██████████████████████████████████████████████▏                     | 68/100 [00:05<00:02, 11.61it/s]\u001b[A\n",
      "ItÃ©rations:  70%|███████████████████████████████████████████████▌                    | 70/100 [00:06<00:02, 11.66it/s]\u001b[A\n",
      "ItÃ©rations:  72%|████████████████████████████████████████████████▉                   | 72/100 [00:06<00:02, 12.06it/s]\u001b[A\n",
      "ItÃ©rations:  74%|██████████████████████████████████████████████████▎                 | 74/100 [00:06<00:02, 11.91it/s]\u001b[A\n",
      "ItÃ©rations:  76%|███████████████████████████████████████████████████▋                | 76/100 [00:06<00:01, 12.10it/s]\u001b[A\n",
      "ItÃ©rations:  78%|█████████████████████████████████████████████████████               | 78/100 [00:06<00:01, 12.06it/s]\u001b[A\n",
      "ItÃ©rations:  80%|██████████████████████████████████████████████████████▍             | 80/100 [00:06<00:01, 11.94it/s]\u001b[A\n",
      "ItÃ©rations:  82%|███████████████████████████████████████████████████████▊            | 82/100 [00:07<00:01, 11.76it/s]\u001b[A\n",
      "ItÃ©rations:  84%|█████████████████████████████████████████████████████████           | 84/100 [00:07<00:01, 11.90it/s]\u001b[A\n",
      "ItÃ©rations:  86%|██████████████████████████████████████████████████████████▍         | 86/100 [00:07<00:01, 12.06it/s]\u001b[A\n",
      "ItÃ©rations:  88%|███████████████████████████████████████████████████████████▊        | 88/100 [00:07<00:01, 11.84it/s]\u001b[A\n",
      "ItÃ©rations:  90%|█████████████████████████████████████████████████████████████▏      | 90/100 [00:07<00:00, 11.83it/s]\u001b[A\n",
      "ItÃ©rations:  92%|██████████████████████████████████████████████████████████████▌     | 92/100 [00:07<00:00, 12.13it/s]\u001b[A\n",
      "ItÃ©rations:  94%|███████████████████████████████████████████████████████████████▉    | 94/100 [00:08<00:00, 11.90it/s]\u001b[A\n",
      "ItÃ©rations:  96%|█████████████████████████████████████████████████████████████████▎  | 96/100 [00:08<00:00, 11.87it/s]\u001b[A\n",
      "ItÃ©rations:  98%|██████████████████████████████████████████████████████████████████▋ | 98/100 [00:08<00:00, 11.79it/s]\u001b[A\n",
      "ItÃ©rations: 100%|███████████████████████████████████████████████████████████████████| 100/100 [00:08<00:00, 12.01it/s]\u001b[A\n",
      "                                                                                                                       \u001b[A"
     ]
    },
    {
     "name": "stdout",
     "output_type": "stream",
     "text": [
      "Imputation MAPE: 0.00597061\n",
      "Imputation RMSE: 2.37974\n",
      "Performance du modele :{'test_rmse': 2.379742188852433, 'gen_rmse': 21.822918008863063, 'train_rmse': 1.914816229027938}\n",
      "\n"
     ]
    }
   ],
   "source": [
    "entrainement_dict = dict()\n",
    "\n",
    "\n",
    "for index, i in tenumerate(rang_list, desc=\"Recherche hyperparametres\", leave = True, position = 0): \n",
    "\n",
    "    ## Premier élément : Rang\n",
    "    rang = i\n",
    "\n",
    "    param_utils = dict(rang=rang)  # Préparation pour le suivant rapport\n",
    "\n",
    "    tqdm.write(\"Entrainement avec :\\n{:}\".format(param_utils))\n",
    "\n",
    "    np.random.seed(2020)\n",
    "    init = {\n",
    "        \"W\": 0.1 * np.random.rand(dim1, rang),\n",
    "        \"X\": 0.1 * np.random.rand(dim2, rang)\n",
    "    }\n",
    "    mat_hat, W, X, test_rmse_list, train_rmse_list, gen_rmse_list, test_mape_list, perfo_fin, etude_hyper = BPMF(\n",
    "        mat_complet, mat_manquants, init, rang, maxiter1, maxiter2)\n",
    "\n",
    "    metriques_listes = dict(test_rmse_list=test_rmse_list,\n",
    "                            train_rmse_list=train_rmse_list,\n",
    "                            gen_rmse_list=gen_rmse_list)\n",
    "\n",
    "    ## Mettre dans un dictionaire de tous les entrainements\n",
    "    index_entr = \"index {:}\".format(index)\n",
    "\n",
    "    entrainement_dict[index_entr] = {}\n",
    "    entrainement_dict[index_entr][\"parametres\"] = param_utils\n",
    "    entrainement_dict[index_entr][\"metriques_listes\"] = metriques_listes\n",
    "    entrainement_dict[index_entr][\"metriques_finales\"] = perfo_fin\n",
    "    entrainement_dict[index_entr][\"etude_hyper\"] = etude_hyper\n",
    "    tqdm.write(\"Performance du modele :{:}\".format(perfo_fin))"
   ]
  },
  {
   "cell_type": "markdown",
   "metadata": {},
   "source": [
    "### Sauvegarder les informations sur la sélection des hyperparamètres"
   ]
  },
  {
   "cell_type": "markdown",
   "metadata": {},
   "source": [
    "#### Sauvegarder les informations sur la distribution des paramètres"
   ]
  },
  {
   "cell_type": "code",
   "execution_count": 17,
   "metadata": {
    "ExecuteTime": {
     "end_time": "2020-10-20T21:38:50.286772Z",
     "start_time": "2020-10-20T21:38:50.272772Z"
    }
   },
   "outputs": [],
   "source": [
    "hyper_liste = []\n",
    "for i in range(len(entrainement_dict)):\n",
    "    index = \"index {:}\".format(i)\n",
    "\n",
    "    df_etude_hyper = pd.DataFrame(entrainement_dict[index][\"etude_hyper\"])\n",
    "    df_etude_hyper['iteration'] = df_etude_hyper.index  # Colonne pour les itÃ©rations\n",
    "    df_etude_hyper[\"entrainement_no\"] = i + 1  ## FOR LOOP\n",
    "\n",
    "    hyper_liste.append(df_etude_hyper)\n",
    "    \n",
    "df_etude_hyper = pd.concat(hyper_liste)\n",
    "df_etude_hyper = df_etude_hyper.reset_index()"
   ]
  },
  {
   "cell_type": "code",
   "execution_count": 18,
   "metadata": {
    "ExecuteTime": {
     "end_time": "2020-10-20T21:38:50.302768Z",
     "start_time": "2020-10-20T21:38:50.287769Z"
    }
   },
   "outputs": [],
   "source": [
    "# Sauvegarder le fichier\n",
    "fichier_HyperDistribution = \"{:}_fichier_HyperDistribution.ftr\".format(ch_fichier_experience)\n",
    "df_etude_hyper.to_feather(fichier_HyperDistribution)"
   ]
  },
  {
   "cell_type": "markdown",
   "metadata": {},
   "source": [
    "#### Sauvegarder les informations DURANT l'entrainement"
   ]
  },
  {
   "cell_type": "code",
   "execution_count": 19,
   "metadata": {
    "ExecuteTime": {
     "end_time": "2020-10-20T21:38:50.318771Z",
     "start_time": "2020-10-20T21:38:50.304775Z"
    }
   },
   "outputs": [],
   "source": [
    "df_list = []\n",
    "for i in range(len(entrainement_dict)):\n",
    "    index = \"index {:}\".format(i)\n",
    "\n",
    "    listes_df = pd.DataFrame(entrainement_dict[index][\"metriques_listes\"])\n",
    "    listes_df['iteration'] = listes_df.index  # Colonne pour les itÃ©rations\n",
    "    \n",
    "    listes_df[\"rang\"] = entrainement_dict[index][\"parametres\"][\"rang\"]\n",
    "    listes_df[\"entrainement_no\"] = i + 1  ## FOR LOOP\n",
    "\n",
    "    df_list.append(listes_df)\n",
    "    \n",
    "listes_df = pd.concat(df_list)\n",
    "listes_df = listes_df.reset_index()"
   ]
  },
  {
   "cell_type": "code",
   "execution_count": 20,
   "metadata": {
    "ExecuteTime": {
     "end_time": "2020-10-20T21:38:50.334769Z",
     "start_time": "2020-10-20T21:38:50.322771Z"
    }
   },
   "outputs": [],
   "source": [
    "# Sauvegarder le fichier\n",
    "fichier_HyperEntrainement = \"{:}_HyperparametresEntrainement.ftr\".format(ch_fichier_experience)\n",
    "listes_df.to_feather(fichier_HyperEntrainement)"
   ]
  },
  {
   "cell_type": "markdown",
   "metadata": {},
   "source": [
    "#### Sauvegarder les informations FINALES"
   ]
  },
  {
   "cell_type": "code",
   "execution_count": 21,
   "metadata": {
    "ExecuteTime": {
     "end_time": "2020-10-20T21:38:50.350768Z",
     "start_time": "2020-10-20T21:38:50.338786Z"
    }
   },
   "outputs": [],
   "source": [
    "test_list = []\n",
    "for i in entrainement_dict:\n",
    "\n",
    "    dict1 = {}\n",
    "    dict1.update(\n",
    "        dict(\n",
    "            rmse_test=entrainement_dict[i][\"metriques_finales\"][\"test_rmse\"],\n",
    "            rmse_train=entrainement_dict[i][\"metriques_finales\"][\"train_rmse\"],\n",
    "            rmse_gen= entrainement_dict[i][\"metriques_finales\"][\"gen_rmse\"],\n",
    "            rang=entrainement_dict[i][\"parametres\"][\"rang\"]))\n",
    "\n",
    "    test_list.append(dict1)\n",
    "\n",
    "df = pd.DataFrame(test_list)"
   ]
  },
  {
   "cell_type": "code",
   "execution_count": 22,
   "metadata": {
    "ExecuteTime": {
     "end_time": "2020-10-20T21:38:50.365767Z",
     "start_time": "2020-10-20T21:38:50.352784Z"
    }
   },
   "outputs": [],
   "source": [
    "# Sauvegarder le fichier\n",
    "fichier_HyperFinaux = \"{:}_HyperparametresFinaux.ftr\".format(ch_fichier_experience)\n",
    "df.to_feather(fichier_HyperFinaux)"
   ]
  },
  {
   "cell_type": "markdown",
   "metadata": {},
   "source": [
    "## Entrainer le meilleur modèle"
   ]
  },
  {
   "cell_type": "code",
   "execution_count": 23,
   "metadata": {
    "ExecuteTime": {
     "end_time": "2020-10-20T21:38:50.395767Z",
     "start_time": "2020-10-20T21:38:50.366769Z"
    }
   },
   "outputs": [
    {
     "data": {
      "text/html": [
       "<div>\n",
       "<style scoped>\n",
       "    .dataframe tbody tr th:only-of-type {\n",
       "        vertical-align: middle;\n",
       "    }\n",
       "\n",
       "    .dataframe tbody tr th {\n",
       "        vertical-align: top;\n",
       "    }\n",
       "\n",
       "    .dataframe thead th {\n",
       "        text-align: right;\n",
       "    }\n",
       "</style>\n",
       "<table border=\"1\" class=\"dataframe\">\n",
       "  <thead>\n",
       "    <tr style=\"text-align: right;\">\n",
       "      <th></th>\n",
       "      <th>rmse_test</th>\n",
       "      <th>rmse_train</th>\n",
       "      <th>rmse_gen</th>\n",
       "      <th>rang</th>\n",
       "    </tr>\n",
       "  </thead>\n",
       "  <tbody>\n",
       "    <tr>\n",
       "      <th>1</th>\n",
       "      <td>2.379742</td>\n",
       "      <td>1.914816</td>\n",
       "      <td>21.822918</td>\n",
       "      <td>15</td>\n",
       "    </tr>\n",
       "  </tbody>\n",
       "</table>\n",
       "</div>"
      ],
      "text/plain": [
       "   rmse_test  rmse_train   rmse_gen  rang\n",
       "1   2.379742    1.914816  21.822918    15"
      ]
     },
     "execution_count": 23,
     "metadata": {},
     "output_type": "execute_result"
    }
   ],
   "source": [
    "min_test = df[df.rmse_test == df.rmse_test.min()]\n",
    "min_test"
   ]
  },
  {
   "cell_type": "code",
   "execution_count": 24,
   "metadata": {
    "ExecuteTime": {
     "end_time": "2020-10-20T21:38:50.411768Z",
     "start_time": "2020-10-20T21:38:50.396768Z"
    }
   },
   "outputs": [
    {
     "data": {
      "text/plain": [
       "{'rang': 15, 'init_hyper': {'AUCUN': 'AUCUN'}}"
      ]
     },
     "execution_count": 24,
     "metadata": {},
     "output_type": "execute_result"
    }
   ],
   "source": [
    "rang = np.int(min_test.rang)\n",
    "\n",
    "init_hyper = {\n",
    "    \"AUCUN\": \"AUCUN\"\n",
    "}\n",
    "\n",
    "param_utils = dict(rang=rang, init_hyper=init_hyper)  # PrÃ©paration pour le suivant rapport\n",
    "\n",
    "param_utils"
   ]
  },
  {
   "cell_type": "code",
   "execution_count": 25,
   "metadata": {
    "ExecuteTime": {
     "end_time": "2020-10-20T21:38:50.426768Z",
     "start_time": "2020-10-20T21:38:50.412769Z"
    }
   },
   "outputs": [],
   "source": [
    "np.random.seed(2020)\n",
    "init = {\n",
    "    \"W\": 0.1 * np.random.rand(dim1, rang),\n",
    "    \"X\": 0.1 * np.random.rand(dim2, rang)\n",
    "}"
   ]
  },
  {
   "cell_type": "code",
   "execution_count": 26,
   "metadata": {
    "ExecuteTime": {
     "end_time": "2020-10-20T21:38:58.992705Z",
     "start_time": "2020-10-20T21:38:50.428768Z"
    }
   },
   "outputs": [
    {
     "name": "stderr",
     "output_type": "stream",
     "text": [
      "\n",
      "ItÃ©rations:   0%|                                                                             | 0/100 [00:00<?, ?it/s]\u001b[A\n",
      "ItÃ©rations:   2%|█▍                                                                   | 2/100 [00:00<00:08, 10.99it/s]\u001b[A\n",
      "ItÃ©rations:   4%|██▊                                                                  | 4/100 [00:00<00:08, 11.02it/s]\u001b[A\n",
      "ItÃ©rations:   6%|████▏                                                                | 6/100 [00:00<00:08, 11.33it/s]\u001b[A\n",
      "ItÃ©rations:   8%|█████▌                                                               | 8/100 [00:00<00:07, 12.09it/s]\u001b[A\n",
      "ItÃ©rations:  10%|██████▊                                                             | 10/100 [00:00<00:07, 11.83it/s]\u001b[A\n",
      "ItÃ©rations:  12%|████████▏                                                           | 12/100 [00:00<00:07, 12.33it/s]\u001b[A\n",
      "ItÃ©rations:  14%|█████████▌                                                          | 14/100 [00:01<00:07, 11.65it/s]\u001b[A\n",
      "ItÃ©rations:  16%|██████████▉                                                         | 16/100 [00:01<00:07, 11.78it/s]\u001b[A\n",
      "ItÃ©rations:  18%|████████████▏                                                       | 18/100 [00:01<00:06, 11.74it/s]\u001b[A\n",
      "ItÃ©rations:  20%|█████████████▌                                                      | 20/100 [00:01<00:06, 11.53it/s]\u001b[A\n",
      "ItÃ©rations:  22%|██████████████▉                                                     | 22/100 [00:01<00:06, 11.48it/s]\u001b[A\n",
      "ItÃ©rations:  24%|████████████████▎                                                   | 24/100 [00:02<00:06, 11.55it/s]\u001b[A\n",
      "ItÃ©rations:  26%|█████████████████▋                                                  | 26/100 [00:02<00:06, 11.37it/s]\u001b[A\n",
      "ItÃ©rations:  28%|███████████████████                                                 | 28/100 [00:02<00:06, 11.23it/s]\u001b[A\n",
      "ItÃ©rations:  30%|████████████████████▍                                               | 30/100 [00:02<00:06, 11.48it/s]\u001b[A\n",
      "ItÃ©rations:  32%|█████████████████████▊                                              | 32/100 [00:02<00:05, 11.39it/s]\u001b[A\n",
      "ItÃ©rations:  34%|███████████████████████                                             | 34/100 [00:02<00:05, 11.38it/s]\u001b[A\n",
      "ItÃ©rations:  36%|████████████████████████▍                                           | 36/100 [00:03<00:05, 11.56it/s]\u001b[A\n",
      "ItÃ©rations:  38%|█████████████████████████▊                                          | 38/100 [00:03<00:05, 11.70it/s]\u001b[A\n",
      "ItÃ©rations:  40%|███████████████████████████▏                                        | 40/100 [00:03<00:05, 11.62it/s]\u001b[A\n",
      "ItÃ©rations:  42%|████████████████████████████▌                                       | 42/100 [00:03<00:04, 11.67it/s]\u001b[A\n",
      "ItÃ©rations:  44%|█████████████████████████████▉                                      | 44/100 [00:03<00:04, 11.58it/s]\u001b[A\n",
      "ItÃ©rations:  46%|███████████████████████████████▎                                    | 46/100 [00:03<00:04, 11.65it/s]\u001b[A\n",
      "ItÃ©rations:  48%|████████████████████████████████▋                                   | 48/100 [00:04<00:04, 11.64it/s]\u001b[A\n",
      "ItÃ©rations:  50%|██████████████████████████████████                                  | 50/100 [00:04<00:04, 11.83it/s]\u001b[A\n",
      "ItÃ©rations:  52%|███████████████████████████████████▎                                | 52/100 [00:04<00:04, 11.83it/s]\u001b[A\n",
      "ItÃ©rations:  54%|████████████████████████████████████▋                               | 54/100 [00:04<00:03, 11.50it/s]\u001b[A\n",
      "ItÃ©rations:  56%|██████████████████████████████████████                              | 56/100 [00:04<00:03, 11.79it/s]\u001b[A\n",
      "ItÃ©rations:  58%|███████████████████████████████████████▍                            | 58/100 [00:04<00:03, 11.77it/s]\u001b[A\n",
      "ItÃ©rations:  60%|████████████████████████████████████████▊                           | 60/100 [00:05<00:03, 11.45it/s]\u001b[A\n",
      "ItÃ©rations:  62%|██████████████████████████████████████████▏                         | 62/100 [00:05<00:03, 11.39it/s]\u001b[A\n",
      "ItÃ©rations:  64%|███████████████████████████████████████████▌                        | 64/100 [00:05<00:03, 11.90it/s]\u001b[A\n",
      "ItÃ©rations:  66%|████████████████████████████████████████████▉                       | 66/100 [00:05<00:02, 11.80it/s]\u001b[A\n",
      "ItÃ©rations:  68%|██████████████████████████████████████████████▏                     | 68/100 [00:05<00:02, 11.45it/s]\u001b[A\n",
      "ItÃ©rations:  70%|███████████████████████████████████████████████▌                    | 70/100 [00:06<00:02, 11.50it/s]\u001b[A\n",
      "ItÃ©rations:  72%|████████████████████████████████████████████████▉                   | 72/100 [00:06<00:02, 11.39it/s]\u001b[A\n",
      "ItÃ©rations:  74%|██████████████████████████████████████████████████▎                 | 74/100 [00:06<00:02, 11.76it/s]\u001b[A\n",
      "ItÃ©rations:  76%|███████████████████████████████████████████████████▋                | 76/100 [00:06<00:02, 11.79it/s]\u001b[A\n",
      "ItÃ©rations:  78%|█████████████████████████████████████████████████████               | 78/100 [00:06<00:01, 12.16it/s]\u001b[A\n",
      "ItÃ©rations:  80%|██████████████████████████████████████████████████████▍             | 80/100 [00:06<00:01, 11.82it/s]\u001b[A\n",
      "ItÃ©rations:  82%|███████████████████████████████████████████████████████▊            | 82/100 [00:07<00:01, 12.15it/s]\u001b[A\n",
      "ItÃ©rations:  84%|█████████████████████████████████████████████████████████           | 84/100 [00:07<00:01, 12.13it/s]\u001b[A\n",
      "ItÃ©rations:  86%|██████████████████████████████████████████████████████████▍         | 86/100 [00:07<00:01, 11.78it/s]\u001b[A\n",
      "ItÃ©rations:  88%|███████████████████████████████████████████████████████████▊        | 88/100 [00:07<00:01, 11.85it/s]\u001b[A\n",
      "ItÃ©rations:  90%|█████████████████████████████████████████████████████████████▏      | 90/100 [00:07<00:00, 11.67it/s]\u001b[A\n",
      "ItÃ©rations:  92%|██████████████████████████████████████████████████████████████▌     | 92/100 [00:07<00:00, 11.57it/s]\u001b[A\n",
      "ItÃ©rations:  94%|███████████████████████████████████████████████████████████████▉    | 94/100 [00:08<00:00, 11.77it/s]\u001b[A\n",
      "ItÃ©rations:  96%|█████████████████████████████████████████████████████████████████▎  | 96/100 [00:08<00:00, 11.78it/s]\u001b[A\n",
      "ItÃ©rations:  98%|██████████████████████████████████████████████████████████████████▋ | 98/100 [00:08<00:00, 11.86it/s]\u001b[A\n",
      "ItÃ©rations: 100%|███████████████████████████████████████████████████████████████████| 100/100 [00:08<00:00, 11.93it/s]\u001b[A\n",
      "                                                                                                                       \u001b[A"
     ]
    },
    {
     "name": "stdout",
     "output_type": "stream",
     "text": [
      "Imputation MAPE: 0.00597061\n",
      "Imputation RMSE: 2.37974\n"
     ]
    }
   ],
   "source": [
    "start = time.time()\n",
    "mat_hat, W, X, test_rmse_list, train_rmse_list, gen_rmse_list, test_mape_list, perfo_fin, etude_hyper = BPMF(\n",
    "    mat_complet, mat_manquants, init, rang, maxiter1, maxiter2)\n",
    "end = time.time()"
   ]
  },
  {
   "cell_type": "markdown",
   "metadata": {},
   "source": [
    "### Sauvegarder les informations sur l'entrainement du meilleur modèle"
   ]
  },
  {
   "cell_type": "code",
   "execution_count": 27,
   "metadata": {
    "ExecuteTime": {
     "end_time": "2020-10-20T21:38:59.008669Z",
     "start_time": "2020-10-20T21:38:58.993669Z"
    }
   },
   "outputs": [],
   "source": [
    "# Reformater cette case (!)\n",
    "ch_experience_finale = f\"{ch_fichier_experience}_r{param_utils['rang']}\""
   ]
  },
  {
   "cell_type": "markdown",
   "metadata": {},
   "source": [
    "#### Sauvegarder la matrice prédite"
   ]
  },
  {
   "cell_type": "code",
   "execution_count": 28,
   "metadata": {
    "ExecuteTime": {
     "end_time": "2020-10-20T21:38:59.024677Z",
     "start_time": "2020-10-20T21:38:59.009670Z"
    }
   },
   "outputs": [
    {
     "name": "stdout",
     "output_type": "stream",
     "text": [
      "exp\\simulation_simple\\SimSimple_100_10_BPMF_v001_r15_prediction.mat\n"
     ]
    }
   ],
   "source": [
    "fichier_prediction = \"{:}_prediction.mat\".format(ch_experience_finale)\n",
    "save_mat_hat = {\"mat\": mat_hat}\n",
    "sio.savemat(fichier_prediction, save_mat_hat)\n",
    "tqdm.write(fichier_prediction)"
   ]
  },
  {
   "cell_type": "markdown",
   "metadata": {},
   "source": [
    "#### Sauvegarder avec les nouvelles valeurs imputées\n",
    "\n",
    "* Garder la matrice de données originales et imputer seulement les valeurs manquantes."
   ]
  },
  {
   "cell_type": "code",
   "execution_count": 29,
   "metadata": {
    "ExecuteTime": {
     "end_time": "2020-10-20T21:38:59.040670Z",
     "start_time": "2020-10-20T21:38:59.027673Z"
    }
   },
   "outputs": [],
   "source": [
    "index = np.where((mat_complet != 0) & (mat_binaire == 0))\n",
    "matrice_manquants = mat_manquants.copy()\n",
    "matrice_predite = mat_hat.copy()\n",
    "matrice_manquants[index] = matrice_predite[index]"
   ]
  },
  {
   "cell_type": "code",
   "execution_count": 30,
   "metadata": {
    "ExecuteTime": {
     "end_time": "2020-10-20T21:38:59.055667Z",
     "start_time": "2020-10-20T21:38:59.041669Z"
    }
   },
   "outputs": [
    {
     "name": "stdout",
     "output_type": "stream",
     "text": [
      "exp\\simulation_simple\\SimSimple_100_10_BPMF_v001_r15_imputation.mat\n"
     ]
    }
   ],
   "source": [
    "fichier_imputation = \"{:}_imputation.mat\".format(ch_experience_finale)\n",
    "save_mat_manquants = {\"mat\": matrice_manquants}\n",
    "sio.savemat(fichier_imputation, save_mat_manquants)\n",
    "tqdm.write(fichier_imputation)"
   ]
  },
  {
   "cell_type": "markdown",
   "metadata": {},
   "source": [
    "# Sauvegarder les information pour la présentation des résultats"
   ]
  },
  {
   "cell_type": "markdown",
   "metadata": {
    "ExecuteTime": {
     "end_time": "2020-08-10T21:31:54.778431Z",
     "start_time": "2020-08-10T21:31:54.762688Z"
    }
   },
   "source": [
    "## Sauvegarder le tableau pour la comparaison intermodèles\n",
    "\n",
    "Éléments du tableau: \n",
    "- Performance du modèle (RMSE [entrainement, validation] et MAPE [validation])\n",
    "- Hyperparamètres utilisés (incluant le rang et autres paramètres d'intérêt)\n",
    "- Temps d'entrainement\n",
    "- Fichier d'entrainement (nom, dimensions, nombre de manquants, proportion de manquants)"
   ]
  },
  {
   "cell_type": "code",
   "execution_count": 31,
   "metadata": {
    "ExecuteTime": {
     "end_time": "2020-10-20T21:38:59.071669Z",
     "start_time": "2020-10-20T21:38:59.056670Z"
    }
   },
   "outputs": [],
   "source": [
    "temps_entrainement = end - start"
   ]
  },
  {
   "cell_type": "code",
   "execution_count": 32,
   "metadata": {
    "ExecuteTime": {
     "end_time": "2020-10-20T21:38:59.086683Z",
     "start_time": "2020-10-20T21:38:59.073672Z"
    }
   },
   "outputs": [],
   "source": [
    "base_manquants = len(np.where((mat_complet == 0))[0])\n",
    "entrainement_manquants = len(np.where((mat_binaire == 0))[0])\n",
    "obs_entrainement = len(np.where(mat_binaire != 0)[0])\n",
    "obs_test = len(np.where((mat_complet != 0) & (mat_binaire == 0))[0])\n",
    "\n",
    "dim1, dim2 = mat_complet.shape\n",
    "obs_totales = dim1 * dim2\n",
    "lignes, colonnes = mat_complet.shape"
   ]
  },
  {
   "cell_type": "code",
   "execution_count": 33,
   "metadata": {
    "ExecuteTime": {
     "end_time": "2020-10-20T21:38:59.102668Z",
     "start_time": "2020-10-20T21:38:59.089673Z"
    }
   },
   "outputs": [],
   "source": [
    "dict2 = {}\n",
    "\n",
    "dict2.update(\n",
    "    dict(modele=parametres[\"modele\"],\n",
    "         hyperparametres=str(param_utils),\n",
    "         rang=param_utils[\"rang\"],\n",
    "         test_rmse=perfo_fin[\"test_rmse\"],\n",
    "         test_mape= 0, #perfo_fin[\"test_mape\"],\n",
    "         train_rmse=perfo_fin[\"train_rmse\"],\n",
    "         gen_rmse=perfo_fin[\"gen_rmse\"], # 0,\n",
    "         temps=temps_entrainement,\n",
    "         nom_fichier=parametres[\"fichier_binaire\"],\n",
    "         lignes=lignes,\n",
    "         colonnes=colonnes,\n",
    "         obs_totales=obs_totales,\n",
    "         obs_test=obs_test,\n",
    "         obs_entrainement=obs_entrainement,\n",
    "         entrainement_manquants=entrainement_manquants,\n",
    "         base_manquants=base_manquants,\n",
    "         prop_manquants=parametres[\"manquants\"]))\n",
    "df_comparatif = pd.DataFrame(dict2, index=[0])\n"
   ]
  },
  {
   "cell_type": "code",
   "execution_count": 34,
   "metadata": {
    "ExecuteTime": {
     "end_time": "2020-10-20T21:38:59.118668Z",
     "start_time": "2020-10-20T21:38:59.104688Z"
    }
   },
   "outputs": [],
   "source": [
    "# Sauvegarder le fichier\n",
    "fichier_comparatif = os.path.join(parametres[\"dossier_experience\"], \"fichier_comparatif.csv\")\n",
    "df_comparatif.to_csv(fichier_comparatif, mode='a', header=False)"
   ]
  },
  {
   "cell_type": "markdown",
   "metadata": {},
   "source": [
    "## Sauvegarder les données pour la présentation graphique\n",
    "* Données utilisées pour la formation du nuage de points (prédiction c. réelles)"
   ]
  },
  {
   "cell_type": "code",
   "execution_count": 35,
   "metadata": {
    "ExecuteTime": {
     "end_time": "2020-10-20T21:38:59.198686Z",
     "start_time": "2020-10-20T21:38:59.119668Z"
    }
   },
   "outputs": [],
   "source": [
    "x_pred = mat_hat[index]\n",
    "y_original = mat_complet[index]\n",
    "\n",
    "df_comparaison = pd.DataFrame([x_pred, y_original]).T\n",
    "df_comparaison.columns = ['x_pred', 'y_original']"
   ]
  },
  {
   "cell_type": "code",
   "execution_count": 36,
   "metadata": {
    "ExecuteTime": {
     "end_time": "2020-10-20T21:38:59.214670Z",
     "start_time": "2020-10-20T21:38:59.200675Z"
    }
   },
   "outputs": [],
   "source": [
    "fichier_comparaison = \"{:}_comparaison.ftr\".format(ch_experience_finale)\n",
    "\n",
    "df_comparaison.to_feather(fichier_comparaison)"
   ]
  },
  {
   "cell_type": "code",
   "execution_count": 37,
   "metadata": {
    "ExecuteTime": {
     "end_time": "2020-10-20T21:38:59.230672Z",
     "start_time": "2020-10-20T21:38:59.215669Z"
    }
   },
   "outputs": [
    {
     "name": "stdout",
     "output_type": "stream",
     "text": [
      "exp\\simulation_simple\\SimSimple_100_10_BPMF_v001_r15_comparaison.ftr\n"
     ]
    }
   ],
   "source": [
    "tqdm.write(fichier_comparaison)"
   ]
  },
  {
   "cell_type": "code",
   "execution_count": null,
   "metadata": {},
   "outputs": [],
   "source": []
  }
 ],
 "metadata": {
  "hide_input": false,
  "kernelspec": {
   "display_name": "Python 3",
   "language": "python",
   "name": "python3"
  },
  "language_info": {
   "codemirror_mode": {
    "name": "ipython",
    "version": 3
   },
   "file_extension": ".py",
   "mimetype": "text/x-python",
   "name": "python",
   "nbconvert_exporter": "python",
   "pygments_lexer": "ipython3",
   "version": "3.7.7"
  },
  "nbTranslate": {
   "displayLangs": [
    "*"
   ],
   "hotkey": "alt-t",
   "langInMainMenu": true,
   "sourceLang": "en",
   "targetLang": "fr",
   "useGoogleTranslate": true
  },
  "toc": {
   "base_numbering": 1,
   "nav_menu": {},
   "number_sections": true,
   "sideBar": true,
   "skip_h1_title": false,
   "title_cell": "Table des matières",
   "title_sidebar": "Contents",
   "toc_cell": true,
   "toc_position": {
    "height": "calc(100% - 180px)",
    "left": "10px",
    "top": "150px",
    "width": "165px"
   },
   "toc_section_display": true,
   "toc_window_display": false
  },
  "varInspector": {
   "cols": {
    "lenName": 16,
    "lenType": 16,
    "lenVar": 40
   },
   "kernels_config": {
    "python": {
     "delete_cmd_postfix": "",
     "delete_cmd_prefix": "del ",
     "library": "var_list.py",
     "varRefreshCmd": "print(var_dic_list())"
    },
    "r": {
     "delete_cmd_postfix": ") ",
     "delete_cmd_prefix": "rm(",
     "library": "var_list.r",
     "varRefreshCmd": "cat(var_dic_list()) "
    }
   },
   "types_to_exclude": [
    "module",
    "function",
    "builtin_function_or_method",
    "instance",
    "_Feature"
   ],
   "window_display": false
  }
 },
 "nbformat": 4,
 "nbformat_minor": 4
}
