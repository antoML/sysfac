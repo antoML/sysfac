{
 "cells": [
  {
   "cell_type": "markdown",
   "metadata": {},
   "source": [
    "# Factorisation de matrice bayésienne temporelle\n",
    "\n",
    ">Présentation de la factorisation de matrice bayésienne temporelle (FMBT).\n",
    "\n",
    "\n",
    "\n",
    "### Recherches associées\n",
    ">Xinyu Chen, Lijun Sun (2019). **Bayesian temporal factorization for multidimensional time series prediction**.\n",
    "\n",
    "\n",
    "### Sources\n",
    ">[**Dépôt 1**](https://github.com/xinychen/transdim/) | *Version en python*\n",
    "\n"
   ]
  },
  {
   "cell_type": "markdown",
   "metadata": {
    "toc": true
   },
   "source": [
    "<h1>Table des matières<span class=\"tocSkip\"></span></h1>\n",
    "<div class=\"toc\"><ul class=\"toc-item\"><li><span><a href=\"#Factorisation-de-matrice-bayésienne-temporelle\" data-toc-modified-id=\"Factorisation-de-matrice-bayésienne-temporelle-1\"><span class=\"toc-item-num\">1&nbsp;&nbsp;</span>Factorisation de matrice bayésienne temporelle</a></span><ul class=\"toc-item\"><li><ul class=\"toc-item\"><li><span><a href=\"#Recherches-associées\" data-toc-modified-id=\"Recherches-associées-1.0.1\"><span class=\"toc-item-num\">1.0.1&nbsp;&nbsp;</span>Recherches associées</a></span></li><li><span><a href=\"#Sources\" data-toc-modified-id=\"Sources-1.0.2\"><span class=\"toc-item-num\">1.0.2&nbsp;&nbsp;</span>Sources</a></span></li></ul></li></ul></li><li><span><a href=\"#Mettre-l'environnement-en-place\" data-toc-modified-id=\"Mettre-l'environnement-en-place-2\"><span class=\"toc-item-num\">2&nbsp;&nbsp;</span>Mettre l'environnement en place</a></span></li><li><span><a href=\"#Charger-les-données-dans-l'environnement\" data-toc-modified-id=\"Charger-les-données-dans-l'environnement-3\"><span class=\"toc-item-num\">3&nbsp;&nbsp;</span>Charger les données dans l'environnement</a></span></li><li><span><a href=\"#Définir-les-fonctions-pour-le-modèle\" data-toc-modified-id=\"Définir-les-fonctions-pour-le-modèle-4\"><span class=\"toc-item-num\">4&nbsp;&nbsp;</span>Définir les fonctions pour le modèle</a></span><ul class=\"toc-item\"><li><span><a href=\"#Fonctions-pour-le-calcul-de-l'erreur-du-modèle\" data-toc-modified-id=\"Fonctions-pour-le-calcul-de-l'erreur-du-modèle-4.1\"><span class=\"toc-item-num\">4.1&nbsp;&nbsp;</span>Fonctions pour le calcul de l'erreur du modèle</a></span></li><li><span><a href=\"#Fonction-du-produit-Khatri-Rao-(kr_prod)\" data-toc-modified-id=\"Fonction-du-produit-Khatri-Rao-(kr_prod)-4.2\"><span class=\"toc-item-num\">4.2&nbsp;&nbsp;</span>Fonction du produit Khatri-Rao (<code>kr_prod</code>)</a></span></li><li><span><a href=\"#Calcul-de-la-matrice-de-covariance-(cov_mat)\" data-toc-modified-id=\"Calcul-de-la-matrice-de-covariance-(cov_mat)-4.3\"><span class=\"toc-item-num\">4.3&nbsp;&nbsp;</span>Calcul de la matrice de covariance (<code>cov_mat</code>)</a></span></li><li><span><a href=\"#Fonction-pour-transformer-les-tenseurs-en-matrices\" data-toc-modified-id=\"Fonction-pour-transformer-les-tenseurs-en-matrices-4.4\"><span class=\"toc-item-num\">4.4&nbsp;&nbsp;</span>Fonction pour transformer les tenseurs en matrices</a></span></li><li><span><a href=\"#Fonction-pour-transformer-les-matrices-en-tenseurs\" data-toc-modified-id=\"Fonction-pour-transformer-les-matrices-en-tenseurs-4.5\"><span class=\"toc-item-num\">4.5&nbsp;&nbsp;</span>Fonction pour transformer les matrices en tenseurs</a></span></li><li><span><a href=\"#Générer-une-matrice-aléatoire-distribuée-normalement\" data-toc-modified-id=\"Générer-une-matrice-aléatoire-distribuée-normalement-4.6\"><span class=\"toc-item-num\">4.6&nbsp;&nbsp;</span>Générer une matrice aléatoire distribuée normalement</a></span></li><li><span><a href=\"#Définir-le-modèle\" data-toc-modified-id=\"Définir-le-modèle-4.7\"><span class=\"toc-item-num\">4.7&nbsp;&nbsp;</span>Définir le modèle</a></span></li></ul></li><li><span><a href=\"#Entrainer-le-modèle\" data-toc-modified-id=\"Entrainer-le-modèle-5\"><span class=\"toc-item-num\">5&nbsp;&nbsp;</span>Entrainer le modèle</a></span><ul class=\"toc-item\"><li><span><a href=\"#Générer-les-combinaisons-d'hyperparamètres\" data-toc-modified-id=\"Générer-les-combinaisons-d'hyperparamètres-5.1\"><span class=\"toc-item-num\">5.1&nbsp;&nbsp;</span>Générer les combinaisons d'hyperparamètres</a></span></li><li><span><a href=\"#Spécifier-les-paramètres-de-l'entrainement\" data-toc-modified-id=\"Spécifier-les-paramètres-de-l'entrainement-5.2\"><span class=\"toc-item-num\">5.2&nbsp;&nbsp;</span>Spécifier les paramètres de l'entrainement</a></span></li><li><span><a href=\"#Sélectionner-les-hyperparamètres-du-modèle\" data-toc-modified-id=\"Sélectionner-les-hyperparamètres-du-modèle-5.3\"><span class=\"toc-item-num\">5.3&nbsp;&nbsp;</span>Sélectionner les hyperparamètres du modèle</a></span><ul class=\"toc-item\"><li><span><a href=\"#Sauvegarder-les-informations-sur-la-sélection-d'hyperparamètres\" data-toc-modified-id=\"Sauvegarder-les-informations-sur-la-sélection-d'hyperparamètres-5.3.1\"><span class=\"toc-item-num\">5.3.1&nbsp;&nbsp;</span>Sauvegarder les informations sur la sélection d'hyperparamètres</a></span><ul class=\"toc-item\"><li><span><a href=\"#Sauvegarder-la-distribution-des-paramètres\" data-toc-modified-id=\"Sauvegarder-la-distribution-des-paramètres-5.3.1.1\"><span class=\"toc-item-num\">5.3.1.1&nbsp;&nbsp;</span>Sauvegarder la distribution des paramètres</a></span></li><li><span><a href=\"#Sauvegarder-les-informations-DURANT-l'entrainement\" data-toc-modified-id=\"Sauvegarder-les-informations-DURANT-l'entrainement-5.3.1.2\"><span class=\"toc-item-num\">5.3.1.2&nbsp;&nbsp;</span>Sauvegarder les informations DURANT l'entrainement</a></span></li><li><span><a href=\"#Sauvegarder-les-informations-FINALES\" data-toc-modified-id=\"Sauvegarder-les-informations-FINALES-5.3.1.3\"><span class=\"toc-item-num\">5.3.1.3&nbsp;&nbsp;</span>Sauvegarder les informations FINALES</a></span></li></ul></li></ul></li><li><span><a href=\"#Entrainer-le-meilleur-modèle\" data-toc-modified-id=\"Entrainer-le-meilleur-modèle-5.4\"><span class=\"toc-item-num\">5.4&nbsp;&nbsp;</span>Entrainer le meilleur modèle</a></span><ul class=\"toc-item\"><li><span><a href=\"#Sauvegarder-les-informations-sur-l'entrainement-du-meilleur-modèle\" data-toc-modified-id=\"Sauvegarder-les-informations-sur-l'entrainement-du-meilleur-modèle-5.4.1\"><span class=\"toc-item-num\">5.4.1&nbsp;&nbsp;</span>Sauvegarder les informations sur l'entrainement du meilleur modèle</a></span><ul class=\"toc-item\"><li><span><a href=\"#Sauvegarder-la-matrice-prédite\" data-toc-modified-id=\"Sauvegarder-la-matrice-prédite-5.4.1.1\"><span class=\"toc-item-num\">5.4.1.1&nbsp;&nbsp;</span>Sauvegarder la matrice prédite</a></span></li><li><span><a href=\"#Sauvegarder-avec-les-nouvelles-valeurs-imputées\" data-toc-modified-id=\"Sauvegarder-avec-les-nouvelles-valeurs-imputées-5.4.1.2\"><span class=\"toc-item-num\">5.4.1.2&nbsp;&nbsp;</span>Sauvegarder avec les nouvelles valeurs imputées</a></span></li></ul></li></ul></li></ul></li><li><span><a href=\"#Sauvegarder-les-information-pour-la-présentation-des-résultats\" data-toc-modified-id=\"Sauvegarder-les-information-pour-la-présentation-des-résultats-6\"><span class=\"toc-item-num\">6&nbsp;&nbsp;</span>Sauvegarder les information pour la présentation des résultats</a></span><ul class=\"toc-item\"><li><span><a href=\"#Sauvegarder-le-tableau-pour-la-comparaison-intermodèles\" data-toc-modified-id=\"Sauvegarder-le-tableau-pour-la-comparaison-intermodèles-6.1\"><span class=\"toc-item-num\">6.1&nbsp;&nbsp;</span>Sauvegarder le tableau pour la comparaison intermodèles</a></span></li><li><span><a href=\"#Sauvegarder-les-données-pour-la-présentation-graphique\" data-toc-modified-id=\"Sauvegarder-les-données-pour-la-présentation-graphique-6.2\"><span class=\"toc-item-num\">6.2&nbsp;&nbsp;</span>Sauvegarder les données pour la présentation graphique</a></span></li></ul></li></ul></div>"
   ]
  },
  {
   "cell_type": "markdown",
   "metadata": {},
   "source": [
    "# Mettre l'environnement en place"
   ]
  },
  {
   "cell_type": "code",
   "execution_count": 1,
   "metadata": {
    "ExecuteTime": {
     "end_time": "2020-10-20T21:36:09.431879Z",
     "start_time": "2020-10-20T21:36:08.721882Z"
    }
   },
   "outputs": [],
   "source": [
    "import os\n",
    "import time\n",
    "\n",
    "import feather\n",
    "import numpy as np\n",
    "import pandas as pd\n",
    "import scipy.io as sio\n",
    "from numpy.linalg import inv as inv\n",
    "from numpy.random import multivariate_normal as mvnrnd\n",
    "from scipy.stats import invwishart, wishart\n",
    "from tqdm import tqdm, trange\n",
    "from tqdm.contrib import tenumerate"
   ]
  },
  {
   "cell_type": "code",
   "execution_count": 2,
   "metadata": {
    "ExecuteTime": {
     "end_time": "2020-10-20T21:36:09.447880Z",
     "start_time": "2020-10-20T21:36:09.433900Z"
    }
   },
   "outputs": [],
   "source": [
    "os.chdir(\"./\")"
   ]
  },
  {
   "cell_type": "markdown",
   "metadata": {},
   "source": [
    "# Charger les données dans l'environnement"
   ]
  },
  {
   "cell_type": "code",
   "execution_count": 3,
   "metadata": {
    "ExecuteTime": {
     "end_time": "2020-10-20T21:36:09.463881Z",
     "start_time": "2020-10-20T21:36:09.449900Z"
    }
   },
   "outputs": [],
   "source": [
    "parametres = {\n",
    "    \"dossier_donnees\": \"data\",\n",
    "    \"dossier_experience\": \"exp\",\n",
    "    \"sousdossier\": \"simulation_simple\",\n",
    "    \"fichier_donnees\": \"SimSimple_100\",\n",
    "    \"fichier_binaire\": \"SimSimple_100_10\",\n",
    "    \"manquants\": \"10\",\n",
    "    \"modele\": \"FMBT\",\n",
    "    \"version\": \"v001\"\n",
    "}"
   ]
  },
  {
   "cell_type": "code",
   "execution_count": 4,
   "metadata": {
    "ExecuteTime": {
     "end_time": "2020-10-20T21:36:09.479879Z",
     "start_time": "2020-10-20T21:36:09.465881Z"
    }
   },
   "outputs": [
    {
     "name": "stdout",
     "output_type": "stream",
     "text": [
      "Le dossier pour l'expérience existe déjà\n"
     ]
    }
   ],
   "source": [
    "# Créer le dossier s'il n'existe pas\n",
    "if not os.path.exists(os.path.join(parametres[\"dossier_experience\"], \n",
    "                                   parametres[\"sousdossier\"])):\n",
    "    print(\"Le dossier pour l'expérience vient d'être créé\")\n",
    "    os.makedirs(os.path.join(parametres[\"dossier_experience\"], \n",
    "                             parametres[\"sousdossier\"]))\n",
    "print(\"Le dossier pour l'expérience existe déjà\")"
   ]
  },
  {
   "cell_type": "code",
   "execution_count": 5,
   "metadata": {
    "ExecuteTime": {
     "end_time": "2020-10-20T21:36:09.494880Z",
     "start_time": "2020-10-20T21:36:09.482888Z"
    }
   },
   "outputs": [
    {
     "name": "stdout",
     "output_type": "stream",
     "text": [
      "data\\simulation_simple\\SimSimple_100.mat\n"
     ]
    }
   ],
   "source": [
    "ch_fichier_donnees = \"{:}.mat\".format(os.path.join(parametres[\"dossier_donnees\"], \n",
    "                                                   parametres[\"sousdossier\"], \n",
    "                                                   parametres[\"fichier_donnees\"]))\n",
    "mat_complet = sio.loadmat(ch_fichier_donnees)[\"mat\"]\n",
    "tqdm.write(ch_fichier_donnees)"
   ]
  },
  {
   "cell_type": "code",
   "execution_count": 6,
   "metadata": {
    "ExecuteTime": {
     "end_time": "2020-10-20T21:36:09.509880Z",
     "start_time": "2020-10-20T21:36:09.496880Z"
    }
   },
   "outputs": [
    {
     "name": "stdout",
     "output_type": "stream",
     "text": [
      "data\\simulation_simple\\SimSimple_100_10.mat\n"
     ]
    }
   ],
   "source": [
    "ch_fichier_binaire = \"{:}.mat\".format(os.path.join(parametres[\"dossier_donnees\"], \n",
    "                                                   parametres[\"sousdossier\"], \n",
    "                                                   parametres[\"fichier_binaire\"]))\n",
    "mat_binaire = sio.loadmat(ch_fichier_binaire)[\"mat\"]\n",
    "tqdm.write(ch_fichier_binaire)"
   ]
  },
  {
   "cell_type": "code",
   "execution_count": 7,
   "metadata": {
    "ExecuteTime": {
     "end_time": "2020-10-20T21:36:09.525929Z",
     "start_time": "2020-10-20T21:36:09.510881Z"
    }
   },
   "outputs": [],
   "source": [
    "mat_manquants = mat_complet * mat_binaire"
   ]
  },
  {
   "cell_type": "markdown",
   "metadata": {},
   "source": [
    "# Définir les fonctions pour le modèle"
   ]
  },
  {
   "cell_type": "markdown",
   "metadata": {},
   "source": [
    "## Fonctions pour le calcul de l'erreur du modèle"
   ]
  },
  {
   "cell_type": "code",
   "execution_count": 8,
   "metadata": {
    "ExecuteTime": {
     "end_time": "2020-10-20T21:36:09.541929Z",
     "start_time": "2020-10-20T21:36:09.526880Z"
    }
   },
   "outputs": [],
   "source": [
    "def MAPE(mat_complet, mat_hat, index):\n",
    "    mape = np.sum(\n",
    "        np.abs(mat_complet[index] - mat_hat[index]) /\n",
    "        mat_complet[index]) / mat_complet[index].shape[0]\n",
    "\n",
    "    return mape"
   ]
  },
  {
   "cell_type": "code",
   "execution_count": 9,
   "metadata": {
    "ExecuteTime": {
     "end_time": "2020-10-20T21:36:09.557915Z",
     "start_time": "2020-10-20T21:36:09.542924Z"
    }
   },
   "outputs": [],
   "source": [
    "def RMSE(mat_complet, mat_hat, index):\n",
    "    rmse = np.sqrt(\n",
    "        np.sum((mat_complet[index] - mat_hat[index])**2) /\n",
    "        mat_complet[index].shape[0])\n",
    "    return rmse"
   ]
  },
  {
   "cell_type": "markdown",
   "metadata": {},
   "source": [
    "## Fonction du produit Khatri-Rao (`kr_prod`)"
   ]
  },
  {
   "cell_type": "code",
   "execution_count": 10,
   "metadata": {
    "ExecuteTime": {
     "end_time": "2020-10-20T21:36:09.573916Z",
     "start_time": "2020-10-20T21:36:09.559915Z"
    }
   },
   "outputs": [],
   "source": [
    "def kr_prod(a, b):\n",
    "    \"\"\"\n",
    "    Khatri-Rao product\n",
    "    \n",
    "    Paramètres en entrée \n",
    "        a : Matrice A\n",
    "        b : Matrice B\n",
    "    \n",
    "    Paramètres en sortie\n",
    "        Produit column-wise (KR roduct)\n",
    "    \n",
    "    \"\"\"\n",
    "    return np.einsum('ir, jr -> ijr', a, b).reshape(a.shape[0] * b.shape[0],\n",
    "                                                    -1)"
   ]
  },
  {
   "cell_type": "markdown",
   "metadata": {},
   "source": [
    "## Calcul de la matrice de covariance (`cov_mat`)\n"
   ]
  },
  {
   "cell_type": "code",
   "execution_count": 11,
   "metadata": {
    "ExecuteTime": {
     "end_time": "2020-10-20T21:36:09.589929Z",
     "start_time": "2020-10-20T21:36:09.574915Z"
    }
   },
   "outputs": [],
   "source": [
    "def cov_mat(mat):\n",
    "    \"\"\"\n",
    "    Matrice de covariance\n",
    "\n",
    "    Paramètres en entrée \n",
    "        mat : Matrice\n",
    "\n",
    "    Paramètres en sortie \n",
    "        new_mat : Matrice de covariance\n",
    "\n",
    "    \"\"\"\n",
    "    dim1, dim2 = mat.shape\n",
    "    new_mat = np.zeros((dim2, dim2))\n",
    "    mat_bar = np.mean(mat, axis=0)\n",
    "    for i in range(dim1):\n",
    "        new_mat += np.einsum('i, j -> ij', mat[i, :] - mat_bar,\n",
    "                             mat[i, :] - mat_bar)\n",
    "    return new_mat"
   ]
  },
  {
   "cell_type": "markdown",
   "metadata": {},
   "source": [
    "## Fonction pour transformer les tenseurs en matrices"
   ]
  },
  {
   "cell_type": "code",
   "execution_count": 12,
   "metadata": {
    "ExecuteTime": {
     "end_time": "2020-10-20T21:36:09.605881Z",
     "start_time": "2020-10-20T21:36:09.590925Z"
    }
   },
   "outputs": [],
   "source": [
    "def ten2mat(tensor, mode):\n",
    "    \"\"\"\n",
    "    Tensor unfolding\n",
    "    \n",
    "    ParamÃ¨tres en entrÃ©e \n",
    "        tensor : Tenseur\n",
    "        mode : 0 (), 1 (), 2 ()\n",
    "        \n",
    "    ParamÃ¨tres en sortie\n",
    "        Aucun (?)\n",
    "    \n",
    "    \n",
    "    \"\"\"\n",
    "    return np.reshape(np.moveaxis(tensor, mode, 0), (tensor.shape[mode], -1),\n",
    "                      order='F')"
   ]
  },
  {
   "cell_type": "markdown",
   "metadata": {},
   "source": [
    "## Fonction pour transformer les matrices en tenseurs"
   ]
  },
  {
   "cell_type": "code",
   "execution_count": 13,
   "metadata": {
    "ExecuteTime": {
     "end_time": "2020-10-20T21:36:09.621882Z",
     "start_time": "2020-10-20T21:36:09.606884Z"
    }
   },
   "outputs": [],
   "source": [
    "def mat2ten(mat, tensor_size, mode):\n",
    "    \"\"\"\n",
    "    Matrix unfolding\n",
    "    \n",
    "    ParamÃ¨tres en entrÃ©e \n",
    "        mat : Matrice\n",
    "        tensor_size : Tenseur\n",
    "        mode : 0 (), 1 (), 2 ()\n",
    "        \n",
    "    ParamÃ¨tres en sortie\n",
    "        Aucun (?)\n",
    "    \n",
    "    \n",
    "    \"\"\"\n",
    "    index = list()\n",
    "    index.append(mode)\n",
    "    for i in range(tensor_size.shape[0]):\n",
    "        if i != mode:\n",
    "            index.append(i)\n",
    "    return np.moveaxis(np.reshape(mat, list(tensor_size[index]), order='F'), 0,\n",
    "                       mode)"
   ]
  },
  {
   "cell_type": "markdown",
   "metadata": {},
   "source": [
    "## Générer une matrice aléatoire distribuée normalement"
   ]
  },
  {
   "cell_type": "code",
   "execution_count": 14,
   "metadata": {
    "ExecuteTime": {
     "end_time": "2020-10-20T21:36:09.637916Z",
     "start_time": "2020-10-20T21:36:09.622882Z"
    }
   },
   "outputs": [],
   "source": [
    "def mnrnd(M, U, V):\n",
    "    \"\"\"\n",
    "    Generate matrix normal distributed random matrix.\n",
    "    \n",
    "    Paramètes en entrée\n",
    "        M : m-by-n matrix\n",
    "        U : m-by-m matrix\n",
    "        V : n-by-n matrix\n",
    "    Paramètres en sortie \n",
    "        Aucun (?)\n",
    "    \"\"\"\n",
    "    dim1, dim2 = M.shape\n",
    "    X0 = np.random.rand(dim1, dim2)\n",
    "    P = np.linalg.cholesky(U)\n",
    "    Q = np.linalg.cholesky(V)\n",
    "    return M + np.matmul(np.matmul(P, X0), Q.T)"
   ]
  },
  {
   "cell_type": "markdown",
   "metadata": {},
   "source": [
    "## Définir le modèle"
   ]
  },
  {
   "cell_type": "code",
   "execution_count": 15,
   "metadata": {
    "ExecuteTime": {
     "end_time": "2020-10-20T21:36:09.700932Z",
     "start_time": "2020-10-20T21:36:09.639880Z"
    }
   },
   "outputs": [],
   "source": [
    "def BTMF(dense_mat, sparse_mat, init, rank, time_lags, maxiter1, maxiter2):\n",
    "    \"\"\"Bayesian Temporal Matrix Factorization, BTMF.\"\"\"\n",
    "    # Initialisation des listes de suivi\n",
    "    ## Erreurs\n",
    "    test_rmse_list = []\n",
    "    train_rmse_list = []\n",
    "    gen_rmse_list = []\n",
    "    test_mape_list = []\n",
    "    ## HyperparamÃ¨tres\n",
    "    liste_tau = list()\n",
    "    liste_lambda = list()\n",
    "    liste_mu = list()\n",
    "    liste_w_hyper = list()\n",
    "    liste_w = list()\n",
    "    liste_x = list()\n",
    "\n",
    "    # Initialisation des paramÃ¨tres\n",
    "    W = init[\"W\"]\n",
    "    X = init[\"X\"]\n",
    "\n",
    "    d = time_lags.shape[0]\n",
    "    dim1, dim2 = sparse_mat.shape\n",
    "    pos = np.where((dense_mat != 0) & (sparse_mat == 0))\n",
    "    position = np.where(sparse_mat != 0)\n",
    "    binary_mat = np.zeros((dim1, dim2))\n",
    "    binary_mat[position] = 1\n",
    "\n",
    "    beta0 = 1\n",
    "    nu0 = rank\n",
    "    mu0 = np.zeros((rank))\n",
    "    W0 = np.eye(rank)\n",
    "    tau = 1\n",
    "    alpha = 1e-6\n",
    "    beta = 1e-6\n",
    "    S0 = np.eye(rank)\n",
    "    Psi0 = np.eye(rank * d)\n",
    "    M0 = np.zeros((rank * d, rank))\n",
    "\n",
    "    W_plus = np.zeros((dim1, rank))\n",
    "    X_plus = np.zeros((dim2, rank))\n",
    "    X_new_plus = np.zeros((dim2 + 1, rank))\n",
    "    #X_new_plus = np.zeros((dim2, rank))\n",
    "    A_plus = np.zeros((rank, rank, d))\n",
    "    mat_hat_plus = np.zeros((dim1, dim2 + 1))\n",
    "    #mat_hat_plus = np.zeros((dim1, dim2))\n",
    "    for iters in trange(maxiter1, desc=\"Iterations\", leave=False, position=1):\n",
    "        W_bar = np.mean(W, axis=0)\n",
    "        var_mu_hyper = (dim1 * W_bar) / (dim1 + beta0)\n",
    "        var_W_hyper = inv(\n",
    "            inv(W0) + cov_mat(W) + dim1 * beta0 /\n",
    "            (dim1 + beta0) * np.outer(W_bar, W_bar))\n",
    "        var_Lambda_hyper = wishart(df=dim1 + nu0, scale=var_W_hyper,\n",
    "                                   seed=None).rvs()\n",
    "        var_mu_hyper = mvnrnd(var_mu_hyper,\n",
    "                              inv((dim1 + beta0) * var_Lambda_hyper))\n",
    "\n",
    "        var1 = X.T\n",
    "        var2 = kr_prod(var1, var1)\n",
    "        var3 = tau * np.matmul(var2, binary_mat.T).reshape(\n",
    "            [rank, rank, dim1]) + np.dstack([var_Lambda_hyper] * dim1)\n",
    "        var4 = (tau * np.matmul(var1, sparse_mat.T) + np.dstack(\n",
    "            [np.matmul(var_Lambda_hyper, var_mu_hyper)] * dim1)[0, :, :])\n",
    "        for i in range(dim1):\n",
    "            inv_var_Lambda = inv(var3[:, :, i])\n",
    "            W[i, :] = mvnrnd(np.matmul(inv_var_Lambda, var4[:, i]),\n",
    "                             inv_var_Lambda)\n",
    "        if iters + 1 > maxiter1 - maxiter2:\n",
    "            W_plus += W\n",
    "\n",
    "        Z_mat = X[np.max(time_lags):dim2, :]\n",
    "        Q_mat = np.zeros((dim2 - np.max(time_lags), rank * d))\n",
    "        for t in range(np.max(time_lags), dim2):\n",
    "            Q_mat[t - np.max(time_lags), :] = X[t - time_lags, :].reshape(\n",
    "                [rank * d])\n",
    "        var_Psi = inv(inv(Psi0) + np.matmul(Q_mat.T, Q_mat))\n",
    "        var_M = np.matmul(var_Psi,\n",
    "                          np.matmul(inv(Psi0), M0) + np.matmul(Q_mat.T, Z_mat))\n",
    "        var_S = (S0 + np.matmul(Z_mat.T, Z_mat) +\n",
    "                 np.matmul(np.matmul(M0.T, inv(Psi0)), M0) -\n",
    "                 np.matmul(np.matmul(var_M.T, inv(var_Psi)), var_M))\n",
    "        Sigma = invwishart(df=nu0 + dim2 - np.max(time_lags),\n",
    "                           scale=var_S,\n",
    "                           seed=None).rvs()\n",
    "        A = mat2ten(\n",
    "            mnrnd(var_M, var_Psi, Sigma).T, np.array([rank, rank, d]), 0)\n",
    "        if iters + 1 > maxiter1 - maxiter2:\n",
    "            A_plus += A\n",
    "\n",
    "        Lambda_x = inv(Sigma)\n",
    "        var1 = W.T\n",
    "        var2 = kr_prod(var1, var1)\n",
    "        var3 = tau * np.matmul(var2, binary_mat).reshape(\n",
    "            [rank, rank, dim2]) + np.dstack([Lambda_x] * dim2)\n",
    "        var4 = tau * np.matmul(var1, sparse_mat)\n",
    "        for t in range(dim2):\n",
    "            Mt = np.zeros((rank, rank))\n",
    "            Nt = np.zeros(rank)\n",
    "            if t < np.max(time_lags):\n",
    "                Qt = np.zeros(rank)\n",
    "            else:\n",
    "                Qt = np.matmul(\n",
    "                    Lambda_x,\n",
    "                    np.matmul(ten2mat(A, 0),\n",
    "                              X[t - time_lags, :].reshape([rank * d])))\n",
    "            if t < dim2 - np.min(time_lags):\n",
    "                if t >= np.max(time_lags) and t < dim2 - np.max(time_lags):\n",
    "                    index = list(range(0, d))\n",
    "                else:\n",
    "                    index = list(\n",
    "                        np.where((t + time_lags >= np.max(time_lags))\n",
    "                                 & (t + time_lags < dim2)))[0]\n",
    "                for k in index:\n",
    "                    Ak = A[:, :, k]\n",
    "                    Mt += np.matmul(np.matmul(Ak.T, Lambda_x), Ak)\n",
    "                    A0 = A.copy()\n",
    "                    A0[:, :, k] = 0\n",
    "                    var5 = (X[t + time_lags[k], :] - np.matmul(\n",
    "                        ten2mat(A0, 0), X[t + time_lags[k] -\n",
    "                                          time_lags, :].reshape([rank * d])))\n",
    "                    Nt += np.matmul(np.matmul(Ak.T, Lambda_x), var5)\n",
    "            var_mu = var4[:, t] + Nt + Qt\n",
    "            if t < np.max(time_lags):\n",
    "                inv_var_Lambda = inv(var3[:, :, t] + Mt - Lambda_x +\n",
    "                                     np.eye(rank))\n",
    "            else:\n",
    "                inv_var_Lambda = inv(var3[:, :, t] + Mt)\n",
    "            X[t, :] = mvnrnd(np.matmul(inv_var_Lambda, var_mu), inv_var_Lambda)\n",
    "        mat_hat = np.matmul(W, X.T)\n",
    "\n",
    "        X_new = np.zeros((dim2 + 1, rank))\n",
    "        #X_new = np.zeros((dim2, rank))\n",
    "        if iters + 1 > maxiter1 - maxiter2:\n",
    "            X_new[0:dim2, :] = X.copy()\n",
    "            X_new[dim2 - 1, :] = np.matmul(\n",
    "                ten2mat(A, 0), X_new[dim2 - time_lags, :].reshape([rank * d]))\n",
    "            X_new_plus += X_new\n",
    "            mat_hat_plus += np.matmul(W, X_new.T)\n",
    "\n",
    "        tau = np.random.gamma(\n",
    "            alpha + 0.5 * sparse_mat[position].shape[0],\n",
    "            1 / (beta + 0.5 * np.sum((sparse_mat - mat_hat)[position]**2)))\n",
    "        rmse = np.sqrt(\n",
    "            np.sum(\n",
    "                (dense_mat[pos] - mat_hat[pos])**2) / dense_mat[pos].shape[0])\n",
    "        if (iters + 1) % 200 == 0 and iters < maxiter1 - maxiter2:\n",
    "            tqdm.write('Iter: {}\\nRMSE: {:.6}'.format(iters + 1, rmse))\n",
    "\n",
    "        # Capture du suivi des hyperparamÃ¨tres\n",
    "        ## HyperparamÃ¨tres\n",
    "        liste_lambda.append(np.linalg.norm(var_Lambda_hyper))\n",
    "        liste_mu.append(np.linalg.norm(var_mu_hyper))\n",
    "        liste_w_hyper.append(np.linalg.norm(var_W_hyper))\n",
    "        liste_tau.append(tau)\n",
    "\n",
    "        ## Normes des matrices latentes\n",
    "        norme_W = np.linalg.norm(W, ord=\"fro\")\n",
    "        norme_X = np.linalg.norm(X, ord=\"fro\")\n",
    "        liste_w.append(norme_W)\n",
    "        liste_x.append(norme_X)\n",
    "\n",
    "        # Calcul des erreurs\n",
    "        ## Erreurs de test\n",
    "        rmse = np.sqrt(\n",
    "            np.sum(\n",
    "                (dense_mat[pos] - mat_hat[pos])**2) / dense_mat[pos].shape[0])\n",
    "        mape = np.sum(np.abs(dense_mat[pos] - mat_hat[pos]) /\n",
    "                      dense_mat[pos]) / dense_mat[pos].shape[0]\n",
    "        ## Erreur d'entrainement\n",
    "        train_rmse = np.sqrt(\n",
    "            np.sum((dense_mat[position] - mat_hat[position])**2) /\n",
    "            dense_mat[position].shape[0])\n",
    "        ## Erreur de l'ensemble de la matrice\n",
    "        gen_rmse = np.sqrt(\n",
    "            np.sum((dense_mat - mat_hat)**2) / dense_mat.shape[0])\n",
    "\n",
    "        ### Capture des erreurs\n",
    "        test_rmse_list.append(rmse)\n",
    "        test_mape_list.append(mape)\n",
    "        train_rmse_list.append(train_rmse)\n",
    "        gen_rmse_list.append(gen_rmse)\n",
    "\n",
    "    W = W_plus / maxiter2\n",
    "    X_new = X_new_plus / maxiter2\n",
    "    A = A_plus / maxiter2\n",
    "    mat_hat = mat_hat_plus / maxiter2\n",
    "    mat_hat = mat_hat[:, 0:dim2]  # RÃ¨gle le problÃ¨me de la colonne en trop\n",
    "    print(mat_hat.shape)\n",
    "    if maxiter1 >= 100:\n",
    "        # Erreur Ã©chantillon de test\n",
    "        final_mape = np.sum(\n",
    "            np.abs(dense_mat[pos] - mat_hat[pos]) /\n",
    "            dense_mat[pos]) / dense_mat[pos].shape[0]\n",
    "        final_rmse = np.sqrt(\n",
    "            np.sum(\n",
    "                (dense_mat[pos] - mat_hat[pos])**2) / dense_mat[pos].shape[0])\n",
    "        # Erreur Ã©chantillon d'entrainement\n",
    "        ## TRAIN\n",
    "        final_train_mape = np.sum(\n",
    "            np.abs(dense_mat[position] - mat_hat[position]) /\n",
    "            dense_mat[position]) / dense_mat[position].shape[0]\n",
    "        final_train_rmse = np.sqrt(\n",
    "            np.sum((dense_mat[position] - mat_hat[position])**2) /\n",
    "            dense_mat[position].shape[0])\n",
    "\n",
    "        tqdm.write('Imputation MAPE: {:.6}\\nImputation RMSE: {:.6}'.format(\n",
    "            final_mape, final_rmse))\n",
    "\n",
    "    perfo_fin = dict(test_rmse=final_rmse, train_rmse=final_train_rmse)\n",
    "    hyper_diag = dict(hyper_tau=liste_tau,\n",
    "                      _lambda=liste_lambda,\n",
    "                      mu=liste_mu,\n",
    "                      w_hyper=liste_w_hyper,\n",
    "                      norme_W=liste_w,\n",
    "                      norme_X=liste_x)\n",
    "\n",
    "    return mat_hat, W, X_new, A, test_rmse_list, train_rmse_list, test_mape_list, perfo_fin, hyper_diag"
   ]
  },
  {
   "cell_type": "markdown",
   "metadata": {},
   "source": [
    "# Entrainer le modèle"
   ]
  },
  {
   "cell_type": "code",
   "execution_count": 16,
   "metadata": {
    "ExecuteTime": {
     "end_time": "2020-10-20T21:36:09.715883Z",
     "start_time": "2020-10-20T21:36:09.701923Z"
    }
   },
   "outputs": [],
   "source": [
    "fichier_experience = \"{a[fichier_binaire]}_{a[modele]}_{a[version]}\".format(a = parametres)\n",
    "ch_fichier_experience = os.path.join(parametres[\"dossier_experience\"], parametres[\"sousdossier\"], fichier_experience)"
   ]
  },
  {
   "cell_type": "markdown",
   "metadata": {},
   "source": [
    "## Générer les combinaisons d'hyperparamètres"
   ]
  },
  {
   "cell_type": "code",
   "execution_count": 17,
   "metadata": {
    "ExecuteTime": {
     "end_time": "2020-10-20T21:36:09.731882Z",
     "start_time": "2020-10-20T21:36:09.717883Z"
    }
   },
   "outputs": [
    {
     "data": {
      "text/plain": [
       "[10, 15]"
      ]
     },
     "execution_count": 17,
     "metadata": {},
     "output_type": "execute_result"
    }
   ],
   "source": [
    "rang_list = [10, 15] #, 20, 25, 30, 35, 40, 45, 50]\n",
    "rang_list"
   ]
  },
  {
   "cell_type": "markdown",
   "metadata": {},
   "source": [
    "## Spécifier les paramètres de l'entrainement"
   ]
  },
  {
   "cell_type": "code",
   "execution_count": 18,
   "metadata": {
    "ExecuteTime": {
     "end_time": "2020-10-20T21:36:09.747881Z",
     "start_time": "2020-10-20T21:36:09.733881Z"
    }
   },
   "outputs": [],
   "source": [
    "dim1, dim2 = mat_complet.shape\n",
    "maxiter1, maxiter2 = 100, 100 #1100, 100 # Burn in, gibbs\n",
    "time_lags = np.array([1])"
   ]
  },
  {
   "cell_type": "markdown",
   "metadata": {},
   "source": [
    "## Sélectionner les hyperparamètres du modèle"
   ]
  },
  {
   "cell_type": "code",
   "execution_count": 19,
   "metadata": {
    "ExecuteTime": {
     "end_time": "2020-10-20T21:36:27.712969Z",
     "start_time": "2020-10-20T21:36:09.749880Z"
    },
    "scrolled": true
   },
   "outputs": [
    {
     "data": {
      "application/vnd.jupyter.widget-view+json": {
       "model_id": "a9c205df7dfc41728db46d3c3f209126",
       "version_major": 2,
       "version_minor": 0
      },
      "text/plain": [
       "HBox(children=(FloatProgress(value=0.0, description='Recherche hyperparametres', max=2.0, style=ProgressStyle(…"
      ]
     },
     "metadata": {},
     "output_type": "display_data"
    },
    {
     "name": "stderr",
     "output_type": "stream",
     "text": [
      "\n",
      "Iterations:   0%|                                                                              | 0/100 [00:00<?, ?it/s]\u001b[A\n",
      "Iterations:   1%|▋                                                                     | 1/100 [00:00<00:10,  9.43it/s]\u001b[A"
     ]
    },
    {
     "name": "stdout",
     "output_type": "stream",
     "text": [
      "Entrainement avec :\n",
      "{'rang': 10}\n"
     ]
    },
    {
     "name": "stderr",
     "output_type": "stream",
     "text": [
      "\n",
      "Iterations:   3%|██                                                                    | 3/100 [00:00<00:10,  9.69it/s]\u001b[A\n",
      "Iterations:   5%|███▌                                                                  | 5/100 [00:00<00:09, 10.13it/s]\u001b[A\n",
      "Iterations:   7%|████▉                                                                 | 7/100 [00:00<00:08, 10.70it/s]\u001b[A\n",
      "Iterations:   9%|██████▎                                                               | 9/100 [00:00<00:08, 10.48it/s]\u001b[A\n",
      "Iterations:  10%|██████▉                                                              | 10/100 [00:00<00:09,  9.99it/s]\u001b[A\n",
      "Iterations:  11%|███████▌                                                             | 11/100 [00:01<00:09,  9.17it/s]\u001b[A\n",
      "Iterations:  13%|████████▉                                                            | 13/100 [00:01<00:09,  9.62it/s]\u001b[A\n",
      "Iterations:  15%|██████████▎                                                          | 15/100 [00:01<00:08, 10.26it/s]\u001b[A\n",
      "Iterations:  17%|███████████▋                                                         | 17/100 [00:01<00:07, 10.92it/s]\u001b[A\n",
      "Iterations:  19%|█████████████                                                        | 19/100 [00:01<00:07, 11.51it/s]\u001b[A\n",
      "Iterations:  21%|██████████████▍                                                      | 21/100 [00:01<00:06, 11.92it/s]\u001b[A\n",
      "Iterations:  23%|███████████████▊                                                     | 23/100 [00:02<00:06, 12.33it/s]\u001b[A\n",
      "Iterations:  25%|█████████████████▎                                                   | 25/100 [00:02<00:06, 12.20it/s]\u001b[A\n",
      "Iterations:  27%|██████████████████▋                                                  | 27/100 [00:02<00:05, 12.24it/s]\u001b[A\n",
      "Iterations:  29%|████████████████████                                                 | 29/100 [00:02<00:06, 10.60it/s]\u001b[A\n",
      "Iterations:  31%|█████████████████████▍                                               | 31/100 [00:02<00:06, 10.78it/s]\u001b[A\n",
      "Iterations:  33%|██████████████████████▊                                              | 33/100 [00:02<00:05, 11.20it/s]\u001b[A\n",
      "Iterations:  35%|████████████████████████▏                                            | 35/100 [00:03<00:05, 11.56it/s]\u001b[A\n",
      "Iterations:  37%|█████████████████████████▌                                           | 37/100 [00:03<00:05, 12.29it/s]\u001b[A\n",
      "Iterations:  39%|██████████████████████████▉                                          | 39/100 [00:03<00:05, 11.68it/s]\u001b[A\n",
      "Iterations:  41%|████████████████████████████▎                                        | 41/100 [00:03<00:05, 11.21it/s]\u001b[A\n",
      "Iterations:  43%|█████████████████████████████▋                                       | 43/100 [00:03<00:04, 11.51it/s]\u001b[A\n",
      "Iterations:  45%|███████████████████████████████                                      | 45/100 [00:04<00:05, 10.91it/s]\u001b[A\n",
      "Iterations:  47%|████████████████████████████████▍                                    | 47/100 [00:04<00:05, 10.36it/s]\u001b[A\n",
      "Iterations:  49%|█████████████████████████████████▊                                   | 49/100 [00:04<00:04, 10.52it/s]\u001b[A\n",
      "Iterations:  51%|███████████████████████████████████▏                                 | 51/100 [00:04<00:04, 11.12it/s]\u001b[A\n",
      "Iterations:  53%|████████████████████████████████████▌                                | 53/100 [00:04<00:04, 11.66it/s]\u001b[A\n",
      "Iterations:  55%|█████████████████████████████████████▉                               | 55/100 [00:04<00:03, 11.47it/s]\u001b[A\n",
      "Iterations:  57%|███████████████████████████████████████▎                             | 57/100 [00:05<00:03, 11.19it/s]\u001b[A\n",
      "Iterations:  59%|████████████████████████████████████████▋                            | 59/100 [00:05<00:03, 10.97it/s]\u001b[A\n",
      "Iterations:  61%|██████████████████████████████████████████                           | 61/100 [00:05<00:03, 11.24it/s]\u001b[A\n",
      "Iterations:  63%|███████████████████████████████████████████▍                         | 63/100 [00:05<00:03, 12.03it/s]\u001b[A\n",
      "Iterations:  65%|████████████████████████████████████████████▊                        | 65/100 [00:05<00:02, 12.46it/s]\u001b[A\n",
      "Iterations:  67%|██████████████████████████████████████████████▏                      | 67/100 [00:05<00:02, 12.78it/s]\u001b[A\n",
      "Iterations:  69%|███████████████████████████████████████████████▌                     | 69/100 [00:06<00:02, 12.79it/s]\u001b[A\n",
      "Iterations:  71%|████████████████████████████████████████████████▉                    | 71/100 [00:06<00:02, 12.78it/s]\u001b[A\n",
      "Iterations:  73%|██████████████████████████████████████████████████▎                  | 73/100 [00:06<00:02, 13.09it/s]\u001b[A\n",
      "Iterations:  75%|███████████████████████████████████████████████████▊                 | 75/100 [00:06<00:01, 13.06it/s]\u001b[A\n",
      "Iterations:  77%|█████████████████████████████████████████████████████▏               | 77/100 [00:06<00:01, 13.24it/s]\u001b[A\n",
      "Iterations:  79%|██████████████████████████████████████████████████████▌              | 79/100 [00:06<00:01, 13.30it/s]\u001b[A\n",
      "Iterations:  81%|███████████████████████████████████████████████████████▉             | 81/100 [00:06<00:01, 12.97it/s]\u001b[A\n",
      "Iterations:  83%|█████████████████████████████████████████████████████████▎           | 83/100 [00:07<00:01, 13.10it/s]\u001b[A\n",
      "Iterations:  85%|██████████████████████████████████████████████████████████▋          | 85/100 [00:07<00:01, 13.01it/s]\u001b[A\n",
      "Iterations:  87%|████████████████████████████████████████████████████████████         | 87/100 [00:07<00:00, 13.08it/s]\u001b[A\n",
      "Iterations:  89%|█████████████████████████████████████████████████████████████▍       | 89/100 [00:07<00:00, 12.61it/s]\u001b[A\n",
      "Iterations:  91%|██████████████████████████████████████████████████████████████▊      | 91/100 [00:07<00:00, 12.82it/s]\u001b[A\n",
      "Iterations:  93%|████████████████████████████████████████████████████████████████▏    | 93/100 [00:07<00:00, 12.73it/s]\u001b[A\n",
      "Iterations:  95%|█████████████████████████████████████████████████████████████████▌   | 95/100 [00:08<00:00, 11.96it/s]\u001b[A\n",
      "Iterations:  97%|██████████████████████████████████████████████████████████████████▉  | 97/100 [00:08<00:00, 11.98it/s]\u001b[A\n",
      "Iterations:  99%|████████████████████████████████████████████████████████████████████▎| 99/100 [00:08<00:00, 12.39it/s]\u001b[A\n",
      "                                                                                                                       \u001b[A\n",
      "Iterations:   0%|                                                                              | 0/100 [00:00<?, ?it/s]\u001b[A"
     ]
    },
    {
     "name": "stdout",
     "output_type": "stream",
     "text": [
      "(100, 123)\n",
      "Imputation MAPE: 0.00802777\n",
      "Imputation RMSE: 3.21761\n",
      "(100, 123) (100, 123)\n",
      "Performance du modele :{'test_rmse': 3.2176053400975126, 'train_rmse': 2.7759961915935127}\n",
      "Entrainement avec :\n",
      "{'rang': 15}\n"
     ]
    },
    {
     "name": "stderr",
     "output_type": "stream",
     "text": [
      "\n",
      "Iterations:   2%|█▍                                                                    | 2/100 [00:00<00:08, 11.37it/s]\u001b[A\n",
      "Iterations:   4%|██▊                                                                   | 4/100 [00:00<00:08, 10.99it/s]\u001b[A\n",
      "Iterations:   6%|████▏                                                                 | 6/100 [00:00<00:08, 10.74it/s]\u001b[A\n",
      "Iterations:   8%|█████▌                                                                | 8/100 [00:00<00:08, 10.67it/s]\u001b[A\n",
      "Iterations:  10%|██████▉                                                              | 10/100 [00:00<00:08, 10.57it/s]\u001b[A\n",
      "Iterations:  12%|████████▎                                                            | 12/100 [00:01<00:08, 10.55it/s]\u001b[A\n",
      "Iterations:  14%|█████████▋                                                           | 14/100 [00:01<00:08, 10.50it/s]\u001b[A\n",
      "Iterations:  15%|██████████▎                                                          | 15/100 [00:01<00:08, 10.22it/s]\u001b[A\n",
      "Iterations:  16%|███████████                                                          | 16/100 [00:01<00:08, 10.15it/s]\u001b[A\n",
      "Iterations:  17%|███████████▋                                                         | 17/100 [00:01<00:08, 10.05it/s]\u001b[A\n",
      "Iterations:  18%|████████████▍                                                        | 18/100 [00:01<00:08,  9.93it/s]\u001b[A\n",
      "Iterations:  19%|█████████████                                                        | 19/100 [00:01<00:08,  9.61it/s]\u001b[A\n",
      "Iterations:  21%|██████████████▍                                                      | 21/100 [00:02<00:07, 10.17it/s]\u001b[A\n",
      "Iterations:  23%|███████████████▊                                                     | 23/100 [00:02<00:07, 10.05it/s]\u001b[A\n",
      "Iterations:  25%|█████████████████▎                                                   | 25/100 [00:02<00:07, 10.10it/s]\u001b[A\n",
      "Iterations:  27%|██████████████████▋                                                  | 27/100 [00:02<00:07, 10.38it/s]\u001b[A\n",
      "Iterations:  29%|████████████████████                                                 | 29/100 [00:02<00:06, 10.17it/s]\u001b[A\n",
      "Iterations:  31%|█████████████████████▍                                               | 31/100 [00:03<00:06, 10.11it/s]\u001b[A\n",
      "Iterations:  33%|██████████████████████▊                                              | 33/100 [00:03<00:06, 10.34it/s]\u001b[A\n",
      "Iterations:  35%|████████████████████████▏                                            | 35/100 [00:03<00:06, 10.29it/s]\u001b[A\n",
      "Iterations:  37%|█████████████████████████▌                                           | 37/100 [00:03<00:06, 10.32it/s]\u001b[A\n",
      "Iterations:  39%|██████████████████████████▉                                          | 39/100 [00:03<00:05, 10.41it/s]\u001b[A\n",
      "Iterations:  41%|████████████████████████████▎                                        | 41/100 [00:03<00:05, 10.43it/s]\u001b[A\n",
      "Iterations:  43%|█████████████████████████████▋                                       | 43/100 [00:04<00:05, 10.41it/s]\u001b[A\n",
      "Iterations:  45%|███████████████████████████████                                      | 45/100 [00:04<00:05, 10.51it/s]\u001b[A\n",
      "Iterations:  47%|████████████████████████████████▍                                    | 47/100 [00:04<00:05, 10.37it/s]\u001b[A\n",
      "Iterations:  49%|█████████████████████████████████▊                                   | 49/100 [00:04<00:04, 10.48it/s]\u001b[A\n",
      "Iterations:  51%|███████████████████████████████████▏                                 | 51/100 [00:04<00:04, 10.57it/s]\u001b[A\n",
      "Iterations:  53%|████████████████████████████████████▌                                | 53/100 [00:05<00:04, 10.29it/s]\u001b[A\n",
      "Iterations:  55%|█████████████████████████████████████▉                               | 55/100 [00:05<00:04, 10.59it/s]\u001b[A\n",
      "Iterations:  57%|███████████████████████████████████████▎                             | 57/100 [00:05<00:03, 10.99it/s]\u001b[A\n",
      "Iterations:  59%|████████████████████████████████████████▋                            | 59/100 [00:05<00:03, 11.24it/s]\u001b[A\n",
      "Iterations:  61%|██████████████████████████████████████████                           | 61/100 [00:05<00:03, 10.99it/s]\u001b[A\n",
      "Iterations:  63%|███████████████████████████████████████████▍                         | 63/100 [00:06<00:03, 10.59it/s]\u001b[A\n",
      "Iterations:  65%|████████████████████████████████████████████▊                        | 65/100 [00:06<00:03, 10.39it/s]\u001b[A\n",
      "Iterations:  67%|██████████████████████████████████████████████▏                      | 67/100 [00:06<00:03, 10.32it/s]\u001b[A\n",
      "Iterations:  69%|███████████████████████████████████████████████▌                     | 69/100 [00:06<00:02, 10.38it/s]\u001b[A\n",
      "Iterations:  71%|████████████████████████████████████████████████▉                    | 71/100 [00:06<00:02, 10.28it/s]\u001b[A\n",
      "Iterations:  73%|██████████████████████████████████████████████████▎                  | 73/100 [00:07<00:02, 10.34it/s]\u001b[A\n",
      "Iterations:  75%|███████████████████████████████████████████████████▊                 | 75/100 [00:07<00:02, 10.55it/s]\u001b[A\n",
      "Iterations:  77%|█████████████████████████████████████████████████████▏               | 77/100 [00:07<00:02, 10.62it/s]\u001b[A\n",
      "Iterations:  79%|██████████████████████████████████████████████████████▌              | 79/100 [00:07<00:01, 10.59it/s]\u001b[A\n",
      "Iterations:  81%|███████████████████████████████████████████████████████▉             | 81/100 [00:07<00:01, 10.96it/s]\u001b[A\n",
      "Iterations:  83%|█████████████████████████████████████████████████████████▎           | 83/100 [00:07<00:01, 10.73it/s]\u001b[A\n",
      "Iterations:  85%|██████████████████████████████████████████████████████████▋          | 85/100 [00:08<00:01, 10.77it/s]\u001b[A\n",
      "Iterations:  87%|████████████████████████████████████████████████████████████         | 87/100 [00:08<00:01, 10.82it/s]\u001b[A\n",
      "Iterations:  89%|█████████████████████████████████████████████████████████████▍       | 89/100 [00:08<00:00, 11.22it/s]\u001b[A\n",
      "Iterations:  91%|██████████████████████████████████████████████████████████████▊      | 91/100 [00:08<00:00, 11.10it/s]\u001b[A\n",
      "Iterations:  93%|████████████████████████████████████████████████████████████████▏    | 93/100 [00:08<00:00, 11.54it/s]\u001b[A\n",
      "Iterations:  95%|█████████████████████████████████████████████████████████████████▌   | 95/100 [00:08<00:00, 11.44it/s]\u001b[A\n",
      "Iterations:  97%|██████████████████████████████████████████████████████████████████▉  | 97/100 [00:09<00:00, 10.92it/s]\u001b[A\n",
      "Iterations:  99%|████████████████████████████████████████████████████████████████████▎| 99/100 [00:09<00:00, 10.92it/s]\u001b[A\n",
      "                                                                                                                       \u001b[A"
     ]
    },
    {
     "name": "stdout",
     "output_type": "stream",
     "text": [
      "(100, 123)\n",
      "Imputation MAPE: 0.0063866\n",
      "Imputation RMSE: 2.54232\n",
      "(100, 123) (100, 123)\n",
      "Performance du modele :{'test_rmse': 2.542321754477414, 'train_rmse': 2.0762297339292397}\n",
      "\n"
     ]
    }
   ],
   "source": [
    "entrainement_dict = dict()\n",
    "\n",
    "for index, i in tenumerate(rang_list,\n",
    "                           desc=\"Recherche hyperparametres\",\n",
    "                           leave=True,\n",
    "                           position=0):\n",
    "\n",
    "    ## Premier Ã©lÃ©ment : Rang\n",
    "    rang = i\n",
    "\n",
    "    param_utils = dict(rang=rang)  # PrÃ©paration pour le suivant rapport\n",
    "\n",
    "    tqdm.write(\"Entrainement avec :\\n{:}\".format(param_utils))\n",
    "\n",
    "    np.random.seed(2020)\n",
    "    init = {\n",
    "        \"W\": 0.1 * np.random.rand(dim1, rang),\n",
    "        \"X\": 0.1 * np.random.rand(dim2, rang)\n",
    "    }\n",
    "    mat_hat, W, X_new, A, test_rmse_list, train_rmse_list, test_mape_list, perfo_fin, hyper_diag = BTMF(\n",
    "        mat_complet, mat_manquants, init, rang, time_lags, maxiter1, maxiter2)\n",
    "    print(mat_hat.shape, mat_complet.shape)\n",
    "\n",
    "    metriques_listes = dict(test_rmse_list=test_rmse_list,\n",
    "                            train_rmse_list=train_rmse_list\n",
    "                            # , gen_rmse_list=gen_rmse_list\n",
    "                            )\n",
    "\n",
    "    ## Mettre dans un dictionaire de tous les entrainements\n",
    "    index_entr = \"index {:}\".format(index)\n",
    "\n",
    "    entrainement_dict[index_entr] = {}\n",
    "    entrainement_dict[index_entr][\"parametres\"] = param_utils\n",
    "    entrainement_dict[index_entr][\"metriques_listes\"] = metriques_listes\n",
    "    entrainement_dict[index_entr][\"metriques_finales\"] = perfo_fin\n",
    "    entrainement_dict[index_entr][\"hyper_diag\"] = hyper_diag\n",
    "    tqdm.write(\"Performance du modele :{:}\".format(perfo_fin))"
   ]
  },
  {
   "cell_type": "markdown",
   "metadata": {},
   "source": [
    "### Sauvegarder les informations sur la sélection d'hyperparamètres"
   ]
  },
  {
   "cell_type": "markdown",
   "metadata": {},
   "source": [
    "#### Sauvegarder la distribution des paramètres"
   ]
  },
  {
   "cell_type": "code",
   "execution_count": 20,
   "metadata": {
    "ExecuteTime": {
     "end_time": "2020-10-20T21:36:27.739421Z",
     "start_time": "2020-10-20T21:36:27.713936Z"
    }
   },
   "outputs": [
    {
     "data": {
      "text/html": [
       "<div>\n",
       "<style scoped>\n",
       "    .dataframe tbody tr th:only-of-type {\n",
       "        vertical-align: middle;\n",
       "    }\n",
       "\n",
       "    .dataframe tbody tr th {\n",
       "        vertical-align: top;\n",
       "    }\n",
       "\n",
       "    .dataframe thead th {\n",
       "        text-align: right;\n",
       "    }\n",
       "</style>\n",
       "<table border=\"1\" class=\"dataframe\">\n",
       "  <thead>\n",
       "    <tr style=\"text-align: right;\">\n",
       "      <th></th>\n",
       "      <th>index</th>\n",
       "      <th>hyper_tau</th>\n",
       "      <th>_lambda</th>\n",
       "      <th>mu</th>\n",
       "      <th>w_hyper</th>\n",
       "      <th>norme_W</th>\n",
       "      <th>norme_X</th>\n",
       "      <th>iteration</th>\n",
       "      <th>rang</th>\n",
       "      <th>entrainement_no</th>\n",
       "    </tr>\n",
       "  </thead>\n",
       "  <tbody>\n",
       "    <tr>\n",
       "      <th>0</th>\n",
       "      <td>0</td>\n",
       "      <td>0.009332</td>\n",
       "      <td>318.645497</td>\n",
       "      <td>0.155279</td>\n",
       "      <td>2.918579</td>\n",
       "      <td>586.978436</td>\n",
       "      <td>64.024953</td>\n",
       "      <td>0</td>\n",
       "      <td>10</td>\n",
       "      <td>1</td>\n",
       "    </tr>\n",
       "    <tr>\n",
       "      <th>1</th>\n",
       "      <td>1</td>\n",
       "      <td>0.035094</td>\n",
       "      <td>36.680975</td>\n",
       "      <td>58.709834</td>\n",
       "      <td>0.304861</td>\n",
       "      <td>588.193600</td>\n",
       "      <td>63.590772</td>\n",
       "      <td>1</td>\n",
       "      <td>10</td>\n",
       "      <td>1</td>\n",
       "    </tr>\n",
       "    <tr>\n",
       "      <th>2</th>\n",
       "      <td>2</td>\n",
       "      <td>0.038192</td>\n",
       "      <td>40.712657</td>\n",
       "      <td>58.031957</td>\n",
       "      <td>0.357230</td>\n",
       "      <td>588.210098</td>\n",
       "      <td>63.908794</td>\n",
       "      <td>2</td>\n",
       "      <td>10</td>\n",
       "      <td>1</td>\n",
       "    </tr>\n",
       "    <tr>\n",
       "      <th>3</th>\n",
       "      <td>3</td>\n",
       "      <td>0.037712</td>\n",
       "      <td>49.383607</td>\n",
       "      <td>57.413537</td>\n",
       "      <td>0.391984</td>\n",
       "      <td>588.157861</td>\n",
       "      <td>63.849811</td>\n",
       "      <td>3</td>\n",
       "      <td>10</td>\n",
       "      <td>1</td>\n",
       "    </tr>\n",
       "    <tr>\n",
       "      <th>4</th>\n",
       "      <td>4</td>\n",
       "      <td>0.038797</td>\n",
       "      <td>40.918190</td>\n",
       "      <td>58.058528</td>\n",
       "      <td>0.416333</td>\n",
       "      <td>588.364385</td>\n",
       "      <td>64.099321</td>\n",
       "      <td>4</td>\n",
       "      <td>10</td>\n",
       "      <td>1</td>\n",
       "    </tr>\n",
       "  </tbody>\n",
       "</table>\n",
       "</div>"
      ],
      "text/plain": [
       "   index  hyper_tau     _lambda         mu   w_hyper     norme_W    norme_X  \\\n",
       "0      0   0.009332  318.645497   0.155279  2.918579  586.978436  64.024953   \n",
       "1      1   0.035094   36.680975  58.709834  0.304861  588.193600  63.590772   \n",
       "2      2   0.038192   40.712657  58.031957  0.357230  588.210098  63.908794   \n",
       "3      3   0.037712   49.383607  57.413537  0.391984  588.157861  63.849811   \n",
       "4      4   0.038797   40.918190  58.058528  0.416333  588.364385  64.099321   \n",
       "\n",
       "   iteration  rang  entrainement_no  \n",
       "0          0    10                1  \n",
       "1          1    10                1  \n",
       "2          2    10                1  \n",
       "3          3    10                1  \n",
       "4          4    10                1  "
      ]
     },
     "execution_count": 20,
     "metadata": {},
     "output_type": "execute_result"
    }
   ],
   "source": [
    "listes_hyper = []\n",
    "for i in range(len(entrainement_dict)):\n",
    "    index = \"index {:}\".format(i)\n",
    "\n",
    "    df_hyper = pd.DataFrame(entrainement_dict[index][\"hyper_diag\"])\n",
    "    df_hyper['iteration'] = df_hyper.index  # Colonne pour les itÃ©rations\n",
    "    \n",
    "    df_hyper[\"rang\"] = entrainement_dict[index][\"parametres\"][\"rang\"]\n",
    "    df_hyper[\"entrainement_no\"] = i + 1  ## FOR LOOP\n",
    "\n",
    "    listes_hyper.append(df_hyper)\n",
    "    \n",
    "df_hyper = pd.concat(listes_hyper)\n",
    "df_hyper = df_hyper.reset_index()\n",
    "df_hyper.head()"
   ]
  },
  {
   "cell_type": "code",
   "execution_count": 21,
   "metadata": {
    "ExecuteTime": {
     "end_time": "2020-10-20T21:36:27.754010Z",
     "start_time": "2020-10-20T21:36:27.739421Z"
    }
   },
   "outputs": [],
   "source": [
    "# Sauvegarder le fichier\n",
    "fichier_HyperDistribution = \"{:}_fichier_HyperDistribution.ftr\".format(ch_fichier_experience)\n",
    "df_hyper.to_feather(fichier_HyperDistribution)"
   ]
  },
  {
   "cell_type": "markdown",
   "metadata": {},
   "source": [
    "#### Sauvegarder les informations DURANT l'entrainement"
   ]
  },
  {
   "cell_type": "code",
   "execution_count": 22,
   "metadata": {
    "ExecuteTime": {
     "end_time": "2020-10-20T21:36:27.784304Z",
     "start_time": "2020-10-20T21:36:27.755237Z"
    }
   },
   "outputs": [
    {
     "data": {
      "text/html": [
       "<div>\n",
       "<style scoped>\n",
       "    .dataframe tbody tr th:only-of-type {\n",
       "        vertical-align: middle;\n",
       "    }\n",
       "\n",
       "    .dataframe tbody tr th {\n",
       "        vertical-align: top;\n",
       "    }\n",
       "\n",
       "    .dataframe thead th {\n",
       "        text-align: right;\n",
       "    }\n",
       "</style>\n",
       "<table border=\"1\" class=\"dataframe\">\n",
       "  <thead>\n",
       "    <tr style=\"text-align: right;\">\n",
       "      <th></th>\n",
       "      <th>index</th>\n",
       "      <th>test_rmse_list</th>\n",
       "      <th>train_rmse_list</th>\n",
       "      <th>iteration</th>\n",
       "      <th>rang</th>\n",
       "      <th>entrainement_no</th>\n",
       "    </tr>\n",
       "  </thead>\n",
       "  <tbody>\n",
       "    <tr>\n",
       "      <th>0</th>\n",
       "      <td>0</td>\n",
       "      <td>11.574244</td>\n",
       "      <td>10.372732</td>\n",
       "      <td>0</td>\n",
       "      <td>10</td>\n",
       "      <td>1</td>\n",
       "    </tr>\n",
       "    <tr>\n",
       "      <th>1</th>\n",
       "      <td>1</td>\n",
       "      <td>5.483929</td>\n",
       "      <td>5.345215</td>\n",
       "      <td>1</td>\n",
       "      <td>10</td>\n",
       "      <td>1</td>\n",
       "    </tr>\n",
       "    <tr>\n",
       "      <th>2</th>\n",
       "      <td>2</td>\n",
       "      <td>5.290669</td>\n",
       "      <td>5.170592</td>\n",
       "      <td>2</td>\n",
       "      <td>10</td>\n",
       "      <td>1</td>\n",
       "    </tr>\n",
       "    <tr>\n",
       "      <th>3</th>\n",
       "      <td>3</td>\n",
       "      <td>5.351300</td>\n",
       "      <td>5.156520</td>\n",
       "      <td>3</td>\n",
       "      <td>10</td>\n",
       "      <td>1</td>\n",
       "    </tr>\n",
       "    <tr>\n",
       "      <th>4</th>\n",
       "      <td>4</td>\n",
       "      <td>5.279978</td>\n",
       "      <td>5.087740</td>\n",
       "      <td>4</td>\n",
       "      <td>10</td>\n",
       "      <td>1</td>\n",
       "    </tr>\n",
       "  </tbody>\n",
       "</table>\n",
       "</div>"
      ],
      "text/plain": [
       "   index  test_rmse_list  train_rmse_list  iteration  rang  entrainement_no\n",
       "0      0       11.574244        10.372732          0    10                1\n",
       "1      1        5.483929         5.345215          1    10                1\n",
       "2      2        5.290669         5.170592          2    10                1\n",
       "3      3        5.351300         5.156520          3    10                1\n",
       "4      4        5.279978         5.087740          4    10                1"
      ]
     },
     "execution_count": 22,
     "metadata": {},
     "output_type": "execute_result"
    }
   ],
   "source": [
    "df_list = []\n",
    "for i in range(len(entrainement_dict)):\n",
    "    index = \"index {:}\".format(i)\n",
    "\n",
    "    listes_df = pd.DataFrame(entrainement_dict[index][\"metriques_listes\"])\n",
    "    listes_df['iteration'] = listes_df.index  # Colonne pour les itÃ©rations\n",
    "    \n",
    "    listes_df[\"rang\"] = entrainement_dict[index][\"parametres\"][\"rang\"]\n",
    "    listes_df[\"entrainement_no\"] = i + 1  ## FOR LOOP\n",
    "\n",
    "    df_list.append(listes_df)\n",
    "    \n",
    "listes_df = pd.concat(df_list)\n",
    "listes_df = listes_df.reset_index()\n",
    "listes_df.head()"
   ]
  },
  {
   "cell_type": "code",
   "execution_count": 23,
   "metadata": {
    "ExecuteTime": {
     "end_time": "2020-10-20T21:36:27.800306Z",
     "start_time": "2020-10-20T21:36:27.785238Z"
    }
   },
   "outputs": [],
   "source": [
    "# Sauvegarder le fichier\n",
    "fichier_HyperEntrainement = \"{:}_HyperparametresEntrainement.ftr\".format(ch_fichier_experience)\n",
    "listes_df.to_feather(fichier_HyperEntrainement)"
   ]
  },
  {
   "cell_type": "markdown",
   "metadata": {},
   "source": [
    "#### Sauvegarder les informations FINALES"
   ]
  },
  {
   "cell_type": "code",
   "execution_count": 24,
   "metadata": {
    "ExecuteTime": {
     "end_time": "2020-10-20T21:36:27.816304Z",
     "start_time": "2020-10-20T21:36:27.801275Z"
    }
   },
   "outputs": [],
   "source": [
    "test_list = []\n",
    "for i in entrainement_dict:\n",
    "\n",
    "    dict1 = {}\n",
    "    dict1.update(\n",
    "        dict(\n",
    "            rmse_test=entrainement_dict[i][\"metriques_finales\"][\"test_rmse\"],\n",
    "            rmse_train=entrainement_dict[i][\"metriques_finales\"][\"train_rmse\"],\n",
    "            rmse_gen= 0, #entrainement_dict[i][\"metriques_finales\"][\"gen_rmse\"],\n",
    "            rang=entrainement_dict[i][\"parametres\"][\"rang\"]))\n",
    "\n",
    "    test_list.append(dict1)\n",
    "\n",
    "df = pd.DataFrame(test_list)"
   ]
  },
  {
   "cell_type": "code",
   "execution_count": 25,
   "metadata": {
    "ExecuteTime": {
     "end_time": "2020-10-20T21:36:27.831413Z",
     "start_time": "2020-10-20T21:36:27.817269Z"
    }
   },
   "outputs": [],
   "source": [
    "# Sauvegarder le fichier\n",
    "fichier_HyperFinaux = \"{:}_HyperparametresFinaux.ftr\".format(ch_fichier_experience)\n",
    "df.to_feather(fichier_HyperFinaux)"
   ]
  },
  {
   "cell_type": "markdown",
   "metadata": {},
   "source": [
    "## Entrainer le meilleur modèle"
   ]
  },
  {
   "cell_type": "code",
   "execution_count": 26,
   "metadata": {
    "ExecuteTime": {
     "end_time": "2020-10-20T21:36:27.846946Z",
     "start_time": "2020-10-20T21:36:27.832237Z"
    }
   },
   "outputs": [
    {
     "data": {
      "text/html": [
       "<div>\n",
       "<style scoped>\n",
       "    .dataframe tbody tr th:only-of-type {\n",
       "        vertical-align: middle;\n",
       "    }\n",
       "\n",
       "    .dataframe tbody tr th {\n",
       "        vertical-align: top;\n",
       "    }\n",
       "\n",
       "    .dataframe thead th {\n",
       "        text-align: right;\n",
       "    }\n",
       "</style>\n",
       "<table border=\"1\" class=\"dataframe\">\n",
       "  <thead>\n",
       "    <tr style=\"text-align: right;\">\n",
       "      <th></th>\n",
       "      <th>rmse_test</th>\n",
       "      <th>rmse_train</th>\n",
       "      <th>rmse_gen</th>\n",
       "      <th>rang</th>\n",
       "    </tr>\n",
       "  </thead>\n",
       "  <tbody>\n",
       "    <tr>\n",
       "      <th>1</th>\n",
       "      <td>2.542322</td>\n",
       "      <td>2.07623</td>\n",
       "      <td>0</td>\n",
       "      <td>15</td>\n",
       "    </tr>\n",
       "  </tbody>\n",
       "</table>\n",
       "</div>"
      ],
      "text/plain": [
       "   rmse_test  rmse_train  rmse_gen  rang\n",
       "1   2.542322     2.07623         0    15"
      ]
     },
     "execution_count": 26,
     "metadata": {},
     "output_type": "execute_result"
    }
   ],
   "source": [
    "## Plus petit RMSE sur l'ensemble de test\n",
    "min_test = df[df.rmse_test == df.rmse_test.min()]\n",
    "min_test"
   ]
  },
  {
   "cell_type": "code",
   "execution_count": 27,
   "metadata": {
    "ExecuteTime": {
     "end_time": "2020-10-20T21:36:27.861991Z",
     "start_time": "2020-10-20T21:36:27.847956Z"
    }
   },
   "outputs": [
    {
     "data": {
      "text/plain": [
       "{'rang': 15, 'init_hyper': {'AUCUN': 'AUCUN'}}"
      ]
     },
     "execution_count": 27,
     "metadata": {},
     "output_type": "execute_result"
    }
   ],
   "source": [
    "rang = np.int(min_test.rang)\n",
    "\n",
    "init_hyper = {\n",
    "    \"AUCUN\": \"AUCUN\"\n",
    "}\n",
    "\n",
    "param_utils = dict(rang=rang, init_hyper=init_hyper)  # PrÃ©paration pour le suivant rapport\n",
    "\n",
    "param_utils"
   ]
  },
  {
   "cell_type": "code",
   "execution_count": 28,
   "metadata": {
    "ExecuteTime": {
     "end_time": "2020-10-20T21:36:27.871087Z",
     "start_time": "2020-10-20T21:36:27.863000Z"
    }
   },
   "outputs": [],
   "source": [
    "# Initialisation des paramètres\n",
    "np.random.seed(2020)\n",
    "init = {\n",
    "    \"W\": 0.1 * np.random.rand(dim1, rang),\n",
    "    \"X\": 0.1 * np.random.rand(dim2, rang)\n",
    "}"
   ]
  },
  {
   "cell_type": "code",
   "execution_count": 29,
   "metadata": {
    "ExecuteTime": {
     "end_time": "2020-10-20T21:36:37.460956Z",
     "start_time": "2020-10-20T21:36:27.871087Z"
    },
    "scrolled": false
   },
   "outputs": [
    {
     "name": "stderr",
     "output_type": "stream",
     "text": [
      "\n",
      "Iterations:   0%|                                                                              | 0/100 [00:00<?, ?it/s]\u001b[A\n",
      "Iterations:   1%|▋                                                                     | 1/100 [00:00<00:11,  8.99it/s]\u001b[A\n",
      "Iterations:   3%|██                                                                    | 3/100 [00:00<00:10,  9.34it/s]\u001b[A\n",
      "Iterations:   4%|██▊                                                                   | 4/100 [00:00<00:10,  9.49it/s]\u001b[A\n",
      "Iterations:   5%|███▌                                                                  | 5/100 [00:00<00:09,  9.57it/s]\u001b[A\n",
      "Iterations:   7%|████▉                                                                 | 7/100 [00:00<00:09, 10.09it/s]\u001b[A\n",
      "Iterations:   9%|██████▎                                                               | 9/100 [00:00<00:08, 10.56it/s]\u001b[A\n",
      "Iterations:  10%|██████▉                                                              | 10/100 [00:00<00:08, 10.38it/s]\u001b[A\n",
      "Iterations:  12%|████████▎                                                            | 12/100 [00:01<00:08, 10.44it/s]\u001b[A\n",
      "Iterations:  14%|█████████▋                                                           | 14/100 [00:01<00:08, 10.29it/s]\u001b[A\n",
      "Iterations:  15%|██████████▎                                                          | 15/100 [00:01<00:08, 10.09it/s]\u001b[A\n",
      "Iterations:  17%|███████████▋                                                         | 17/100 [00:01<00:08,  9.83it/s]\u001b[A\n",
      "Iterations:  18%|████████████▍                                                        | 18/100 [00:01<00:09,  8.98it/s]\u001b[A\n",
      "Iterations:  20%|█████████████▊                                                       | 20/100 [00:01<00:08,  9.42it/s]\u001b[A\n",
      "Iterations:  21%|██████████████▍                                                      | 21/100 [00:02<00:08,  9.07it/s]\u001b[A\n",
      "Iterations:  23%|███████████████▊                                                     | 23/100 [00:02<00:08,  9.39it/s]\u001b[A\n",
      "Iterations:  24%|████████████████▌                                                    | 24/100 [00:02<00:08,  9.43it/s]\u001b[A\n",
      "Iterations:  25%|█████████████████▎                                                   | 25/100 [00:02<00:07,  9.44it/s]\u001b[A\n",
      "Iterations:  27%|██████████████████▋                                                  | 27/100 [00:02<00:07,  9.76it/s]\u001b[A\n",
      "Iterations:  29%|████████████████████                                                 | 29/100 [00:02<00:07,  9.92it/s]\u001b[A\n",
      "Iterations:  30%|████████████████████▋                                                | 30/100 [00:02<00:07,  9.74it/s]\u001b[A\n",
      "Iterations:  32%|██████████████████████                                               | 32/100 [00:03<00:06, 10.22it/s]\u001b[A\n",
      "Iterations:  34%|███████████████████████▍                                             | 34/100 [00:03<00:06, 10.22it/s]\u001b[A\n",
      "Iterations:  36%|████████████████████████▊                                            | 36/100 [00:03<00:06, 10.15it/s]\u001b[A\n",
      "Iterations:  38%|██████████████████████████▏                                          | 38/100 [00:03<00:05, 10.50it/s]\u001b[A\n",
      "Iterations:  40%|███████████████████████████▌                                         | 40/100 [00:03<00:05, 10.69it/s]\u001b[A\n",
      "Iterations:  42%|████████████████████████████▉                                        | 42/100 [00:04<00:05, 10.72it/s]\u001b[A\n",
      "Iterations:  44%|██████████████████████████████▎                                      | 44/100 [00:04<00:05, 10.59it/s]\u001b[A\n",
      "Iterations:  46%|███████████████████████████████▋                                     | 46/100 [00:04<00:05, 10.44it/s]\u001b[A\n",
      "Iterations:  48%|█████████████████████████████████                                    | 48/100 [00:04<00:04, 10.51it/s]\u001b[A\n",
      "Iterations:  50%|██████████████████████████████████▌                                  | 50/100 [00:04<00:04, 10.52it/s]\u001b[A\n",
      "Iterations:  52%|███████████████████████████████████▉                                 | 52/100 [00:05<00:04, 10.56it/s]\u001b[A\n",
      "Iterations:  54%|█████████████████████████████████████▎                               | 54/100 [00:05<00:04, 10.74it/s]\u001b[A\n",
      "Iterations:  56%|██████████████████████████████████████▋                              | 56/100 [00:05<00:03, 11.02it/s]\u001b[A\n",
      "Iterations:  58%|████████████████████████████████████████                             | 58/100 [00:05<00:04, 10.45it/s]\u001b[A\n",
      "Iterations:  60%|█████████████████████████████████████████▍                           | 60/100 [00:05<00:03, 10.11it/s]\u001b[A\n",
      "Iterations:  62%|██████████████████████████████████████████▊                          | 62/100 [00:06<00:03, 10.25it/s]\u001b[A\n",
      "Iterations:  64%|████████████████████████████████████████████▏                        | 64/100 [00:06<00:03, 10.28it/s]\u001b[A\n",
      "Iterations:  66%|█████████████████████████████████████████████▌                       | 66/100 [00:06<00:03, 10.55it/s]\u001b[A\n",
      "Iterations:  68%|██████████████████████████████████████████████▉                      | 68/100 [00:06<00:03, 10.33it/s]\u001b[A\n",
      "Iterations:  70%|████████████████████████████████████████████████▎                    | 70/100 [00:06<00:02, 10.46it/s]\u001b[A\n",
      "Iterations:  72%|█████████████████████████████████████████████████▋                   | 72/100 [00:06<00:02, 10.33it/s]\u001b[A\n",
      "Iterations:  74%|███████████████████████████████████████████████████                  | 74/100 [00:07<00:02, 10.63it/s]\u001b[A\n",
      "Iterations:  76%|████████████████████████████████████████████████████▍                | 76/100 [00:07<00:02, 10.61it/s]\u001b[A\n",
      "Iterations:  78%|█████████████████████████████████████████████████████▊               | 78/100 [00:07<00:02, 10.33it/s]\u001b[A\n",
      "Iterations:  80%|███████████████████████████████████████████████████████▏             | 80/100 [00:07<00:01, 10.42it/s]\u001b[A\n",
      "Iterations:  82%|████████████████████████████████████████████████████████▌            | 82/100 [00:07<00:01, 10.62it/s]\u001b[A\n",
      "Iterations:  84%|█████████████████████████████████████████████████████████▉           | 84/100 [00:08<00:01, 10.79it/s]\u001b[A\n",
      "Iterations:  86%|███████████████████████████████████████████████████████████▎         | 86/100 [00:08<00:01, 10.89it/s]\u001b[A\n",
      "Iterations:  88%|████████████████████████████████████████████████████████████▋        | 88/100 [00:08<00:01, 10.79it/s]\u001b[A\n",
      "Iterations:  90%|██████████████████████████████████████████████████████████████       | 90/100 [00:08<00:00, 10.64it/s]\u001b[A\n",
      "Iterations:  92%|███████████████████████████████████████████████████████████████▍     | 92/100 [00:08<00:00, 10.87it/s]\u001b[A\n",
      "Iterations:  94%|████████████████████████████████████████████████████████████████▊    | 94/100 [00:09<00:00, 10.84it/s]\u001b[A\n",
      "Iterations:  96%|██████████████████████████████████████████████████████████████████▏  | 96/100 [00:09<00:00, 11.09it/s]\u001b[A\n",
      "Iterations:  98%|███████████████████████████████████████████████████████████████████▌ | 98/100 [00:09<00:00, 11.12it/s]\u001b[A\n",
      "Iterations: 100%|████████████████████████████████████████████████████████████████████| 100/100 [00:09<00:00, 10.85it/s]\u001b[A\n",
      "                                                                                                                       \u001b[A"
     ]
    },
    {
     "name": "stdout",
     "output_type": "stream",
     "text": [
      "(100, 123)\n",
      "Imputation MAPE: 0.0063866\n",
      "Imputation RMSE: 2.54232\n"
     ]
    }
   ],
   "source": [
    "start = time.time()\n",
    "mat_hat, W, X_new, A, test_rmse_list, train_rmse_list, test_mape_list, perfo_fin, hyper_diag = BTMF(\n",
    "    mat_complet, mat_manquants, init, rang, time_lags, maxiter1, maxiter2)\n",
    "end = time.time()"
   ]
  },
  {
   "cell_type": "markdown",
   "metadata": {},
   "source": [
    "### Sauvegarder les informations sur l'entrainement du meilleur modèle"
   ]
  },
  {
   "cell_type": "code",
   "execution_count": 30,
   "metadata": {
    "ExecuteTime": {
     "end_time": "2020-10-20T21:36:37.476888Z",
     "start_time": "2020-10-20T21:36:37.462890Z"
    }
   },
   "outputs": [],
   "source": [
    "# Reformater cette case (!)\n",
    "ch_experience_finale = f\"{ch_fichier_experience}_r{param_utils['rang']}\""
   ]
  },
  {
   "cell_type": "markdown",
   "metadata": {},
   "source": [
    "#### Sauvegarder la matrice prédite"
   ]
  },
  {
   "cell_type": "code",
   "execution_count": 31,
   "metadata": {
    "ExecuteTime": {
     "end_time": "2020-10-20T21:36:37.492925Z",
     "start_time": "2020-10-20T21:36:37.477889Z"
    }
   },
   "outputs": [
    {
     "name": "stdout",
     "output_type": "stream",
     "text": [
      "exp\\simulation_simple\\SimSimple_100_10_FMBT_v001_r15_prediction.mat\n"
     ]
    }
   ],
   "source": [
    "fichier_prediction = \"{:}_prediction.mat\".format(ch_experience_finale)\n",
    "save_mat_hat = {\"mat\": mat_hat}\n",
    "sio.savemat(fichier_prediction, save_mat_hat)\n",
    "tqdm.write(fichier_prediction)"
   ]
  },
  {
   "cell_type": "markdown",
   "metadata": {},
   "source": [
    "#### Sauvegarder avec les nouvelles valeurs imputées\n",
    "\n",
    "* Garder la matrice de données originales et imputer seulement les valeurs manquantes."
   ]
  },
  {
   "cell_type": "code",
   "execution_count": 32,
   "metadata": {
    "ExecuteTime": {
     "end_time": "2020-10-20T21:36:37.501849Z",
     "start_time": "2020-10-20T21:36:37.493890Z"
    }
   },
   "outputs": [],
   "source": [
    "index = np.where((mat_complet != 0) & (mat_binaire == 0))\n",
    "matrice_manquants = mat_manquants.copy()\n",
    "matrice_predite = mat_hat.copy()\n",
    "matrice_manquants[index] = matrice_predite[index]"
   ]
  },
  {
   "cell_type": "code",
   "execution_count": 33,
   "metadata": {
    "ExecuteTime": {
     "end_time": "2020-10-20T21:36:37.516724Z",
     "start_time": "2020-10-20T21:36:37.501849Z"
    }
   },
   "outputs": [
    {
     "name": "stdout",
     "output_type": "stream",
     "text": [
      "exp\\simulation_simple\\SimSimple_100_10_FMBT_v001_r15_imputation.mat\n"
     ]
    }
   ],
   "source": [
    "fichier_imputation = \"{:}_imputation.mat\".format(ch_experience_finale)\n",
    "save_mat_manquants = {\"mat\": matrice_manquants}\n",
    "sio.savemat(fichier_imputation, save_mat_manquants)\n",
    "tqdm.write(fichier_imputation)"
   ]
  },
  {
   "cell_type": "markdown",
   "metadata": {},
   "source": [
    "# Sauvegarder les information pour la présentation des résultats"
   ]
  },
  {
   "cell_type": "markdown",
   "metadata": {},
   "source": [
    "## Sauvegarder le tableau pour la comparaison intermodèles\n",
    "\n",
    "Éléments du tableau: \n",
    "- Performance du modèle (RMSE [entrainement, validation] et MAPE [validation])\n",
    "- Hyperparamètres utilisés (incluant le rang et autres paramètres d'intérêt)\n",
    "- Temps d'entrainement\n",
    "- Fichier d'entrainement (nom, dimensions, nombre de manquants, proportion de manquants)"
   ]
  },
  {
   "cell_type": "code",
   "execution_count": 34,
   "metadata": {
    "ExecuteTime": {
     "end_time": "2020-10-20T21:36:37.525211Z",
     "start_time": "2020-10-20T21:36:37.517767Z"
    }
   },
   "outputs": [],
   "source": [
    "temps_entrainement = end - start"
   ]
  },
  {
   "cell_type": "code",
   "execution_count": 35,
   "metadata": {
    "ExecuteTime": {
     "end_time": "2020-10-20T21:36:37.540912Z",
     "start_time": "2020-10-20T21:36:37.525211Z"
    }
   },
   "outputs": [],
   "source": [
    "base_manquants = len(np.where((mat_complet == 0))[0])\n",
    "entrainement_manquants = len(np.where((mat_binaire == 0))[0])\n",
    "obs_entrainement = len(np.where(mat_binaire != 0)[0])\n",
    "obs_test = len(np.where((mat_complet != 0) & (mat_binaire == 0))[0])\n",
    "\n",
    "dim1, dim2 = mat_complet.shape\n",
    "obs_totales = dim1 * dim2\n",
    "lignes, colonnes = mat_complet.shape"
   ]
  },
  {
   "cell_type": "code",
   "execution_count": 36,
   "metadata": {
    "ExecuteTime": {
     "end_time": "2020-10-20T21:36:37.556535Z",
     "start_time": "2020-10-20T21:36:37.540912Z"
    }
   },
   "outputs": [],
   "source": [
    "dict2 = {}\n",
    "\n",
    "dict2.update(\n",
    "    dict(modele=parametres[\"modele\"],\n",
    "         hyperparametres=str(param_utils),\n",
    "         rang=param_utils[\"rang\"],\n",
    "         test_rmse=perfo_fin[\"test_rmse\"],\n",
    "         test_mape= 0, #perfo_fin[\"test_mape\"],\n",
    "         train_rmse=perfo_fin[\"train_rmse\"],\n",
    "         gen_rmse= 0, #perfo_fin[\"gen_rmse\"]\n",
    "         temps=temps_entrainement,\n",
    "         nom_fichier=parametres[\"fichier_binaire\"],\n",
    "         lignes=lignes,\n",
    "         colonnes=colonnes,\n",
    "         obs_totales=obs_totales,\n",
    "         obs_test=obs_test,\n",
    "         obs_entrainement=obs_entrainement,\n",
    "         entrainement_manquants=entrainement_manquants,\n",
    "         base_manquants=base_manquants,\n",
    "         prop_manquants=parametres[\"manquants\"]))\n",
    "df_comparatif = pd.DataFrame(dict2, index=[0])"
   ]
  },
  {
   "cell_type": "code",
   "execution_count": 37,
   "metadata": {
    "ExecuteTime": {
     "end_time": "2020-10-20T21:36:37.572124Z",
     "start_time": "2020-10-20T21:36:37.556535Z"
    }
   },
   "outputs": [],
   "source": [
    "# Sauvegarder le fichier\n",
    "fichier_comparatif = os.path.join(parametres[\"dossier_experience\"], \"fichier_comparatif.csv\")\n",
    "df_comparatif.to_csv(fichier_comparatif, mode='a', header=False)"
   ]
  },
  {
   "cell_type": "markdown",
   "metadata": {},
   "source": [
    "## Sauvegarder les données pour la présentation graphique\n",
    "* Données utilisées pour la formation du nuage de points (prédiction c. réelles)"
   ]
  },
  {
   "cell_type": "code",
   "execution_count": 38,
   "metadata": {
    "ExecuteTime": {
     "end_time": "2020-10-20T21:36:37.635375Z",
     "start_time": "2020-10-20T21:36:37.572124Z"
    }
   },
   "outputs": [],
   "source": [
    "x_pred = mat_hat[index]\n",
    "y_original = mat_complet[index]\n",
    "\n",
    "df_comparaison = pd.DataFrame([x_pred, y_original]).T\n",
    "df_comparaison.columns = ['x_pred', 'y_original']"
   ]
  },
  {
   "cell_type": "code",
   "execution_count": 39,
   "metadata": {
    "ExecuteTime": {
     "end_time": "2020-10-20T21:36:37.663247Z",
     "start_time": "2020-10-20T21:36:37.636305Z"
    }
   },
   "outputs": [],
   "source": [
    "fichier_comparaison = \"{:}_comparaison.ftr\".format(ch_experience_finale)\n",
    "\n",
    "df_comparaison.to_feather(fichier_comparaison)"
   ]
  },
  {
   "cell_type": "code",
   "execution_count": 40,
   "metadata": {
    "ExecuteTime": {
     "end_time": "2020-10-20T21:36:37.679340Z",
     "start_time": "2020-10-20T21:36:37.663247Z"
    }
   },
   "outputs": [
    {
     "name": "stdout",
     "output_type": "stream",
     "text": [
      "exp\\simulation_simple\\SimSimple_100_10_FMBT_v001_r15_comparaison.ftr\n"
     ]
    }
   ],
   "source": [
    "tqdm.write(fichier_comparaison)"
   ]
  },
  {
   "cell_type": "code",
   "execution_count": null,
   "metadata": {},
   "outputs": [],
   "source": []
  }
 ],
 "metadata": {
  "hide_input": false,
  "kernelspec": {
   "display_name": "Python 3",
   "language": "python",
   "name": "python3"
  },
  "language_info": {
   "codemirror_mode": {
    "name": "ipython",
    "version": 3
   },
   "file_extension": ".py",
   "mimetype": "text/x-python",
   "name": "python",
   "nbconvert_exporter": "python",
   "pygments_lexer": "ipython3",
   "version": "3.7.7"
  },
  "nbTranslate": {
   "displayLangs": [
    "*"
   ],
   "hotkey": "alt-t",
   "langInMainMenu": true,
   "sourceLang": "en",
   "targetLang": "fr",
   "useGoogleTranslate": true
  },
  "toc": {
   "base_numbering": 1,
   "nav_menu": {},
   "number_sections": true,
   "sideBar": true,
   "skip_h1_title": false,
   "title_cell": "Table des matières",
   "title_sidebar": "Contents",
   "toc_cell": true,
   "toc_position": {},
   "toc_section_display": true,
   "toc_window_display": true
  },
  "varInspector": {
   "cols": {
    "lenName": 16,
    "lenType": 16,
    "lenVar": 40
   },
   "kernels_config": {
    "python": {
     "delete_cmd_postfix": "",
     "delete_cmd_prefix": "del ",
     "library": "var_list.py",
     "varRefreshCmd": "print(var_dic_list())"
    },
    "r": {
     "delete_cmd_postfix": ") ",
     "delete_cmd_prefix": "rm(",
     "library": "var_list.r",
     "varRefreshCmd": "cat(var_dic_list()) "
    }
   },
   "oldHeight": 207.20000000000002,
   "position": {
    "height": "228.8px",
    "left": "1089px",
    "right": "20px",
    "top": "-22px",
    "width": "443.8px"
   },
   "types_to_exclude": [
    "module",
    "function",
    "builtin_function_or_method",
    "instance",
    "_Feature"
   ],
   "varInspector_section_display": "block",
   "window_display": false
  }
 },
 "nbformat": 4,
 "nbformat_minor": 4
}
