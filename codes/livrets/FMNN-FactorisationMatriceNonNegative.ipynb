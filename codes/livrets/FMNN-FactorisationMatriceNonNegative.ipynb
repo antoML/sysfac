{
 "cells": [
  {
   "cell_type": "markdown",
   "metadata": {},
   "source": [
    "# Factorisation de matrice non-négative\n",
    "\n",
    ">Présentation de la méthode de base pour l'expérience : la factorisation de matrice non-négative (FMNN).\n",
    "\n",
    "\n",
    "\n",
    "\n",
    "## Recherches associées\n",
    ">Xihui Lin, Paul C. Boutros (2020). [**Optimization and expansion of non-negative matrix factorization.**](https://www.ncbi.nlm.nih.gov/pmc/articles/PMC6945623/)\n",
    "\n",
    "## Codes sources\n",
    ">[**Dépôt 1**](https://github.com/linxihui/NNLM) | *Version R*  \n",
    "\n",
    "## Autres documents \n",
    ">[**Infos paquet**](https://cran.r-project.org/web/packages/NMF/NMF.pdf)\n"
   ]
  },
  {
   "cell_type": "markdown",
   "metadata": {
    "toc": true
   },
   "source": [
    "<h1>Table des matières<span class=\"tocSkip\"></span></h1>\n",
    "<div class=\"toc\"><ul class=\"toc-item\"><li><span><a href=\"#Factorisation-de-matrice-non-négative\" data-toc-modified-id=\"Factorisation-de-matrice-non-négative-1\"><span class=\"toc-item-num\">1&nbsp;&nbsp;</span>Factorisation de matrice non-négative</a></span><ul class=\"toc-item\"><li><span><a href=\"#Recherches-associées\" data-toc-modified-id=\"Recherches-associées-1.1\"><span class=\"toc-item-num\">1.1&nbsp;&nbsp;</span>Recherches associées</a></span></li><li><span><a href=\"#Codes-sources\" data-toc-modified-id=\"Codes-sources-1.2\"><span class=\"toc-item-num\">1.2&nbsp;&nbsp;</span>Codes sources</a></span></li><li><span><a href=\"#Autres-documents\" data-toc-modified-id=\"Autres-documents-1.3\"><span class=\"toc-item-num\">1.3&nbsp;&nbsp;</span>Autres documents</a></span></li></ul></li><li><span><a href=\"#Mettre-l'environnement-en-place\" data-toc-modified-id=\"Mettre-l'environnement-en-place-2\"><span class=\"toc-item-num\">2&nbsp;&nbsp;</span>Mettre l'environnement en place</a></span></li><li><span><a href=\"#Charger-les-données-dans-l'environnement\" data-toc-modified-id=\"Charger-les-données-dans-l'environnement-3\"><span class=\"toc-item-num\">3&nbsp;&nbsp;</span>Charger les données dans l'environnement</a></span></li><li><span><a href=\"#Définir-les-fonctions-pour-le-modèle\" data-toc-modified-id=\"Définir-les-fonctions-pour-le-modèle-4\"><span class=\"toc-item-num\">4&nbsp;&nbsp;</span>Définir les fonctions pour le modèle</a></span><ul class=\"toc-item\"><li><span><a href=\"#Définir-les-fonctions-pour-le-calcul-de-l'erreur\" data-toc-modified-id=\"Définir-les-fonctions-pour-le-calcul-de-l'erreur-4.1\"><span class=\"toc-item-num\">4.1&nbsp;&nbsp;</span>Définir les fonctions pour le calcul de l'erreur</a></span></li></ul></li><li><span><a href=\"#Entrainer-le-modèle\" data-toc-modified-id=\"Entrainer-le-modèle-5\"><span class=\"toc-item-num\">5&nbsp;&nbsp;</span>Entrainer le modèle</a></span><ul class=\"toc-item\"><li><span><a href=\"#Générer-les-combinaisons-d'hyperparamètres\" data-toc-modified-id=\"Générer-les-combinaisons-d'hyperparamètres-5.1\"><span class=\"toc-item-num\">5.1&nbsp;&nbsp;</span>Générer les combinaisons d'hyperparamètres</a></span></li><li><span><a href=\"#Sélectionner-les-hyperparamètres-du-modèle\" data-toc-modified-id=\"Sélectionner-les-hyperparamètres-du-modèle-5.2\"><span class=\"toc-item-num\">5.2&nbsp;&nbsp;</span>Sélectionner les hyperparamètres du modèle</a></span><ul class=\"toc-item\"><li><span><a href=\"#Sauvegarder-les-informations-sur-la-sélection-des-hyperparamètres\" data-toc-modified-id=\"Sauvegarder-les-informations-sur-la-sélection-des-hyperparamètres-5.2.1\"><span class=\"toc-item-num\">5.2.1&nbsp;&nbsp;</span>Sauvegarder les informations sur la sélection des hyperparamètres</a></span><ul class=\"toc-item\"><li><span><a href=\"#Sauvegarder-les-informations-DURANT-l'entrainement\" data-toc-modified-id=\"Sauvegarder-les-informations-DURANT-l'entrainement-5.2.1.1\"><span class=\"toc-item-num\">5.2.1.1&nbsp;&nbsp;</span>Sauvegarder les informations DURANT l'entrainement</a></span></li><li><span><a href=\"#Sauvegarder-les-informations-FINALES-des-entrainements\" data-toc-modified-id=\"Sauvegarder-les-informations-FINALES-des-entrainements-5.2.1.2\"><span class=\"toc-item-num\">5.2.1.2&nbsp;&nbsp;</span>Sauvegarder les informations FINALES des entrainements</a></span></li></ul></li></ul></li><li><span><a href=\"#Entrainer-le-meilleur-modèle\" data-toc-modified-id=\"Entrainer-le-meilleur-modèle-5.3\"><span class=\"toc-item-num\">5.3&nbsp;&nbsp;</span>Entrainer le meilleur modèle</a></span><ul class=\"toc-item\"><li><span><a href=\"#Sauvegarder-les-informations-de-l'entrainement-du-meilleur-modèle\" data-toc-modified-id=\"Sauvegarder-les-informations-de-l'entrainement-du-meilleur-modèle-5.3.1\"><span class=\"toc-item-num\">5.3.1&nbsp;&nbsp;</span>Sauvegarder les informations de l'entrainement du meilleur modèle</a></span><ul class=\"toc-item\"><li><span><a href=\"#Sauvegarder-la-matrice-prédite\" data-toc-modified-id=\"Sauvegarder-la-matrice-prédite-5.3.1.1\"><span class=\"toc-item-num\">5.3.1.1&nbsp;&nbsp;</span>Sauvegarder la matrice prédite</a></span></li><li><span><a href=\"#Sauvegarder-avec-les-nouvelles-valeurs-imputées\" data-toc-modified-id=\"Sauvegarder-avec-les-nouvelles-valeurs-imputées-5.3.1.2\"><span class=\"toc-item-num\">5.3.1.2&nbsp;&nbsp;</span>Sauvegarder avec les nouvelles valeurs imputées</a></span></li></ul></li></ul></li></ul></li><li><span><a href=\"#Sauvegarder-les-informations-pour-la-présentation\" data-toc-modified-id=\"Sauvegarder-les-informations-pour-la-présentation-6\"><span class=\"toc-item-num\">6&nbsp;&nbsp;</span>Sauvegarder les informations pour la présentation</a></span><ul class=\"toc-item\"><li><span><a href=\"#Sauvegarder-le-tableau-pour-la-comparaison-intermodèles\" data-toc-modified-id=\"Sauvegarder-le-tableau-pour-la-comparaison-intermodèles-6.1\"><span class=\"toc-item-num\">6.1&nbsp;&nbsp;</span>Sauvegarder le tableau pour la comparaison intermodèles</a></span></li><li><span><a href=\"#Sauvegarder-les-données-pour-la-présentation-graphique\" data-toc-modified-id=\"Sauvegarder-les-données-pour-la-présentation-graphique-6.2\"><span class=\"toc-item-num\">6.2&nbsp;&nbsp;</span>Sauvegarder les données pour la présentation graphique</a></span></li></ul></li></ul></div>"
   ]
  },
  {
   "cell_type": "markdown",
   "metadata": {},
   "source": [
    "# Mettre l'environnement en place"
   ]
  },
  {
   "cell_type": "code",
   "execution_count": 1,
   "metadata": {
    "ExecuteTime": {
     "end_time": "2020-10-20T21:40:24.190071Z",
     "start_time": "2020-10-20T21:40:21.177Z"
    }
   },
   "outputs": [
    {
     "name": "stderr",
     "output_type": "stream",
     "text": [
      "Loading required package: usethis\n",
      "\n",
      "WARNING: Rtools is required to build R packages, but the version of Rtools previously installed in C:/rtools40 has been deleted.\n",
      "\n",
      "Please download and install Rtools custom from http://cran.r-project.org/bin/windows/Rtools/.\n",
      "\n",
      "Skipping install of 'NNLM' from a github remote, the SHA1 (5f16ce7b) has not changed since last install.\n",
      "  Use `force = TRUE` to force installation\n",
      "\n"
     ]
    }
   ],
   "source": [
    "# Installer les paquets s'ils sont manquants\n",
    "pac = c(\"devtools\", \"R.matlab\", \"feather\", \"stringr\")\n",
    "\n",
    "library(devtools)\n",
    "install_github(\"linxihui/NNLM\")\n",
    "\n",
    "new_pac <- pac[!(pac %in% installed.packages()[, \"Package\"])]\n",
    "if (length(new_pac)) install.packages(new_pac)"
   ]
  },
  {
   "cell_type": "code",
   "execution_count": 2,
   "metadata": {
    "ExecuteTime": {
     "end_time": "2020-10-20T21:40:24.618302Z",
     "start_time": "2020-10-20T21:40:21.217Z"
    }
   },
   "outputs": [
    {
     "name": "stderr",
     "output_type": "stream",
     "text": [
      "R.matlab v3.6.2 (2018-09-26) successfully loaded. See ?R.matlab for help.\n",
      "\n",
      "\n",
      "Attaching package: 'R.matlab'\n",
      "\n",
      "\n",
      "The following objects are masked from 'package:base':\n",
      "\n",
      "    getOption, isOpen\n",
      "\n",
      "\n",
      "\n",
      "Attaching package: 'dplyr'\n",
      "\n",
      "\n",
      "The following objects are masked from 'package:plyr':\n",
      "\n",
      "    arrange, count, desc, failwith, id, mutate, rename, summarise,\n",
      "    summarize\n",
      "\n",
      "\n",
      "The following objects are masked from 'package:stats':\n",
      "\n",
      "    filter, lag\n",
      "\n",
      "\n",
      "The following objects are masked from 'package:base':\n",
      "\n",
      "    intersect, setdiff, setequal, union\n",
      "\n",
      "\n"
     ]
    }
   ],
   "source": [
    "# Charger les données\n",
    "library(R.matlab)\n",
    "\n",
    "# Manipuler les données\n",
    "library(plyr)\n",
    "library(dplyr)\n",
    "library(stringr)\n",
    "\n",
    "# Uniformiser le format des données\n",
    "library(feather)\n",
    "\n",
    "# Méthode utilisée\n",
    "library(NNLM)"
   ]
  },
  {
   "cell_type": "markdown",
   "metadata": {},
   "source": [
    "# Charger les données dans l'environnement"
   ]
  },
  {
   "cell_type": "code",
   "execution_count": 3,
   "metadata": {
    "ExecuteTime": {
     "end_time": "2020-10-20T21:40:24.649558Z",
     "start_time": "2020-10-20T21:40:21.278Z"
    }
   },
   "outputs": [],
   "source": [
    "parameters <- list()\n",
    "\n",
    "setwd(\"./\")\n",
    "\n",
    "## Fichiers\n",
    "parameters$dossier_donnees = \"data\"\n",
    "parameters$dossier_experience = \"exp\"\n",
    "parameters$sousdossier = \"simulation_simple\"\n",
    "parameters$fichier.donnees = \"SimSimple_100\"\n",
    "parameters$fichier.binaire = paste0(parameters$fichier.donnees,\"_\", \"10\")\n",
    "parameters$modele = \"FMNN\""
   ]
  },
  {
   "cell_type": "code",
   "execution_count": 4,
   "metadata": {
    "ExecuteTime": {
     "end_time": "2020-10-20T21:40:24.683070Z",
     "start_time": "2020-10-20T21:40:21.315Z"
    }
   },
   "outputs": [
    {
     "name": "stderr",
     "output_type": "stream",
     "text": [
      "Warning message in dir.create(file.path(parameters$dossier_experience, parameters$sousdossier)):\n",
      "\"'exp\\simulation_simple' existe déjà\"\n"
     ]
    }
   ],
   "source": [
    "# Créer le dossier d'experiences s'il n'existe pas\n",
    "dir.create(file.path(parameters$dossier_experience, parameters$sousdossier))"
   ]
  },
  {
   "cell_type": "code",
   "execution_count": 5,
   "metadata": {
    "ExecuteTime": {
     "end_time": "2020-10-20T21:40:24.706394Z",
     "start_time": "2020-10-20T21:40:21.347Z"
    }
   },
   "outputs": [],
   "source": [
    "ch.fichier.donnees <- paste0(file.path(parameters$dossier_donnees,\n",
    "                                       parameters$sousdossier, \n",
    "                                       parameters$fichier.donnees),\n",
    "                             \".mat\")\n",
    "mat.complet <- readMat(ch.fichier.donnees)\n",
    "mat.complet<- mat.complet$mat"
   ]
  },
  {
   "cell_type": "code",
   "execution_count": 6,
   "metadata": {
    "ExecuteTime": {
     "end_time": "2020-10-20T21:40:24.753265Z",
     "start_time": "2020-10-20T21:40:21.380Z"
    }
   },
   "outputs": [],
   "source": [
    "ch.fichier.binaire <- paste0(file.path(parameters$dossier_donnees, \n",
    "                                       parameters$sousdossier,\n",
    "                                       parameters$fichier.binaire), \n",
    "                             \".mat\")\n",
    "mat.binaire <- readMat(ch.fichier.binaire)\n",
    "mat.binaire<- mat.binaire$mat"
   ]
  },
  {
   "cell_type": "code",
   "execution_count": 7,
   "metadata": {
    "ExecuteTime": {
     "end_time": "2020-10-20T21:40:24.796724Z",
     "start_time": "2020-10-20T21:40:21.419Z"
    }
   },
   "outputs": [
    {
     "name": "stdout",
     "output_type": "stream",
     "text": [
      "integer(0)\n"
     ]
    }
   ],
   "source": [
    "# Créer la matrice de données manquantes\n",
    "manq.mat <- mat.complet * mat.binaire\n",
    "\n",
    "\n",
    "index = which(mat.binaire == 0)\n",
    "\n",
    "index.test <- which((mat.binaire == 0) & (mat.complet != 0))\n",
    "index.train <- which(mat.binaire != 0)\n",
    "index.gen <- seq(dim(mat.complet)[1] * dim(mat.complet)[2])\n",
    "\n",
    "\n",
    "index.manquants = which(mat.binaire == 0 | mat.complet == 0)\n",
    "manq.mat[index.manquants] <- NA\n",
    "print(which(manq.mat == 0))"
   ]
  },
  {
   "cell_type": "markdown",
   "metadata": {},
   "source": [
    "# Définir les fonctions pour le modèle"
   ]
  },
  {
   "cell_type": "markdown",
   "metadata": {},
   "source": [
    "## Définir les fonctions pour le calcul de l'erreur\n",
    "* Erreur quadratique moyenne (EQM)\n",
    "* Pourcentage d'erreur absolue moyen (PEAM)\n",
    "\n",
    "*En anglais : root mean square error (RMSE), mean absolute percentage error (MAPE)*"
   ]
  },
  {
   "cell_type": "code",
   "execution_count": 8,
   "metadata": {
    "ExecuteTime": {
     "end_time": "2020-10-20T21:40:24.807564Z",
     "start_time": "2020-10-20T21:40:21.484Z"
    }
   },
   "outputs": [],
   "source": [
    "RMSE <- function(val_orig, val_pred, index) {\n",
    "    rmse <- sqrt(sum((val_orig[index] - val_pred[index])^2)/length(val_orig[index]))\n",
    "    rmse\n",
    "}"
   ]
  },
  {
   "cell_type": "code",
   "execution_count": 9,
   "metadata": {
    "ExecuteTime": {
     "end_time": "2020-10-20T21:40:24.838823Z",
     "start_time": "2020-10-20T21:40:21.512Z"
    }
   },
   "outputs": [],
   "source": [
    "MAPE <- function(val_orig, val_pred, index) {\n",
    "    mape <- sum(abs(val_orig[index] - val_pred[index])/val_orig[index])/length(val_orig[index])\n",
    "    mape <- format(mape, digits = 6)\n",
    "    mape\n",
    "}"
   ]
  },
  {
   "cell_type": "markdown",
   "metadata": {},
   "source": [
    "# Entrainer le modèle"
   ]
  },
  {
   "cell_type": "code",
   "execution_count": 10,
   "metadata": {
    "ExecuteTime": {
     "end_time": "2020-10-20T21:40:24.854442Z",
     "start_time": "2020-10-20T21:40:21.554Z"
    }
   },
   "outputs": [],
   "source": [
    "# Chemin général vers l'expérience du modèle\n",
    "ch.fichier.experience <- paste0(file.path(parameters$dossier_experience,\n",
    "                                       parameters$sousdossier, \n",
    "                                       parameters$fichier.binaire),\n",
    "                             \"_\",\n",
    "                             \"FMNN\")"
   ]
  },
  {
   "cell_type": "code",
   "execution_count": 11,
   "metadata": {
    "ExecuteTime": {
     "end_time": "2020-10-20T21:40:24.872452Z",
     "start_time": "2020-10-20T21:40:21.584Z"
    }
   },
   "outputs": [],
   "source": [
    "maxiter = 1000"
   ]
  },
  {
   "cell_type": "markdown",
   "metadata": {},
   "source": [
    "## Générer les combinaisons d'hyperparamètres\n",
    "\n",
    "Pour ce modèle, les hyperparamètres sont : \n",
    "* Rang\n",
    "* Algorithme d'optimisation"
   ]
  },
  {
   "cell_type": "code",
   "execution_count": 12,
   "metadata": {
    "ExecuteTime": {
     "end_time": "2020-10-20T21:40:24.903705Z",
     "start_time": "2020-10-20T21:40:21.628Z"
    }
   },
   "outputs": [
    {
     "data": {
      "text/html": [
       "'Le nombre de combinaisons possibles est: 18'"
      ],
      "text/latex": [
       "'Le nombre de combinaisons possibles est: 18'"
      ],
      "text/markdown": [
       "'Le nombre de combinaisons possibles est: 18'"
      ],
      "text/plain": [
       "[1] \"Le nombre de combinaisons possibles est: 18\""
      ]
     },
     "metadata": {},
     "output_type": "display_data"
    }
   ],
   "source": [
    "rang_list = seq(from = 10, to = 50, by = 5)\n",
    "algorithme = list(\"lee\", \"scd\")\n",
    "\n",
    "nombre.combinaisons <- length(rang_list) * length(algorithme)\n",
    "sprintf(\"Le nombre de combinaisons possibles est: %i\", nombre.combinaisons)"
   ]
  },
  {
   "cell_type": "markdown",
   "metadata": {},
   "source": [
    "## Sélectionner les hyperparamètres du modèle"
   ]
  },
  {
   "cell_type": "code",
   "execution_count": 13,
   "metadata": {
    "ExecuteTime": {
     "end_time": "2020-10-20T21:44:00.123661Z",
     "start_time": "2020-10-20T21:40:21.684Z"
    },
    "scrolled": true
   },
   "outputs": [
    {
     "name": "stderr",
     "output_type": "stream",
     "text": [
      "Paramètres utilisés:\n",
      " Rang: 10\n",
      " Algorithme: lee\n",
      "\n",
      "\n",
      "Paramètres utilisés:\n",
      " Rang: 10\n",
      " Algorithme: scd\n",
      "\n",
      "\n",
      "Paramètres utilisés:\n",
      " Rang: 15\n",
      " Algorithme: lee\n",
      "\n",
      "\n",
      "Warning message in c_nnmf(A, as.integer(k), init.mask$Wi, init.mask$Hi, init.mask$Wm, :\n",
      "\"Target tolerance not reached. Try a larger max.iter.\"\n",
      "Paramètres utilisés:\n",
      " Rang: 15\n",
      " Algorithme: scd\n",
      "\n",
      "\n",
      "Paramètres utilisés:\n",
      " Rang: 20\n",
      " Algorithme: lee\n",
      "\n",
      "\n",
      "Paramètres utilisés:\n",
      " Rang: 20\n",
      " Algorithme: scd\n",
      "\n",
      "\n",
      "Paramètres utilisés:\n",
      " Rang: 25\n",
      " Algorithme: lee\n",
      "\n",
      "\n",
      "Paramètres utilisés:\n",
      " Rang: 25\n",
      " Algorithme: scd\n",
      "\n",
      "\n",
      "Paramètres utilisés:\n",
      " Rang: 30\n",
      " Algorithme: lee\n",
      "\n",
      "\n",
      "Warning message in c_nnmf(A, as.integer(k), init.mask$Wi, init.mask$Hi, init.mask$Wm, :\n",
      "\"Target tolerance not reached. Try a larger max.iter.\"\n",
      "Paramètres utilisés:\n",
      " Rang: 30\n",
      " Algorithme: scd\n",
      "\n",
      "\n",
      "Paramètres utilisés:\n",
      " Rang: 35\n",
      " Algorithme: lee\n",
      "\n",
      "\n",
      "Warning message in c_nnmf(A, as.integer(k), init.mask$Wi, init.mask$Hi, init.mask$Wm, :\n",
      "\"Target tolerance not reached. Try a larger max.iter.\"\n",
      "Paramètres utilisés:\n",
      " Rang: 35\n",
      " Algorithme: scd\n",
      "\n",
      "\n",
      "Paramètres utilisés:\n",
      " Rang: 40\n",
      " Algorithme: lee\n",
      "\n",
      "\n",
      "Warning message in c_nnmf(A, as.integer(k), init.mask$Wi, init.mask$Hi, init.mask$Wm, :\n",
      "\"Target tolerance not reached. Try a larger max.iter.\"\n",
      "Paramètres utilisés:\n",
      " Rang: 40\n",
      " Algorithme: scd\n",
      "\n",
      "\n",
      "Paramètres utilisés:\n",
      " Rang: 45\n",
      " Algorithme: lee\n",
      "\n",
      "\n",
      "Warning message in c_nnmf(A, as.integer(k), init.mask$Wi, init.mask$Hi, init.mask$Wm, :\n",
      "\"Target tolerance not reached. Try a larger max.iter.\"\n",
      "Paramètres utilisés:\n",
      " Rang: 45\n",
      " Algorithme: scd\n",
      "\n",
      "\n",
      "Paramètres utilisés:\n",
      " Rang: 50\n",
      " Algorithme: lee\n",
      "\n",
      "\n",
      "Warning message in c_nnmf(A, as.integer(k), init.mask$Wi, init.mask$Hi, init.mask$Wm, :\n",
      "\"Target tolerance not reached. Try a larger max.iter.\"\n",
      "Paramètres utilisés:\n",
      " Rang: 50\n",
      " Algorithme: scd\n",
      "\n",
      "\n"
     ]
    }
   ],
   "source": [
    "index.entrainements = 0\n",
    "entrainement.final <- list()\n",
    "for (i in rang_list) {\n",
    "    for (j in algorithme) {\n",
    "        parametres <- list(rang = i, algorithme = j)\n",
    "        \n",
    "        # Indiquer les paramÃ¨tres utilisÃ©s\n",
    "        message(\"Paramètres utilisés:\\n Rang: \",\n",
    "                i,\n",
    "                \"\\n Algorithme: \",\n",
    "                j,\n",
    "                \"\\n\")\n",
    "        \n",
    "        entrainement <- NNLM::nnmf(manq.mat, k = i, loss = \"mse\", method = j, max.iter = maxiter, trace = 1, check.k = FALSE)\n",
    "        \n",
    "        mat_hat <- entrainement$W %*% entrainement$H\n",
    "        \n",
    "        rmse.test <- RMSE(mat.complet, mat_hat, index)\n",
    "        rmse.train <- RMSE(mat.complet, mat_hat, index.train)\n",
    "        rmse.gen <- RMSE(mat.complet, mat_hat, index.gen)\n",
    "        mape.test <- MAPE(mat.complet, mat_hat, index.test)\n",
    "        \n",
    "        perfo.finale <-\n",
    "            list(\n",
    "                rmse.test = rmse.test,\n",
    "                rmse.train = rmse.train,\n",
    "                rmse.gen = rmse.gen,\n",
    "                mape.test = mape.test\n",
    "            )\n",
    "        entrainement$perfo.finale <- perfo.finale\n",
    "        \n",
    "        metriques.listes = list(\n",
    "            rmse_train = sqrt(entrainement$mse)\n",
    "        )\n",
    "        index.entrainements <- index.entrainements + 1\n",
    "        \n",
    "        elements = list(\n",
    "            parametres = parametres,\n",
    "            metriques_listes = metriques.listes,\n",
    "            metriques_finales = entrainement$perfo.finale\n",
    "        )\n",
    "        entrainement.final[index.entrainements] <- list(elements)\n",
    "        \n",
    "        \n",
    "    }\n",
    "}"
   ]
  },
  {
   "cell_type": "markdown",
   "metadata": {},
   "source": [
    "### Sauvegarder les informations sur la sélection des hyperparamètres"
   ]
  },
  {
   "cell_type": "markdown",
   "metadata": {},
   "source": [
    "#### Sauvegarder les informations DURANT l'entrainement"
   ]
  },
  {
   "cell_type": "code",
   "execution_count": 14,
   "metadata": {
    "ExecuteTime": {
     "end_time": "2020-10-20T21:44:00.196074Z",
     "start_time": "2020-10-20T21:40:21.754Z"
    }
   },
   "outputs": [],
   "source": [
    "# Formater le fichier pour la sauvegarde\n",
    "## Créer le dataframe\n",
    "dataframe <- data.frame()\n",
    "for (i in seq(length(entrainement.final))) {\n",
    "    l <- entrainement.final[[i]]$metriques_listes\n",
    "    r <- entrainement.final[[i]]$parametres$rang\n",
    "    a <- entrainement.final[[i]]$parametres$algorithme\n",
    "    \n",
    "    \n",
    "    df <- do.call(\"rbind\", l)\n",
    "    df <- t(df)\n",
    "    df <- as.data.frame(df)\n",
    "    \n",
    "    longueur <- dim(df)[1]\n",
    "    index.loop <- rep(i, longueur)\n",
    "    rang.train <- rep(r, longueur)\n",
    "    algorithme.train <- rep(a, longueur)\n",
    "    \n",
    "    index.train <- seq(1, longueur)\n",
    "    \n",
    "    df <- cbind(df, index.loop)\n",
    "    df <- cbind(df, index.train)\n",
    "    df <- cbind(df, rang.train)\n",
    "    df <- cbind(df, algorithme.train)\n",
    "    \n",
    "    dataframe <- rbind(dataframe, df)\n",
    "}\n",
    "\n",
    "# Spécifier les format de données\n",
    "dataframe$test_rmse_list = 0 #as.numeric(dataframe$rmse_test)\n",
    "dataframe$train_rmse_list = as.numeric(dataframe$rmse_train)\n",
    "dataframe$gen_rmse_list = 0 #as.numeric(dataframe$rmse_gen)\n",
    "dataframe$test_mape_list = 0 #as.numeric(dataframe$mape_test)\n",
    "dataframe$entrainement_no = as.numeric(dataframe$index.loop)\n",
    "dataframe$index = as.numeric(dataframe$index.train)\n",
    "dataframe$algorithme = as.character(dataframe$algorithme.train)\n",
    "dataframe$rang = as.numeric(dataframe$rang.train)"
   ]
  },
  {
   "cell_type": "code",
   "execution_count": 15,
   "metadata": {
    "ExecuteTime": {
     "end_time": "2020-10-20T21:44:00.248178Z",
     "start_time": "2020-10-20T21:40:21.803Z"
    }
   },
   "outputs": [
    {
     "data": {
      "text/html": [
       "'exp/simulation_simple/SimSimple_100_10_FMNN_HyperparametresEntrainement.ftr'"
      ],
      "text/latex": [
       "'exp/simulation\\_simple/SimSimple\\_100\\_10\\_FMNN\\_HyperparametresEntrainement.ftr'"
      ],
      "text/markdown": [
       "'exp/simulation_simple/SimSimple_100_10_FMNN_HyperparametresEntrainement.ftr'"
      ],
      "text/plain": [
       "[1] \"exp/simulation_simple/SimSimple_100_10_FMNN_HyperparametresEntrainement.ftr\""
      ]
     },
     "metadata": {},
     "output_type": "display_data"
    }
   ],
   "source": [
    "# Sauvegarder le fichier\n",
    "fichier.HyperEntrainement <- paste0(ch.fichier.experience,\n",
    "                                    \"_\",\n",
    "                                    \"HyperparametresEntrainement.ftr\")\n",
    "write_feather(dataframe, fichier.HyperEntrainement)\n",
    "fichier.HyperEntrainement"
   ]
  },
  {
   "cell_type": "markdown",
   "metadata": {},
   "source": [
    "#### Sauvegarder les informations FINALES des entrainements"
   ]
  },
  {
   "cell_type": "code",
   "execution_count": 16,
   "metadata": {
    "ExecuteTime": {
     "end_time": "2020-10-20T21:44:00.323181Z",
     "start_time": "2020-10-20T21:40:21.845Z"
    }
   },
   "outputs": [],
   "source": [
    "# Formater le fichier pour la sauvegarde\n",
    "df.finaux <- data.frame()\n",
    "for (i in seq(length(entrainement.final))) {\n",
    "    p <- entrainement.final[[i]]$parametres\n",
    "    mf <- entrainement.final[[i]]$metriques_finales\n",
    "    mfp <- append(p, mf)\n",
    "    df <- t(do.call(\"rbind\", mfp))\n",
    "    \n",
    "    df.finaux <- rbind(df.finaux, df)\n",
    "}\n",
    "cols.num <- c(\"rmse.test\", \"rmse.train\", \"rmse.gen\", \"mape.test\", \"rang\")\n",
    "\n",
    "# Spécifier les formats de données\n",
    "df.finaux[cols.num] <- sapply(df.finaux[cols.num], as.character)\n",
    "df.finaux[cols.num] <- sapply(df.finaux[cols.num], as.numeric)\n",
    "df.finaux$algorithme <- as.character(df.finaux$algorithme)\n",
    "df.finaux <- df.finaux %>% rename(rmse_test = rmse.test, \n",
    "                                  rmse_train = rmse.train, \n",
    "                                  rmse_gen = rmse.gen, \n",
    "                                  mape_test = mape.test)"
   ]
  },
  {
   "cell_type": "code",
   "execution_count": 17,
   "metadata": {
    "ExecuteTime": {
     "end_time": "2020-10-20T21:44:00.359180Z",
     "start_time": "2020-10-20T21:40:21.875Z"
    }
   },
   "outputs": [
    {
     "data": {
      "text/html": [
       "'exp/simulation_simple/SimSimple_100_10_FMNN_HyperparametresFinaux.ftr'"
      ],
      "text/latex": [
       "'exp/simulation\\_simple/SimSimple\\_100\\_10\\_FMNN\\_HyperparametresFinaux.ftr'"
      ],
      "text/markdown": [
       "'exp/simulation_simple/SimSimple_100_10_FMNN_HyperparametresFinaux.ftr'"
      ],
      "text/plain": [
       "[1] \"exp/simulation_simple/SimSimple_100_10_FMNN_HyperparametresFinaux.ftr\""
      ]
     },
     "metadata": {},
     "output_type": "display_data"
    }
   ],
   "source": [
    "# Sauvegarder le fichier\n",
    "fichier.HyperFinaux <- paste0(ch.fichier.experience,\n",
    "                                    \"_\",\n",
    "                                    \"HyperparametresFinaux.ftr\")\n",
    "write_feather(dataframe, fichier.HyperFinaux)\n",
    "fichier.HyperFinaux"
   ]
  },
  {
   "cell_type": "markdown",
   "metadata": {},
   "source": [
    "## Entrainer le meilleur modèle\n",
    "\n",
    "* Choisir la combinaison d'hyperparamètres qui donne la plus petite erreur finale sur l'échantillon test."
   ]
  },
  {
   "cell_type": "code",
   "execution_count": 18,
   "metadata": {
    "ExecuteTime": {
     "end_time": "2020-10-20T21:44:00.389471Z",
     "start_time": "2020-10-20T21:40:21.921Z"
    }
   },
   "outputs": [
    {
     "data": {
      "text/html": [
       "<table>\n",
       "<caption>A data.frame: 1 × 6</caption>\n",
       "<thead>\n",
       "\t<tr><th></th><th scope=col>rang</th><th scope=col>algorithme</th><th scope=col>rmse_test</th><th scope=col>rmse_train</th><th scope=col>rmse_gen</th><th scope=col>mape_test</th></tr>\n",
       "\t<tr><th></th><th scope=col>&lt;dbl&gt;</th><th scope=col>&lt;chr&gt;</th><th scope=col>&lt;dbl&gt;</th><th scope=col>&lt;dbl&gt;</th><th scope=col>&lt;dbl&gt;</th><th scope=col>&lt;dbl&gt;</th></tr>\n",
       "</thead>\n",
       "<tbody>\n",
       "\t<tr><th scope=row>6</th><td>20</td><td>scd</td><td>1.283506</td><td>0.7997295</td><td>0.8621005</td><td>0.00319705</td></tr>\n",
       "</tbody>\n",
       "</table>\n"
      ],
      "text/latex": [
       "A data.frame: 1 × 6\n",
       "\\begin{tabular}{r|llllll}\n",
       "  & rang & algorithme & rmse\\_test & rmse\\_train & rmse\\_gen & mape\\_test\\\\\n",
       "  & <dbl> & <chr> & <dbl> & <dbl> & <dbl> & <dbl>\\\\\n",
       "\\hline\n",
       "\t6 & 20 & scd & 1.283506 & 0.7997295 & 0.8621005 & 0.00319705\\\\\n",
       "\\end{tabular}\n"
      ],
      "text/markdown": [
       "\n",
       "A data.frame: 1 × 6\n",
       "\n",
       "| <!--/--> | rang &lt;dbl&gt; | algorithme &lt;chr&gt; | rmse_test &lt;dbl&gt; | rmse_train &lt;dbl&gt; | rmse_gen &lt;dbl&gt; | mape_test &lt;dbl&gt; |\n",
       "|---|---|---|---|---|---|---|\n",
       "| 6 | 20 | scd | 1.283506 | 0.7997295 | 0.8621005 | 0.00319705 |\n",
       "\n"
      ],
      "text/plain": [
       "  rang algorithme rmse_test rmse_train rmse_gen  mape_test \n",
       "6 20   scd        1.283506  0.7997295  0.8621005 0.00319705"
      ]
     },
     "metadata": {},
     "output_type": "display_data"
    }
   ],
   "source": [
    "min.test <- df.finaux[which.min(df.finaux$rmse_test), ]\n",
    "min.test"
   ]
  },
  {
   "cell_type": "code",
   "execution_count": 19,
   "metadata": {
    "ExecuteTime": {
     "end_time": "2020-10-20T21:44:00.411466Z",
     "start_time": "2020-10-20T21:40:21.948Z"
    }
   },
   "outputs": [],
   "source": [
    "rang = min.test$rang\n",
    "algorithme = min.test$algorithme"
   ]
  },
  {
   "cell_type": "code",
   "execution_count": 20,
   "metadata": {
    "ExecuteTime": {
     "end_time": "2020-10-20T21:44:05.928626Z",
     "start_time": "2020-10-20T21:40:21.974Z"
    }
   },
   "outputs": [],
   "source": [
    "# Entrainer le modèle\n",
    "start_time <- Sys.time()\n",
    "entrainement <- NNLM::nnmf(manq.mat, \n",
    "                           k = rang, \n",
    "                           loss = \"mse\", \n",
    "                           method = algorithme, \n",
    "                           max.iter = maxiter,\n",
    "                           trace = 1, \n",
    "                           check.k = FALSE)\n",
    "end_time <- Sys.time()"
   ]
  },
  {
   "cell_type": "code",
   "execution_count": 21,
   "metadata": {
    "ExecuteTime": {
     "end_time": "2020-10-20T21:44:05.966682Z",
     "start_time": "2020-10-20T21:40:21.998Z"
    }
   },
   "outputs": [],
   "source": [
    "# Obtenir la matrice imputée en multipliant les matrices latentes\n",
    "U <- entrainement$W\n",
    "V <- entrainement$H\n",
    "mat_hat <- U %*% V"
   ]
  },
  {
   "cell_type": "markdown",
   "metadata": {},
   "source": [
    "### Sauvegarder les informations de l'entrainement du meilleur modèle"
   ]
  },
  {
   "cell_type": "code",
   "execution_count": 22,
   "metadata": {
    "ExecuteTime": {
     "end_time": "2020-10-20T21:44:05.988684Z",
     "start_time": "2020-10-20T21:40:22.034Z"
    }
   },
   "outputs": [],
   "source": [
    "ch.experience.finale <- paste0(ch.fichier.experience, \n",
    "                                    \"_r\",\n",
    "                                    rang,\n",
    "                                    \"-\", \n",
    "                                    algorithme)"
   ]
  },
  {
   "cell_type": "markdown",
   "metadata": {},
   "source": [
    "#### Sauvegarder la matrice prédite"
   ]
  },
  {
   "cell_type": "code",
   "execution_count": 23,
   "metadata": {
    "ExecuteTime": {
     "end_time": "2020-10-20T21:44:07.642998Z",
     "start_time": "2020-10-20T21:40:22.070Z"
    }
   },
   "outputs": [],
   "source": [
    "# Sauvegarder la matrice prédite\n",
    "fichier.prediction <- paste0(ch.experience.finale,\n",
    "                             \"_\",\n",
    "                             \"prediction\",\n",
    "                             \".mat\")\n",
    "\n",
    "writeMat(fichier.prediction, mat = mat_hat)"
   ]
  },
  {
   "cell_type": "code",
   "execution_count": 24,
   "metadata": {
    "ExecuteTime": {
     "end_time": "2020-10-20T21:44:07.672001Z",
     "start_time": "2020-10-20T21:40:22.095Z"
    }
   },
   "outputs": [
    {
     "name": "stdout",
     "output_type": "stream",
     "text": [
      "[1] \"exp/simulation_simple/SimSimple_100_10_FMNN_r20-scd_prediction.mat\"\n"
     ]
    }
   ],
   "source": [
    "print(fichier.prediction)"
   ]
  },
  {
   "cell_type": "markdown",
   "metadata": {},
   "source": [
    "#### Sauvegarder avec les nouvelles valeurs imputées\n",
    "\n",
    "* Garder la matrice de données originales et imputer seulement les valeurs manquantes"
   ]
  },
  {
   "cell_type": "code",
   "execution_count": 25,
   "metadata": {
    "ExecuteTime": {
     "end_time": "2020-10-20T21:44:07.697000Z",
     "start_time": "2020-10-20T21:40:22.134Z"
    }
   },
   "outputs": [],
   "source": [
    "index = which((mat.complet != 0) & (mat.binaire == 0))\n",
    "\n",
    "matrice.manquants = manq.mat # Pour garder les informations de l'autre matrice\n",
    "matrice.predite = mat_hat\n",
    "matrice.manquants[index] = matrice.predite[index]"
   ]
  },
  {
   "cell_type": "code",
   "execution_count": 26,
   "metadata": {
    "ExecuteTime": {
     "end_time": "2020-10-20T21:44:09.915582Z",
     "start_time": "2020-10-20T21:40:22.162Z"
    }
   },
   "outputs": [
    {
     "name": "stdout",
     "output_type": "stream",
     "text": [
      "[1] \"exp/simulation_simple/SimSimple_100_10_FMNN_r20-scd_imputation.mat\"\n"
     ]
    }
   ],
   "source": [
    "# Sauvegarder la matrice de valeurs imputées\n",
    "fichier.imputation <- paste0(ch.experience.finale,\n",
    "                             \"_\",\n",
    "                             \"imputation\",\n",
    "                             \".mat\")\n",
    "\n",
    "writeMat(fichier.imputation, mat = matrice.manquants)\n",
    "print(fichier.imputation)"
   ]
  },
  {
   "cell_type": "markdown",
   "metadata": {},
   "source": [
    "# Sauvegarder les informations pour la présentation\n",
    "\n"
   ]
  },
  {
   "cell_type": "markdown",
   "metadata": {},
   "source": [
    "## Sauvegarder le tableau pour la comparaison intermodèles\n",
    "\n",
    "Éléments du tableau: \n",
    "- Performance du modèle (RMSE [entrainement, validation] et MAPE [validation])\n",
    "- Hyperparamètres utilisés (incluant le rang et autres paramètres d'intérêt)\n",
    "- Temps d'entrainement\n",
    "- Fichier d'entrainement (nom, dimensions, nombre de manquants, proportion de manquants)"
   ]
  },
  {
   "cell_type": "code",
   "execution_count": 27,
   "metadata": {
    "ExecuteTime": {
     "end_time": "2020-10-20T21:44:09.948583Z",
     "start_time": "2020-10-20T21:40:22.211Z"
    }
   },
   "outputs": [],
   "source": [
    "# Calculer les statistiques descriptives de base de la matrice de données\n",
    "base_manquants = length(which(mat.complet == 0))\n",
    "entrainement_manquants = length(which(mat.binaire == 0))\n",
    "\n",
    "obs_entrainement <- length(which(mat.binaire != 0))\n",
    "obs_test <- length(which((mat.complet != 0) & (mat.binaire == 0)))\n",
    "\n",
    "lignes <- dim(mat.complet)[1]\n",
    "colonnes <- dim(mat.complet)[2]\n",
    "\n",
    "obs_totales <- lignes * colonnes\n",
    "\n",
    "prop_manquants = base_manquants/obs_totales"
   ]
  },
  {
   "cell_type": "code",
   "execution_count": 28,
   "metadata": {
    "ExecuteTime": {
     "end_time": "2020-10-20T21:44:09.971581Z",
     "start_time": "2020-10-20T21:40:22.236Z"
    }
   },
   "outputs": [],
   "source": [
    "temps.entrainement <- end_time - start_time\n",
    "temps.entrainement <- format(as.numeric(temps.entrainement), digits = 6)"
   ]
  },
  {
   "cell_type": "code",
   "execution_count": 29,
   "metadata": {
    "ExecuteTime": {
     "end_time": "2020-10-20T21:44:10.012578Z",
     "start_time": "2020-10-20T21:40:22.278Z"
    }
   },
   "outputs": [],
   "source": [
    "# Formater le fichier pour la sauvegarde\n",
    "performance_finale <- entrainement$perfo.finale\n",
    "liste.finale <- list(modele = parameters$modele, \n",
    "                     hyperparametres = algorithme, \n",
    "                     rang = rang, \n",
    "                     test_rmse = performance_finale$rmse.test,\n",
    "                     test_mape = performance_finale$mape.test, \n",
    "                     train_rmse = performance_finale$rmse.train,\n",
    "                     gen_rmse = performance_finale$rmse.gen, \n",
    "                     temps = temps.entrainement,\n",
    "                     nom_fichier = parameters$fichier.binaire,\n",
    "                     lignes = lignes,\n",
    "                     colonnes = colonnes, \n",
    "                     obs_totales = obs_totales,\n",
    "                     obs_test = obs_test,\n",
    "                     obs_entrainement = obs_entrainement,\n",
    "                     entrainement_manquants = entrainement_manquants,\n",
    "                     base_manquants = base_manquants, \n",
    "                     prop_manquants = prop_manquants)\n",
    "\n",
    "df.finale <- t(do.call(\"rbind\", liste.finale))\n",
    "df.finale <- as.data.frame(df.finale)\n",
    "\n",
    "# Définir les types de données\n",
    "\n",
    "cols.num <- c(\"modele\", \"hyperparametres\", \"nom_fichier\")\n",
    "df.finale[cols.num] <- sapply(df.finale[cols.num], as.character)\n",
    "\n",
    "asNumeric <- function(x) as.numeric(as.character(x))\n",
    "factorsNumeric <- function(d) modifyList(d, lapply(d[, sapply(d, is.factor)], asNumeric))\n",
    "df.finale <- factorsNumeric(df.finale)"
   ]
  },
  {
   "cell_type": "code",
   "execution_count": 30,
   "metadata": {
    "ExecuteTime": {
     "end_time": "2020-10-20T21:44:10.053583Z",
     "start_time": "2020-10-20T21:40:22.320Z"
    }
   },
   "outputs": [],
   "source": [
    "# Sauvegarder le fichier\n",
    "fichier.comparatif <- file.path(parameters$dossier_experience, \"fichier_comparatif.csv\")\n",
    "\n",
    "write.table(df.finale,\n",
    "            fichier.comparatif, \n",
    "            sep = \",\", \n",
    "            col.names = !file.exists(fichier.comparatif), \n",
    "            append = T)\n"
   ]
  },
  {
   "cell_type": "markdown",
   "metadata": {},
   "source": [
    "## Sauvegarder les données pour la présentation graphique\n",
    "* Données utilisées pour la formation du nuage de points (prédiction c. réelles)"
   ]
  },
  {
   "cell_type": "code",
   "execution_count": 31,
   "metadata": {
    "ExecuteTime": {
     "end_time": "2020-10-20T21:44:10.080581Z",
     "start_time": "2020-10-20T21:40:22.372Z"
    }
   },
   "outputs": [],
   "source": [
    "x_pred = mat_hat[index]\n",
    "y_original = mat.complet[index]\n",
    "\n",
    "df.comparaison <- as.data.frame(list(x_pred, y_original), \n",
    "                                col.names = c(\"x_pred\", \"y_original\"))"
   ]
  },
  {
   "cell_type": "code",
   "execution_count": 32,
   "metadata": {
    "ExecuteTime": {
     "end_time": "2020-10-20T21:44:10.118580Z",
     "start_time": "2020-10-20T21:40:22.400Z"
    }
   },
   "outputs": [
    {
     "name": "stdout",
     "output_type": "stream",
     "text": [
      "[1] \"exp/simulation_simple/SimSimple_100_10_FMNN_r20-scd_comparaison.ftr\"\n"
     ]
    }
   ],
   "source": [
    "# Sauvegarder les données\n",
    "fichier.comparaison <- paste0(ch.experience.finale,\n",
    "                             \"_\",\n",
    "                             \"comparaison\",\n",
    "                             \".ftr\")\n",
    "write_feather(df.comparaison, fichier.comparaison)\n",
    "print(fichier.comparaison)"
   ]
  }
 ],
 "metadata": {
  "hide_input": false,
  "kernelspec": {
   "display_name": "R",
   "language": "R",
   "name": "ir"
  },
  "language_info": {
   "codemirror_mode": "r",
   "file_extension": ".r",
   "mimetype": "text/x-r-source",
   "name": "R",
   "pygments_lexer": "r",
   "version": "3.6.3"
  },
  "nbTranslate": {
   "displayLangs": [
    "*"
   ],
   "hotkey": "alt-t",
   "langInMainMenu": true,
   "sourceLang": "en",
   "targetLang": "fr",
   "useGoogleTranslate": true
  },
  "toc": {
   "base_numbering": 1,
   "nav_menu": {},
   "number_sections": true,
   "sideBar": true,
   "skip_h1_title": false,
   "title_cell": "Table des matières",
   "title_sidebar": "Contents",
   "toc_cell": true,
   "toc_position": {
    "height": "calc(100% - 180px)",
    "left": "10px",
    "top": "150px",
    "width": "207.552px"
   },
   "toc_section_display": true,
   "toc_window_display": true
  },
  "varInspector": {
   "cols": {
    "lenName": 16,
    "lenType": 16,
    "lenVar": 40
   },
   "kernels_config": {
    "python": {
     "delete_cmd_postfix": "",
     "delete_cmd_prefix": "del ",
     "library": "var_list.py",
     "varRefreshCmd": "print(var_dic_list())"
    },
    "r": {
     "delete_cmd_postfix": ") ",
     "delete_cmd_prefix": "rm(",
     "library": "var_list.r",
     "varRefreshCmd": "cat(var_dic_list()) "
    }
   },
   "oldHeight": 348.797,
   "position": {
    "height": "354.797px",
    "left": "-32.0313px",
    "right": "20px",
    "top": "186.969px",
    "width": "397.969px"
   },
   "types_to_exclude": [
    "module",
    "function",
    "builtin_function_or_method",
    "instance",
    "_Feature"
   ],
   "varInspector_section_display": "block",
   "window_display": false
  }
 },
 "nbformat": 4,
 "nbformat_minor": 4
}
