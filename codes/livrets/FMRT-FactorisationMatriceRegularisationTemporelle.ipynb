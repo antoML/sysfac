{
 "cells": [
  {
   "cell_type": "markdown",
   "metadata": {},
   "source": [
    "# Factorisation de matrice à régularisation temporelle\n",
    "\n",
    ">Présentation de la factorisation de matrice à régularisation temporelle (FMRT)\n",
    "\n",
    "\n",
    "\n",
    "## Recherches associées \n",
    ">Yu, Hsiang-Fu, Nikhil Rao et Inderjit S. Dhillon (2016). [**Temporal regularized matrix factorization for high-dimensional time series prediction**](http://www.cs.utexas.edu/~rofuyu/papers/tr-mf-nips.pdf).\n",
    "\n",
    "\n",
    "## Codes sources\n",
    ">[**Dépôt 1**](https://github.com/xinychen/transdim) | *Version en python*\n"
   ]
  },
  {
   "cell_type": "markdown",
   "metadata": {
    "toc": true
   },
   "source": [
    "<h1>Table des matières<span class=\"tocSkip\"></span></h1>\n",
    "<div class=\"toc\"><ul class=\"toc-item\"><li><span><a href=\"#Factorisation-de-matrice-à-régularisation-temporelle\" data-toc-modified-id=\"Factorisation-de-matrice-à-régularisation-temporelle-1\"><span class=\"toc-item-num\">1&nbsp;&nbsp;</span>Factorisation de matrice à régularisation temporelle</a></span><ul class=\"toc-item\"><li><span><a href=\"#Recherches-associées\" data-toc-modified-id=\"Recherches-associées-1.1\"><span class=\"toc-item-num\">1.1&nbsp;&nbsp;</span>Recherches associées</a></span></li><li><span><a href=\"#Codes-sources\" data-toc-modified-id=\"Codes-sources-1.2\"><span class=\"toc-item-num\">1.2&nbsp;&nbsp;</span>Codes sources</a></span></li></ul></li><li><span><a href=\"#Mettre-l'environnement-en-place\" data-toc-modified-id=\"Mettre-l'environnement-en-place-2\"><span class=\"toc-item-num\">2&nbsp;&nbsp;</span>Mettre l'environnement en place</a></span></li><li><span><a href=\"#Charger-les-données-dans-l'environnement\" data-toc-modified-id=\"Charger-les-données-dans-l'environnement-3\"><span class=\"toc-item-num\">3&nbsp;&nbsp;</span>Charger les données dans l'environnement</a></span></li><li><span><a href=\"#Définir-les-fonctions-pour-le-modèle\" data-toc-modified-id=\"Définir-les-fonctions-pour-le-modèle-4\"><span class=\"toc-item-num\">4&nbsp;&nbsp;</span>Définir les fonctions pour le modèle</a></span><ul class=\"toc-item\"><li><span><a href=\"#Fonction-pour-arrondir-les-éléments-d'une-liste\" data-toc-modified-id=\"Fonction-pour-arrondir-les-éléments-d'une-liste-4.1\"><span class=\"toc-item-num\">4.1&nbsp;&nbsp;</span>Fonction pour arrondir les éléments d'une liste</a></span></li><li><span><a href=\"#Définir-le-modèle\" data-toc-modified-id=\"Définir-le-modèle-4.2\"><span class=\"toc-item-num\">4.2&nbsp;&nbsp;</span>Définir le modèle</a></span></li></ul></li><li><span><a href=\"#Entrainer-le-modèle\" data-toc-modified-id=\"Entrainer-le-modèle-5\"><span class=\"toc-item-num\">5&nbsp;&nbsp;</span>Entrainer le modèle</a></span><ul class=\"toc-item\"><li><span><a href=\"#Générer-les-combinaisons-d'hyperparamètres\" data-toc-modified-id=\"Générer-les-combinaisons-d'hyperparamètres-5.1\"><span class=\"toc-item-num\">5.1&nbsp;&nbsp;</span>Générer les combinaisons d'hyperparamètres</a></span></li><li><span><a href=\"#Spécifier-les-autres-paramètres-du-modèle\" data-toc-modified-id=\"Spécifier-les-autres-paramètres-du-modèle-5.2\"><span class=\"toc-item-num\">5.2&nbsp;&nbsp;</span>Spécifier les autres paramètres du modèle</a></span></li><li><span><a href=\"#Spécifier-les-paramètres-de-l'entrainement\" data-toc-modified-id=\"Spécifier-les-paramètres-de-l'entrainement-5.3\"><span class=\"toc-item-num\">5.3&nbsp;&nbsp;</span>Spécifier les paramètres de l'entrainement</a></span></li><li><span><a href=\"#Sélectionner-les-hyperparamètres-du-modèle\" data-toc-modified-id=\"Sélectionner-les-hyperparamètres-du-modèle-5.4\"><span class=\"toc-item-num\">5.4&nbsp;&nbsp;</span>Sélectionner les hyperparamètres du modèle</a></span><ul class=\"toc-item\"><li><span><a href=\"#Sauvegarder-les-informations-sur-la-sélection-des-hyperparamètres\" data-toc-modified-id=\"Sauvegarder-les-informations-sur-la-sélection-des-hyperparamètres-5.4.1\"><span class=\"toc-item-num\">5.4.1&nbsp;&nbsp;</span>Sauvegarder les informations sur la sélection des hyperparamètres</a></span><ul class=\"toc-item\"><li><span><a href=\"#Sauvegarder-les-informations-DURANT-l'entrainement\" data-toc-modified-id=\"Sauvegarder-les-informations-DURANT-l'entrainement-5.4.1.1\"><span class=\"toc-item-num\">5.4.1.1&nbsp;&nbsp;</span>Sauvegarder les informations DURANT l'entrainement</a></span></li><li><span><a href=\"#Sauvegarder-les-informations-FINALES-des-entrainements\" data-toc-modified-id=\"Sauvegarder-les-informations-FINALES-des-entrainements-5.4.1.2\"><span class=\"toc-item-num\">5.4.1.2&nbsp;&nbsp;</span>Sauvegarder les informations FINALES des entrainements</a></span></li></ul></li></ul></li><li><span><a href=\"#Entrainer-le-meilleur-modèle\" data-toc-modified-id=\"Entrainer-le-meilleur-modèle-5.5\"><span class=\"toc-item-num\">5.5&nbsp;&nbsp;</span>Entrainer le meilleur modèle</a></span><ul class=\"toc-item\"><li><span><a href=\"#Sauvegarder-les-informations-sur-l'entrainement-du-meilleur-modèle\" data-toc-modified-id=\"Sauvegarder-les-informations-sur-l'entrainement-du-meilleur-modèle-5.5.1\"><span class=\"toc-item-num\">5.5.1&nbsp;&nbsp;</span>Sauvegarder les informations sur l'entrainement du meilleur modèle</a></span><ul class=\"toc-item\"><li><span><a href=\"#Sauvegarder-la-matrice-prédite\" data-toc-modified-id=\"Sauvegarder-la-matrice-prédite-5.5.1.1\"><span class=\"toc-item-num\">5.5.1.1&nbsp;&nbsp;</span>Sauvegarder la matrice prédite</a></span></li><li><span><a href=\"#Sauvegarder-avec-les-nouvelles-valeurs-imputées\" data-toc-modified-id=\"Sauvegarder-avec-les-nouvelles-valeurs-imputées-5.5.1.2\"><span class=\"toc-item-num\">5.5.1.2&nbsp;&nbsp;</span>Sauvegarder avec les nouvelles valeurs imputées</a></span></li></ul></li></ul></li></ul></li><li><span><a href=\"#Sauvegarder-les-information-pour-la-présentation-des-résultats\" data-toc-modified-id=\"Sauvegarder-les-information-pour-la-présentation-des-résultats-6\"><span class=\"toc-item-num\">6&nbsp;&nbsp;</span>Sauvegarder les information pour la présentation des résultats</a></span><ul class=\"toc-item\"><li><span><a href=\"#Sauvegarder-le-tableau-pour-la-comparaison-intermodèles\" data-toc-modified-id=\"Sauvegarder-le-tableau-pour-la-comparaison-intermodèles-6.1\"><span class=\"toc-item-num\">6.1&nbsp;&nbsp;</span>Sauvegarder le tableau pour la comparaison intermodèles</a></span></li><li><span><a href=\"#Sauvegarder-les-données-pour-la-présentation-graphique\" data-toc-modified-id=\"Sauvegarder-les-données-pour-la-présentation-graphique-6.2\"><span class=\"toc-item-num\">6.2&nbsp;&nbsp;</span>Sauvegarder les données pour la présentation graphique</a></span></li></ul></li></ul></div>"
   ]
  },
  {
   "cell_type": "markdown",
   "metadata": {},
   "source": [
    "# Mettre l'environnement en place"
   ]
  },
  {
   "cell_type": "code",
   "execution_count": 1,
   "metadata": {
    "ExecuteTime": {
     "end_time": "2020-10-20T21:39:19.544212Z",
     "start_time": "2020-10-20T21:39:19.108724Z"
    }
   },
   "outputs": [],
   "source": [
    "# Charger les paquets utilisés\n",
    "import os\n",
    "import random\n",
    "import sys\n",
    "import time\n",
    "from itertools import product\n",
    "\n",
    "import feather\n",
    "import numpy as np\n",
    "import pandas as pd\n",
    "import scipy.io as sio\n",
    "from numpy.linalg import pinv as pinv\n",
    "from tqdm import tqdm, trange"
   ]
  },
  {
   "cell_type": "code",
   "execution_count": 2,
   "metadata": {
    "ExecuteTime": {
     "end_time": "2020-10-20T21:39:19.560213Z",
     "start_time": "2020-10-20T21:39:19.546215Z"
    }
   },
   "outputs": [],
   "source": [
    "os.chdir(\"./\")"
   ]
  },
  {
   "cell_type": "markdown",
   "metadata": {},
   "source": [
    "# Charger les données dans l'environnement"
   ]
  },
  {
   "cell_type": "code",
   "execution_count": 3,
   "metadata": {
    "ExecuteTime": {
     "end_time": "2020-10-20T21:39:19.576214Z",
     "start_time": "2020-10-20T21:39:19.562216Z"
    }
   },
   "outputs": [],
   "source": [
    "parametres = {\n",
    "    \"dossier_donnees\": \"data\",\n",
    "    \"dossier_experience\": \"exp\",\n",
    "    \"sousdossier\": \"simulation_simple\",\n",
    "    \"fichier_donnees\": \"SimSimple_100\",\n",
    "    \"fichier_binaire\": \"SimSimple_100_10\",\n",
    "    \"manquants\": \"10\",\n",
    "    \"modele\": \"FMRT\",\n",
    "    \"version\": \"v001\"\n",
    "}"
   ]
  },
  {
   "cell_type": "code",
   "execution_count": 4,
   "metadata": {
    "ExecuteTime": {
     "end_time": "2020-10-20T21:39:19.591461Z",
     "start_time": "2020-10-20T21:39:19.577218Z"
    }
   },
   "outputs": [
    {
     "name": "stdout",
     "output_type": "stream",
     "text": [
      "Le dossier pour l'expérience existe déjà\n"
     ]
    }
   ],
   "source": [
    "# Créer le dossier s'il n'existe pas\n",
    "if not os.path.exists(os.path.join(parametres[\"dossier_experience\"], \n",
    "                                   parametres[\"sousdossier\"])):\n",
    "    print(\"Le dossier pour l'expérience vient d'être créé\")\n",
    "    os.makedirs(os.path.join(parametres[\"dossier_experience\"], \n",
    "                             parametres[\"sousdossier\"]))\n",
    "print(\"Le dossier pour l'expérience existe déjà\")"
   ]
  },
  {
   "cell_type": "code",
   "execution_count": 5,
   "metadata": {
    "ExecuteTime": {
     "end_time": "2020-10-20T21:39:19.606465Z",
     "start_time": "2020-10-20T21:39:19.593461Z"
    }
   },
   "outputs": [
    {
     "name": "stdout",
     "output_type": "stream",
     "text": [
      "data\\simulation_simple\\SimSimple_100.mat\n"
     ]
    }
   ],
   "source": [
    "ch_fichier_donnees = \"{:}.mat\".format(os.path.join(parametres[\"dossier_donnees\"], \n",
    "                                                   parametres[\"sousdossier\"], \n",
    "                                                   parametres[\"fichier_donnees\"]))\n",
    "mat_complet = sio.loadmat(ch_fichier_donnees)[\"mat\"]\n",
    "tqdm.write(ch_fichier_donnees)"
   ]
  },
  {
   "cell_type": "code",
   "execution_count": 6,
   "metadata": {
    "ExecuteTime": {
     "end_time": "2020-10-20T21:39:19.622495Z",
     "start_time": "2020-10-20T21:39:19.608461Z"
    }
   },
   "outputs": [
    {
     "name": "stdout",
     "output_type": "stream",
     "text": [
      "data\\simulation_simple\\SimSimple_100_10.mat\n"
     ]
    }
   ],
   "source": [
    "ch_fichier_binaire = \"{:}.mat\".format(os.path.join(parametres[\"dossier_donnees\"], \n",
    "                                                   parametres[\"sousdossier\"], \n",
    "                                                   parametres[\"fichier_binaire\"]))\n",
    "mat_binaire = sio.loadmat(ch_fichier_binaire)[\"mat\"]\n",
    "tqdm.write(ch_fichier_binaire)"
   ]
  },
  {
   "cell_type": "code",
   "execution_count": 7,
   "metadata": {
    "ExecuteTime": {
     "end_time": "2020-10-20T21:39:19.638459Z",
     "start_time": "2020-10-20T21:39:19.623460Z"
    }
   },
   "outputs": [],
   "source": [
    "mat_manquants = mat_complet * mat_binaire"
   ]
  },
  {
   "cell_type": "markdown",
   "metadata": {},
   "source": [
    "# Définir les fonctions pour le modèle"
   ]
  },
  {
   "cell_type": "markdown",
   "metadata": {},
   "source": [
    "## Fonction pour arrondir les éléments d'une liste\n",
    "* Utilisé pour les combinaisons d'hyperparamètres"
   ]
  },
  {
   "cell_type": "code",
   "execution_count": 8,
   "metadata": {
    "ExecuteTime": {
     "end_time": "2020-10-20T21:39:19.654461Z",
     "start_time": "2020-10-20T21:39:19.640461Z"
    }
   },
   "outputs": [],
   "source": [
    "def round_list_elements(liste, virgule=3):\n",
    "    rounded_list = [round(num, virgule) for num in liste]\n",
    "    return rounded_list"
   ]
  },
  {
   "cell_type": "markdown",
   "metadata": {},
   "source": [
    "## Définir le modèle"
   ]
  },
  {
   "cell_type": "code",
   "execution_count": 9,
   "metadata": {
    "ExecuteTime": {
     "end_time": "2020-10-20T21:39:19.686495Z",
     "start_time": "2020-10-20T21:39:19.656462Z"
    }
   },
   "outputs": [],
   "source": [
    "def TRMF(dense_mat,\n",
    "         sparse_mat,\n",
    "         init_para,\n",
    "         init_hyper,\n",
    "         time_lags,\n",
    "         maxiter,\n",
    "         max_early_stop=20,\n",
    "         max_plateau_stop=20):\n",
    "    \"\"\"Temporal Regularized Matrix Factorization, TRMF.\"\"\"\n",
    "\n",
    "    ## Preparer la capture des resultats\n",
    "    test_rmse_list = []\n",
    "    test_mape_list = []\n",
    "    train_rmse_list = []\n",
    "    gen_rmse_list = []\n",
    "\n",
    "    ## Initialisation du paramÃ¨tre d'arrÃªt precoce\n",
    "    iter_early_stop = 0\n",
    "    plateau_stop = 0\n",
    "\n",
    "    ## Initialize parameters\n",
    "    W = init_para[\"W\"]\n",
    "    X = init_para[\"X\"]\n",
    "    theta = init_para[\"theta\"]\n",
    "\n",
    "    ## Set hyperparameters\n",
    "    lambda_w = init_hyper[\"lambda_w\"]\n",
    "    lambda_x = init_hyper[\"lambda_x\"]\n",
    "    lambda_theta = init_hyper[\"lambda_theta\"]\n",
    "    eta = init_hyper[\"eta\"]\n",
    "\n",
    "    dim1, dim2 = sparse_mat.shape\n",
    "    pos_train = np.where(sparse_mat != 0)\n",
    "    pos_test = np.where((dense_mat != 0) & (sparse_mat == 0))\n",
    "    binary_mat = sparse_mat.copy()\n",
    "    binary_mat[pos_train] = 1\n",
    "    d, rank = theta.shape\n",
    "\n",
    "    for it in trange(maxiter, desc=\"Entrainement\", leave=False, position=1):\n",
    "        ## Update spatial matrix W\n",
    "        for i in range(dim1):\n",
    "            pos0 = np.where(sparse_mat[i, :] != 0)\n",
    "            Xt = X[pos0[0], :]\n",
    "            vec0 = Xt.T @ sparse_mat[i, pos0[0]]\n",
    "            mat0 = pinv(Xt.T @ Xt + lambda_w * np.eye(rank))\n",
    "            W[i, :] = mat0 @ vec0\n",
    "        ## Update temporal matrix X\n",
    "        for t in range(dim2):\n",
    "            pos0 = np.where(sparse_mat[:, t] != 0)\n",
    "            Wt = W[pos0[0], :]\n",
    "            Mt = np.zeros((rank, rank))\n",
    "            Nt = np.zeros(rank)\n",
    "            if t < np.max(time_lags):\n",
    "                Pt = np.zeros((rank, rank))\n",
    "                Qt = np.zeros(rank)\n",
    "            else:\n",
    "                Pt = np.eye(rank)\n",
    "                Qt = np.einsum('ij, ij -> j', theta, X[t - time_lags, :])\n",
    "            if t < dim2 - np.min(time_lags):\n",
    "                if t >= np.max(time_lags) and t < dim2 - np.max(time_lags):\n",
    "                    index = list(range(0, d))\n",
    "                else:\n",
    "                    index = list(\n",
    "                        np.where((t + time_lags >= np.max(time_lags))\n",
    "                                 & (t + time_lags < dim2)))[0]\n",
    "                for k in index:\n",
    "                    Ak = theta[k, :]\n",
    "                    Mt += np.diag(Ak**2)\n",
    "                    theta0 = theta.copy()\n",
    "                    theta0[k, :] = 0\n",
    "                    Nt += np.multiply(\n",
    "                        Ak, X[t + time_lags[k], :] -\n",
    "                        np.einsum('ij, ij -> j', theta0,\n",
    "                                  X[t + time_lags[k] - time_lags, :]))\n",
    "            vec0 = Wt.T @ sparse_mat[pos0[0],\n",
    "                                     t] + lambda_x * Nt + lambda_x * Qt\n",
    "            mat0 = pinv(Wt.T @ Wt + lambda_x * Mt + lambda_x * Pt +\n",
    "                        lambda_x * eta * np.eye(rank))\n",
    "            X[t, :] = mat0 @ vec0\n",
    "        ## Update AR coefficients theta\n",
    "        for k in range(d):\n",
    "            theta0 = theta.copy()\n",
    "            theta0[k, :] = 0\n",
    "            mat0 = np.zeros((dim2 - np.max(time_lags), rank))\n",
    "            for L in range(d):\n",
    "                mat0 += X[np.max(time_lags) - time_lags[L]:dim2 -\n",
    "                          time_lags[L], :] @ np.diag(theta0[L, :])\n",
    "            VarPi = X[np.max(time_lags):dim2, :] - mat0\n",
    "            var1 = np.zeros((rank, rank))\n",
    "            var2 = np.zeros(rank)\n",
    "            for t in range(np.max(time_lags), dim2):\n",
    "                B = X[t - time_lags[k], :]\n",
    "                var1 += np.diag(np.multiply(B, B))\n",
    "                var2 += np.diag(B) @ VarPi[t - np.max(time_lags), :]\n",
    "            theta[k, :] = pinv(var1 +\n",
    "                               lambda_theta * np.eye(rank) / lambda_x) @ var2\n",
    "\n",
    "        mat_hat = W @ X.T\n",
    "\n",
    "        # Calcul des erreurs\n",
    "        ## MAPE TEST\n",
    "        mape = np.sum(\n",
    "            np.abs(dense_mat[pos_test] - mat_hat[pos_test]) /\n",
    "            dense_mat[pos_test]) / dense_mat[pos_test].shape[0]\n",
    "        test_mape = mape.copy()\n",
    "        test_mape_list.append(mape)\n",
    "\n",
    "        ## RMSE TEST\n",
    "        rmse = np.sqrt(\n",
    "            np.sum((dense_mat[pos_test] - mat_hat[pos_test])**2) /\n",
    "            dense_mat[pos_test].shape[0])\n",
    "        test_rmse = rmse.copy()\n",
    "        test_rmse_list.append(rmse)\n",
    "\n",
    "        ## RMSE TRAIN\n",
    "        train_rmse = np.sqrt(\n",
    "            np.sum((dense_mat[pos_train] - mat_hat[pos_train])**2) /\n",
    "            dense_mat[pos_train].shape[0])\n",
    "        train_rmse_list.append(train_rmse)\n",
    "\n",
    "        ## RMSE GeNeRAL\n",
    "        gen_rmse = np.sqrt(\n",
    "            np.sum((dense_mat - mat_hat)**2) / dense_mat.shape[0])\n",
    "        gen_rmse_list.append(gen_rmse)\n",
    "\n",
    "        # Capture pour la performance finale du modÃ¨le\n",
    "        perfo_fin = dict(test_rmse=test_rmse,\n",
    "                         test_mape=test_mape,\n",
    "                         train_rmse=train_rmse,\n",
    "                         gen_rmse=gen_rmse)\n",
    "\n",
    "        if (it + 1) % 200 == 0:\n",
    "            tqdm.write(\n",
    "                'Iter: {} \\nImputation MAPE: {:.6} \\nImputation RMSE: {:.6}'.\n",
    "                format(it + 1, mape, rmse))\n",
    "\n",
    "        # Module d'arrÃªt precode\n",
    "        if np.round(test_rmse_list[len(test_rmse_list) - 2], 6) < np.round(\n",
    "                test_rmse, 6):\n",
    "            iter_early_stop = iter_early_stop + 1\n",
    "            if iter_early_stop == max_early_stop:\n",
    "                break\n",
    "        if np.round(test_rmse_list[len(test_rmse_list) - 2], 6) > np.round(\n",
    "                test_rmse, 6):\n",
    "            iter_early_stop = 0\n",
    "\n",
    "        ## Module d'arrÃªt plateau\n",
    "        if np.round(test_rmse_list[len(test_rmse_list) - 2],\n",
    "                    6) == np.round(test_rmse, 6):\n",
    "            plateau_stop = plateau_stop + 1\n",
    "            if plateau_stop == max_plateau_stop:\n",
    "                break\n",
    "        if np.round(test_rmse_list[len(test_rmse_list) - 2], 6) > np.round(\n",
    "                test_rmse, 6):\n",
    "            plateau_stop = 0\n",
    "\n",
    "    return mat_hat, W, X, test_rmse_list, test_mape_list, train_rmse_list, gen_rmse_list, perfo_fin"
   ]
  },
  {
   "cell_type": "markdown",
   "metadata": {},
   "source": [
    "# Entrainer le modèle"
   ]
  },
  {
   "cell_type": "markdown",
   "metadata": {},
   "source": [
    "## Générer les combinaisons d'hyperparamètres"
   ]
  },
  {
   "cell_type": "code",
   "execution_count": 10,
   "metadata": {
    "ExecuteTime": {
     "end_time": "2020-10-20T21:39:19.718461Z",
     "start_time": "2020-10-20T21:39:19.709461Z"
    }
   },
   "outputs": [],
   "source": [
    "# Spécifier les valeurs minimum et maximum d'hyperparamètres\n",
    "min_rang = 10\n",
    "max_rang = 50\n",
    "min_eta = 0.001\n",
    "max_eta = 500\n",
    "min_lambda_w = 0.001\n",
    "max_lambda_w = 500\n",
    "min_lambda_x = 0.001\n",
    "max_lambda_x = 500\n",
    "min_lambda_theta = 0.001\n",
    "max_lambda_theta = 500\n",
    "\n",
    "# Spécifier le nombre de points à l'intérieur du domaine\n",
    "nb_ecarts = 10"
   ]
  },
  {
   "cell_type": "code",
   "execution_count": 11,
   "metadata": {
    "ExecuteTime": {
     "end_time": "2020-10-20T21:39:19.830461Z",
     "start_time": "2020-10-20T21:39:19.758464Z"
    }
   },
   "outputs": [
    {
     "name": "stdout",
     "output_type": "stream",
     "text": [
      "Nombre de combinaisons possibles : 90000\n",
      "Configurations possibles : \n",
      " [10, 15, 20, 25, 30, 35, 40, 45, 50]\n",
      " [0.001, 55.5564, 111.1119, 166.6673, 222.2228, 277.7782, 333.3337, 388.8891, 444.4446, 500.0]\n",
      " [0.001, 55.5564, 111.1119, 166.6673, 222.2228, 277.7782, 333.3337, 388.8891, 444.4446, 500.0]\n",
      " [0.001, 55.5564, 111.1119, 166.6673, 222.2228, 277.7782, 333.3337, 388.8891, 444.4446, 500.0]\n",
      " [0.001, 55.5564, 111.1119, 166.6673, 222.2228, 277.7782, 333.3337, 388.8891, 444.4446, 500.0]\n"
     ]
    }
   ],
   "source": [
    "# Générer la liste de combinaisons\n",
    "entrainement_dict = dict()\n",
    "\n",
    "param_grid = dict(\n",
    "    rang_list = [10, 15, 20, 25, 30, 35, 40, 45, 50],\n",
    "    eta_list = round_list_elements(list(np.linspace(min_eta, max_eta, nb_ecarts)), 4),\n",
    "    lambda_w_list = round_list_elements(list(np.linspace(min_lambda_w, max_lambda_w, nb_ecarts)), 4),\n",
    "    lambda_x_list = round_list_elements(list(np.linspace(min_lambda_w, max_lambda_w, nb_ecarts)), 4),\n",
    "    lambda_theta_list = round_list_elements(list(np.linspace(min_lambda_w, max_lambda_w, nb_ecarts)), 4)\n",
    "    )\n",
    "\n",
    "\n",
    "combinations_list = [\n",
    "    list(x) for x in product(param_grid[\"rang_list\"], \n",
    "                             param_grid[\"eta_list\"], \n",
    "                             param_grid[\"lambda_w_list\"], \n",
    "                             param_grid[\"lambda_x_list\"],\n",
    "                             param_grid[\"lambda_theta_list\"])\n",
    "    ]\n",
    "\n",
    "tqdm.write((\"Nombre de combinaisons possibles : {:}\".format(len(combinations_list))))\n",
    "tqdm.write((\"Configurations possibles : \\n {}\\n {}\\n {}\\n {}\\n {}\".format(\n",
    "    param_grid[\"rang_list\"], \n",
    "    param_grid[\"eta_list\"],\n",
    "    param_grid[\"lambda_w_list\"],\n",
    "    param_grid[\"lambda_x_list\"],\n",
    "    param_grid[\"lambda_theta_list\"])))"
   ]
  },
  {
   "cell_type": "markdown",
   "metadata": {},
   "source": [
    "## Spécifier les autres paramètres du modèle\n",
    "\n",
    ">Dans l'étude, le nombre de décalage étudié est de 1. Par contre, d'autres applications pourraient demander plus qu'un décalage. Dans ce cas, la variable `time_lags` pourrait être : \n",
    "\n",
    "```python\n",
    "time_lags = np.array([1, 2, 3, 123])\n",
    "```\n",
    ">Pour un modèle qui prend en compte des décalages de 1, 2, 3 et 123."
   ]
  },
  {
   "cell_type": "code",
   "execution_count": 12,
   "metadata": {
    "ExecuteTime": {
     "end_time": "2020-10-20T21:39:19.846464Z",
     "start_time": "2020-10-20T21:39:19.833461Z"
    }
   },
   "outputs": [],
   "source": [
    "# Définir la variable des décalages\n",
    "time_lags = np.array([1])\n",
    "\n",
    "# Spécifier le nombre de décalage (pour le modèle)\n",
    "d = time_lags.shape[0]"
   ]
  },
  {
   "cell_type": "code",
   "execution_count": 13,
   "metadata": {
    "ExecuteTime": {
     "end_time": "2020-10-20T21:39:19.876461Z",
     "start_time": "2020-10-20T21:39:19.868467Z"
    }
   },
   "outputs": [],
   "source": [
    "# Définir les paramètres de l'entrainements (itérations, arrêt précoce, arrêt sur plateau)\n",
    "maxiter = 10\n",
    "max_early_stop = 2\n",
    "max_plateau_stop = 2"
   ]
  },
  {
   "cell_type": "markdown",
   "metadata": {},
   "source": [
    "## Spécifier les paramètres de l'entrainement"
   ]
  },
  {
   "cell_type": "code",
   "execution_count": 14,
   "metadata": {
    "ExecuteTime": {
     "end_time": "2020-10-20T21:39:19.938462Z",
     "start_time": "2020-10-20T21:39:19.924466Z"
    }
   },
   "outputs": [
    {
     "name": "stdout",
     "output_type": "stream",
     "text": [
      "Nombre total de combinaisons à entrainer: 9\n"
     ]
    }
   ],
   "source": [
    "# Définir le nombre de combinaisons totales à considérer pour la recherche d'hyperparamètres\n",
    "prop_eval = 0.0001\n",
    "nombre_eval = np.int(np.round(len(combinations_list) * prop_eval, 0))\n",
    "tqdm.write(\"Nombre total de combinaisons à entrainer: {:}\".format(nombre_eval))"
   ]
  },
  {
   "cell_type": "code",
   "execution_count": 15,
   "metadata": {
    "ExecuteTime": {
     "end_time": "2020-10-20T21:39:20.000671Z",
     "start_time": "2020-10-20T21:39:19.978673Z"
    }
   },
   "outputs": [
    {
     "name": "stderr",
     "output_type": "stream",
     "text": [
      "                                                                                                                       \r"
     ]
    }
   ],
   "source": [
    "# Générer la liste de combinaisons choisies au hasard pour l'entrainement\n",
    "params = list()\n",
    "random.seed(2020)\n",
    "for i in trange(nombre_eval, \n",
    "                desc=\"Génération aléatoire de la liste de combinaisons d'hyperparamètres\",\n",
    "                leave=False):\n",
    "    random_params = {k: random.sample(v, 1)[0] for k, v in param_grid.items()}\n",
    "    params.append(random_params)\n",
    "\n",
    "params_df = pd.DataFrame(params)"
   ]
  },
  {
   "cell_type": "code",
   "execution_count": 16,
   "metadata": {
    "ExecuteTime": {
     "end_time": "2020-10-20T21:39:20.032673Z",
     "start_time": "2020-10-20T21:39:20.027674Z"
    }
   },
   "outputs": [],
   "source": [
    "fichier_experience = \"{a[fichier_binaire]}_{a[modele]}_{a[version]}\".format(a = parametres)\n",
    "ch_fichier_experience = os.path.join(parametres[\"dossier_experience\"], parametres[\"sousdossier\"], fichier_experience)"
   ]
  },
  {
   "cell_type": "code",
   "execution_count": 17,
   "metadata": {
    "ExecuteTime": {
     "end_time": "2020-10-20T21:39:20.096719Z",
     "start_time": "2020-10-20T21:39:20.081673Z"
    }
   },
   "outputs": [
    {
     "name": "stdout",
     "output_type": "stream",
     "text": [
      "exp\\simulation_simple\\SimSimple_100_10_FMRT_v001_RandomParametres.ftr\n"
     ]
    }
   ],
   "source": [
    "fichier_combinaisons = \"{:}_{:}.ftr\".format(ch_fichier_experience, \"RandomParametres\")\n",
    "params_df.to_feather(fichier_combinaisons)\n",
    "\n",
    "tqdm.write(fichier_combinaisons)"
   ]
  },
  {
   "cell_type": "markdown",
   "metadata": {},
   "source": [
    "## Sélectionner les hyperparamètres du modèle"
   ]
  },
  {
   "cell_type": "code",
   "execution_count": 18,
   "metadata": {
    "ExecuteTime": {
     "end_time": "2020-10-20T21:39:39.300453Z",
     "start_time": "2020-10-20T21:39:20.140861Z"
    },
    "scrolled": true
   },
   "outputs": [
    {
     "name": "stderr",
     "output_type": "stream",
     "text": [
      "Recherche hypers:   0%|                                                                          | 0/9 [00:00<?, ?it/s]\n",
      "Entrainement:   0%|                                                                             | 0/10 [00:00<?, ?it/s]\u001b[A\n"
     ]
    },
    {
     "name": "stdout",
     "output_type": "stream",
     "text": [
      "Entrainement avec :Rang : 20 {'eta': 388.8891, 'lambda_w': 388.8891, 'lambda_x': 388.8891, 'lambda_theta': 277.7782}\n"
     ]
    },
    {
     "name": "stderr",
     "output_type": "stream",
     "text": [
      "Entrainement:  20%|█████████████▊                                                       | 2/10 [00:00<00:00, 16.53it/s]\u001b[A\n",
      "Recherche hypers:  11%|███████▎                                                          | 1/9 [00:00<00:01,  4.17it/s]\u001b[A\n",
      "Entrainement:   0%|                                                                             | 0/10 [00:00<?, ?it/s]\u001b[A"
     ]
    },
    {
     "name": "stdout",
     "output_type": "stream",
     "text": [
      "Entrainement avec :Rang : 40 {'eta': 444.4446, 'lambda_w': 111.1119, 'lambda_x': 500.0, 'lambda_theta': 55.5564}\n"
     ]
    },
    {
     "name": "stderr",
     "output_type": "stream",
     "text": [
      "\n",
      "Entrainement:  10%|██████▉                                                              | 1/10 [00:00<00:01,  5.15it/s]\u001b[A\n",
      "Entrainement:  20%|█████████████▊                                                       | 2/10 [00:00<00:01,  5.02it/s]\u001b[A\n",
      "Entrainement:  30%|████████████████████▋                                                | 3/10 [00:00<00:01,  5.14it/s]\u001b[A\n",
      "Entrainement:  40%|███████████████████████████▌                                         | 4/10 [00:00<00:01,  5.37it/s]\u001b[A\n",
      "Entrainement:  50%|██████████████████████████████████▌                                  | 5/10 [00:00<00:00,  5.55it/s]\u001b[A\n",
      "Entrainement:  60%|█████████████████████████████████████████▍                           | 6/10 [00:01<00:00,  5.65it/s]\u001b[A\n",
      "Entrainement:  70%|████████████████████████████████████████████████▎                    | 7/10 [00:01<00:00,  5.67it/s]\u001b[A\n",
      "Entrainement:  80%|███████████████████████████████████████████████████████▏             | 8/10 [00:01<00:00,  5.77it/s]\u001b[A\n",
      "Entrainement:  90%|██████████████████████████████████████████████████████████████       | 9/10 [00:01<00:00,  5.83it/s]\u001b[A\n",
      "Entrainement: 100%|████████████████████████████████████████████████████████████████████| 10/10 [00:01<00:00,  5.96it/s]\u001b[A\n",
      "Recherche hypers:  22%|██████████████▋                                                   | 2/9 [00:02<00:04,  1.43it/s]\u001b[A\n",
      "Entrainement:   0%|                                                                             | 0/10 [00:00<?, ?it/s]\u001b[A"
     ]
    },
    {
     "name": "stdout",
     "output_type": "stream",
     "text": [
      "Entrainement avec :Rang : 45 {'eta': 166.6673, 'lambda_w': 166.6673, 'lambda_x': 333.3337, 'lambda_theta': 166.6673}\n"
     ]
    },
    {
     "name": "stderr",
     "output_type": "stream",
     "text": [
      "\n",
      "Entrainement:  10%|██████▉                                                              | 1/10 [00:00<00:03,  2.31it/s]\u001b[A\n",
      "Entrainement:  20%|█████████████▊                                                       | 2/10 [00:00<00:03,  2.34it/s]\u001b[A\n",
      "Entrainement:  30%|████████████████████▋                                                | 3/10 [00:01<00:03,  2.32it/s]\u001b[A\n",
      "Entrainement:  40%|███████████████████████████▌                                         | 4/10 [00:01<00:02,  2.37it/s]\u001b[A\n",
      "Entrainement:  50%|██████████████████████████████████▌                                  | 5/10 [00:02<00:02,  2.41it/s]\u001b[A\n",
      "Entrainement:  60%|█████████████████████████████████████████▍                           | 6/10 [00:02<00:01,  2.26it/s]\u001b[A\n",
      "Entrainement:  70%|████████████████████████████████████████████████▎                    | 7/10 [00:03<00:01,  2.17it/s]\u001b[A\n",
      "Entrainement:  80%|███████████████████████████████████████████████████████▏             | 8/10 [00:03<00:00,  2.09it/s]\u001b[A\n",
      "Entrainement:  90%|██████████████████████████████████████████████████████████████       | 9/10 [00:04<00:00,  2.15it/s]\u001b[A\n",
      "Entrainement: 100%|████████████████████████████████████████████████████████████████████| 10/10 [00:04<00:00,  2.17it/s]\u001b[A\n",
      "Recherche hypers:  33%|██████████████████████                                            | 3/9 [00:06<00:11,  1.84s/it]\u001b[A\n",
      "Entrainement:   0%|                                                                             | 0/10 [00:00<?, ?it/s]\u001b[A\n",
      "Entrainement:  20%|█████████████▊                                                       | 2/10 [00:00<00:00, 14.20it/s]\u001b[A"
     ]
    },
    {
     "name": "stdout",
     "output_type": "stream",
     "text": [
      "Entrainement avec :Rang : 20 {'eta': 388.8891, 'lambda_w': 388.8891, 'lambda_x': 55.5564, 'lambda_theta': 111.1119}\n"
     ]
    },
    {
     "name": "stderr",
     "output_type": "stream",
     "text": [
      "\n",
      "Entrainement:  40%|███████████████████████████▌                                         | 4/10 [00:00<00:00, 14.86it/s]\u001b[A\n",
      "Entrainement:  60%|█████████████████████████████████████████▍                           | 6/10 [00:00<00:00, 14.74it/s]\u001b[A\n",
      "Entrainement:  80%|███████████████████████████████████████████████████████▏             | 8/10 [00:00<00:00, 15.59it/s]\u001b[A\n",
      "Entrainement: 100%|████████████████████████████████████████████████████████████████████| 10/10 [00:00<00:00, 16.05it/s]\u001b[A\n",
      "Recherche hypers:  44%|█████████████████████████████▎                                    | 4/9 [00:07<00:07,  1.48s/it]\u001b[A\n",
      "Entrainement:   0%|                                                                             | 0/10 [00:00<?, ?it/s]\u001b[A"
     ]
    },
    {
     "name": "stdout",
     "output_type": "stream",
     "text": [
      "Entrainement avec :Rang : 45 {'eta': 500.0, 'lambda_w': 444.4446, 'lambda_x': 388.8891, 'lambda_theta': 0.001}\n"
     ]
    },
    {
     "name": "stderr",
     "output_type": "stream",
     "text": [
      "\n",
      "Entrainement:  10%|██████▉                                                              | 1/10 [00:00<00:03,  2.29it/s]\u001b[A\n",
      "Entrainement:  20%|█████████████▊                                                       | 2/10 [00:00<00:03,  2.29it/s]\u001b[A\n",
      "Entrainement:  30%|████████████████████▋                                                | 3/10 [00:01<00:03,  2.32it/s]\u001b[A\n",
      "Recherche hypers:  56%|████████████████████████████████████▋                             | 5/9 [00:08<00:06,  1.58s/it]\u001b[A\n",
      "Entrainement:   0%|                                                                             | 0/10 [00:00<?, ?it/s]\u001b[A"
     ]
    },
    {
     "name": "stdout",
     "output_type": "stream",
     "text": [
      "Entrainement avec :Rang : 45 {'eta': 0.001, 'lambda_w': 277.7782, 'lambda_x': 166.6673, 'lambda_theta': 55.5564}\n"
     ]
    },
    {
     "name": "stderr",
     "output_type": "stream",
     "text": [
      "\n",
      "Entrainement:  10%|██████▉                                                              | 1/10 [00:00<00:04,  1.94it/s]\u001b[A\n",
      "Entrainement:  20%|█████████████▊                                                       | 2/10 [00:01<00:04,  1.93it/s]\u001b[A\n",
      "Entrainement:  30%|████████████████████▋                                                | 3/10 [00:01<00:03,  1.92it/s]\u001b[A\n",
      "Entrainement:  40%|███████████████████████████▌                                         | 4/10 [00:02<00:03,  1.96it/s]\u001b[A\n",
      "Entrainement:  50%|██████████████████████████████████▌                                  | 5/10 [00:02<00:02,  2.04it/s]\u001b[A\n",
      "Entrainement:  60%|█████████████████████████████████████████▍                           | 6/10 [00:02<00:01,  2.10it/s]\u001b[A\n",
      "Entrainement:  70%|████████████████████████████████████████████████▎                    | 7/10 [00:03<00:01,  2.08it/s]\u001b[A\n",
      "Entrainement:  80%|███████████████████████████████████████████████████████▏             | 8/10 [00:03<00:01,  2.00it/s]\u001b[A\n",
      "Entrainement:  90%|██████████████████████████████████████████████████████████████       | 9/10 [00:04<00:00,  2.07it/s]\u001b[A\n",
      "Entrainement: 100%|████████████████████████████████████████████████████████████████████| 10/10 [00:04<00:00,  2.08it/s]\u001b[A\n",
      "Recherche hypers:  67%|████████████████████████████████████████████                      | 6/9 [00:13<00:07,  2.58s/it]\u001b[A\n",
      "Entrainement:   0%|                                                                             | 0/10 [00:00<?, ?it/s]\u001b[A"
     ]
    },
    {
     "name": "stdout",
     "output_type": "stream",
     "text": [
      "Entrainement avec :Rang : 50 {'eta': 55.5564, 'lambda_w': 500.0, 'lambda_x': 222.2228, 'lambda_theta': 111.1119}\n"
     ]
    },
    {
     "name": "stderr",
     "output_type": "stream",
     "text": [
      "\n",
      "Entrainement:  10%|██████▉                                                              | 1/10 [00:00<00:04,  2.19it/s]\u001b[A\n",
      "Entrainement:  20%|█████████████▊                                                       | 2/10 [00:00<00:03,  2.21it/s]\u001b[A\n",
      "Entrainement:  30%|████████████████████▋                                                | 3/10 [00:01<00:03,  2.23it/s]\u001b[A\n",
      "Entrainement:  40%|███████████████████████████▌                                         | 4/10 [00:01<00:02,  2.29it/s]\u001b[A\n",
      "Entrainement:  50%|██████████████████████████████████▌                                  | 5/10 [00:02<00:02,  2.36it/s]\u001b[A\n",
      "Entrainement:  60%|█████████████████████████████████████████▍                           | 6/10 [00:02<00:01,  2.39it/s]\u001b[A\n",
      "Entrainement:  70%|████████████████████████████████████████████████▎                    | 7/10 [00:02<00:01,  2.40it/s]\u001b[A\n",
      "Entrainement:  80%|███████████████████████████████████████████████████████▏             | 8/10 [00:03<00:00,  2.44it/s]\u001b[A\n",
      "Entrainement:  90%|██████████████████████████████████████████████████████████████       | 9/10 [00:03<00:00,  2.47it/s]\u001b[A\n",
      "Entrainement: 100%|████████████████████████████████████████████████████████████████████| 10/10 [00:04<00:00,  2.47it/s]\u001b[A\n",
      "Recherche hypers:  78%|███████████████████████████████████████████████████▎              | 7/9 [00:18<00:06,  3.05s/it]\u001b[A\n",
      "Entrainement:   0%|                                                                             | 0/10 [00:00<?, ?it/s]\u001b[A\n",
      "Entrainement:  30%|████████████████████▋                                                | 3/10 [00:00<00:00, 28.30it/s]\u001b[A"
     ]
    },
    {
     "name": "stdout",
     "output_type": "stream",
     "text": [
      "Entrainement avec :Rang : 10 {'eta': 444.4446, 'lambda_w': 222.2228, 'lambda_x': 388.8891, 'lambda_theta': 166.6673}\n"
     ]
    },
    {
     "name": "stderr",
     "output_type": "stream",
     "text": [
      "\n",
      "Entrainement:  60%|█████████████████████████████████████████▍                           | 6/10 [00:00<00:00, 28.63it/s]\u001b[A\n",
      "Entrainement:  90%|██████████████████████████████████████████████████████████████       | 9/10 [00:00<00:00, 28.94it/s]\u001b[A\n",
      "Recherche hypers:  89%|██████████████████████████████████████████████████████████▋       | 8/9 [00:18<00:02,  2.24s/it]\u001b[A\n",
      "Entrainement:   0%|                                                                             | 0/10 [00:00<?, ?it/s]\u001b[A\n"
     ]
    },
    {
     "name": "stdout",
     "output_type": "stream",
     "text": [
      "Entrainement avec :Rang : 30 {'eta': 444.4446, 'lambda_w': 388.8891, 'lambda_x': 166.6673, 'lambda_theta': 444.4446}\n"
     ]
    },
    {
     "name": "stderr",
     "output_type": "stream",
     "text": [
      "Entrainement:  20%|█████████████▊                                                       | 2/10 [00:00<00:00, 11.17it/s]\u001b[A\n",
      "Entrainement:  40%|███████████████████████████▌                                         | 4/10 [00:00<00:00, 11.81it/s]\u001b[A\n",
      "Entrainement:  60%|█████████████████████████████████████████▍                           | 6/10 [00:00<00:00, 12.55it/s]\u001b[A\n",
      "Entrainement:  80%|███████████████████████████████████████████████████████▏             | 8/10 [00:00<00:00, 12.97it/s]\u001b[A\n",
      "Entrainement: 100%|████████████████████████████████████████████████████████████████████| 10/10 [00:00<00:00, 13.45it/s]\u001b[A\n",
      "Recherche hypers: 100%|██████████████████████████████████████████████████████████████████| 9/9 [00:19<00:00,  2.13s/it]\u001b[A\n"
     ]
    }
   ],
   "source": [
    "for i in trange(len(params_df),\n",
    "                total=len(params_df),\n",
    "                position=0,\n",
    "                leave=True,\n",
    "                desc=\"Recherche hypers\"):\n",
    "    random_params = params_df.iloc[i]\n",
    "    # initialisation des hyper\n",
    "    rang = np.int(random_params[\"rang_list\"])\n",
    "    init_hyper = dict(eta=random_params[\"eta_list\"],\n",
    "                      lambda_w=random_params[\"lambda_w_list\"],\n",
    "                      lambda_x=random_params[\"lambda_x_list\"],\n",
    "                      lambda_theta=random_params[\"lambda_theta_list\"])\n",
    "    param_utils = dict(rang=rang,\n",
    "                       eta=init_hyper[\"eta\"],\n",
    "                       lambda_w=init_hyper[\"lambda_w\"],\n",
    "                       lambda_x=init_hyper[\"lambda_x\"],\n",
    "                       lambda_theta=init_hyper[\"lambda_theta\"],\n",
    "                       lags=time_lags,\n",
    "                       init_hyper=init_hyper)\n",
    "    tqdm.write(\"Entrainement avec :Rang : {:} {:}\".format(rang, init_hyper))\n",
    "\n",
    "    # initialisation des param\n",
    "    ## matrices latentes\n",
    "    dim1, dim2 = mat_manquants.shape\n",
    "    ## Matrice W\n",
    "    np.random.seed(2020)  # Reproductibilite\n",
    "    W = 0.1 * np.random.rand(dim1, rang)\n",
    "    ## Matrice X\n",
    "    np.random.seed(2020)  # Reproductibilite\n",
    "    X = 0.1 * np.random.rand(dim2, rang)\n",
    "    ## Matrice theta\n",
    "    np.random.seed(2020)  # Reproductibilite\n",
    "    theta = 0.1 * np.random.rand(d, rang)\n",
    "    init_para = {\"W\": W, \"X\": X, \"theta\": theta}\n",
    "\n",
    "    ## ENTRAINEMENT\n",
    "    mat_hat, W, X, test_rmse_list, test_mape_list, train_rmse_list, gen_rmse_list, perfo_fin = TRMF(\n",
    "        mat_complet,\n",
    "        mat_manquants,\n",
    "        init_para,\n",
    "        param_utils[\"init_hyper\"],\n",
    "        time_lags,\n",
    "        maxiter,\n",
    "        max_early_stop=max_early_stop,\n",
    "        max_plateau_stop=max_plateau_stop)\n",
    "\n",
    "    # organisation des infos\n",
    "    metriques_listes = dict(test_rmse_list=test_rmse_list,\n",
    "                            test_mape_list=test_mape_list,\n",
    "                            train_rmse_list=train_rmse_list,\n",
    "                            gen_rmse_list=gen_rmse_list)\n",
    "    index_entr = \"index {:}\".format(i)\n",
    "    entrainement_dict[index_entr] = {}\n",
    "    entrainement_dict[index_entr][\"parametres\"] = param_utils\n",
    "    entrainement_dict[index_entr][\"metriques_listes\"] = metriques_listes\n",
    "    entrainement_dict[index_entr][\"metriques_finales\"] = perfo_fin"
   ]
  },
  {
   "cell_type": "markdown",
   "metadata": {},
   "source": [
    "### Sauvegarder les informations sur la sélection des hyperparamètres"
   ]
  },
  {
   "cell_type": "markdown",
   "metadata": {},
   "source": [
    "#### Sauvegarder les informations DURANT l'entrainement"
   ]
  },
  {
   "cell_type": "code",
   "execution_count": 19,
   "metadata": {
    "ExecuteTime": {
     "end_time": "2020-10-20T21:39:39.346407Z",
     "start_time": "2020-10-20T21:39:39.301407Z"
    }
   },
   "outputs": [],
   "source": [
    "# Formater le fichier\n",
    "## Créer un dataframe\n",
    "df_list = []\n",
    "for i in range(len(entrainement_dict)):\n",
    "    index = \"index {:}\".format(i)\n",
    "\n",
    "    listes_df = pd.DataFrame(entrainement_dict[index][\"metriques_listes\"])\n",
    "    listes_df['iteration'] = listes_df.index\n",
    "\n",
    "    listes_df[\"rang\"] = entrainement_dict[index][\"parametres\"][\"rang\"]\n",
    "\n",
    "    listes_df[\"eta\"] = entrainement_dict[index][\"parametres\"][\"init_hyper\"][\n",
    "        \"eta\"]\n",
    "    listes_df[\"lambda_w\"] = entrainement_dict[index][\"parametres\"][\n",
    "        \"init_hyper\"][\"lambda_w\"]\n",
    "    listes_df[\"lambda_x\"] = entrainement_dict[index][\"parametres\"][\n",
    "        \"init_hyper\"][\"lambda_x\"]\n",
    "    listes_df[\"lambda_theta\"] = entrainement_dict[index][\"parametres\"][\n",
    "        \"init_hyper\"][\"lambda_theta\"]\n",
    "\n",
    "    listes_df[\"entrainement_no\"] = i + 1 \n",
    "\n",
    "    df_list.append(listes_df)\n",
    "\n",
    "listes_df = pd.concat(df_list)\n",
    "listes_df = listes_df.reset_index()"
   ]
  },
  {
   "cell_type": "code",
   "execution_count": 20,
   "metadata": {
    "ExecuteTime": {
     "end_time": "2020-10-20T21:39:39.362406Z",
     "start_time": "2020-10-20T21:39:39.348405Z"
    }
   },
   "outputs": [],
   "source": [
    "# Sauvegarder le fichier\n",
    "fichier_HyperEntrainement = \"{:}_HyperparametresEntrainement.ftr\".format(ch_fichier_experience)\n",
    "listes_df.to_feather(fichier_HyperEntrainement)"
   ]
  },
  {
   "cell_type": "markdown",
   "metadata": {},
   "source": [
    "#### Sauvegarder les informations FINALES des entrainements"
   ]
  },
  {
   "cell_type": "code",
   "execution_count": 21,
   "metadata": {
    "ExecuteTime": {
     "end_time": "2020-10-20T21:39:39.394405Z",
     "start_time": "2020-10-20T21:39:39.363407Z"
    }
   },
   "outputs": [],
   "source": [
    "test_list = []\n",
    "for i in entrainement_dict:\n",
    "\n",
    "    dict1 = {}\n",
    "    dict1.update(\n",
    "        dict(\n",
    "            rmse_test=entrainement_dict[i][\"metriques_finales\"][\"test_rmse\"],\n",
    "            rmse_train=entrainement_dict[i][\"metriques_finales\"][\"train_rmse\"],\n",
    "            rmse_gen=entrainement_dict[i][\"metriques_finales\"][\"gen_rmse\"],\n",
    "            nrmse=0,\n",
    "            eta=entrainement_dict[i][\"parametres\"][\"init_hyper\"][\"eta\"],\n",
    "            rang=entrainement_dict[i][\"parametres\"][\"rang\"],\n",
    "            lambda_w=entrainement_dict[i][\"parametres\"][\"init_hyper\"]\n",
    "            [\"lambda_w\"],\n",
    "            lambda_x=entrainement_dict[i][\"parametres\"][\"init_hyper\"]\n",
    "            [\"lambda_x\"],\n",
    "            lambda_theta=entrainement_dict[i][\"parametres\"][\"init_hyper\"]\n",
    "            [\"lambda_theta\"]))\n",
    "\n",
    "    test_list.append(dict1)\n",
    "\n",
    "df = pd.DataFrame(test_list)\n",
    "\n",
    "df['config_rang'] = df[['eta', 'lambda_w', \"lambda_x\", \"lambda_theta\"\n",
    "                        ]].apply(lambda x: ', '.join(x.astype(str)), axis=1)\n",
    "df['config_eta'] = df[['rang', 'lambda_w', \"lambda_x\", \"lambda_theta\"\n",
    "                       ]].apply(lambda x: ', '.join(x.astype(str)), axis=1)\n",
    "df['config_lambda_w'] = df[[\"rang\", 'eta', \"lambda_x\", \"lambda_theta\"\n",
    "                            ]].apply(lambda x: ', '.join(x.astype(str)),\n",
    "                                     axis=1)\n",
    "df['config_lambda_x'] = df[[\"rang\", 'eta', 'lambda_w', \"lambda_theta\"\n",
    "                            ]].apply(lambda x: ', '.join(x.astype(str)),\n",
    "                                     axis=1)\n",
    "df['config_lambda_theta'] = df[[\"rang\", 'eta', 'lambda_w', \"lambda_x\"\n",
    "                                ]].apply(lambda x: ', '.join(x.astype(str)),\n",
    "                                         axis=1)"
   ]
  },
  {
   "cell_type": "code",
   "execution_count": 22,
   "metadata": {
    "ExecuteTime": {
     "end_time": "2020-10-20T21:39:39.410404Z",
     "start_time": "2020-10-20T21:39:39.395408Z"
    }
   },
   "outputs": [],
   "source": [
    "# Sauvegarder le fichier\n",
    "fichier_HyperFinaux = \"{:}_HyperparametresFinaux.ftr\".format(ch_fichier_experience)\n",
    "df.to_feather(fichier_HyperFinaux)"
   ]
  },
  {
   "cell_type": "markdown",
   "metadata": {},
   "source": [
    "## Entrainer le meilleur modèle\n",
    "\n",
    "* Choisir la combinaison d'hyperparamètres qui donne la plus petite erreur finale sur l'échantillon test."
   ]
  },
  {
   "cell_type": "code",
   "execution_count": 23,
   "metadata": {
    "ExecuteTime": {
     "end_time": "2020-10-20T21:39:39.442408Z",
     "start_time": "2020-10-20T21:39:39.412405Z"
    },
    "scrolled": true
   },
   "outputs": [
    {
     "data": {
      "text/html": [
       "<div>\n",
       "<style scoped>\n",
       "    .dataframe tbody tr th:only-of-type {\n",
       "        vertical-align: middle;\n",
       "    }\n",
       "\n",
       "    .dataframe tbody tr th {\n",
       "        vertical-align: top;\n",
       "    }\n",
       "\n",
       "    .dataframe thead th {\n",
       "        text-align: right;\n",
       "    }\n",
       "</style>\n",
       "<table border=\"1\" class=\"dataframe\">\n",
       "  <thead>\n",
       "    <tr style=\"text-align: right;\">\n",
       "      <th></th>\n",
       "      <th>rmse_test</th>\n",
       "      <th>rmse_train</th>\n",
       "      <th>rmse_gen</th>\n",
       "      <th>nrmse</th>\n",
       "      <th>eta</th>\n",
       "      <th>rang</th>\n",
       "      <th>lambda_w</th>\n",
       "      <th>lambda_x</th>\n",
       "      <th>lambda_theta</th>\n",
       "      <th>config_rang</th>\n",
       "      <th>config_eta</th>\n",
       "      <th>config_lambda_w</th>\n",
       "      <th>config_lambda_x</th>\n",
       "      <th>config_lambda_theta</th>\n",
       "    </tr>\n",
       "  </thead>\n",
       "  <tbody>\n",
       "    <tr>\n",
       "      <th>5</th>\n",
       "      <td>4.901935</td>\n",
       "      <td>4.635646</td>\n",
       "      <td>51.723311</td>\n",
       "      <td>0</td>\n",
       "      <td>0.001</td>\n",
       "      <td>45</td>\n",
       "      <td>277.7782</td>\n",
       "      <td>166.6673</td>\n",
       "      <td>55.5564</td>\n",
       "      <td>0.001, 277.7782, 166.6673, 55.5564</td>\n",
       "      <td>45.0, 277.7782, 166.6673, 55.5564</td>\n",
       "      <td>45.0, 0.001, 166.6673, 55.5564</td>\n",
       "      <td>45.0, 0.001, 277.7782, 55.5564</td>\n",
       "      <td>45.0, 0.001, 277.7782, 166.6673</td>\n",
       "    </tr>\n",
       "  </tbody>\n",
       "</table>\n",
       "</div>"
      ],
      "text/plain": [
       "   rmse_test  rmse_train   rmse_gen  nrmse    eta  rang  lambda_w  lambda_x  \\\n",
       "5   4.901935    4.635646  51.723311      0  0.001    45  277.7782  166.6673   \n",
       "\n",
       "   lambda_theta                         config_rang  \\\n",
       "5       55.5564  0.001, 277.7782, 166.6673, 55.5564   \n",
       "\n",
       "                          config_eta                 config_lambda_w  \\\n",
       "5  45.0, 277.7782, 166.6673, 55.5564  45.0, 0.001, 166.6673, 55.5564   \n",
       "\n",
       "                  config_lambda_x              config_lambda_theta  \n",
       "5  45.0, 0.001, 277.7782, 55.5564  45.0, 0.001, 277.7782, 166.6673  "
      ]
     },
     "execution_count": 23,
     "metadata": {},
     "output_type": "execute_result"
    }
   ],
   "source": [
    "## Plus petit RMSE sur l'ensemble de test\n",
    "min_test = df[df.rmse_test == df.rmse_test.min()]\n",
    "min_test"
   ]
  },
  {
   "cell_type": "code",
   "execution_count": 24,
   "metadata": {
    "ExecuteTime": {
     "end_time": "2020-10-20T21:39:39.458159Z",
     "start_time": "2020-10-20T21:39:39.445407Z"
    }
   },
   "outputs": [],
   "source": [
    "# Initialiser les valeurs d'hyperparamètres\n",
    "rang = np.int(min_test.rang)\n",
    "\n",
    "init_hyper = {\n",
    "    \"lambda_w\": np.float(min_test.lambda_w),\n",
    "    \"lambda_x\": np.float(min_test.lambda_x),\n",
    "    \"lambda_theta\": np.float(min_test.lambda_theta),\n",
    "    \"eta\": np.float(min_test.eta)\n",
    "}"
   ]
  },
  {
   "cell_type": "code",
   "execution_count": 25,
   "metadata": {
    "ExecuteTime": {
     "end_time": "2020-10-20T21:39:39.473656Z",
     "start_time": "2020-10-20T21:39:39.459983Z"
    }
   },
   "outputs": [],
   "source": [
    "# Initialiser les autres paramètres\n",
    "\n",
    "time_lags = np.array([1])\n",
    "d = time_lags.shape[0]"
   ]
  },
  {
   "cell_type": "code",
   "execution_count": 26,
   "metadata": {
    "ExecuteTime": {
     "end_time": "2020-10-20T21:39:39.489601Z",
     "start_time": "2020-10-20T21:39:39.475601Z"
    },
    "scrolled": true
   },
   "outputs": [],
   "source": [
    "# Initialiser les données en entrée\n",
    "dim1, dim2 = mat_manquants.shape\n",
    "\n",
    "np.random.seed(2020)\n",
    "W = 0.1 * np.random.rand(dim1, rang)\n",
    "\n",
    "np.random.seed(2020)\n",
    "X = 0.1 * np.random.rand(dim2, rang)\n",
    "\n",
    "np.random.seed(2020)\n",
    "theta = 0.1 * np.random.rand(d, rang)"
   ]
  },
  {
   "cell_type": "code",
   "execution_count": 27,
   "metadata": {
    "ExecuteTime": {
     "end_time": "2020-10-20T21:39:39.504912Z",
     "start_time": "2020-10-20T21:39:39.490602Z"
    }
   },
   "outputs": [],
   "source": [
    "# Regrouper les paramètres\n",
    "param_utils = dict(rang=rang, init_hyper=init_hyper, lags=time_lags)\n",
    "init_para = {\"W\": W, \"X\": X, \"theta\": theta}"
   ]
  },
  {
   "cell_type": "code",
   "execution_count": 28,
   "metadata": {
    "ExecuteTime": {
     "end_time": "2020-10-20T21:39:43.358769Z",
     "start_time": "2020-10-20T21:39:39.505721Z"
    }
   },
   "outputs": [
    {
     "name": "stderr",
     "output_type": "stream",
     "text": [
      "\n",
      "Entrainement:   0%|                                                                             | 0/10 [00:00<?, ?it/s]\u001b[A\n",
      "Entrainement:  10%|██████▉                                                              | 1/10 [00:00<00:03,  2.56it/s]\u001b[A\n",
      "Entrainement:  20%|█████████████▊                                                       | 2/10 [00:00<00:03,  2.55it/s]\u001b[A\n",
      "Entrainement:  30%|████████████████████▋                                                | 3/10 [00:01<00:02,  2.57it/s]\u001b[A\n",
      "Entrainement:  40%|███████████████████████████▌                                         | 4/10 [00:01<00:02,  2.58it/s]\u001b[A\n",
      "Entrainement:  50%|██████████████████████████████████▌                                  | 5/10 [00:01<00:01,  2.56it/s]\u001b[A\n",
      "Entrainement:  60%|█████████████████████████████████████████▍                           | 6/10 [00:02<00:01,  2.56it/s]\u001b[A\n",
      "Entrainement:  70%|████████████████████████████████████████████████▎                    | 7/10 [00:02<00:01,  2.59it/s]\u001b[A\n",
      "Entrainement:  80%|███████████████████████████████████████████████████████▏             | 8/10 [00:03<00:00,  2.59it/s]\u001b[A\n",
      "Entrainement:  90%|██████████████████████████████████████████████████████████████       | 9/10 [00:03<00:00,  2.62it/s]\u001b[A\n",
      "Entrainement: 100%|████████████████████████████████████████████████████████████████████| 10/10 [00:03<00:00,  2.65it/s]\u001b[A\n",
      "                                                                                                                       \u001b[A"
     ]
    }
   ],
   "source": [
    "# Entrainer le modèle\n",
    "start = time.time()\n",
    "mat_hat, W, X, test_rmse_list, test_mape_list, train_rmse_list, gen_rmse_list, perfo_fin = TRMF(\n",
    "    mat_complet,\n",
    "    mat_manquants,\n",
    "    init_para,\n",
    "    init_hyper,\n",
    "    time_lags,\n",
    "    maxiter,\n",
    "    max_early_stop=max_early_stop,\n",
    "    max_plateau_stop = max_plateau_stop)\n",
    "end = time.time()"
   ]
  },
  {
   "cell_type": "markdown",
   "metadata": {},
   "source": [
    "### Sauvegarder les informations sur l'entrainement du meilleur modèle"
   ]
  },
  {
   "cell_type": "code",
   "execution_count": 29,
   "metadata": {
    "ExecuteTime": {
     "end_time": "2020-10-20T21:39:43.373738Z",
     "start_time": "2020-10-20T21:39:43.359738Z"
    }
   },
   "outputs": [],
   "source": [
    "# Reformater cette case (!)\n",
    "ch_experience_finale = f\"{ch_fichier_experience}_r{param_utils['rang']}-w{int(param_utils['init_hyper']['lambda_w']*1000)}-x{int(param_utils['init_hyper']['lambda_x']*1000)}-t{int(param_utils['init_hyper']['lambda_theta']*1000)}-e{int(param_utils['init_hyper']['eta']*1000)}\""
   ]
  },
  {
   "cell_type": "markdown",
   "metadata": {},
   "source": [
    "#### Sauvegarder la matrice prédite"
   ]
  },
  {
   "cell_type": "code",
   "execution_count": 30,
   "metadata": {
    "ExecuteTime": {
     "end_time": "2020-10-20T21:39:43.388770Z",
     "start_time": "2020-10-20T21:39:43.375737Z"
    }
   },
   "outputs": [
    {
     "name": "stdout",
     "output_type": "stream",
     "text": [
      "exp\\simulation_simple\\SimSimple_100_10_FMRT_v001_r45-w277778-x166667-t55556-e1_prediction.mat\n"
     ]
    }
   ],
   "source": [
    "fichier_prediction = \"{:}_prediction.mat\".format(ch_experience_finale)\n",
    "save_mat_hat = {\"mat\": mat_hat}\n",
    "sio.savemat(fichier_prediction, save_mat_hat)\n",
    "tqdm.write(fichier_prediction)"
   ]
  },
  {
   "cell_type": "markdown",
   "metadata": {},
   "source": [
    "#### Sauvegarder avec les nouvelles valeurs imputées\n",
    "\n",
    "* Garder la matrice de données originales et imputer seulement les valeurs manquantes."
   ]
  },
  {
   "cell_type": "code",
   "execution_count": 31,
   "metadata": {
    "ExecuteTime": {
     "end_time": "2020-10-20T21:39:43.404750Z",
     "start_time": "2020-10-20T21:39:43.389737Z"
    }
   },
   "outputs": [],
   "source": [
    "index = np.where((mat_complet != 0) & (mat_binaire == 0))\n",
    "matrice_manquants = mat_manquants.copy()\n",
    "matrice_predite = mat_hat.copy()\n",
    "matrice_manquants[index] = matrice_predite[index]"
   ]
  },
  {
   "cell_type": "code",
   "execution_count": 32,
   "metadata": {
    "ExecuteTime": {
     "end_time": "2020-10-20T21:39:43.419847Z",
     "start_time": "2020-10-20T21:39:43.405761Z"
    }
   },
   "outputs": [
    {
     "name": "stdout",
     "output_type": "stream",
     "text": [
      "exp\\simulation_simple\\SimSimple_100_10_FMRT_v001_r45-w277778-x166667-t55556-e1_imputation.mat\n"
     ]
    }
   ],
   "source": [
    "fichier_imputation = \"{:}_imputation.mat\".format(ch_experience_finale)\n",
    "save_mat_manquants = {\"mat\": matrice_manquants}\n",
    "sio.savemat(fichier_imputation, save_mat_manquants)\n",
    "tqdm.write(fichier_imputation)"
   ]
  },
  {
   "cell_type": "markdown",
   "metadata": {},
   "source": [
    "# Sauvegarder les information pour la présentation des résultats"
   ]
  },
  {
   "cell_type": "markdown",
   "metadata": {},
   "source": [
    "## Sauvegarder le tableau pour la comparaison intermodèles\n",
    "\n",
    "Éléments du tableau: \n",
    "- Performance du modèle (RMSE [entrainement, validation] et MAPE [validation])\n",
    "- Hyperparamètres utilisés (incluant le rang et autres paramètres d'intérêt)\n",
    "- Temps d'entrainement\n",
    "- Fichier d'entrainement (nom, dimensions, nombre de manquants, proportion de manquants)"
   ]
  },
  {
   "cell_type": "code",
   "execution_count": 33,
   "metadata": {
    "ExecuteTime": {
     "end_time": "2020-10-20T21:39:43.435033Z",
     "start_time": "2020-10-20T21:39:43.420904Z"
    }
   },
   "outputs": [],
   "source": [
    "base_manquants = len(np.where((mat_complet == 0))[0])\n",
    "entrainement_manquants = len(np.where((mat_binaire == 0))[0])\n",
    "obs_entrainement = len(np.where(mat_binaire != 0)[0])\n",
    "obs_test = len(np.where((mat_complet != 0) & (mat_binaire == 0))[0])\n",
    "obs_totales = dim1 * dim2\n",
    "lignes, colonnes = mat_complet.shape"
   ]
  },
  {
   "cell_type": "code",
   "execution_count": 34,
   "metadata": {
    "ExecuteTime": {
     "end_time": "2020-10-20T21:39:43.450039Z",
     "start_time": "2020-10-20T21:39:43.436076Z"
    }
   },
   "outputs": [],
   "source": [
    "temps_entrainement = np.round(end - start, 6)"
   ]
  },
  {
   "cell_type": "code",
   "execution_count": 35,
   "metadata": {
    "ExecuteTime": {
     "end_time": "2020-10-20T21:39:43.465669Z",
     "start_time": "2020-10-20T21:39:43.451862Z"
    }
   },
   "outputs": [],
   "source": [
    "# Formater le fichier pour la sauvegarde\n",
    "dict2 = {}\n",
    "\n",
    "\n",
    "dict2.update(\n",
    "    dict(modele=parametres[\"modele\"],\n",
    "         hyperparametres=str(param_utils),\n",
    "         rang=param_utils[\"rang\"],\n",
    "         test_rmse=perfo_fin[\"test_rmse\"],\n",
    "         test_mape=perfo_fin[\"test_mape\"],\n",
    "         train_rmse=perfo_fin[\"train_rmse\"],\n",
    "         gen_rmse=perfo_fin[\"gen_rmse\"],\n",
    "         temps=temps_entrainement,\n",
    "         nom_fichier=parametres[\"fichier_binaire\"],\n",
    "         lignes=lignes,\n",
    "         colonnes=colonnes,\n",
    "         obs_totales=obs_totales,\n",
    "         obs_test=obs_test,\n",
    "         obs_entrainement=obs_entrainement,\n",
    "         entrainement_manquants=entrainement_manquants,\n",
    "         base_manquants=base_manquants,\n",
    "         prop_manquants=parametres[\"manquants\"]))\n",
    "df_comparatif = pd.DataFrame(dict2, index=[0])"
   ]
  },
  {
   "cell_type": "code",
   "execution_count": 36,
   "metadata": {
    "ExecuteTime": {
     "end_time": "2020-10-20T21:39:43.481051Z",
     "start_time": "2020-10-20T21:39:43.466682Z"
    }
   },
   "outputs": [],
   "source": [
    "# Sauvegarder le fichier\n",
    "fichier_comparatif = os.path.join(parametres[\"dossier_experience\"], \"fichier_comparatif.csv\")\n",
    "df_comparatif.to_csv(fichier_comparatif, mode='a', header=False)"
   ]
  },
  {
   "cell_type": "markdown",
   "metadata": {},
   "source": [
    "## Sauvegarder les données pour la présentation graphique\n",
    "* Données utilisées pour la formation du nuage de points (prédiction c. réelles)"
   ]
  },
  {
   "cell_type": "code",
   "execution_count": 37,
   "metadata": {
    "ExecuteTime": {
     "end_time": "2020-10-20T21:39:43.544194Z",
     "start_time": "2020-10-20T21:39:43.482053Z"
    }
   },
   "outputs": [],
   "source": [
    "x_pred = mat_hat[index]\n",
    "y_original = mat_complet[index]\n",
    "\n",
    "df_comparaison = pd.DataFrame([x_pred, y_original]).T\n",
    "df_comparaison.columns = ['x_pred', 'y_original']"
   ]
  },
  {
   "cell_type": "code",
   "execution_count": 38,
   "metadata": {
    "ExecuteTime": {
     "end_time": "2020-10-20T21:39:43.559252Z",
     "start_time": "2020-10-20T21:39:43.545171Z"
    }
   },
   "outputs": [],
   "source": [
    "fichier_comparaison = \"{:}_comparaison.ftr\".format(ch_experience_finale)\n",
    "\n",
    "df_comparaison.to_feather(fichier_comparaison)"
   ]
  },
  {
   "cell_type": "code",
   "execution_count": 39,
   "metadata": {
    "ExecuteTime": {
     "end_time": "2020-10-20T21:39:43.574283Z",
     "start_time": "2020-10-20T21:39:43.560286Z"
    }
   },
   "outputs": [
    {
     "name": "stdout",
     "output_type": "stream",
     "text": [
      "exp\\simulation_simple\\SimSimple_100_10_FMRT_v001_r45-w277778-x166667-t55556-e1_comparaison.ftr\n"
     ]
    }
   ],
   "source": [
    "tqdm.write(fichier_comparaison)"
   ]
  }
 ],
 "metadata": {
  "hide_input": false,
  "kernelspec": {
   "display_name": "Python 3",
   "language": "python",
   "name": "python3"
  },
  "language_info": {
   "codemirror_mode": {
    "name": "ipython",
    "version": 3
   },
   "file_extension": ".py",
   "mimetype": "text/x-python",
   "name": "python",
   "nbconvert_exporter": "python",
   "pygments_lexer": "ipython3",
   "version": "3.7.7"
  },
  "nbTranslate": {
   "displayLangs": [
    "*"
   ],
   "hotkey": "alt-t",
   "langInMainMenu": true,
   "sourceLang": "en",
   "targetLang": "fr",
   "useGoogleTranslate": true
  },
  "toc": {
   "base_numbering": 1,
   "nav_menu": {},
   "number_sections": true,
   "sideBar": true,
   "skip_h1_title": false,
   "title_cell": "Table des matières",
   "title_sidebar": "Contents",
   "toc_cell": true,
   "toc_position": {
    "height": "calc(100% - 180px)",
    "left": "10px",
    "top": "150px",
    "width": "248.597px"
   },
   "toc_section_display": true,
   "toc_window_display": true
  },
  "varInspector": {
   "cols": {
    "lenName": 16,
    "lenType": 16,
    "lenVar": 40
   },
   "kernels_config": {
    "python": {
     "delete_cmd_postfix": "",
     "delete_cmd_prefix": "del ",
     "library": "var_list.py",
     "varRefreshCmd": "print(var_dic_list())"
    },
    "r": {
     "delete_cmd_postfix": ") ",
     "delete_cmd_prefix": "rm(",
     "library": "var_list.r",
     "varRefreshCmd": "cat(var_dic_list()) "
    }
   },
   "oldHeight": 568.194,
   "position": {
    "height": "40px",
    "left": "1337.67px",
    "right": "20px",
    "top": "120px",
    "width": "350px"
   },
   "types_to_exclude": [
    "module",
    "function",
    "builtin_function_or_method",
    "instance",
    "_Feature"
   ],
   "varInspector_section_display": "none",
   "window_display": true
  }
 },
 "nbformat": 4,
 "nbformat_minor": 4
}
